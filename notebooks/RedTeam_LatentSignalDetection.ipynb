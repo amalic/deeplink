{
 "cells": [
  {
   "cell_type": "markdown",
   "metadata": {},
   "source": [
    "## Latent Signal Detection\n",
    "\n",
    "A \"blackboard\" style re-implementation of a drug-drug interaction discovery pipeline.\n",
    "\n",
    "1. [Retrieve a reference set of drugs known to cause the **adverse event of interest**](#step1)\n",
    "2. [Retrieve adverse event report data for these and a set of control drugs](#step2)\n",
    "3. Build a latent signal detection model on the reference set and predict DDIs\n",
    "4. Corroborate putative ddis with clinical data \n",
    "5. Identify probable molecular mechanisms of action for the ddi\n",
    "6. _Retrieve related model systems (cell or animal models) that could be used to test the ddi predictions experimentally_\n"
   ]
  },
  {
   "cell_type": "code",
   "execution_count": 4,
   "metadata": {
    "collapsed": false
   },
   "outputs": [],
   "source": [
    "from urllib2 import Request, urlopen, URLError\n",
    "import json\n",
    "\n",
    "import numpy as np\n",
    "# from scipy.interpolate import interp1d\n",
    "from collections import defaultdict\n",
    "\n",
    "import matplotlib.pyplot as plt\n",
    "import seaborn as sns\n",
    "\n",
    "%matplotlib inline"
   ]
  },
  {
   "cell_type": "markdown",
   "metadata": {},
   "source": [
    "<a id='step1'></a>\n",
    "**Step 1.** Given AE of interest build a set of reference drugs"
   ]
  },
  {
   "cell_type": "code",
   "execution_count": 3,
   "metadata": {
    "collapsed": true
   },
   "outputs": [],
   "source": [
    "# SIDER uses UMLS ids to describe side effects\n"
   ]
  },
  {
   "cell_type": "code",
   "execution_count": null,
   "metadata": {
    "collapsed": true
   },
   "outputs": [],
   "source": []
  },
  {
   "cell_type": "markdown",
   "metadata": {},
   "source": [
    "<a id='step2'></a>\n",
    "**Step 2.** Retrieve adverse event report data for these and a set of control drugs."
   ]
  },
  {
   "cell_type": "code",
   "execution_count": null,
   "metadata": {
    "collapsed": true
   },
   "outputs": [],
   "source": []
  }
 ],
 "metadata": {
  "kernelspec": {
   "display_name": "Python 2",
   "language": "python",
   "name": "python2"
  },
  "language_info": {
   "codemirror_mode": {
    "name": "ipython",
    "version": 2
   },
   "file_extension": ".py",
   "mimetype": "text/x-python",
   "name": "python",
   "nbconvert_exporter": "python",
   "pygments_lexer": "ipython2",
   "version": "2.7.10"
  }
 },
 "nbformat": 4,
 "nbformat_minor": 0
}
