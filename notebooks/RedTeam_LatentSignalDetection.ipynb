{
 "cells": [
  {
   "cell_type": "markdown",
   "metadata": {},
   "source": [
    "## Latent Signal Detection\n",
    "\n",
    "A \"blackboard\" style re-implementation of a drug-drug interaction discovery pipeline.\n",
    "\n",
    "1. [Retrieve a reference set of drugs known to cause the **adverse event of interest**](#step1)\n",
    "2. [Retrieve adverse event report data for these and a set of control drugs](#step2)\n",
    "3. [Build a latent signal detection model on the reference set and predict DDIs](#step3)\n",
    "4. [Corroborate putative ddis with clinical data](#step4) \n",
    "5. [Identify probable molecular mechanisms of action for the ddi](#step5)\n",
    "6. _Retrieve related model systems (cell or animal models) that could be used to test the ddi predictions experimentally_\n"
   ]
  },
  {
   "cell_type": "code",
   "execution_count": 1,
   "metadata": {},
   "outputs": [],
   "source": [
    "import csv\n",
    "import gzip\n",
    "import tqdm\n",
    "import json\n",
    "import heapq\n",
    "import random\n",
    "import urllib2\n",
    "import requests\n",
    "\n",
    "import numpy as np\n",
    "import seaborn as sns\n",
    "import matplotlib.pyplot as plt\n",
    "\n",
    "from tqdm import tqdm\n",
    "from scipy import stats\n",
    "from collections import defaultdict\n",
    "from biothings_client import get_client\n",
    "\n",
    "#from Authentication import *\n",
    "\n",
    "from sklearn.ensemble import RandomForestClassifier\n",
    "from sklearn.metrics import roc_auc_score, roc_curve, auc\n",
    "from urllib2 import Request, urlopen, URLError, build_opener\n",
    "\n",
    "from SPARQLWrapper import SPARQLWrapper, JSON, XML, N3, RDF\n",
    "\n",
    "%matplotlib inline\n",
    "\n",
    "# Authentication Module\n",
    "#get the tgt corresponding to the apikey\n",
    "def get_tgt(apikey):\n",
    "    tgt = requests.post(\"https://utslogin.nlm.nih.gov/cas/v1/api-key\", data = {'apikey':apikey})\n",
    "    TGT = tgt.content.split()[20]\n",
    "    TGT = TGT[52:+len(TGT)-1]\n",
    "    return TGT\n",
    "#get a ticket corresponding to the tgt\n",
    "def get_ticket(tgt):\n",
    "    uri_login = \"https://utslogin.nlm.nih.gov/cas/v1/tickets/\" + tgt\n",
    "    ticket = requests.post(uri_login, data = {'service':'http://umlsks.nlm.nih.gov'})\n",
    "    return ticket.content"
   ]
  },
  {
   "cell_type": "code",
   "execution_count": 2,
   "metadata": {},
   "outputs": [],
   "source": [
    "ADVERSE_EVENT_OF_INTEREST = 'qt prolonged'\n",
    "#ADVERSE_EVENT_OF_INTEREST = 'Myocardial_Infarction'\n",
    "\n",
    "# DEPRECATED\n",
    "#ADVERSE_EVENT_OF_INTEREST = 'C0151878'"
   ]
  },
  {
   "cell_type": "markdown",
   "metadata": {},
   "source": [
    "<a id='step1'></a>\n",
    "**Step 1.** Given AE of interest build a set of reference drugs\n",
    "\n",
    "ADVERSE_EVENT_OF_INTEREST may be a free text term like \"QT prolonged\" or one of the followed coded terms:\n",
    "1. Myocardial_Infarction\n",
    "2. Gastrointestinal_Bleeding\n",
    "3. Kidney_Damage\n",
    "4. Liver_Damage"
   ]
  },
  {
   "cell_type": "code",
   "execution_count": 3,
   "metadata": {},
   "outputs": [],
   "source": [
    "# get mydrug client\n",
    "md = get_client('drug')\n",
    "mg = get_client('gene')\n",
    "\n",
    "def names2rxnorm(drug_name_list):\n",
    "    results = {}\n",
    "    for _drug in drug_name_list:\n",
    "        query_term = 'aeolus.drug_name:' + _drug\n",
    "        _result = md.query(query_term, fields='aeolus.drug_code')\n",
    "        if _result['hits'] != []:\n",
    "            results[_drug] = [_record['aeolus']['drug_code'] for _record in _result['hits']]\n",
    "        else:\n",
    "            results[_drug] = []\n",
    "    return results\n",
    "\n",
    "def rxnorms2enzyme(rxnorm_list):\n",
    "    results = {}\n",
    "    for _rxnorm in rxnorm_list:\n",
    "        query_term = 'aeolus.drug_code:' + _rxnorm\n",
    "        _result = md.query(query_term, fields='drugbank.enzymes.name, drugbank.enzymes.uniprot')\n",
    "        if _result['hits'] != []:\n",
    "            results[_rxnorm] = [_record['drugbank'] for _record in _result['hits']]\n",
    "        else:\n",
    "            results[_rxnorm] = []\n",
    "    return results\n",
    "\n",
    "def rxnorms2enzymes(rxnorm_list):\n",
    "    results = {}\n",
    "    for _rxnorm in rxnorm_list:\n",
    "        query_term = 'aeolus.drug_code:' + _rxnorm\n",
    "        _result = md.query(query_term, fields='drugbank.enzymes.uniprot')\n",
    "        if 'hits' in _result:\n",
    "            results[_rxnorm] = [_record['uniprot'] for _record in _result['hits'][0]['drugbank']['enzymes']]\n",
    "        else:\n",
    "            results[_rxnorm] = ['no results found']\n",
    "    return results\n",
    "\n",
    "def compareenzymes(drug_name_list):\n",
    "    results = rxnorms2enzymes(drug_name_list)\n",
    "    uniprot_list = []\n",
    "    for drug, uniprot in results.items():\n",
    "        uniprot_list.append(uniprot)\n",
    "    overlap = list(set(uniprot_list[0]) & set(uniprot_list[1]))\n",
    "    if overlap:\n",
    "        return {'overlap': overlap}\n",
    "    else:\n",
    "        print('no overlap')\n",
    "\n",
    "def uniprot2symbol(uniprot_id_list):\n",
    "    results = [['uniprot_id', 'gene_name', 'gene_symbol']]\n",
    "    for _uniprot in uniprot_id_list:\n",
    "        query_term = 'uniprot.Swiss-Prot:' + _uniprot\n",
    "        _result = mg.query(query_term)\n",
    "        if _result['hits'] != []:\n",
    "            results.append([_uniprot, _result['hits'][0]['name'], _result['hits'][0]['symbol']])\n",
    "    return results\n",
    "\n",
    "#uniprot2symbol(compareenzymes(['36567', '38404'])['overlap'])"
   ]
  },
  {
   "cell_type": "code",
   "execution_count": 4,
   "metadata": {},
   "outputs": [],
   "source": [
    "def name2rxnorm(drugname):\n",
    "    annotations = annotator(drugname, ['RXNORM'])\n",
    "    \n",
    "    rxnorms = list()\n",
    "    for annotation in annotations:\n",
    "        rxnorms.append(annotations[0]['annotatedClass']['@id'].split('/')[-1])\n",
    "    \n",
    "    return rxnorms\n",
    "\n",
    "def annotator(text, ontologies):\n",
    "    REST_URL = \"http://data.bioontology.org\"\n",
    "    API_KEY = 'b55cf758-dbd3-4959-a9c0-2e6bba5b5d8b'\n",
    "    url = REST_URL + \"/annotator?text=\" + urllib2.quote(text) + \"&ontologies=\" + ','.join(ontologies)\n",
    "    opener = urllib2.build_opener()\n",
    "    opener.addheaders = [('Authorization', 'apikey token=' + API_KEY)]\n",
    "    \n",
    "    annotations = json.loads(opener.open(url).read())\n",
    "    \n",
    "    return annotations\n",
    "\n",
    "def nsides_api(service, method, args = None):\n",
    "    \"\"\"\n",
    "    Simple python API to access the NSIDES services and data.\n",
    "    \n",
    "    service   string, that can be one of three values: aeolus, sider, or omop\n",
    "    method    string, for a list of methods see http://nsideseb-env.us-east-1.elasticbeanstalk.com\n",
    "    args      dictionary, method parameters see http://nsideseb-env.us-east-1.elasticbeanstalk.com\n",
    "    \"\"\"\n",
    "    NSIDES_API_URL = 'http://nsideseb-env.us-east-1.elasticbeanstalk.com/api/v1/'\n",
    "    \n",
    "    base_url = NSIDES_API_URL + 'query?service=%s&meta=%s' % (service, method)\n",
    "    url = base_url\n",
    "    if not args is None:\n",
    "        url = base_url + '&' + '&'.join(['%s=%s' % (k,v) for k,v in args.items()])\n",
    "    \n",
    "    response = urllib2.urlopen(url).read()\n",
    "    data = json.loads(response)\n",
    "    \n",
    "    return data\n",
    "\n",
    "def deltaqt_api(drugs):\n",
    "    \"\"\"\n",
    "    Simple python API to access the Delta QT services and data. \n",
    "    drugs     list of drug concept identifiers\n",
    "    \"\"\"\n",
    "    DELTAQT_API_URL = 'http://deltaqt.org/api/v1/'\n",
    "    url = DELTAQT_API_URL + 'query?drugs=%s' % ','.join(map(str,drugs))\n",
    "    \n",
    "    response = urllib2.urlopen(url).read()\n",
    "    data = json.loads(response)\n",
    "    \n",
    "    return data\n",
    "\n",
    "def AEtoCUI( aeName ):\n",
    "    \"Converts AE name to UMLS CUIs\"\n",
    "    cuis = []\n",
    "    apikey = \"6fd08e99-cb99-48be-937c-bbaa5205fd44\"\n",
    "    #AuthClient = Authentication(apikey)\n",
    "    tgt = get_tgt(apikey)\n",
    "    uri = \"https://uts-ws.nlm.nih.gov\"\n",
    "    content_endpoint = \"/rest/search/current?string=\"+aeName\n",
    "    query = {'ticket':get_ticket(tgt)}\n",
    "    r = requests.get(uri+content_endpoint,params=query)\n",
    "    r.encoding = 'utf-8'\n",
    "    items  = json.loads(r.text)\n",
    "    jsonData = items[\"result\"]\n",
    "    for s in jsonData['results']:\n",
    "        cuis.append(s['ui'])\n",
    "    return cuis"
   ]
  },
  {
   "cell_type": "code",
   "execution_count": 21,
   "metadata": {},
   "outputs": [
    {
     "name": "stderr",
     "output_type": "stream",
     "text": [
      "\r",
      "  0%|          | 0/41 [00:00<?, ?it/s]"
     ]
    },
    {
     "name": "stdout",
     "output_type": "stream",
     "text": [
      "1\n",
      "2\n"
     ]
    },
    {
     "name": "stderr",
     "output_type": "stream",
     "text": [
      "\r",
      "  2%|▏         | 1/41 [00:01<00:51,  1.29s/it]"
     ]
    },
    {
     "name": "stdout",
     "output_type": "stream",
     "text": [
      "1\n",
      "2\n"
     ]
    },
    {
     "name": "stderr",
     "output_type": "stream",
     "text": [
      "\r",
      "  5%|▍         | 2/41 [00:02<00:45,  1.18s/it]"
     ]
    },
    {
     "name": "stdout",
     "output_type": "stream",
     "text": [
      "1\n",
      "2\n"
     ]
    },
    {
     "name": "stderr",
     "output_type": "stream",
     "text": [
      "\r",
      "  7%|▋         | 3/41 [00:02<00:39,  1.03s/it]"
     ]
    },
    {
     "name": "stdout",
     "output_type": "stream",
     "text": [
      "1\n",
      "2\n"
     ]
    },
    {
     "name": "stderr",
     "output_type": "stream",
     "text": [
      "\r",
      " 10%|▉         | 4/41 [00:03<00:33,  1.11it/s]"
     ]
    },
    {
     "name": "stdout",
     "output_type": "stream",
     "text": [
      "1\n",
      "2\n"
     ]
    },
    {
     "name": "stderr",
     "output_type": "stream",
     "text": [
      "\r",
      " 12%|█▏        | 5/41 [00:04<00:29,  1.23it/s]"
     ]
    },
    {
     "name": "stdout",
     "output_type": "stream",
     "text": [
      "1\n",
      "2\n"
     ]
    },
    {
     "name": "stderr",
     "output_type": "stream",
     "text": [
      "\r",
      " 15%|█▍        | 6/41 [00:04<00:27,  1.26it/s]"
     ]
    },
    {
     "name": "stdout",
     "output_type": "stream",
     "text": [
      "1\n",
      "2\n"
     ]
    },
    {
     "name": "stderr",
     "output_type": "stream",
     "text": [
      "\r",
      " 17%|█▋        | 7/41 [00:05<00:25,  1.35it/s]"
     ]
    },
    {
     "name": "stdout",
     "output_type": "stream",
     "text": [
      "1\n",
      "2\n"
     ]
    },
    {
     "name": "stderr",
     "output_type": "stream",
     "text": [
      "\r",
      " 20%|█▉        | 8/41 [00:06<00:24,  1.36it/s]"
     ]
    },
    {
     "name": "stdout",
     "output_type": "stream",
     "text": [
      "1\n",
      "2\n"
     ]
    },
    {
     "name": "stderr",
     "output_type": "stream",
     "text": [
      "\r",
      " 22%|██▏       | 9/41 [00:06<00:22,  1.42it/s]"
     ]
    },
    {
     "name": "stdout",
     "output_type": "stream",
     "text": [
      "1\n",
      "2\n"
     ]
    },
    {
     "name": "stderr",
     "output_type": "stream",
     "text": [
      "\r",
      " 24%|██▍       | 10/41 [00:07<00:21,  1.48it/s]"
     ]
    },
    {
     "name": "stdout",
     "output_type": "stream",
     "text": [
      "1\n",
      "2\n"
     ]
    },
    {
     "name": "stderr",
     "output_type": "stream",
     "text": [
      "\r",
      " 27%|██▋       | 11/41 [00:08<00:20,  1.47it/s]"
     ]
    },
    {
     "name": "stdout",
     "output_type": "stream",
     "text": [
      "1\n"
     ]
    },
    {
     "name": "stderr",
     "output_type": "stream",
     "text": [
      "\n"
     ]
    },
    {
     "ename": "KeyboardInterrupt",
     "evalue": "",
     "output_type": "error",
     "traceback": [
      "\u001b[1;31m\u001b[0m",
      "\u001b[1;31mKeyboardInterrupt\u001b[0mTraceback (most recent call last)",
      "\u001b[1;32m<ipython-input-21-996acb1c64e5>\u001b[0m in \u001b[0;36m<module>\u001b[1;34m()\u001b[0m\n\u001b[0;32m     26\u001b[0m     \u001b[1;32mprint\u001b[0m \u001b[1;36m1\u001b[0m\u001b[1;33m\u001b[0m\u001b[0m\n\u001b[0;32m     27\u001b[0m     \u001b[1;31m# Uncomment the next line to use NCBO Bioannotor to translate to rxnorm\u001b[0m\u001b[1;33m\u001b[0m\u001b[1;33m\u001b[0m\u001b[0m\n\u001b[1;32m---> 28\u001b[1;33m     \u001b[0mrxnorms\u001b[0m \u001b[1;33m=\u001b[0m \u001b[0mname2rxnorm\u001b[0m\u001b[1;33m(\u001b[0m\u001b[0mdrugname\u001b[0m\u001b[1;33m)\u001b[0m\u001b[1;33m\u001b[0m\u001b[0m\n\u001b[0m\u001b[0;32m     29\u001b[0m \u001b[1;33m\u001b[0m\u001b[0m\n\u001b[0;32m     30\u001b[0m     \u001b[1;31m#print drugname, rxnorms\u001b[0m\u001b[1;33m\u001b[0m\u001b[1;33m\u001b[0m\u001b[0m\n",
      "\u001b[1;32m<ipython-input-4-0c1f1bde4739>\u001b[0m in \u001b[0;36mname2rxnorm\u001b[1;34m(drugname)\u001b[0m\n\u001b[0;32m      1\u001b[0m \u001b[1;32mdef\u001b[0m \u001b[0mname2rxnorm\u001b[0m\u001b[1;33m(\u001b[0m\u001b[0mdrugname\u001b[0m\u001b[1;33m)\u001b[0m\u001b[1;33m:\u001b[0m\u001b[1;33m\u001b[0m\u001b[0m\n\u001b[1;32m----> 2\u001b[1;33m     \u001b[0mannotations\u001b[0m \u001b[1;33m=\u001b[0m \u001b[0mannotator\u001b[0m\u001b[1;33m(\u001b[0m\u001b[0mdrugname\u001b[0m\u001b[1;33m,\u001b[0m \u001b[1;33m[\u001b[0m\u001b[1;34m'RXNORM'\u001b[0m\u001b[1;33m]\u001b[0m\u001b[1;33m)\u001b[0m\u001b[1;33m\u001b[0m\u001b[0m\n\u001b[0m\u001b[0;32m      3\u001b[0m \u001b[1;33m\u001b[0m\u001b[0m\n\u001b[0;32m      4\u001b[0m     \u001b[0mrxnorms\u001b[0m \u001b[1;33m=\u001b[0m \u001b[0mlist\u001b[0m\u001b[1;33m(\u001b[0m\u001b[1;33m)\u001b[0m\u001b[1;33m\u001b[0m\u001b[0m\n\u001b[0;32m      5\u001b[0m     \u001b[1;32mfor\u001b[0m \u001b[0mannotation\u001b[0m \u001b[1;32min\u001b[0m \u001b[0mannotations\u001b[0m\u001b[1;33m:\u001b[0m\u001b[1;33m\u001b[0m\u001b[0m\n",
      "\u001b[1;32m<ipython-input-4-0c1f1bde4739>\u001b[0m in \u001b[0;36mannotator\u001b[1;34m(text, ontologies)\u001b[0m\n\u001b[0;32m     15\u001b[0m     \u001b[0mopener\u001b[0m\u001b[1;33m.\u001b[0m\u001b[0maddheaders\u001b[0m \u001b[1;33m=\u001b[0m \u001b[1;33m[\u001b[0m\u001b[1;33m(\u001b[0m\u001b[1;34m'Authorization'\u001b[0m\u001b[1;33m,\u001b[0m \u001b[1;34m'apikey token='\u001b[0m \u001b[1;33m+\u001b[0m \u001b[0mAPI_KEY\u001b[0m\u001b[1;33m)\u001b[0m\u001b[1;33m]\u001b[0m\u001b[1;33m\u001b[0m\u001b[0m\n\u001b[0;32m     16\u001b[0m \u001b[1;33m\u001b[0m\u001b[0m\n\u001b[1;32m---> 17\u001b[1;33m     \u001b[0mannotations\u001b[0m \u001b[1;33m=\u001b[0m \u001b[0mjson\u001b[0m\u001b[1;33m.\u001b[0m\u001b[0mloads\u001b[0m\u001b[1;33m(\u001b[0m\u001b[0mopener\u001b[0m\u001b[1;33m.\u001b[0m\u001b[0mopen\u001b[0m\u001b[1;33m(\u001b[0m\u001b[0murl\u001b[0m\u001b[1;33m)\u001b[0m\u001b[1;33m.\u001b[0m\u001b[0mread\u001b[0m\u001b[1;33m(\u001b[0m\u001b[1;33m)\u001b[0m\u001b[1;33m)\u001b[0m\u001b[1;33m\u001b[0m\u001b[0m\n\u001b[0m\u001b[0;32m     18\u001b[0m \u001b[1;33m\u001b[0m\u001b[0m\n\u001b[0;32m     19\u001b[0m     \u001b[1;32mreturn\u001b[0m \u001b[0mannotations\u001b[0m\u001b[1;33m\u001b[0m\u001b[0m\n",
      "\u001b[1;32mC:\\ProgramData\\Anaconda2\\lib\\urllib2.pyc\u001b[0m in \u001b[0;36mopen\u001b[1;34m(self, fullurl, data, timeout)\u001b[0m\n\u001b[0;32m    427\u001b[0m             \u001b[0mreq\u001b[0m \u001b[1;33m=\u001b[0m \u001b[0mmeth\u001b[0m\u001b[1;33m(\u001b[0m\u001b[0mreq\u001b[0m\u001b[1;33m)\u001b[0m\u001b[1;33m\u001b[0m\u001b[0m\n\u001b[0;32m    428\u001b[0m \u001b[1;33m\u001b[0m\u001b[0m\n\u001b[1;32m--> 429\u001b[1;33m         \u001b[0mresponse\u001b[0m \u001b[1;33m=\u001b[0m \u001b[0mself\u001b[0m\u001b[1;33m.\u001b[0m\u001b[0m_open\u001b[0m\u001b[1;33m(\u001b[0m\u001b[0mreq\u001b[0m\u001b[1;33m,\u001b[0m \u001b[0mdata\u001b[0m\u001b[1;33m)\u001b[0m\u001b[1;33m\u001b[0m\u001b[0m\n\u001b[0m\u001b[0;32m    430\u001b[0m \u001b[1;33m\u001b[0m\u001b[0m\n\u001b[0;32m    431\u001b[0m         \u001b[1;31m# post-process response\u001b[0m\u001b[1;33m\u001b[0m\u001b[1;33m\u001b[0m\u001b[0m\n",
      "\u001b[1;32mC:\\ProgramData\\Anaconda2\\lib\\urllib2.pyc\u001b[0m in \u001b[0;36m_open\u001b[1;34m(self, req, data)\u001b[0m\n\u001b[0;32m    445\u001b[0m         \u001b[0mprotocol\u001b[0m \u001b[1;33m=\u001b[0m \u001b[0mreq\u001b[0m\u001b[1;33m.\u001b[0m\u001b[0mget_type\u001b[0m\u001b[1;33m(\u001b[0m\u001b[1;33m)\u001b[0m\u001b[1;33m\u001b[0m\u001b[0m\n\u001b[0;32m    446\u001b[0m         result = self._call_chain(self.handle_open, protocol, protocol +\n\u001b[1;32m--> 447\u001b[1;33m                                   '_open', req)\n\u001b[0m\u001b[0;32m    448\u001b[0m         \u001b[1;32mif\u001b[0m \u001b[0mresult\u001b[0m\u001b[1;33m:\u001b[0m\u001b[1;33m\u001b[0m\u001b[0m\n\u001b[0;32m    449\u001b[0m             \u001b[1;32mreturn\u001b[0m \u001b[0mresult\u001b[0m\u001b[1;33m\u001b[0m\u001b[0m\n",
      "\u001b[1;32mC:\\ProgramData\\Anaconda2\\lib\\urllib2.pyc\u001b[0m in \u001b[0;36m_call_chain\u001b[1;34m(self, chain, kind, meth_name, *args)\u001b[0m\n\u001b[0;32m    405\u001b[0m             \u001b[0mfunc\u001b[0m \u001b[1;33m=\u001b[0m \u001b[0mgetattr\u001b[0m\u001b[1;33m(\u001b[0m\u001b[0mhandler\u001b[0m\u001b[1;33m,\u001b[0m \u001b[0mmeth_name\u001b[0m\u001b[1;33m)\u001b[0m\u001b[1;33m\u001b[0m\u001b[0m\n\u001b[0;32m    406\u001b[0m \u001b[1;33m\u001b[0m\u001b[0m\n\u001b[1;32m--> 407\u001b[1;33m             \u001b[0mresult\u001b[0m \u001b[1;33m=\u001b[0m \u001b[0mfunc\u001b[0m\u001b[1;33m(\u001b[0m\u001b[1;33m*\u001b[0m\u001b[0margs\u001b[0m\u001b[1;33m)\u001b[0m\u001b[1;33m\u001b[0m\u001b[0m\n\u001b[0m\u001b[0;32m    408\u001b[0m             \u001b[1;32mif\u001b[0m \u001b[0mresult\u001b[0m \u001b[1;32mis\u001b[0m \u001b[1;32mnot\u001b[0m \u001b[0mNone\u001b[0m\u001b[1;33m:\u001b[0m\u001b[1;33m\u001b[0m\u001b[0m\n\u001b[0;32m    409\u001b[0m                 \u001b[1;32mreturn\u001b[0m \u001b[0mresult\u001b[0m\u001b[1;33m\u001b[0m\u001b[0m\n",
      "\u001b[1;32mC:\\ProgramData\\Anaconda2\\lib\\urllib2.pyc\u001b[0m in \u001b[0;36mhttp_open\u001b[1;34m(self, req)\u001b[0m\n\u001b[0;32m   1226\u001b[0m \u001b[1;33m\u001b[0m\u001b[0m\n\u001b[0;32m   1227\u001b[0m     \u001b[1;32mdef\u001b[0m \u001b[0mhttp_open\u001b[0m\u001b[1;33m(\u001b[0m\u001b[0mself\u001b[0m\u001b[1;33m,\u001b[0m \u001b[0mreq\u001b[0m\u001b[1;33m)\u001b[0m\u001b[1;33m:\u001b[0m\u001b[1;33m\u001b[0m\u001b[0m\n\u001b[1;32m-> 1228\u001b[1;33m         \u001b[1;32mreturn\u001b[0m \u001b[0mself\u001b[0m\u001b[1;33m.\u001b[0m\u001b[0mdo_open\u001b[0m\u001b[1;33m(\u001b[0m\u001b[0mhttplib\u001b[0m\u001b[1;33m.\u001b[0m\u001b[0mHTTPConnection\u001b[0m\u001b[1;33m,\u001b[0m \u001b[0mreq\u001b[0m\u001b[1;33m)\u001b[0m\u001b[1;33m\u001b[0m\u001b[0m\n\u001b[0m\u001b[0;32m   1229\u001b[0m \u001b[1;33m\u001b[0m\u001b[0m\n\u001b[0;32m   1230\u001b[0m     \u001b[0mhttp_request\u001b[0m \u001b[1;33m=\u001b[0m \u001b[0mAbstractHTTPHandler\u001b[0m\u001b[1;33m.\u001b[0m\u001b[0mdo_request_\u001b[0m\u001b[1;33m\u001b[0m\u001b[0m\n",
      "\u001b[1;32mC:\\ProgramData\\Anaconda2\\lib\\urllib2.pyc\u001b[0m in \u001b[0;36mdo_open\u001b[1;34m(self, http_class, req, **http_conn_args)\u001b[0m\n\u001b[0;32m   1193\u001b[0m \u001b[1;33m\u001b[0m\u001b[0m\n\u001b[0;32m   1194\u001b[0m         \u001b[1;32mtry\u001b[0m\u001b[1;33m:\u001b[0m\u001b[1;33m\u001b[0m\u001b[0m\n\u001b[1;32m-> 1195\u001b[1;33m             \u001b[0mh\u001b[0m\u001b[1;33m.\u001b[0m\u001b[0mrequest\u001b[0m\u001b[1;33m(\u001b[0m\u001b[0mreq\u001b[0m\u001b[1;33m.\u001b[0m\u001b[0mget_method\u001b[0m\u001b[1;33m(\u001b[0m\u001b[1;33m)\u001b[0m\u001b[1;33m,\u001b[0m \u001b[0mreq\u001b[0m\u001b[1;33m.\u001b[0m\u001b[0mget_selector\u001b[0m\u001b[1;33m(\u001b[0m\u001b[1;33m)\u001b[0m\u001b[1;33m,\u001b[0m \u001b[0mreq\u001b[0m\u001b[1;33m.\u001b[0m\u001b[0mdata\u001b[0m\u001b[1;33m,\u001b[0m \u001b[0mheaders\u001b[0m\u001b[1;33m)\u001b[0m\u001b[1;33m\u001b[0m\u001b[0m\n\u001b[0m\u001b[0;32m   1196\u001b[0m         \u001b[1;32mexcept\u001b[0m \u001b[0msocket\u001b[0m\u001b[1;33m.\u001b[0m\u001b[0merror\u001b[0m\u001b[1;33m,\u001b[0m \u001b[0merr\u001b[0m\u001b[1;33m:\u001b[0m \u001b[1;31m# XXX what error?\u001b[0m\u001b[1;33m\u001b[0m\u001b[0m\n\u001b[0;32m   1197\u001b[0m             \u001b[0mh\u001b[0m\u001b[1;33m.\u001b[0m\u001b[0mclose\u001b[0m\u001b[1;33m(\u001b[0m\u001b[1;33m)\u001b[0m\u001b[1;33m\u001b[0m\u001b[0m\n",
      "\u001b[1;32mC:\\ProgramData\\Anaconda2\\lib\\httplib.pyc\u001b[0m in \u001b[0;36mrequest\u001b[1;34m(self, method, url, body, headers)\u001b[0m\n\u001b[0;32m   1040\u001b[0m     \u001b[1;32mdef\u001b[0m \u001b[0mrequest\u001b[0m\u001b[1;33m(\u001b[0m\u001b[0mself\u001b[0m\u001b[1;33m,\u001b[0m \u001b[0mmethod\u001b[0m\u001b[1;33m,\u001b[0m \u001b[0murl\u001b[0m\u001b[1;33m,\u001b[0m \u001b[0mbody\u001b[0m\u001b[1;33m=\u001b[0m\u001b[0mNone\u001b[0m\u001b[1;33m,\u001b[0m \u001b[0mheaders\u001b[0m\u001b[1;33m=\u001b[0m\u001b[1;33m{\u001b[0m\u001b[1;33m}\u001b[0m\u001b[1;33m)\u001b[0m\u001b[1;33m:\u001b[0m\u001b[1;33m\u001b[0m\u001b[0m\n\u001b[0;32m   1041\u001b[0m         \u001b[1;34m\"\"\"Send a complete request to the server.\"\"\"\u001b[0m\u001b[1;33m\u001b[0m\u001b[0m\n\u001b[1;32m-> 1042\u001b[1;33m         \u001b[0mself\u001b[0m\u001b[1;33m.\u001b[0m\u001b[0m_send_request\u001b[0m\u001b[1;33m(\u001b[0m\u001b[0mmethod\u001b[0m\u001b[1;33m,\u001b[0m \u001b[0murl\u001b[0m\u001b[1;33m,\u001b[0m \u001b[0mbody\u001b[0m\u001b[1;33m,\u001b[0m \u001b[0mheaders\u001b[0m\u001b[1;33m)\u001b[0m\u001b[1;33m\u001b[0m\u001b[0m\n\u001b[0m\u001b[0;32m   1043\u001b[0m \u001b[1;33m\u001b[0m\u001b[0m\n\u001b[0;32m   1044\u001b[0m     \u001b[1;32mdef\u001b[0m \u001b[0m_set_content_length\u001b[0m\u001b[1;33m(\u001b[0m\u001b[0mself\u001b[0m\u001b[1;33m,\u001b[0m \u001b[0mbody\u001b[0m\u001b[1;33m,\u001b[0m \u001b[0mmethod\u001b[0m\u001b[1;33m)\u001b[0m\u001b[1;33m:\u001b[0m\u001b[1;33m\u001b[0m\u001b[0m\n",
      "\u001b[1;32mC:\\ProgramData\\Anaconda2\\lib\\httplib.pyc\u001b[0m in \u001b[0;36m_send_request\u001b[1;34m(self, method, url, body, headers)\u001b[0m\n\u001b[0;32m   1080\u001b[0m         \u001b[1;32mfor\u001b[0m \u001b[0mhdr\u001b[0m\u001b[1;33m,\u001b[0m \u001b[0mvalue\u001b[0m \u001b[1;32min\u001b[0m \u001b[0mheaders\u001b[0m\u001b[1;33m.\u001b[0m\u001b[0miteritems\u001b[0m\u001b[1;33m(\u001b[0m\u001b[1;33m)\u001b[0m\u001b[1;33m:\u001b[0m\u001b[1;33m\u001b[0m\u001b[0m\n\u001b[0;32m   1081\u001b[0m             \u001b[0mself\u001b[0m\u001b[1;33m.\u001b[0m\u001b[0mputheader\u001b[0m\u001b[1;33m(\u001b[0m\u001b[0mhdr\u001b[0m\u001b[1;33m,\u001b[0m \u001b[0mvalue\u001b[0m\u001b[1;33m)\u001b[0m\u001b[1;33m\u001b[0m\u001b[0m\n\u001b[1;32m-> 1082\u001b[1;33m         \u001b[0mself\u001b[0m\u001b[1;33m.\u001b[0m\u001b[0mendheaders\u001b[0m\u001b[1;33m(\u001b[0m\u001b[0mbody\u001b[0m\u001b[1;33m)\u001b[0m\u001b[1;33m\u001b[0m\u001b[0m\n\u001b[0m\u001b[0;32m   1083\u001b[0m \u001b[1;33m\u001b[0m\u001b[0m\n\u001b[0;32m   1084\u001b[0m     \u001b[1;32mdef\u001b[0m \u001b[0mgetresponse\u001b[0m\u001b[1;33m(\u001b[0m\u001b[0mself\u001b[0m\u001b[1;33m,\u001b[0m \u001b[0mbuffering\u001b[0m\u001b[1;33m=\u001b[0m\u001b[0mFalse\u001b[0m\u001b[1;33m)\u001b[0m\u001b[1;33m:\u001b[0m\u001b[1;33m\u001b[0m\u001b[0m\n",
      "\u001b[1;32mC:\\ProgramData\\Anaconda2\\lib\\httplib.pyc\u001b[0m in \u001b[0;36mendheaders\u001b[1;34m(self, message_body)\u001b[0m\n\u001b[0;32m   1036\u001b[0m         \u001b[1;32melse\u001b[0m\u001b[1;33m:\u001b[0m\u001b[1;33m\u001b[0m\u001b[0m\n\u001b[0;32m   1037\u001b[0m             \u001b[1;32mraise\u001b[0m \u001b[0mCannotSendHeader\u001b[0m\u001b[1;33m(\u001b[0m\u001b[1;33m)\u001b[0m\u001b[1;33m\u001b[0m\u001b[0m\n\u001b[1;32m-> 1038\u001b[1;33m         \u001b[0mself\u001b[0m\u001b[1;33m.\u001b[0m\u001b[0m_send_output\u001b[0m\u001b[1;33m(\u001b[0m\u001b[0mmessage_body\u001b[0m\u001b[1;33m)\u001b[0m\u001b[1;33m\u001b[0m\u001b[0m\n\u001b[0m\u001b[0;32m   1039\u001b[0m \u001b[1;33m\u001b[0m\u001b[0m\n\u001b[0;32m   1040\u001b[0m     \u001b[1;32mdef\u001b[0m \u001b[0mrequest\u001b[0m\u001b[1;33m(\u001b[0m\u001b[0mself\u001b[0m\u001b[1;33m,\u001b[0m \u001b[0mmethod\u001b[0m\u001b[1;33m,\u001b[0m \u001b[0murl\u001b[0m\u001b[1;33m,\u001b[0m \u001b[0mbody\u001b[0m\u001b[1;33m=\u001b[0m\u001b[0mNone\u001b[0m\u001b[1;33m,\u001b[0m \u001b[0mheaders\u001b[0m\u001b[1;33m=\u001b[0m\u001b[1;33m{\u001b[0m\u001b[1;33m}\u001b[0m\u001b[1;33m)\u001b[0m\u001b[1;33m:\u001b[0m\u001b[1;33m\u001b[0m\u001b[0m\n",
      "\u001b[1;32mC:\\ProgramData\\Anaconda2\\lib\\httplib.pyc\u001b[0m in \u001b[0;36m_send_output\u001b[1;34m(self, message_body)\u001b[0m\n\u001b[0;32m    880\u001b[0m             \u001b[0mmsg\u001b[0m \u001b[1;33m+=\u001b[0m \u001b[0mmessage_body\u001b[0m\u001b[1;33m\u001b[0m\u001b[0m\n\u001b[0;32m    881\u001b[0m             \u001b[0mmessage_body\u001b[0m \u001b[1;33m=\u001b[0m \u001b[0mNone\u001b[0m\u001b[1;33m\u001b[0m\u001b[0m\n\u001b[1;32m--> 882\u001b[1;33m         \u001b[0mself\u001b[0m\u001b[1;33m.\u001b[0m\u001b[0msend\u001b[0m\u001b[1;33m(\u001b[0m\u001b[0mmsg\u001b[0m\u001b[1;33m)\u001b[0m\u001b[1;33m\u001b[0m\u001b[0m\n\u001b[0m\u001b[0;32m    883\u001b[0m         \u001b[1;32mif\u001b[0m \u001b[0mmessage_body\u001b[0m \u001b[1;32mis\u001b[0m \u001b[1;32mnot\u001b[0m \u001b[0mNone\u001b[0m\u001b[1;33m:\u001b[0m\u001b[1;33m\u001b[0m\u001b[0m\n\u001b[0;32m    884\u001b[0m             \u001b[1;31m#message_body was not a string (i.e. it is a file) and\u001b[0m\u001b[1;33m\u001b[0m\u001b[1;33m\u001b[0m\u001b[0m\n",
      "\u001b[1;32mC:\\ProgramData\\Anaconda2\\lib\\httplib.pyc\u001b[0m in \u001b[0;36msend\u001b[1;34m(self, data)\u001b[0m\n\u001b[0;32m    842\u001b[0m         \u001b[1;32mif\u001b[0m \u001b[0mself\u001b[0m\u001b[1;33m.\u001b[0m\u001b[0msock\u001b[0m \u001b[1;32mis\u001b[0m \u001b[0mNone\u001b[0m\u001b[1;33m:\u001b[0m\u001b[1;33m\u001b[0m\u001b[0m\n\u001b[0;32m    843\u001b[0m             \u001b[1;32mif\u001b[0m \u001b[0mself\u001b[0m\u001b[1;33m.\u001b[0m\u001b[0mauto_open\u001b[0m\u001b[1;33m:\u001b[0m\u001b[1;33m\u001b[0m\u001b[0m\n\u001b[1;32m--> 844\u001b[1;33m                 \u001b[0mself\u001b[0m\u001b[1;33m.\u001b[0m\u001b[0mconnect\u001b[0m\u001b[1;33m(\u001b[0m\u001b[1;33m)\u001b[0m\u001b[1;33m\u001b[0m\u001b[0m\n\u001b[0m\u001b[0;32m    845\u001b[0m             \u001b[1;32melse\u001b[0m\u001b[1;33m:\u001b[0m\u001b[1;33m\u001b[0m\u001b[0m\n\u001b[0;32m    846\u001b[0m                 \u001b[1;32mraise\u001b[0m \u001b[0mNotConnected\u001b[0m\u001b[1;33m(\u001b[0m\u001b[1;33m)\u001b[0m\u001b[1;33m\u001b[0m\u001b[0m\n",
      "\u001b[1;32mC:\\ProgramData\\Anaconda2\\lib\\httplib.pyc\u001b[0m in \u001b[0;36mconnect\u001b[1;34m(self)\u001b[0m\n\u001b[0;32m    819\u001b[0m         \u001b[1;34m\"\"\"Connect to the host and port specified in __init__.\"\"\"\u001b[0m\u001b[1;33m\u001b[0m\u001b[0m\n\u001b[0;32m    820\u001b[0m         self.sock = self._create_connection((self.host,self.port),\n\u001b[1;32m--> 821\u001b[1;33m                                            self.timeout, self.source_address)\n\u001b[0m\u001b[0;32m    822\u001b[0m \u001b[1;33m\u001b[0m\u001b[0m\n\u001b[0;32m    823\u001b[0m         \u001b[1;32mif\u001b[0m \u001b[0mself\u001b[0m\u001b[1;33m.\u001b[0m\u001b[0m_tunnel_host\u001b[0m\u001b[1;33m:\u001b[0m\u001b[1;33m\u001b[0m\u001b[0m\n",
      "\u001b[1;32mC:\\ProgramData\\Anaconda2\\lib\\socket.pyc\u001b[0m in \u001b[0;36mcreate_connection\u001b[1;34m(address, timeout, source_address)\u001b[0m\n\u001b[0;32m    564\u001b[0m             \u001b[1;32mif\u001b[0m \u001b[0msource_address\u001b[0m\u001b[1;33m:\u001b[0m\u001b[1;33m\u001b[0m\u001b[0m\n\u001b[0;32m    565\u001b[0m                 \u001b[0msock\u001b[0m\u001b[1;33m.\u001b[0m\u001b[0mbind\u001b[0m\u001b[1;33m(\u001b[0m\u001b[0msource_address\u001b[0m\u001b[1;33m)\u001b[0m\u001b[1;33m\u001b[0m\u001b[0m\n\u001b[1;32m--> 566\u001b[1;33m             \u001b[0msock\u001b[0m\u001b[1;33m.\u001b[0m\u001b[0mconnect\u001b[0m\u001b[1;33m(\u001b[0m\u001b[0msa\u001b[0m\u001b[1;33m)\u001b[0m\u001b[1;33m\u001b[0m\u001b[0m\n\u001b[0m\u001b[0;32m    567\u001b[0m             \u001b[1;32mreturn\u001b[0m \u001b[0msock\u001b[0m\u001b[1;33m\u001b[0m\u001b[0m\n\u001b[0;32m    568\u001b[0m \u001b[1;33m\u001b[0m\u001b[0m\n",
      "\u001b[1;32mC:\\ProgramData\\Anaconda2\\lib\\socket.pyc\u001b[0m in \u001b[0;36mmeth\u001b[1;34m(name, self, *args)\u001b[0m\n\u001b[0;32m    226\u001b[0m \u001b[1;33m\u001b[0m\u001b[0m\n\u001b[0;32m    227\u001b[0m \u001b[1;32mdef\u001b[0m \u001b[0mmeth\u001b[0m\u001b[1;33m(\u001b[0m\u001b[0mname\u001b[0m\u001b[1;33m,\u001b[0m\u001b[0mself\u001b[0m\u001b[1;33m,\u001b[0m\u001b[1;33m*\u001b[0m\u001b[0margs\u001b[0m\u001b[1;33m)\u001b[0m\u001b[1;33m:\u001b[0m\u001b[1;33m\u001b[0m\u001b[0m\n\u001b[1;32m--> 228\u001b[1;33m     \u001b[1;32mreturn\u001b[0m \u001b[0mgetattr\u001b[0m\u001b[1;33m(\u001b[0m\u001b[0mself\u001b[0m\u001b[1;33m.\u001b[0m\u001b[0m_sock\u001b[0m\u001b[1;33m,\u001b[0m\u001b[0mname\u001b[0m\u001b[1;33m)\u001b[0m\u001b[1;33m(\u001b[0m\u001b[1;33m*\u001b[0m\u001b[0margs\u001b[0m\u001b[1;33m)\u001b[0m\u001b[1;33m\u001b[0m\u001b[0m\n\u001b[0m\u001b[0;32m    229\u001b[0m \u001b[1;33m\u001b[0m\u001b[0m\n\u001b[0;32m    230\u001b[0m \u001b[1;32mfor\u001b[0m \u001b[0m_m\u001b[0m \u001b[1;32min\u001b[0m \u001b[0m_socketmethods\u001b[0m\u001b[1;33m:\u001b[0m\u001b[1;33m\u001b[0m\u001b[0m\n",
      "\u001b[1;31mKeyboardInterrupt\u001b[0m: "
     ]
    }
   ],
   "source": [
    "if ADVERSE_EVENT_OF_INTEREST in ('Myocardial_Infarction', 'Gastrointestinal_Bleeding', 'Kidney_Damage', 'Liver_Damage'):\n",
    "    # we use the OMOP reference standard\n",
    "    data = nsides_api('omop', 'reference', {'q': ADVERSE_EVENT_OF_INTEREST})\n",
    "    reference_byname = [(r['drugname'], int(r['causes_ae'])) for r in data['results']]\n",
    "    \n",
    "else:\n",
    "    # we use SIDER\n",
    "    reference_byname = list()\n",
    "    for cui in AEtoCUI('qt prolonged'):\n",
    "        data = nsides_api('sider', 'drugForEffect', {'q': cui})\n",
    "        reference_byname.extend( [(r['drug_name'], 1) for r in data['results']] )\n",
    "    \n",
    "    if len(reference_byname) == 0:\n",
    "        raise Exception(\"No available reference standard for cui: %s\" % cui)\n",
    "    \n",
    "\n",
    "positives = list()\n",
    "negatives = list()\n",
    "\n",
    "drugnames  = [d for d,e in reference_byname]\n",
    "\n",
    "# Uncomment the next line out to use biothings_client\n",
    "# rxnorm_map = names2rxnorm(drugnames)\n",
    "\n",
    "for drugname, causes_ae in tqdm(reference_byname):\n",
    "    # Uncomment the next line to use NCBO Bioannotor to translate to rxnorm\n",
    "    rxnorms = name2rxnorm(drugname)\n",
    "    \n",
    "    #print drugname, rxnorms\n",
    "    # Comment the next line out to use biothings_client\n",
    "    # rxnorms = rxnorm_map[drugname]\n",
    "    \n",
    "    for rxnorm in rxnorms:\n",
    "        if causes_ae == 1:\n",
    "            positives.append(int(rxnorm))\n",
    "        else:\n",
    "            negatives.append(int(rxnorm))\n",
    "\n",
    "print \"Produced reference with %d positive examples and %d negative examples.\" % (len(positives), len(negatives))"
   ]
  },
  {
   "cell_type": "code",
   "execution_count": null,
   "metadata": {
    "collapsed": true
   },
   "outputs": [],
   "source": [
    "# If there are no negative examples, we randomly pick 200 from what's available in AEOLUS\n",
    "if len(negatives) == 0:\n",
    "    data = nsides_api('aeolus', 'ingredientList')\n",
    "    \n",
    "    all_rxnorms = [r['concept_code'] for r in data['results']]\n",
    "    available_negatives = (set(all_rxnorms) - set(positives))\n",
    "    \n",
    "    negatives = random.sample(available_negatives, 200)\n",
    "\n",
    "print \"Randomly selected %d negative examples from available drugs.\" % len(negatives)"
   ]
  },
  {
   "cell_type": "markdown",
   "metadata": {},
   "source": [
    "<a id='step2'></a>\n",
    "**Step 2.** Retrieve adverse event report data for these and a set of control drugs."
   ]
  },
  {
   "cell_type": "code",
   "execution_count": null,
   "metadata": {
    "collapsed": true
   },
   "outputs": [],
   "source": [
    "data = nsides_api('aeolus', 'ingredientList')\n",
    "\n",
    "concept2name = dict()\n",
    "all_drugs = list()\n",
    "drug_mapping = dict()\n",
    "concept2rxnorm = dict()\n",
    "\n",
    "for r in data['results']:\n",
    "    concept2name[r['concept_id']] = r['concept_name']\n",
    "    all_drugs.append(r['concept_id'])\n",
    "    drug_mapping[r['concept_code']] = r['concept_id']\n",
    "    concept2rxnorm[r['concept_id']] = r['concept_code']\n",
    "\n",
    "drug_mapping.items()[0]"
   ]
  },
  {
   "cell_type": "code",
   "execution_count": null,
   "metadata": {
    "collapsed": true
   },
   "outputs": [],
   "source": [
    "#query?service=aeolus&meta=reactionListMedDRA\n",
    "data = nsides_api('aeolus', 'reactionListMedDRA')\n",
    "\n",
    "all_outcomes = list()\n",
    "\n",
    "for r in data['results']:\n",
    "    all_outcomes.append(r['outcome_concept_id'])\n",
    "\n",
    "len(all_outcomes)"
   ]
  },
  {
   "cell_type": "code",
   "execution_count": null,
   "metadata": {
    "collapsed": true
   },
   "outputs": [],
   "source": [
    "#query?service=aeolus&meta=drugpairReactionListMedDRA\n",
    "data = nsides_api('aeolus', 'drugpairReactionListMedDRA')\n",
    "all_pairoutcomes = list()\n",
    "for r in data['results']:\n",
    "    all_pairoutcomes.append(r['outcome_concept_id'])\n",
    "\n",
    "len(all_pairoutcomes)"
   ]
  },
  {
   "cell_type": "code",
   "execution_count": null,
   "metadata": {
    "collapsed": true
   },
   "outputs": [],
   "source": [
    "#query?service=aeolus&meta=drugpairList\n",
    "data = nsides_api('aeolus', 'drugpairList')\n",
    "\n",
    "all_drugpairs = list()\n",
    "\n",
    "for r in data['results']:\n",
    "    all_drugpairs.append((r['drug1_concept_id'], r['drug2_concept_id']))\n",
    "\n",
    "len(all_drugpairs)"
   ]
  },
  {
   "cell_type": "code",
   "execution_count": null,
   "metadata": {
    "collapsed": true
   },
   "outputs": [],
   "source": [
    "#query?service=aeolus&meta=drugReactionCounts&q=0\n",
    "data = nsides_api('aeolus', 'drugReactionCounts', {'q':0})\n",
    "\n",
    "aeolus_drugReactionCounts = dict()\n",
    "aeolus_drugReactionCounts['results'] = list()\n",
    "\n",
    "for start in tqdm(range(0, data[0]['nrows'][0], 10000)):    \n",
    "    aeolus_drugReactionCounts['results'].extend(data[0]['result'])    \n",
    "    start = len(aeolus_drugReactionCounts['results'])\n",
    "    data = nsides_api('aeolus', 'drugReactionCounts', {'q': start})\n",
    "\n",
    "len(aeolus_drugReactionCounts['results'])"
   ]
  },
  {
   "cell_type": "code",
   "execution_count": null,
   "metadata": {},
   "outputs": [],
   "source": [
    "# aeolus_drugReactionCounts['results'][0]"
   ]
  },
  {
   "cell_type": "code",
   "execution_count": null,
   "metadata": {},
   "outputs": [],
   "source": [
    "def make_lsd_training_table(pos_drugs = None, neg_drugs = None):\n",
    "\n",
    "    pos_drugs_mapped = list()\n",
    "    for pos_drug in pos_drugs:\n",
    "        pos_drugs_mapped.append(drug_mapping[pos_drug])\n",
    "        \n",
    "    neg_drugs_mapped = list()\n",
    "    for neg_drug in neg_drugs:\n",
    "        neg_drugs_mapped.append(drug_mapping[neg_drug])\n",
    "        \n",
    "    outcomes = np.concatenate((np.ones(len(pos_drugs),np.bool), np.zeros(len(neg_drugs),np.bool)))\n",
    "    \n",
    "    training_drugs = pos_drugs_mapped + neg_drugs_mapped\n",
    "    \n",
    "    ae_frequencies_training = np.zeros((len(pos_drugs)+len(neg_drugs),len(all_pairoutcomes)))\n",
    "    \n",
    "    for r in aeolus_drugReactionCounts['results']:\n",
    "        if not r['drug_concept_id'] in training_drugs:\n",
    "            continue\n",
    "        if not r['outcome_concept_id'] in all_pairoutcomes:\n",
    "            continue\n",
    "        \n",
    "        \n",
    "        i = training_drugs.index(r['drug_concept_id'])\n",
    "        j = all_pairoutcomes.index(r['outcome_concept_id'])\n",
    "        \n",
    "        frequency = float(r['nreports'])/float(r['ndrugreports'])\n",
    "        \n",
    "        ae_frequencies_training[i,j] = frequency\n",
    "                    \n",
    "    return ae_frequencies_training, outcomes"
   ]
  },
  {
   "cell_type": "code",
   "execution_count": null,
   "metadata": {},
   "outputs": [],
   "source": [
    "pos_controls = [p for p in positives if p in drug_mapping]\n",
    "neg_controls = [n for n in negatives if n in drug_mapping]"
   ]
  },
  {
   "cell_type": "code",
   "execution_count": null,
   "metadata": {
    "collapsed": true
   },
   "outputs": [],
   "source": [
    "X,y = make_lsd_training_table(pos_controls, neg_controls)\n",
    "\n",
    "print X.shape\n",
    "print y.shape"
   ]
  },
  {
   "cell_type": "code",
   "execution_count": null,
   "metadata": {
    "scrolled": false
   },
   "outputs": [],
   "source": [
    "#query?service=aeolus&meta=drugpairReactionCounts&q=0\n",
    "data = nsides_api('aeolus', 'drugpairReactionCounts', {'q':0})\n",
    "\n",
    "aeolus_drugpairReactionCounts = dict()\n",
    "aeolus_drugpairReactionCounts['results'] = list()\n",
    "\n",
    "for start in tqdm(range(0, data[0]['nrows'][0], 10000)):    \n",
    "    aeolus_drugpairReactionCounts['results'].extend(data[0]['results'])    \n",
    "    start = len(aeolus_drugpairReactionCounts['results'])\n",
    "    data = nsides_api('aeolus', 'drugpairReactionCounts', {'q': start})\n",
    "\n",
    "len(aeolus_drugpairReactionCounts['results'])"
   ]
  },
  {
   "cell_type": "code",
   "execution_count": null,
   "metadata": {},
   "outputs": [],
   "source": [
    "aeolus_drugpairReactionCounts['results'][0]"
   ]
  },
  {
   "cell_type": "code",
   "execution_count": null,
   "metadata": {},
   "outputs": [],
   "source": [
    "def make_lsd_testing_table():\n",
    "    ae_frequencies_ddi_testing = np.zeros((len(all_drugpairs),len(all_pairoutcomes)))\n",
    "    \n",
    "    for r in tqdm(aeolus_drugpairReactionCounts['results']):\n",
    "        \n",
    "        drugpair = (r['drug1_concept_id'],r['drug2_concept_id'])\n",
    "        if r['outcome_concept_id'] in all_pairoutcomes:\n",
    "            x_index = all_drugpairs.index(drugpair)\n",
    "            y_index = all_pairoutcomes.index(r['outcome_concept_id'])\n",
    "            \n",
    "            frequency = float(r['n_d1d2ae'])/float(r['n_d1d2'])\n",
    "            \n",
    "            ae_frequencies_ddi_testing[x_index,y_index] = frequency    \n",
    "                \n",
    "    return ae_frequencies_ddi_testing\n"
   ]
  },
  {
   "cell_type": "code",
   "execution_count": null,
   "metadata": {},
   "outputs": [],
   "source": [
    "X_test = make_lsd_testing_table()"
   ]
  },
  {
   "cell_type": "code",
   "execution_count": null,
   "metadata": {},
   "outputs": [],
   "source": [
    "print X.shape\n",
    "print X_test.shape\n",
    "print y.shape"
   ]
  },
  {
   "cell_type": "code",
   "execution_count": null,
   "metadata": {},
   "outputs": [],
   "source": [
    "print len(positives)\n",
    "print np.sum(y)"
   ]
  },
  {
   "cell_type": "code",
   "execution_count": null,
   "metadata": {},
   "outputs": [],
   "source": [
    "X_test.sum(), X_test.mean()"
   ]
  },
  {
   "cell_type": "markdown",
   "metadata": {},
   "source": [
    "<a id=\"step3\"></a>\n",
    "**Step 3.** Build a latent signal detection model on the reference set and predict DDIs"
   ]
  },
  {
   "cell_type": "code",
   "execution_count": null,
   "metadata": {},
   "outputs": [],
   "source": [
    "def drugpair_predictions(X,y,X_test):\n",
    "    rf = RandomForestClassifier(oob_score=True, random_state=12)\n",
    "    rf.fit(X,y)\n",
    "    predictions_proba = rf.predict_proba(X_test)[:,1]\n",
    "    predictions = rf.predict(X_test)\n",
    "    \n",
    "    #print rf.score(X,y)\n",
    "    oob_predictions = rf.oob_decision_function_[:,1]\n",
    "    #print oob_predictions\n",
    "    \n",
    "    oob_predictions[ np.where( np.isnan(oob_predictions) == True)[0]] = 0\n",
    "    \n",
    "    #print oob_predictions\n",
    "    \n",
    "    print \"OOB ROC:\",roc_auc_score(y_true=y, y_score=oob_predictions)\n",
    "    fprOOB, tprOOB, _ = roc_curve(y_true=y,y_score=oob_predictions)\n",
    "    \n",
    "    y_pred = np.zeros((len(predictions)))\n",
    "    \n",
    "    pos_drugs_mapped = list()\n",
    "    for pos_drug in pos_controls:\n",
    "        if pos_drug not in drug_mapping:\n",
    "            continue\n",
    "        \n",
    "        pos_drugs_mapped.append(drug_mapping[pos_drug])\n",
    "        \n",
    "    for drugpair in all_drugpairs:         \n",
    "        for drug in drugpair:\n",
    "            if drug in pos_drugs_mapped:\n",
    "                y_pred[all_drugpairs.index(drugpair)] = 1\n",
    "                \n",
    "    pred_sorted = predictions_proba\n",
    "    \n",
    "    \n",
    "    top_ddi = sorted(zip(predictions_proba, all_drugpairs))[-50:]\n",
    "    top_ddi.reverse()\n",
    "    \n",
    "    #print top_ddi\n",
    "    \n",
    "    for prob, ddi in top_ddi:\n",
    "        idx = all_drugpairs.index(ddi)\n",
    "        #print all_drugpairs[idx], predictions_proba[idx]\n",
    "            \n",
    "    print \"Number of positive predictions:\",np.sum(y_pred)\n",
    "    \n",
    "    print \"Single-drug ROC:\",roc_auc_score(y_true=y_pred,y_score=predictions_proba)\n",
    "    \n",
    "    fprSD, tprSD, _ = roc_curve(y_true=y_pred,y_score=predictions_proba)\n",
    "    \n",
    "    sns.set(style='ticks', font_scale=1.4)\n",
    "    \n",
    "    plt.figure(figsize=(6,6))\n",
    "    plt.plot(fprSD,tprSD,label='One-of-pair (area= %0.2f)' % auc(fprSD,tprSD))\n",
    "    plt.plot(fprOOB,tprOOB,label='OOB (area= %0.2f)' % auc(fprOOB,tprOOB))\n",
    "    \n",
    "    plt.xlabel('False Positive Rate')\n",
    "    plt.ylabel('True Positive Rate')\n",
    "    \n",
    "    plt.legend(loc=\"lower right\")\n",
    "    \n",
    "    sns.despine()\n",
    "    \n",
    "    return top_ddi"
   ]
  },
  {
   "cell_type": "code",
   "execution_count": null,
   "metadata": {},
   "outputs": [],
   "source": [
    "top_ddi = drugpair_predictions(X,y,X_test)"
   ]
  },
  {
   "cell_type": "code",
   "execution_count": null,
   "metadata": {},
   "outputs": [],
   "source": [
    "# Pull the top prediction\n",
    "pair = top_ddi[10][1]\n",
    "\n",
    "patient_counts = list()\n",
    "\n",
    "for score, pair in top_ddi:\n",
    "    \n",
    "    drug1 = deltaqt_api([pair[0]])\n",
    "    drug2 = deltaqt_api([pair[1]])\n",
    "    pairdata = deltaqt_api(pair)\n",
    "    \n",
    "    patient_counts.append((len(pairdata['delta_qts']), len(drug1['delta_qts']), len(drug2['delta_qts']), pair))\n",
    "    \n",
    "    print \"%20s %20s %10d %10d %10d\" % (concept2name[pair[0]], concept2name[pair[1]], \n",
    "                                        len(pairdata['delta_qts']), \n",
    "                                        len(drug1['delta_qts']), \n",
    "                                        len(drug2['delta_qts']))"
   ]
  },
  {
   "cell_type": "code",
   "execution_count": null,
   "metadata": {},
   "outputs": [],
   "source": [
    "pair = sorted(patient_counts)[-1][-1]\n",
    "\n",
    "print pair\n",
    "\n",
    "drug1 = deltaqt_api([pair[0]])\n",
    "drug2 = deltaqt_api([pair[1]])\n",
    "pairdata = deltaqt_api(pair)"
   ]
  },
  {
   "cell_type": "code",
   "execution_count": null,
   "metadata": {},
   "outputs": [],
   "source": [
    "print \"Found %d patients with available ECG data exposed to %s and %s\" % \\\n",
    "    (len(pairdata['delta_qts']), concept2name[pair[0]], concept2name[pair[1]])\n",
    "\n",
    "print \"Found %d patients with available ECG data exposed to %s alone\" % \\\n",
    "    (len(drug1['delta_qts']), concept2name[pair[0]])\n",
    "\n",
    "print \"Found %d patients with available ECG data exposed to %s alone\" % \\\n",
    "    (len(drug2['delta_qts']), concept2name[pair[1]])\n"
   ]
  },
  {
   "cell_type": "code",
   "execution_count": null,
   "metadata": {},
   "outputs": [],
   "source": [
    "sns.set(style='ticks',font_scale=1.4)\n",
    "\n",
    "pair_exposed = [r['delta'] for r in pairdata['delta_qts']]\n",
    "d1_exposed = [r['delta'] for r in drug1['delta_qts']]\n",
    "d2_exposed = [r['delta'] for r in drug2['delta_qts']]\n",
    "\n",
    "print \"Combination vs %s: %s\" % (concept2name[pair[0]], stats.mannwhitneyu(pair_exposed, d1_exposed))\n",
    "print \"Combination vs %s: %s\" % (concept2name[pair[1]], stats.mannwhitneyu(pair_exposed, d2_exposed))\n",
    "print \"%s vs %s: %s\" % (concept2name[pair[0]], concept2name[pair[1]], stats.mannwhitneyu(d1_exposed, d2_exposed))\n",
    "\n",
    "plt.figure(figsize=(7,5))\n",
    "\n",
    "plt.hist(d1_exposed, bins=30, lw=1, alpha=.6, edgecolor='white', normed=True)\n",
    "plt.hist(d2_exposed, bins=30, lw=1, alpha=.6, edgecolor='white', normed=True)\n",
    "plt.hist(pair_exposed, bins=30, lw=1, alpha=.6, edgecolor='white', normed=True)\n",
    "\n",
    "plt.title('Response to %s + %s' % (concept2name[pair[0]], concept2name[pair[1]]))\n",
    "plt.xlabel('Change in QT')\n",
    "plt.ylabel('Frequency')\n",
    "\n",
    "plt.legend(['Combination', concept2name[pair[0]], concept2name[pair[1]]])\n",
    "\n",
    "sns.despine()"
   ]
  },
  {
   "cell_type": "markdown",
   "metadata": {},
   "source": [
    "<a id=\"step5\"></a>\n",
    "**Step 5.** Identify probable molecular mechanisms of action for the ddi"
   ]
  },
  {
   "cell_type": "markdown",
   "metadata": {},
   "source": [
    "<a id=\"step4\"></a>\n",
    "**Step 4.** Corroborate drug pair predictions using clinical data\n",
    "\n",
    "Currently only works for QT prolongation data using the http://deltaQT.org resource."
   ]
  },
  {
   "cell_type": "code",
   "execution_count": null,
   "metadata": {},
   "outputs": [],
   "source": [
    "pair[0], concept2rxnorm[pair[0]], pair[1], concept2rxnorm[pair[1]]"
   ]
  },
  {
   "cell_type": "code",
   "execution_count": null,
   "metadata": {},
   "outputs": [],
   "source": [
    "rxnorms2enzyme([str(concept2rxnorm[pair[0]])])"
   ]
  },
  {
   "cell_type": "code",
   "execution_count": null,
   "metadata": {},
   "outputs": [],
   "source": [
    "rxnorms2enzyme([str(concept2rxnorm[pair[1]])])"
   ]
  },
  {
   "cell_type": "code",
   "execution_count": 30,
   "metadata": {
    "scrolled": false
   },
   "outputs": [
    {
     "name": "stderr",
     "output_type": "stream",
     "text": [
      "\n",
      "\n",
      "\n",
      "\n",
      "\n",
      "\n",
      "  0%|          | 0/41 [00:00<?, ?it/s]\n",
      "\n",
      "\n",
      "\n",
      "\n"
     ]
    },
    {
     "name": "stdout",
     "output_type": "stream",
     "text": [
      "rxnorm id: 703\n",
      "atc code : C01BD01\n",
      "\n",
      "PREFIX dct: <http://purl.org/dc/terms/>\n",
      "SELECT distinct str(?phenotype_label) as ?pl\n",
      "WHERE {\n",
      "    ?drug <http://bio2rdf.org/drugbank_vocabulary:target> ?target ;\n",
      "        <http://bio2rdf.org/drugbank_vocabulary:x-atc> ?atc.\n",
      "    FILTER(?atc = <http://bio2rdf.org/atc:C01BD01>)\n",
      "\n",
      "    ?target <http://bio2rdf.org/drugbank_vocabulary:x-hgnc> ?hgnc .\n",
      "\n",
      "    ?hgnc <http://bio2rdf.org/hgnc_vocabulary:x-mgi> ?marker .\n",
      "\n",
      "    ?model <http://bio2rdf.org/mgi_vocabulary:marker> ?marker .\n",
      "    ?model <http://bio2rdf.org/mgi_vocabulary:allele> ?all .\n",
      "    ?all <http://bio2rdf.org/mgi_vocabulary:allele-attribute> ?allele_type .\n",
      "    ?model <http://bio2rdf.org/mgi_vocabulary:phenotype> ?phenotypes .\n",
      "    FILTER (str(?allele_type) = \"Null/knockout\")\n",
      "\n",
      "    ?p owl:sameAs ?phenotypes .\n",
      "    ?p rdfs:label ?phenotype_label .\n",
      "}\n",
      "        \n",
      "Bio2RDF Phenotypes\n",
      "abnormal cartilage development\n",
      "abnormal myocardial fiber morphology\n",
      "decreased body size\n",
      "abnormal vocalization\n",
      "abnormal blood vessel morphology\n",
      "abnormal cardiovascular system morphology\n",
      "increased vasoconstriction\n",
      "abnormal tracheal cartilage morphology\n",
      "cardiac fibrosis\n",
      "abnormal channel response\n",
      "abnormal arteriole morphology\n",
      "decreased heart rate\n",
      "trachea stenosis\n"
     ]
    },
    {
     "name": "stderr",
     "output_type": "stream",
     "text": [
      "\n",
      "\n",
      "\n",
      "\n",
      "\n",
      "\n",
      "  2%|▏         | 1/41 [00:03<02:23,  3.59s/it]"
     ]
    },
    {
     "name": "stdout",
     "output_type": "stream",
     "text": [
      "rxnorm id: 2556\n",
      "atc code : N06AB04\n",
      "\n",
      "PREFIX dct: <http://purl.org/dc/terms/>\n",
      "SELECT distinct str(?phenotype_label) as ?pl\n",
      "WHERE {\n",
      "    ?drug <http://bio2rdf.org/drugbank_vocabulary:target> ?target ;\n",
      "        <http://bio2rdf.org/drugbank_vocabulary:x-atc> ?atc.\n",
      "    FILTER(?atc = <http://bio2rdf.org/atc:N06AB04>)\n",
      "\n",
      "    ?target <http://bio2rdf.org/drugbank_vocabulary:x-hgnc> ?hgnc .\n",
      "\n",
      "    ?hgnc <http://bio2rdf.org/hgnc_vocabulary:x-mgi> ?marker .\n",
      "\n",
      "    ?model <http://bio2rdf.org/mgi_vocabulary:marker> ?marker .\n",
      "    ?model <http://bio2rdf.org/mgi_vocabulary:allele> ?all .\n",
      "    ?all <http://bio2rdf.org/mgi_vocabulary:allele-attribute> ?allele_type .\n",
      "    ?model <http://bio2rdf.org/mgi_vocabulary:phenotype> ?phenotypes .\n",
      "    FILTER (str(?allele_type) = \"Null/knockout\")\n",
      "\n",
      "    ?p owl:sameAs ?phenotypes .\n",
      "    ?p rdfs:label ?phenotype_label .\n",
      "}\n",
      "        \n",
      "Bio2RDF Phenotypes\n",
      "heart right ventricle hypertrophy\n",
      "abnormal heart valve morphology\n",
      "megacephaly\n",
      "abnormal pulmonary artery morphology\n",
      "abnormal social investigation\n",
      "social withdrawal\n",
      "abnormal anxiety-related response\n",
      "hyperactivity\n",
      "hypoactivity\n",
      "abnormal response to new environment\n",
      "decreased exploration in new environment\n",
      "abnormal sleep pattern\n",
      "hypotension\n",
      "abnormal body temperature homeostasis\n",
      "abnormal fear/anxiety-related behavior\n",
      "abnormal brain morphology\n",
      "increased brain weight\n",
      "abnormal thermal nociception\n",
      "abnormal barrel cortex morphology\n",
      "abnormal heart ventricle morphology\n",
      "behavioral despair\n",
      "dilated cardiomyopathy\n",
      "abnormal active avoidance behavior\n",
      "decreased vasoconstriction\n",
      "cardiac fibrosis\n",
      "abnormal response to novel object\n",
      "abnormal serotonergic neuron morphology\n",
      "decreased heart rate variability\n",
      "heart valve hyperplasia\n",
      "abnormal action potential\n",
      "decreased cardiac muscle contractility\n",
      "abnormal serotonin level\n",
      "increased right ventricle systolic pressure\n",
      "enhanced conditioned place preference behavior\n"
     ]
    },
    {
     "name": "stderr",
     "output_type": "stream",
     "text": [
      "\n",
      "\n",
      "\n",
      "\n",
      "\n",
      "\n",
      "  5%|▍         | 2/41 [00:06<02:13,  3.41s/it]"
     ]
    },
    {
     "name": "stdout",
     "output_type": "stream",
     "text": [
      "rxnorm id: 2599\n",
      "atc code : S01EA04\n",
      "\n",
      "PREFIX dct: <http://purl.org/dc/terms/>\n",
      "SELECT distinct str(?phenotype_label) as ?pl\n",
      "WHERE {\n",
      "    ?drug <http://bio2rdf.org/drugbank_vocabulary:target> ?target ;\n",
      "        <http://bio2rdf.org/drugbank_vocabulary:x-atc> ?atc.\n",
      "    FILTER(?atc = <http://bio2rdf.org/atc:S01EA04>)\n",
      "\n",
      "    ?target <http://bio2rdf.org/drugbank_vocabulary:x-hgnc> ?hgnc .\n",
      "\n",
      "    ?hgnc <http://bio2rdf.org/hgnc_vocabulary:x-mgi> ?marker .\n",
      "\n",
      "    ?model <http://bio2rdf.org/mgi_vocabulary:marker> ?marker .\n",
      "    ?model <http://bio2rdf.org/mgi_vocabulary:allele> ?all .\n",
      "    ?all <http://bio2rdf.org/mgi_vocabulary:allele-attribute> ?allele_type .\n",
      "    ?model <http://bio2rdf.org/mgi_vocabulary:phenotype> ?phenotypes .\n",
      "    FILTER (str(?allele_type) = \"Null/knockout\")\n",
      "\n",
      "    ?p owl:sameAs ?phenotypes .\n",
      "    ?p rdfs:label ?phenotype_label .\n",
      "}\n",
      "        \n",
      "Bio2RDF Phenotypes\n"
     ]
    },
    {
     "name": "stderr",
     "output_type": "stream",
     "text": [
      "\n",
      "\n",
      "\n",
      "\n",
      "\n",
      "\n",
      "  7%|▋         | 3/41 [00:09<02:00,  3.18s/it]"
     ]
    },
    {
     "name": "stdout",
     "output_type": "stream",
     "text": [
      "rxnorm id: 4053\n",
      "atc code : S01AA17\n",
      "\n",
      "PREFIX dct: <http://purl.org/dc/terms/>\n",
      "SELECT distinct str(?phenotype_label) as ?pl\n",
      "WHERE {\n",
      "    ?drug <http://bio2rdf.org/drugbank_vocabulary:target> ?target ;\n",
      "        <http://bio2rdf.org/drugbank_vocabulary:x-atc> ?atc.\n",
      "    FILTER(?atc = <http://bio2rdf.org/atc:S01AA17>)\n",
      "\n",
      "    ?target <http://bio2rdf.org/drugbank_vocabulary:x-hgnc> ?hgnc .\n",
      "\n",
      "    ?hgnc <http://bio2rdf.org/hgnc_vocabulary:x-mgi> ?marker .\n",
      "\n",
      "    ?model <http://bio2rdf.org/mgi_vocabulary:marker> ?marker .\n",
      "    ?model <http://bio2rdf.org/mgi_vocabulary:allele> ?all .\n",
      "    ?all <http://bio2rdf.org/mgi_vocabulary:allele-attribute> ?allele_type .\n",
      "    ?model <http://bio2rdf.org/mgi_vocabulary:phenotype> ?phenotypes .\n",
      "    FILTER (str(?allele_type) = \"Null/knockout\")\n",
      "\n",
      "    ?p owl:sameAs ?phenotypes .\n",
      "    ?p rdfs:label ?phenotype_label .\n",
      "}\n",
      "        \n",
      "Bio2RDF Phenotypes\n"
     ]
    },
    {
     "name": "stderr",
     "output_type": "stream",
     "text": [
      "\n",
      "\n",
      "\n",
      "\n",
      "\n",
      "\n",
      " 10%|▉         | 4/41 [00:11<01:50,  2.99s/it]"
     ]
    },
    {
     "name": "stdout",
     "output_type": "stream",
     "text": [
      "rxnorm id: 4278\n",
      "atc code : A02BA03\n",
      "\n",
      "PREFIX dct: <http://purl.org/dc/terms/>\n",
      "SELECT distinct str(?phenotype_label) as ?pl\n",
      "WHERE {\n",
      "    ?drug <http://bio2rdf.org/drugbank_vocabulary:target> ?target ;\n",
      "        <http://bio2rdf.org/drugbank_vocabulary:x-atc> ?atc.\n",
      "    FILTER(?atc = <http://bio2rdf.org/atc:A02BA03>)\n",
      "\n",
      "    ?target <http://bio2rdf.org/drugbank_vocabulary:x-hgnc> ?hgnc .\n",
      "\n",
      "    ?hgnc <http://bio2rdf.org/hgnc_vocabulary:x-mgi> ?marker .\n",
      "\n",
      "    ?model <http://bio2rdf.org/mgi_vocabulary:marker> ?marker .\n",
      "    ?model <http://bio2rdf.org/mgi_vocabulary:allele> ?all .\n",
      "    ?all <http://bio2rdf.org/mgi_vocabulary:allele-attribute> ?allele_type .\n",
      "    ?model <http://bio2rdf.org/mgi_vocabulary:phenotype> ?phenotypes .\n",
      "    FILTER (str(?allele_type) = \"Null/knockout\")\n",
      "\n",
      "    ?p owl:sameAs ?phenotypes .\n",
      "    ?p rdfs:label ?phenotype_label .\n",
      "}\n",
      "        \n",
      "Bio2RDF Phenotypes\n"
     ]
    },
    {
     "name": "stderr",
     "output_type": "stream",
     "text": [
      "\n",
      "\n",
      "\n",
      "\n",
      "\n",
      "\n",
      " 12%|█▏        | 5/41 [00:14<01:42,  2.86s/it]"
     ]
    },
    {
     "name": "stdout",
     "output_type": "stream",
     "text": [
      "rxnorm id: 25255\n",
      "atc code : R03AC13\n",
      "\n",
      "PREFIX dct: <http://purl.org/dc/terms/>\n",
      "SELECT distinct str(?phenotype_label) as ?pl\n",
      "WHERE {\n",
      "    ?drug <http://bio2rdf.org/drugbank_vocabulary:target> ?target ;\n",
      "        <http://bio2rdf.org/drugbank_vocabulary:x-atc> ?atc.\n",
      "    FILTER(?atc = <http://bio2rdf.org/atc:R03AC13>)\n",
      "\n",
      "    ?target <http://bio2rdf.org/drugbank_vocabulary:x-hgnc> ?hgnc .\n",
      "\n",
      "    ?hgnc <http://bio2rdf.org/hgnc_vocabulary:x-mgi> ?marker .\n",
      "\n",
      "    ?model <http://bio2rdf.org/mgi_vocabulary:marker> ?marker .\n",
      "    ?model <http://bio2rdf.org/mgi_vocabulary:allele> ?all .\n",
      "    ?all <http://bio2rdf.org/mgi_vocabulary:allele-attribute> ?allele_type .\n",
      "    ?model <http://bio2rdf.org/mgi_vocabulary:phenotype> ?phenotypes .\n",
      "    FILTER (str(?allele_type) = \"Null/knockout\")\n",
      "\n",
      "    ?p owl:sameAs ?phenotypes .\n",
      "    ?p rdfs:label ?phenotype_label .\n",
      "}\n",
      "        \n",
      "Bio2RDF Phenotypes\n",
      "decreased body weight\n",
      "abnormal retina morphology\n",
      "abnormal osteoclast physiology\n",
      "abnormal heart rate\n",
      "increased systemic arterial blood pressure\n",
      "abnormal bone resorption\n",
      "increased bone mass\n",
      "enhanced exercise endurance\n",
      "decreased mean systemic arterial blood pressure\n",
      "abnormal osteoclast morphology\n",
      "decreased bone resorption\n",
      "abnormal osteoblast physiology\n",
      "abnormal retinal ganglion layer morphology\n",
      "abnormal Muller cell morphology\n",
      "abnormal retinal apoptosis\n",
      "decreased retinal ganglion cell number\n",
      "abnormal epididymal fat pad morphology\n",
      "decreased respiratory quotient\n",
      "increased bone volume\n",
      "abnormal electroretinogram waveform feature\n",
      "decreased a wave amplitude\n",
      "decreased b wave amplitude\n",
      "abnormal osteoclast differentiation\n",
      "increased tumor necrosis factor secretion\n"
     ]
    },
    {
     "name": "stderr",
     "output_type": "stream",
     "text": [
      "\n",
      "\n",
      "\n",
      "\n",
      "\n",
      "\n",
      " 15%|█▍        | 6/41 [00:17<01:41,  2.89s/it]"
     ]
    },
    {
     "name": "stdout",
     "output_type": "stream",
     "text": [
      "rxnorm id: 4637\n",
      "atc code : N06DA04\n",
      "\n",
      "PREFIX dct: <http://purl.org/dc/terms/>\n",
      "SELECT distinct str(?phenotype_label) as ?pl\n",
      "WHERE {\n",
      "    ?drug <http://bio2rdf.org/drugbank_vocabulary:target> ?target ;\n",
      "        <http://bio2rdf.org/drugbank_vocabulary:x-atc> ?atc.\n",
      "    FILTER(?atc = <http://bio2rdf.org/atc:N06DA04>)\n",
      "\n",
      "    ?target <http://bio2rdf.org/drugbank_vocabulary:x-hgnc> ?hgnc .\n",
      "\n",
      "    ?hgnc <http://bio2rdf.org/hgnc_vocabulary:x-mgi> ?marker .\n",
      "\n",
      "    ?model <http://bio2rdf.org/mgi_vocabulary:marker> ?marker .\n",
      "    ?model <http://bio2rdf.org/mgi_vocabulary:allele> ?all .\n",
      "    ?all <http://bio2rdf.org/mgi_vocabulary:allele-attribute> ?allele_type .\n",
      "    ?model <http://bio2rdf.org/mgi_vocabulary:phenotype> ?phenotypes .\n",
      "    FILTER (str(?allele_type) = \"Null/knockout\")\n",
      "\n",
      "    ?p owl:sameAs ?phenotypes .\n",
      "    ?p rdfs:label ?phenotype_label .\n",
      "}\n",
      "        \n",
      "Bio2RDF Phenotypes\n",
      "delayed ear emergence\n",
      "decreased neutrophil cell number\n",
      "abnormal urinary bladder morphology\n",
      "tremors\n",
      "weakness\n",
      "muscle weakness\n",
      "abnormal cerebral cortex morphology\n",
      "abnormal superior colliculus morphology\n",
      "abnormal seizure response to pharmacological agent\n",
      "abnormal sensory neuron innervation pattern\n",
      "decreased body weight\n",
      "decreased body size\n",
      "abnormal pupil morphology\n",
      "abnormal social investigation\n",
      "decreased anxiety-related response\n",
      "circling\n",
      "hyperactivity\n",
      "abnormal gait\n",
      "abnormal response to new environment\n",
      "abnormal spatial learning\n",
      "abnormal startle reflex\n",
      "increased startle reflex\n",
      "abnormal posture\n",
      "hunched posture\n",
      "impaired righting response\n",
      "abnormal vocalization\n",
      "abnormal body temperature homeostasis\n",
      "decreased white adipose tissue amount\n",
      "abnormal immune system physiology\n",
      "decreased IgG level\n",
      "reduced fertility\n",
      "reduced female fertility\n",
      "infertility\n",
      "decreased litter size\n",
      "abnormal respiration\n",
      "apnea\n",
      "decreased chemically-elicited antinociception\n",
      "seizures\n",
      "abnormal glucose homeostasis\n",
      "premature death\n",
      "abnormal brain morphology\n",
      "no abnormal phenotype detected\n",
      "abnormal nervous system electrophysiology\n",
      "abnormal tidal volume\n",
      "abnormal respiratory function\n",
      "abnormal pulmonary ventilation\n",
      "decreased immunoglobulin level\n",
      "abnormal response to novelty\n",
      "abnormal involuntary movement\n",
      "abnormal behavior\n",
      "increased pulmonary ventilation\n",
      "abnormal cerebrum morphology\n",
      "abnormal urinary bladder physiology\n",
      "abnormal myeloblast morphology/development\n",
      "abnormal immunoglobulin level\n",
      "increased IgG level\n",
      "asthenozoospermia\n",
      "decreased susceptibility to pharmacologically induced seizures\n",
      "decreased circulating alkaline phosphatase level\n",
      "abnormal GABAergic neuron morphology\n",
      "increased lean body mass\n",
      "impaired passive avoidance behavior\n",
      "abnormal GABA-mediated receptor currents\n",
      "abnormal brain interneuron morphology\n",
      "abnormal respiratory quotient\n",
      "abnormal lateral geniculate nucleus morphology\n",
      "abnormal sympathetic nervous system physiology\n",
      "decreased susceptibility to injury\n",
      "abnormal eye electrophysiology\n",
      "impaired exercise endurance\n",
      "abnormal cochlear nerve compound action potential\n",
      "abnormal cochlear outer hair cell physiology\n",
      "abnormal cochlear OHC efferent innervation pattern\n",
      "abnormal cochlear IHC efferent innervation pattern\n",
      "abnormal distortion product otoacoustic emission\n",
      "decreased CNS synapse formation\n",
      "increased lymphocyte cell number\n",
      "decreased B cell number\n",
      "increased B cell proliferation\n",
      "eyelids fail to open\n",
      "decreased body temperature\n",
      "increased tidal volume\n",
      "decreased tidal volume\n",
      "decreased visual acuity\n",
      "decreased NK cell number\n",
      "increased mature B cell number\n",
      "increased physiological sensitivity to xenobiotic\n",
      "decreased grip strength\n",
      "myeloid hyperplasia\n",
      "complete postnatal lethality\n",
      "partial prenatal lethality\n",
      "abnormal airway basal cell differentiation\n",
      "airway basal cell hyperplasia\n",
      "decreased erythroblast number\n",
      "abnormal GABAergic neuron physiology\n",
      "enhanced spatial learning\n",
      "abnormal spatial working memory\n",
      "slow postnatal weight gain\n",
      "impaired olfaction\n",
      "abnormal interleukin level\n",
      "abnormal tumor necrosis factor level\n",
      "decreased survivor rate\n",
      "abnormal physiological response to xenobiotic\n",
      "prolonged estrous cycle\n",
      "decreased prepulse inhibition\n",
      "abnormal nicotine-mediated receptor currents\n",
      "increased sensitivity to xenobiotic induced morbidity/mortality\n",
      "abnormal cerebral cortex pyramidal cell morphology\n",
      "decreased total body fat amount\n"
     ]
    },
    {
     "name": "stderr",
     "output_type": "stream",
     "text": [
      "\n",
      "\n",
      "\n",
      "\n",
      "\n",
      "\n",
      " 17%|█▋        | 7/41 [00:20<01:42,  3.01s/it]"
     ]
    },
    {
     "name": "stdout",
     "output_type": "stream",
     "text": [
      "rxnorm id: 3423\n",
      "atc code : N02AA03\n",
      "\n",
      "PREFIX dct: <http://purl.org/dc/terms/>\n",
      "SELECT distinct str(?phenotype_label) as ?pl\n",
      "WHERE {\n",
      "    ?drug <http://bio2rdf.org/drugbank_vocabulary:target> ?target ;\n",
      "        <http://bio2rdf.org/drugbank_vocabulary:x-atc> ?atc.\n",
      "    FILTER(?atc = <http://bio2rdf.org/atc:N02AA03>)\n",
      "\n",
      "    ?target <http://bio2rdf.org/drugbank_vocabulary:x-hgnc> ?hgnc .\n",
      "\n",
      "    ?hgnc <http://bio2rdf.org/hgnc_vocabulary:x-mgi> ?marker .\n",
      "\n",
      "    ?model <http://bio2rdf.org/mgi_vocabulary:marker> ?marker .\n",
      "    ?model <http://bio2rdf.org/mgi_vocabulary:allele> ?all .\n",
      "    ?all <http://bio2rdf.org/mgi_vocabulary:allele-attribute> ?allele_type .\n",
      "    ?model <http://bio2rdf.org/mgi_vocabulary:phenotype> ?phenotypes .\n",
      "    FILTER (str(?allele_type) = \"Null/knockout\")\n",
      "\n",
      "    ?p owl:sameAs ?phenotypes .\n",
      "    ?p rdfs:label ?phenotype_label .\n",
      "}\n",
      "        \n",
      "Bio2RDF Phenotypes\n"
     ]
    },
    {
     "ename": "URLError",
     "evalue": "<urlopen error [Errno 10060] A connection attempt failed because the connected party did not properly respond after a period of time, or established connection failed because connected host has failed to respond>",
     "output_type": "error",
     "traceback": [
      "\u001b[1;31m\u001b[0m",
      "\u001b[1;31mURLError\u001b[0mTraceback (most recent call last)",
      "\u001b[1;32m<ipython-input-30-cfb2d995862c>\u001b[0m in \u001b[0;36m<module>\u001b[1;34m()\u001b[0m\n\u001b[0;32m     36\u001b[0m         \u001b[1;32mprint\u001b[0m \u001b[1;34m'Bio2RDF Phenotypes'\u001b[0m\u001b[1;33m\u001b[0m\u001b[0m\n\u001b[0;32m     37\u001b[0m         \u001b[0msparql\u001b[0m\u001b[1;33m.\u001b[0m\u001b[0msetReturnFormat\u001b[0m\u001b[1;33m(\u001b[0m\u001b[0mJSON\u001b[0m\u001b[1;33m)\u001b[0m\u001b[1;33m\u001b[0m\u001b[0m\n\u001b[1;32m---> 38\u001b[1;33m         \u001b[0mresults\u001b[0m \u001b[1;33m=\u001b[0m \u001b[0msparql\u001b[0m\u001b[1;33m.\u001b[0m\u001b[0mquery\u001b[0m\u001b[1;33m(\u001b[0m\u001b[1;33m)\u001b[0m\u001b[1;33m.\u001b[0m\u001b[0mconvert\u001b[0m\u001b[1;33m(\u001b[0m\u001b[1;33m)\u001b[0m\u001b[1;33m\u001b[0m\u001b[0m\n\u001b[0m\u001b[0;32m     39\u001b[0m         \u001b[1;32mfor\u001b[0m \u001b[0mresult\u001b[0m \u001b[1;32min\u001b[0m \u001b[0mresults\u001b[0m\u001b[1;33m[\u001b[0m\u001b[1;34m\"results\"\u001b[0m\u001b[1;33m]\u001b[0m\u001b[1;33m[\u001b[0m\u001b[1;34m\"bindings\"\u001b[0m\u001b[1;33m]\u001b[0m\u001b[1;33m:\u001b[0m\u001b[1;33m\u001b[0m\u001b[0m\n\u001b[0;32m     40\u001b[0m             \u001b[1;32mprint\u001b[0m \u001b[0mresult\u001b[0m\u001b[1;33m[\u001b[0m\u001b[1;34m\"pl\"\u001b[0m\u001b[1;33m]\u001b[0m\u001b[1;33m[\u001b[0m\u001b[1;34m\"value\"\u001b[0m\u001b[1;33m]\u001b[0m\u001b[1;33m\u001b[0m\u001b[0m\n",
      "\u001b[1;32mC:\\ProgramData\\Anaconda2\\lib\\site-packages\\SPARQLWrapper\\Wrapper.pyc\u001b[0m in \u001b[0;36mquery\u001b[1;34m(self)\u001b[0m\n\u001b[0;32m    565\u001b[0m             \u001b[1;33m@\u001b[0m\u001b[0mrtype\u001b[0m\u001b[1;33m:\u001b[0m \u001b[0mL\u001b[0m\u001b[1;33m{\u001b[0m\u001b[0mQueryResult\u001b[0m\u001b[1;33m}\u001b[0m \u001b[0minstance\u001b[0m\u001b[1;33m\u001b[0m\u001b[0m\n\u001b[0;32m    566\u001b[0m         \"\"\"\n\u001b[1;32m--> 567\u001b[1;33m         \u001b[1;32mreturn\u001b[0m \u001b[0mQueryResult\u001b[0m\u001b[1;33m(\u001b[0m\u001b[0mself\u001b[0m\u001b[1;33m.\u001b[0m\u001b[0m_query\u001b[0m\u001b[1;33m(\u001b[0m\u001b[1;33m)\u001b[0m\u001b[1;33m)\u001b[0m\u001b[1;33m\u001b[0m\u001b[0m\n\u001b[0m\u001b[0;32m    568\u001b[0m \u001b[1;33m\u001b[0m\u001b[0m\n\u001b[0;32m    569\u001b[0m     \u001b[1;32mdef\u001b[0m \u001b[0mqueryAndConvert\u001b[0m\u001b[1;33m(\u001b[0m\u001b[0mself\u001b[0m\u001b[1;33m)\u001b[0m\u001b[1;33m:\u001b[0m\u001b[1;33m\u001b[0m\u001b[0m\n",
      "\u001b[1;32mC:\\ProgramData\\Anaconda2\\lib\\site-packages\\SPARQLWrapper\\Wrapper.pyc\u001b[0m in \u001b[0;36m_query\u001b[1;34m(self)\u001b[0m\n\u001b[0;32m    535\u001b[0m \u001b[1;33m\u001b[0m\u001b[0m\n\u001b[0;32m    536\u001b[0m         \u001b[1;32mtry\u001b[0m\u001b[1;33m:\u001b[0m\u001b[1;33m\u001b[0m\u001b[0m\n\u001b[1;32m--> 537\u001b[1;33m             \u001b[0mresponse\u001b[0m \u001b[1;33m=\u001b[0m \u001b[0murlopener\u001b[0m\u001b[1;33m(\u001b[0m\u001b[0mrequest\u001b[0m\u001b[1;33m)\u001b[0m\u001b[1;33m\u001b[0m\u001b[0m\n\u001b[0m\u001b[0;32m    538\u001b[0m             \u001b[1;32mreturn\u001b[0m \u001b[0mresponse\u001b[0m\u001b[1;33m,\u001b[0m \u001b[0mself\u001b[0m\u001b[1;33m.\u001b[0m\u001b[0mreturnFormat\u001b[0m\u001b[1;33m\u001b[0m\u001b[0m\n\u001b[0;32m    539\u001b[0m         \u001b[1;32mexcept\u001b[0m \u001b[0murllib2\u001b[0m\u001b[1;33m.\u001b[0m\u001b[0mHTTPError\u001b[0m\u001b[1;33m,\u001b[0m \u001b[0me\u001b[0m\u001b[1;33m:\u001b[0m\u001b[1;33m\u001b[0m\u001b[0m\n",
      "\u001b[1;32mC:\\ProgramData\\Anaconda2\\lib\\urllib2.pyc\u001b[0m in \u001b[0;36murlopen\u001b[1;34m(url, data, timeout, cafile, capath, cadefault, context)\u001b[0m\n\u001b[0;32m    152\u001b[0m     \u001b[1;32melse\u001b[0m\u001b[1;33m:\u001b[0m\u001b[1;33m\u001b[0m\u001b[0m\n\u001b[0;32m    153\u001b[0m         \u001b[0mopener\u001b[0m \u001b[1;33m=\u001b[0m \u001b[0m_opener\u001b[0m\u001b[1;33m\u001b[0m\u001b[0m\n\u001b[1;32m--> 154\u001b[1;33m     \u001b[1;32mreturn\u001b[0m \u001b[0mopener\u001b[0m\u001b[1;33m.\u001b[0m\u001b[0mopen\u001b[0m\u001b[1;33m(\u001b[0m\u001b[0murl\u001b[0m\u001b[1;33m,\u001b[0m \u001b[0mdata\u001b[0m\u001b[1;33m,\u001b[0m \u001b[0mtimeout\u001b[0m\u001b[1;33m)\u001b[0m\u001b[1;33m\u001b[0m\u001b[0m\n\u001b[0m\u001b[0;32m    155\u001b[0m \u001b[1;33m\u001b[0m\u001b[0m\n\u001b[0;32m    156\u001b[0m \u001b[1;32mdef\u001b[0m \u001b[0minstall_opener\u001b[0m\u001b[1;33m(\u001b[0m\u001b[0mopener\u001b[0m\u001b[1;33m)\u001b[0m\u001b[1;33m:\u001b[0m\u001b[1;33m\u001b[0m\u001b[0m\n",
      "\u001b[1;32mC:\\ProgramData\\Anaconda2\\lib\\urllib2.pyc\u001b[0m in \u001b[0;36mopen\u001b[1;34m(self, fullurl, data, timeout)\u001b[0m\n\u001b[0;32m    427\u001b[0m             \u001b[0mreq\u001b[0m \u001b[1;33m=\u001b[0m \u001b[0mmeth\u001b[0m\u001b[1;33m(\u001b[0m\u001b[0mreq\u001b[0m\u001b[1;33m)\u001b[0m\u001b[1;33m\u001b[0m\u001b[0m\n\u001b[0;32m    428\u001b[0m \u001b[1;33m\u001b[0m\u001b[0m\n\u001b[1;32m--> 429\u001b[1;33m         \u001b[0mresponse\u001b[0m \u001b[1;33m=\u001b[0m \u001b[0mself\u001b[0m\u001b[1;33m.\u001b[0m\u001b[0m_open\u001b[0m\u001b[1;33m(\u001b[0m\u001b[0mreq\u001b[0m\u001b[1;33m,\u001b[0m \u001b[0mdata\u001b[0m\u001b[1;33m)\u001b[0m\u001b[1;33m\u001b[0m\u001b[0m\n\u001b[0m\u001b[0;32m    430\u001b[0m \u001b[1;33m\u001b[0m\u001b[0m\n\u001b[0;32m    431\u001b[0m         \u001b[1;31m# post-process response\u001b[0m\u001b[1;33m\u001b[0m\u001b[1;33m\u001b[0m\u001b[0m\n",
      "\u001b[1;32mC:\\ProgramData\\Anaconda2\\lib\\urllib2.pyc\u001b[0m in \u001b[0;36m_open\u001b[1;34m(self, req, data)\u001b[0m\n\u001b[0;32m    445\u001b[0m         \u001b[0mprotocol\u001b[0m \u001b[1;33m=\u001b[0m \u001b[0mreq\u001b[0m\u001b[1;33m.\u001b[0m\u001b[0mget_type\u001b[0m\u001b[1;33m(\u001b[0m\u001b[1;33m)\u001b[0m\u001b[1;33m\u001b[0m\u001b[0m\n\u001b[0;32m    446\u001b[0m         result = self._call_chain(self.handle_open, protocol, protocol +\n\u001b[1;32m--> 447\u001b[1;33m                                   '_open', req)\n\u001b[0m\u001b[0;32m    448\u001b[0m         \u001b[1;32mif\u001b[0m \u001b[0mresult\u001b[0m\u001b[1;33m:\u001b[0m\u001b[1;33m\u001b[0m\u001b[0m\n\u001b[0;32m    449\u001b[0m             \u001b[1;32mreturn\u001b[0m \u001b[0mresult\u001b[0m\u001b[1;33m\u001b[0m\u001b[0m\n",
      "\u001b[1;32mC:\\ProgramData\\Anaconda2\\lib\\urllib2.pyc\u001b[0m in \u001b[0;36m_call_chain\u001b[1;34m(self, chain, kind, meth_name, *args)\u001b[0m\n\u001b[0;32m    405\u001b[0m             \u001b[0mfunc\u001b[0m \u001b[1;33m=\u001b[0m \u001b[0mgetattr\u001b[0m\u001b[1;33m(\u001b[0m\u001b[0mhandler\u001b[0m\u001b[1;33m,\u001b[0m \u001b[0mmeth_name\u001b[0m\u001b[1;33m)\u001b[0m\u001b[1;33m\u001b[0m\u001b[0m\n\u001b[0;32m    406\u001b[0m \u001b[1;33m\u001b[0m\u001b[0m\n\u001b[1;32m--> 407\u001b[1;33m             \u001b[0mresult\u001b[0m \u001b[1;33m=\u001b[0m \u001b[0mfunc\u001b[0m\u001b[1;33m(\u001b[0m\u001b[1;33m*\u001b[0m\u001b[0margs\u001b[0m\u001b[1;33m)\u001b[0m\u001b[1;33m\u001b[0m\u001b[0m\n\u001b[0m\u001b[0;32m    408\u001b[0m             \u001b[1;32mif\u001b[0m \u001b[0mresult\u001b[0m \u001b[1;32mis\u001b[0m \u001b[1;32mnot\u001b[0m \u001b[0mNone\u001b[0m\u001b[1;33m:\u001b[0m\u001b[1;33m\u001b[0m\u001b[0m\n\u001b[0;32m    409\u001b[0m                 \u001b[1;32mreturn\u001b[0m \u001b[0mresult\u001b[0m\u001b[1;33m\u001b[0m\u001b[0m\n",
      "\u001b[1;32mC:\\ProgramData\\Anaconda2\\lib\\urllib2.pyc\u001b[0m in \u001b[0;36mhttp_open\u001b[1;34m(self, req)\u001b[0m\n\u001b[0;32m   1226\u001b[0m \u001b[1;33m\u001b[0m\u001b[0m\n\u001b[0;32m   1227\u001b[0m     \u001b[1;32mdef\u001b[0m \u001b[0mhttp_open\u001b[0m\u001b[1;33m(\u001b[0m\u001b[0mself\u001b[0m\u001b[1;33m,\u001b[0m \u001b[0mreq\u001b[0m\u001b[1;33m)\u001b[0m\u001b[1;33m:\u001b[0m\u001b[1;33m\u001b[0m\u001b[0m\n\u001b[1;32m-> 1228\u001b[1;33m         \u001b[1;32mreturn\u001b[0m \u001b[0mself\u001b[0m\u001b[1;33m.\u001b[0m\u001b[0mdo_open\u001b[0m\u001b[1;33m(\u001b[0m\u001b[0mhttplib\u001b[0m\u001b[1;33m.\u001b[0m\u001b[0mHTTPConnection\u001b[0m\u001b[1;33m,\u001b[0m \u001b[0mreq\u001b[0m\u001b[1;33m)\u001b[0m\u001b[1;33m\u001b[0m\u001b[0m\n\u001b[0m\u001b[0;32m   1229\u001b[0m \u001b[1;33m\u001b[0m\u001b[0m\n\u001b[0;32m   1230\u001b[0m     \u001b[0mhttp_request\u001b[0m \u001b[1;33m=\u001b[0m \u001b[0mAbstractHTTPHandler\u001b[0m\u001b[1;33m.\u001b[0m\u001b[0mdo_request_\u001b[0m\u001b[1;33m\u001b[0m\u001b[0m\n",
      "\u001b[1;32mC:\\ProgramData\\Anaconda2\\lib\\urllib2.pyc\u001b[0m in \u001b[0;36mdo_open\u001b[1;34m(self, http_class, req, **http_conn_args)\u001b[0m\n\u001b[0;32m   1196\u001b[0m         \u001b[1;32mexcept\u001b[0m \u001b[0msocket\u001b[0m\u001b[1;33m.\u001b[0m\u001b[0merror\u001b[0m\u001b[1;33m,\u001b[0m \u001b[0merr\u001b[0m\u001b[1;33m:\u001b[0m \u001b[1;31m# XXX what error?\u001b[0m\u001b[1;33m\u001b[0m\u001b[0m\n\u001b[0;32m   1197\u001b[0m             \u001b[0mh\u001b[0m\u001b[1;33m.\u001b[0m\u001b[0mclose\u001b[0m\u001b[1;33m(\u001b[0m\u001b[1;33m)\u001b[0m\u001b[1;33m\u001b[0m\u001b[0m\n\u001b[1;32m-> 1198\u001b[1;33m             \u001b[1;32mraise\u001b[0m \u001b[0mURLError\u001b[0m\u001b[1;33m(\u001b[0m\u001b[0merr\u001b[0m\u001b[1;33m)\u001b[0m\u001b[1;33m\u001b[0m\u001b[0m\n\u001b[0m\u001b[0;32m   1199\u001b[0m         \u001b[1;32melse\u001b[0m\u001b[1;33m:\u001b[0m\u001b[1;33m\u001b[0m\u001b[0m\n\u001b[0;32m   1200\u001b[0m             \u001b[1;32mtry\u001b[0m\u001b[1;33m:\u001b[0m\u001b[1;33m\u001b[0m\u001b[0m\n",
      "\u001b[1;31mURLError\u001b[0m: <urlopen error [Errno 10060] A connection attempt failed because the connected party did not properly respond after a period of time, or established connection failed because connected host has failed to respond>"
     ]
    }
   ],
   "source": [
    "for drugname, causes_ae in tqdm(reference_byname):\n",
    "    \n",
    "    rxnorms = name2rxnorm(drugname)\n",
    "    for rxnorm in rxnorms:\n",
    "        atccode = urllib2.urlopen('https://amalic.stdlib.com/rxnorm2atc@dev/?rxcui=' + rxnorm).read().strip(\"\\\"\")\n",
    "        print 'rxnorm id: ' + rxnorm \n",
    "        print 'atc code : ' + atccode\n",
    "\n",
    "        sparql = SPARQLWrapper(\"http://bio2rdf.org/sparql\")\n",
    "        query = \"\"\"\n",
    "PREFIX dct: <http://purl.org/dc/terms/>\n",
    "SELECT distinct str(?phenotype_label) as ?pl\n",
    "WHERE {\n",
    "    ?drug <http://bio2rdf.org/drugbank_vocabulary:target> ?target ;\n",
    "        <http://bio2rdf.org/drugbank_vocabulary:x-atc> ?atc.\n",
    "    FILTER(?atc = <http://bio2rdf.org/atc:\"\"\" + atccode + \"\"\">)\n",
    "\n",
    "    ?target <http://bio2rdf.org/drugbank_vocabulary:x-hgnc> ?hgnc .\n",
    "\n",
    "    ?hgnc <http://bio2rdf.org/hgnc_vocabulary:x-mgi> ?marker .\n",
    "\n",
    "    ?model <http://bio2rdf.org/mgi_vocabulary:marker> ?marker .\n",
    "    ?model <http://bio2rdf.org/mgi_vocabulary:allele> ?all .\n",
    "    ?all <http://bio2rdf.org/mgi_vocabulary:allele-attribute> ?allele_type .\n",
    "    ?model <http://bio2rdf.org/mgi_vocabulary:phenotype> ?phenotypes .\n",
    "    FILTER (str(?allele_type) = \"Null/knockout\")\n",
    "\n",
    "    ?p owl:sameAs ?phenotypes .\n",
    "    ?p rdfs:label ?phenotype_label .\n",
    "}\n",
    "        \"\"\"\n",
    "        print query\n",
    "        sparql.setQuery(query)\n",
    "\n",
    "        # *** JSON Example\n",
    "        print 'Bio2RDF Phenotypes'\n",
    "        sparql.setReturnFormat(JSON)\n",
    "        results = sparql.query().convert()\n",
    "        for result in results[\"results\"][\"bindings\"]:\n",
    "            print result[\"pl\"][\"value\"]\n",
    "\n",
    "        # *** N3 Example\n",
    "        #sparql.setReturnFormat(N3)\n",
    "        #results = sparql.query().convert()\n",
    "        #print results\n",
    "\n",
    "        # *** XML Example\n",
    "        #sparql.setReturnFormat(XML)\n",
    "        #results = sparql.query().convert()\n",
    "        #print results.toxml()"
   ]
  },
  {
   "cell_type": "code",
   "execution_count": null,
   "metadata": {
    "collapsed": true
   },
   "outputs": [],
   "source": []
  }
 ],
 "metadata": {
  "kernelspec": {
   "display_name": "Python 2",
   "language": "python",
   "name": "python2"
  },
  "language_info": {
   "codemirror_mode": {
    "name": "ipython",
    "version": 2
   },
   "file_extension": ".py",
   "mimetype": "text/x-python",
   "name": "python",
   "nbconvert_exporter": "python",
   "pygments_lexer": "ipython2",
   "version": "2.7.13"
  }
 },
 "nbformat": 4,
 "nbformat_minor": 1
}
