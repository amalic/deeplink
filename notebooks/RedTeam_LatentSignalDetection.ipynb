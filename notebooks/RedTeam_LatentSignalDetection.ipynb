{
 "cells": [
  {
   "cell_type": "markdown",
   "metadata": {},
   "source": [
    "## Latent Signal Detection\n",
    "\n",
    "A \"blackboard\" style re-implementation of a drug-drug interaction discovery pipeline.\n",
    "\n",
    "1. [Retrieve a reference set of drugs known to cause the **adverse event of interest**](#step1)\n",
    "2. [Retrieve adverse event report data for these and a set of control drugs](#step2)\n",
    "3. [Build a latent signal detection model on the reference set and predict DDIs](#step3)\n",
    "4. [Corroborate putative ddis with clinical data](#step4) \n",
    "5. [Identify probable molecular mechanisms of action for the ddi](#step5)\n",
    "6. _Retrieve related model systems (cell or animal models) that could be used to test the ddi predictions experimentally_\n"
   ]
  },
  {
   "cell_type": "code",
   "execution_count": null,
   "metadata": {
    "collapsed": true
   },
   "outputs": [],
   "source": [
    "import csv\n",
    "import gzip\n",
    "import tqdm\n",
    "import json\n",
    "import heapq\n",
    "import random\n",
    "import urllib2\n",
    "import requests\n",
    "\n",
    "import numpy as np\n",
    "import seaborn as sns\n",
    "import matplotlib.pyplot as plt\n",
    "\n",
    "from tqdm import tqdm\n",
    "from scipy import stats\n",
    "from collections import defaultdict\n",
    "from biothings_client import get_client\n",
    "\n",
    "#from Authentication import *\n",
    "\n",
    "from sklearn.ensemble import RandomForestClassifier\n",
    "from sklearn.metrics import roc_auc_score, roc_curve, auc\n",
    "from urllib2 import Request, urlopen, URLError, build_opener\n",
    "\n",
    "from SPARQLWrapper import SPARQLWrapper, JSON, XML, N3, RDF\n",
    "\n",
    "%matplotlib inline\n",
    "\n",
    "# Authentication Module\n",
    "#get the tgt corresponding to the apikey\n",
    "def get_tgt(apikey):\n",
    "    tgt = requests.post(\"https://utslogin.nlm.nih.gov/cas/v1/api-key\", data = {'apikey':apikey})\n",
    "    TGT = tgt.content.split()[20]\n",
    "    TGT = TGT[52:+len(TGT)-1]\n",
    "    return TGT\n",
    "#get a ticket corresponding to the tgt\n",
    "def get_ticket(tgt):\n",
    "    uri_login = \"https://utslogin.nlm.nih.gov/cas/v1/tickets/\" + tgt\n",
    "    ticket = requests.post(uri_login, data = {'service':'http://umlsks.nlm.nih.gov'})\n",
    "    return ticket.content"
   ]
  },
  {
   "cell_type": "code",
   "execution_count": null,
   "metadata": {
    "collapsed": true
   },
   "outputs": [],
   "source": [
    "ADVERSE_EVENT_OF_INTEREST = 'qt prolonged'\n",
    "#ADVERSE_EVENT_OF_INTEREST = 'Myocardial_Infarction'\n",
    "\n",
    "# DEPRECATED\n",
    "#ADVERSE_EVENT_OF_INTEREST = 'C0151878'"
   ]
  },
  {
   "cell_type": "markdown",
   "metadata": {},
   "source": [
    "<a id='step1'></a>\n",
    "**Step 1.** Given AE of interest build a set of reference drugs\n",
    "\n",
    "ADVERSE_EVENT_OF_INTEREST may be a free text term like \"QT prolonged\" or one of the followed coded terms:\n",
    "1. Myocardial_Infarction\n",
    "2. Gastrointestinal_Bleeding\n",
    "3. Kidney_Damage\n",
    "4. Liver_Damage"
   ]
  },
  {
   "cell_type": "code",
   "execution_count": null,
   "metadata": {
    "collapsed": true
   },
   "outputs": [],
   "source": [
    "# get mydrug client\n",
    "md = get_client('drug')\n",
    "mg = get_client('gene')\n",
    "\n",
    "def names2rxnorm(drug_name_list):\n",
    "    results = {}\n",
    "    for _drug in drug_name_list:\n",
    "        query_term = 'aeolus.drug_name:' + _drug\n",
    "        _result = md.query(query_term, fields='aeolus.drug_code')\n",
    "        if _result['hits'] != []:\n",
    "            results[_drug] = [_record['aeolus']['drug_code'] for _record in _result['hits']]\n",
    "        else:\n",
    "            results[_drug] = []\n",
    "    return results\n",
    "\n",
    "def rxnorms2enzyme(rxnorm_list):\n",
    "    results = {}\n",
    "    for _rxnorm in rxnorm_list:\n",
    "        query_term = 'aeolus.drug_code:' + _rxnorm\n",
    "        _result = md.query(query_term, fields='drugbank.enzymes.name, drugbank.enzymes.uniprot')\n",
    "        if _result['hits'] != []:\n",
    "            results[_rxnorm] = [_record['drugbank'] for _record in _result['hits']]\n",
    "        else:\n",
    "            results[_rxnorm] = []\n",
    "    return results\n",
    "\n",
    "def rxnorms2enzymes(rxnorm_list):\n",
    "    results = {}\n",
    "    for _rxnorm in rxnorm_list:\n",
    "        query_term = 'aeolus.drug_code:' + _rxnorm\n",
    "        _result = md.query(query_term, fields='drugbank.enzymes.uniprot')\n",
    "        if 'hits' in _result:\n",
    "            results[_rxnorm] = [_record['uniprot'] for _record in _result['hits'][0]['drugbank']['enzymes']]\n",
    "        else:\n",
    "            results[_rxnorm] = ['no results found']\n",
    "    return results\n",
    "\n",
    "def compareenzymes(drug_name_list):\n",
    "    results = rxnorms2enzymes(drug_name_list)\n",
    "    uniprot_list = []\n",
    "    for drug, uniprot in results.items():\n",
    "        uniprot_list.append(uniprot)\n",
    "    overlap = list(set(uniprot_list[0]) & set(uniprot_list[1]))\n",
    "    if overlap:\n",
    "        return {'overlap': overlap}\n",
    "    else:\n",
    "        print('no overlap')\n",
    "\n",
    "def uniprot2symbol(uniprot_id_list):\n",
    "    results = [['uniprot_id', 'gene_name', 'gene_symbol']]\n",
    "    for _uniprot in uniprot_id_list:\n",
    "        query_term = 'uniprot.Swiss-Prot:' + _uniprot\n",
    "        _result = mg.query(query_term)\n",
    "        if _result['hits'] != []:\n",
    "            results.append([_uniprot, _result['hits'][0]['name'], _result['hits'][0]['symbol']])\n",
    "    return results\n",
    "\n",
    "#uniprot2symbol(compareenzymes(['36567', '38404'])['overlap'])"
   ]
  },
  {
   "cell_type": "code",
   "execution_count": null,
   "metadata": {
    "collapsed": true
   },
   "outputs": [],
   "source": [
    "def name2rxnorm(drugname):\n",
    "    annotations = annotator(drugname, ['RXNORM'])\n",
    "    \n",
    "    rxnorms = list()\n",
    "    for annotation in annotations:\n",
    "        rxnorms.append(annotations[0]['annotatedClass']['@id'].split('/')[-1])\n",
    "    \n",
    "    return rxnorms\n",
    "\n",
    "def annotator(text, ontologies):\n",
    "    REST_URL = \"http://data.bioontology.org\"\n",
    "    API_KEY = 'b55cf758-dbd3-4959-a9c0-2e6bba5b5d8b'\n",
    "    url = REST_URL + \"/annotator?text=\" + urllib2.quote(text) + \"&ontologies=\" + ','.join(ontologies)\n",
    "    opener = urllib2.build_opener()\n",
    "    opener.addheaders = [('Authorization', 'apikey token=' + API_KEY)]\n",
    "    \n",
    "    annotations = json.loads(opener.open(url).read())\n",
    "    \n",
    "    return annotations\n",
    "\n",
    "def nsides_api(service, method, args = None):\n",
    "    \"\"\"\n",
    "    Simple python API to access the NSIDES services and data.\n",
    "    \n",
    "    service   string, that can be one of three values: aeolus, sider, or omop\n",
    "    method    string, for a list of methods see http://nsideseb-env.us-east-1.elasticbeanstalk.com\n",
    "    args      dictionary, method parameters see http://nsideseb-env.us-east-1.elasticbeanstalk.com\n",
    "    \"\"\"\n",
    "    NSIDES_API_URL = 'http://nsideseb-env.us-east-1.elasticbeanstalk.com/api/v1/'\n",
    "    \n",
    "    base_url = NSIDES_API_URL + 'query?service=%s&meta=%s' % (service, method)\n",
    "    url = base_url\n",
    "    if not args is None:\n",
    "        url = base_url + '&' + '&'.join(['%s=%s' % (k,v) for k,v in args.items()])\n",
    "    \n",
    "    response = urllib2.urlopen(url).read()\n",
    "    data = json.loads(response)\n",
    "    \n",
    "    return data\n",
    "\n",
    "def deltaqt_api(drugs):\n",
    "    \"\"\"\n",
    "    Simple python API to access the Delta QT services and data. \n",
    "    drugs     list of drug concept identifiers\n",
    "    \"\"\"\n",
    "    DELTAQT_API_URL = 'http://deltaqt.org/api/v1/'\n",
    "    url = DELTAQT_API_URL + 'query?drugs=%s' % ','.join(map(str,drugs))\n",
    "    \n",
    "    response = urllib2.urlopen(url).read()\n",
    "    data = json.loads(response)\n",
    "    \n",
    "    return data\n",
    "\n",
    "def AEtoCUI( aeName ):\n",
    "    \"Converts AE name to UMLS CUIs\"\n",
    "    cuis = []\n",
    "    apikey = \"6fd08e99-cb99-48be-937c-bbaa5205fd44\"\n",
    "    #AuthClient = Authentication(apikey)\n",
    "    tgt = get_tgt(apikey)\n",
    "    uri = \"https://uts-ws.nlm.nih.gov\"\n",
    "    content_endpoint = \"/rest/search/current?string=\"+aeName\n",
    "    query = {'ticket':get_ticket(tgt)}\n",
    "    r = requests.get(uri+content_endpoint,params=query)\n",
    "    r.encoding = 'utf-8'\n",
    "    items  = json.loads(r.text)\n",
    "    jsonData = items[\"result\"]\n",
    "    for s in jsonData['results']:\n",
    "        cuis.append(s['ui'])\n",
    "    return cuis"
   ]
  },
  {
   "cell_type": "code",
   "execution_count": null,
   "metadata": {},
   "outputs": [],
   "source": [
    "if ADVERSE_EVENT_OF_INTEREST in ('Myocardial_Infarction', 'Gastrointestinal_Bleeding', 'Kidney_Damage', 'Liver_Damage'):\n",
    "    # we use the OMOP reference standard\n",
    "    data = nsides_api('omop', 'reference', {'q': ADVERSE_EVENT_OF_INTEREST})\n",
    "    reference_byname = [(r['drugname'], int(r['causes_ae'])) for r in data['results']]\n",
    "    \n",
    "else:\n",
    "    # we use SIDER\n",
    "    reference_byname = list()\n",
    "    for cui in AEtoCUI('qt prolonged'):\n",
    "        data = nsides_api('sider', 'drugForEffect', {'q': cui})\n",
    "        reference_byname.extend( [(r['drug_name'], 1) for r in data['results']] )\n",
    "    \n",
    "    if len(reference_byname) == 0:\n",
    "        raise Exception(\"No available reference standard for cui: %s\" % cui)\n",
    "    \n",
    "\n",
    "positives = list()\n",
    "negatives = list()\n",
    "\n",
    "drugnames  = [d for d,e in reference_byname]\n",
    "\n",
    "# Uncomment the next line out to use biothings_client\n",
    "# rxnorm_map = names2rxnorm(drugnames)\n",
    "\n",
    "for drugname, causes_ae in tqdm(reference_byname):\n",
    "    # Uncomment the next line to use NCBO Bioannotor to translate to rxnorm\n",
    "    rxnorms = name2rxnorm(drugname)\n",
    "    \n",
    "    #print drugname, rxnorms\n",
    "    # Comment the next line out to use biothings_client\n",
    "    # rxnorms = rxnorm_map[drugname]\n",
    "    \n",
    "    for rxnorm in rxnorms:\n",
    "        if causes_ae == 1:\n",
    "            positives.append(int(rxnorm))\n",
    "        else:\n",
    "            negatives.append(int(rxnorm))\n",
    "\n",
    "print \"Produced reference with %d positive examples and %d negative examples.\" % (len(positives), len(negatives))"
   ]
  },
  {
   "cell_type": "code",
   "execution_count": null,
   "metadata": {},
   "outputs": [],
   "source": [
    "# If there are no negative examples, we randomly pick 200 from what's available in AEOLUS\n",
    "if len(negatives) == 0:\n",
    "    data = nsides_api('aeolus', 'ingredientList')\n",
    "    \n",
    "    all_rxnorms = [r['concept_code'] for r in data['results']]\n",
    "    available_negatives = (set(all_rxnorms) - set(positives))\n",
    "    \n",
    "    negatives = random.sample(available_negatives, 200)\n",
    "\n",
    "print \"Randomly selected %d negative examples from available drugs.\" % len(negatives)"
   ]
  },
  {
   "cell_type": "markdown",
   "metadata": {},
   "source": [
    "<a id='step2'></a>\n",
    "**Step 2.** Retrieve adverse event report data for these and a set of control drugs."
   ]
  },
  {
   "cell_type": "code",
   "execution_count": null,
   "metadata": {},
   "outputs": [],
   "source": [
    "data = nsides_api('aeolus', 'ingredientList')\n",
    "\n",
    "concept2name = dict()\n",
    "all_drugs = list()\n",
    "drug_mapping = dict()\n",
    "concept2rxnorm = dict()\n",
    "\n",
    "for r in data['results']:\n",
    "    concept2name[r['concept_id']] = r['concept_name']\n",
    "    all_drugs.append(r['concept_id'])\n",
    "    drug_mapping[r['concept_code']] = r['concept_id']\n",
    "    concept2rxnorm[r['concept_id']] = r['concept_code']\n",
    "\n",
    "drug_mapping.items()[0]"
   ]
  },
  {
   "cell_type": "code",
   "execution_count": null,
   "metadata": {},
   "outputs": [],
   "source": [
    "#query?service=aeolus&meta=reactionListMedDRA\n",
    "data = nsides_api('aeolus', 'reactionListMedDRA')\n",
    "\n",
    "all_outcomes = list()\n",
    "\n",
    "for r in data['results']:\n",
    "    all_outcomes.append(r['outcome_concept_id'])\n",
    "\n",
    "len(all_outcomes)"
   ]
  },
  {
   "cell_type": "code",
   "execution_count": null,
   "metadata": {},
   "outputs": [],
   "source": [
    "#query?service=aeolus&meta=drugpairReactionListMedDRA\n",
    "data = nsides_api('aeolus', 'drugpairReactionListMedDRA')\n",
    "all_pairoutcomes = list()\n",
    "for r in data['results']:\n",
    "    all_pairoutcomes.append(r['outcome_concept_id'])\n",
    "\n",
    "len(all_pairoutcomes)"
   ]
  },
  {
   "cell_type": "code",
   "execution_count": null,
   "metadata": {},
   "outputs": [],
   "source": [
    "#query?service=aeolus&meta=drugpairList\n",
    "data = nsides_api('aeolus', 'drugpairList')\n",
    "\n",
    "all_drugpairs = list()\n",
    "\n",
    "for r in data['results']:\n",
    "    all_drugpairs.append((r['drug1_concept_id'], r['drug2_concept_id']))\n",
    "\n",
    "len(all_drugpairs)"
   ]
  },
  {
   "cell_type": "code",
   "execution_count": null,
   "metadata": {},
   "outputs": [],
   "source": [
    "#query?service=aeolus&meta=drugReactionCounts&q=0\n",
    "data = nsides_api('aeolus', 'drugReactionCounts', {'q':0})\n",
    "\n",
    "aeolus_drugReactionCounts = dict()\n",
    "aeolus_drugReactionCounts['results'] = list()\n",
    "\n",
    "for start in tqdm(range(0, data[0]['nrows'][0], 10000)):    \n",
    "    aeolus_drugReactionCounts['results'].extend(data[0]['result'])    \n",
    "    start = len(aeolus_drugReactionCounts['results'])\n",
    "    data = nsides_api('aeolus', 'drugReactionCounts', {'q': start})\n",
    "\n",
    "len(aeolus_drugReactionCounts['results'])"
   ]
  },
  {
   "cell_type": "code",
   "execution_count": null,
   "metadata": {
    "collapsed": true
   },
   "outputs": [],
   "source": [
    "# aeolus_drugReactionCounts['results'][0]"
   ]
  },
  {
   "cell_type": "code",
   "execution_count": null,
   "metadata": {
    "collapsed": true
   },
   "outputs": [],
   "source": [
    "def make_lsd_training_table(pos_drugs = None, neg_drugs = None):\n",
    "\n",
    "    pos_drugs_mapped = list()\n",
    "    for pos_drug in pos_drugs:\n",
    "        pos_drugs_mapped.append(drug_mapping[pos_drug])\n",
    "        \n",
    "    neg_drugs_mapped = list()\n",
    "    for neg_drug in neg_drugs:\n",
    "        neg_drugs_mapped.append(drug_mapping[neg_drug])\n",
    "        \n",
    "    outcomes = np.concatenate((np.ones(len(pos_drugs),np.bool), np.zeros(len(neg_drugs),np.bool)))\n",
    "    \n",
    "    training_drugs = pos_drugs_mapped + neg_drugs_mapped\n",
    "    \n",
    "    ae_frequencies_training = np.zeros((len(pos_drugs)+len(neg_drugs),len(all_pairoutcomes)))\n",
    "    \n",
    "    for r in aeolus_drugReactionCounts['results']:\n",
    "        if not r['drug_concept_id'] in training_drugs:\n",
    "            continue\n",
    "        if not r['outcome_concept_id'] in all_pairoutcomes:\n",
    "            continue\n",
    "        \n",
    "        \n",
    "        i = training_drugs.index(r['drug_concept_id'])\n",
    "        j = all_pairoutcomes.index(r['outcome_concept_id'])\n",
    "        \n",
    "        frequency = float(r['nreports'])/float(r['ndrugreports'])\n",
    "        \n",
    "        ae_frequencies_training[i,j] = frequency\n",
    "                    \n",
    "    return ae_frequencies_training, outcomes"
   ]
  },
  {
   "cell_type": "code",
   "execution_count": null,
   "metadata": {
    "collapsed": true
   },
   "outputs": [],
   "source": [
    "pos_controls = [p for p in positives if p in drug_mapping]\n",
    "neg_controls = [n for n in negatives if n in drug_mapping]"
   ]
  },
  {
   "cell_type": "code",
   "execution_count": null,
   "metadata": {
    "collapsed": true
   },
   "outputs": [],
   "source": [
    "X,y = make_lsd_training_table(pos_controls, neg_controls)\n",
    "\n",
    "print X.shape\n",
    "print y.shape"
   ]
  },
  {
   "cell_type": "code",
   "execution_count": null,
   "metadata": {
    "collapsed": true,
    "scrolled": false
   },
   "outputs": [],
   "source": [
    "#query?service=aeolus&meta=drugpairReactionCounts&q=0\n",
    "data = nsides_api('aeolus', 'drugpairReactionCounts', {'q':0})\n",
    "\n",
    "aeolus_drugpairReactionCounts = dict()\n",
    "aeolus_drugpairReactionCounts['results'] = list()\n",
    "\n",
    "for start in tqdm(range(0, data[0]['nrows'][0], 10000)):    \n",
    "    aeolus_drugpairReactionCounts['results'].extend(data[0]['results'])    \n",
    "    start = len(aeolus_drugpairReactionCounts['results'])\n",
    "    data = nsides_api('aeolus', 'drugpairReactionCounts', {'q': start})\n",
    "\n",
    "len(aeolus_drugpairReactionCounts['results'])"
   ]
  },
  {
   "cell_type": "code",
   "execution_count": null,
   "metadata": {
    "collapsed": true
   },
   "outputs": [],
   "source": [
    "aeolus_drugpairReactionCounts['results'][0]"
   ]
  },
  {
   "cell_type": "code",
   "execution_count": null,
   "metadata": {
    "collapsed": true
   },
   "outputs": [],
   "source": [
    "def make_lsd_testing_table():\n",
    "    ae_frequencies_ddi_testing = np.zeros((len(all_drugpairs),len(all_pairoutcomes)))\n",
    "    \n",
    "    for r in tqdm(aeolus_drugpairReactionCounts['results']):\n",
    "        \n",
    "        drugpair = (r['drug1_concept_id'],r['drug2_concept_id'])\n",
    "        if r['outcome_concept_id'] in all_pairoutcomes:\n",
    "            x_index = all_drugpairs.index(drugpair)\n",
    "            y_index = all_pairoutcomes.index(r['outcome_concept_id'])\n",
    "            \n",
    "            frequency = float(r['n_d1d2ae'])/float(r['n_d1d2'])\n",
    "            \n",
    "            ae_frequencies_ddi_testing[x_index,y_index] = frequency    \n",
    "                \n",
    "    return ae_frequencies_ddi_testing\n"
   ]
  },
  {
   "cell_type": "code",
   "execution_count": null,
   "metadata": {
    "collapsed": true
   },
   "outputs": [],
   "source": [
    "X_test = make_lsd_testing_table()"
   ]
  },
  {
   "cell_type": "code",
   "execution_count": null,
   "metadata": {
    "collapsed": true
   },
   "outputs": [],
   "source": [
    "print X.shape\n",
    "print X_test.shape\n",
    "print y.shape"
   ]
  },
  {
   "cell_type": "code",
   "execution_count": null,
   "metadata": {
    "collapsed": true
   },
   "outputs": [],
   "source": [
    "print len(positives)\n",
    "print np.sum(y)"
   ]
  },
  {
   "cell_type": "code",
   "execution_count": null,
   "metadata": {
    "collapsed": true
   },
   "outputs": [],
   "source": [
    "X_test.sum(), X_test.mean()"
   ]
  },
  {
   "cell_type": "markdown",
   "metadata": {},
   "source": [
    "<a id=\"step3\"></a>\n",
    "**Step 3.** Build a latent signal detection model on the reference set and predict DDIs"
   ]
  },
  {
   "cell_type": "code",
   "execution_count": null,
   "metadata": {
    "collapsed": true
   },
   "outputs": [],
   "source": [
    "def drugpair_predictions(X,y,X_test):\n",
    "    rf = RandomForestClassifier(oob_score=True, random_state=12)\n",
    "    rf.fit(X,y)\n",
    "    predictions_proba = rf.predict_proba(X_test)[:,1]\n",
    "    predictions = rf.predict(X_test)\n",
    "    \n",
    "    #print rf.score(X,y)\n",
    "    oob_predictions = rf.oob_decision_function_[:,1]\n",
    "    #print oob_predictions\n",
    "    \n",
    "    oob_predictions[ np.where( np.isnan(oob_predictions) == True)[0]] = 0\n",
    "    \n",
    "    #print oob_predictions\n",
    "    \n",
    "    print \"OOB ROC:\",roc_auc_score(y_true=y, y_score=oob_predictions)\n",
    "    fprOOB, tprOOB, _ = roc_curve(y_true=y,y_score=oob_predictions)\n",
    "    \n",
    "    y_pred = np.zeros((len(predictions)))\n",
    "    \n",
    "    pos_drugs_mapped = list()\n",
    "    for pos_drug in pos_controls:\n",
    "        if pos_drug not in drug_mapping:\n",
    "            continue\n",
    "        \n",
    "        pos_drugs_mapped.append(drug_mapping[pos_drug])\n",
    "        \n",
    "    for drugpair in all_drugpairs:         \n",
    "        for drug in drugpair:\n",
    "            if drug in pos_drugs_mapped:\n",
    "                y_pred[all_drugpairs.index(drugpair)] = 1\n",
    "                \n",
    "    pred_sorted = predictions_proba\n",
    "    \n",
    "    \n",
    "    top_ddi = sorted(zip(predictions_proba, all_drugpairs))[-50:]\n",
    "    top_ddi.reverse()\n",
    "    \n",
    "    #print top_ddi\n",
    "    \n",
    "    for prob, ddi in top_ddi:\n",
    "        idx = all_drugpairs.index(ddi)\n",
    "        #print all_drugpairs[idx], predictions_proba[idx]\n",
    "            \n",
    "    print \"Number of positive predictions:\",np.sum(y_pred)\n",
    "    \n",
    "    print \"Single-drug ROC:\",roc_auc_score(y_true=y_pred,y_score=predictions_proba)\n",
    "    \n",
    "    fprSD, tprSD, _ = roc_curve(y_true=y_pred,y_score=predictions_proba)\n",
    "    \n",
    "    sns.set(style='ticks', font_scale=1.4)\n",
    "    \n",
    "    plt.figure(figsize=(6,6))\n",
    "    plt.plot(fprSD,tprSD,label='One-of-pair (area= %0.2f)' % auc(fprSD,tprSD))\n",
    "    plt.plot(fprOOB,tprOOB,label='OOB (area= %0.2f)' % auc(fprOOB,tprOOB))\n",
    "    \n",
    "    plt.xlabel('False Positive Rate')\n",
    "    plt.ylabel('True Positive Rate')\n",
    "    \n",
    "    plt.legend(loc=\"lower right\")\n",
    "    \n",
    "    sns.despine()\n",
    "    \n",
    "    return top_ddi"
   ]
  },
  {
   "cell_type": "code",
   "execution_count": null,
   "metadata": {
    "collapsed": true
   },
   "outputs": [],
   "source": [
    "top_ddi = drugpair_predictions(X,y,X_test)"
   ]
  },
  {
   "cell_type": "code",
   "execution_count": null,
   "metadata": {
    "collapsed": true
   },
   "outputs": [],
   "source": [
    "# Pull the top prediction\n",
    "pair = top_ddi[10][1]\n",
    "\n",
    "patient_counts = list()\n",
    "\n",
    "for score, pair in top_ddi:\n",
    "    \n",
    "    drug1 = deltaqt_api([pair[0]])\n",
    "    drug2 = deltaqt_api([pair[1]])\n",
    "    pairdata = deltaqt_api(pair)\n",
    "    \n",
    "    patient_counts.append((len(pairdata['delta_qts']), len(drug1['delta_qts']), len(drug2['delta_qts']), pair))\n",
    "    \n",
    "    print \"%20s %20s %10d %10d %10d\" % (concept2name[pair[0]], concept2name[pair[1]], \n",
    "                                        len(pairdata['delta_qts']), \n",
    "                                        len(drug1['delta_qts']), \n",
    "                                        len(drug2['delta_qts']))"
   ]
  },
  {
   "cell_type": "code",
   "execution_count": null,
   "metadata": {
    "collapsed": true
   },
   "outputs": [],
   "source": [
    "pair = sorted(patient_counts)[-1][-1]\n",
    "\n",
    "print pair\n",
    "\n",
    "drug1 = deltaqt_api([pair[0]])\n",
    "drug2 = deltaqt_api([pair[1]])\n",
    "pairdata = deltaqt_api(pair)"
   ]
  },
  {
   "cell_type": "code",
   "execution_count": null,
   "metadata": {
    "collapsed": true
   },
   "outputs": [],
   "source": [
    "print \"Found %d patients with available ECG data exposed to %s and %s\" % \\\n",
    "    (len(pairdata['delta_qts']), concept2name[pair[0]], concept2name[pair[1]])\n",
    "\n",
    "print \"Found %d patients with available ECG data exposed to %s alone\" % \\\n",
    "    (len(drug1['delta_qts']), concept2name[pair[0]])\n",
    "\n",
    "print \"Found %d patients with available ECG data exposed to %s alone\" % \\\n",
    "    (len(drug2['delta_qts']), concept2name[pair[1]])\n"
   ]
  },
  {
   "cell_type": "code",
   "execution_count": null,
   "metadata": {
    "collapsed": true
   },
   "outputs": [],
   "source": [
    "sns.set(style='ticks',font_scale=1.4)\n",
    "\n",
    "pair_exposed = [r['delta'] for r in pairdata['delta_qts']]\n",
    "d1_exposed = [r['delta'] for r in drug1['delta_qts']]\n",
    "d2_exposed = [r['delta'] for r in drug2['delta_qts']]\n",
    "\n",
    "print \"Combination vs %s: %s\" % (concept2name[pair[0]], stats.mannwhitneyu(pair_exposed, d1_exposed))\n",
    "print \"Combination vs %s: %s\" % (concept2name[pair[1]], stats.mannwhitneyu(pair_exposed, d2_exposed))\n",
    "print \"%s vs %s: %s\" % (concept2name[pair[0]], concept2name[pair[1]], stats.mannwhitneyu(d1_exposed, d2_exposed))\n",
    "\n",
    "plt.figure(figsize=(7,5))\n",
    "\n",
    "plt.hist(d1_exposed, bins=30, lw=1, alpha=.6, edgecolor='white', normed=True)\n",
    "plt.hist(d2_exposed, bins=30, lw=1, alpha=.6, edgecolor='white', normed=True)\n",
    "plt.hist(pair_exposed, bins=30, lw=1, alpha=.6, edgecolor='white', normed=True)\n",
    "\n",
    "plt.title('Response to %s + %s' % (concept2name[pair[0]], concept2name[pair[1]]))\n",
    "plt.xlabel('Change in QT')\n",
    "plt.ylabel('Frequency')\n",
    "\n",
    "plt.legend(['Combination', concept2name[pair[0]], concept2name[pair[1]]])\n",
    "\n",
    "sns.despine()"
   ]
  },
  {
   "cell_type": "markdown",
   "metadata": {},
   "source": [
    "<a id=\"step5\"></a>\n",
    "**Step 5.** Identify probable molecular mechanisms of action for the ddi"
   ]
  },
  {
   "cell_type": "markdown",
   "metadata": {},
   "source": [
    "<a id=\"step4\"></a>\n",
    "**Step 4.** Corroborate drug pair predictions using clinical data\n",
    "\n",
    "Currently only works for QT prolongation data using the http://deltaQT.org resource."
   ]
  },
  {
   "cell_type": "code",
   "execution_count": null,
   "metadata": {
    "collapsed": true
   },
   "outputs": [],
   "source": [
    "pair[0], concept2rxnorm[pair[0]], pair[1], concept2rxnorm[pair[1]]"
   ]
  },
  {
   "cell_type": "code",
   "execution_count": null,
   "metadata": {
    "collapsed": true
   },
   "outputs": [],
   "source": [
    "rxnorms2enzyme([str(concept2rxnorm[pair[0]])])"
   ]
  },
  {
   "cell_type": "code",
   "execution_count": null,
   "metadata": {
    "collapsed": true
   },
   "outputs": [],
   "source": [
    "rxnorms2enzyme([str(concept2rxnorm[pair[1]])])"
   ]
  },
  {
   "cell_type": "code",
   "execution_count": null,
   "metadata": {
    "scrolled": false
   },
   "outputs": [],
   "source": [
    "for drugname, causes_ae in tqdm(reference_byname):\n",
    "    rxnorms = name2rxnorm(drugname)\n",
    "    for rxnorm in rxnorms:\n",
    "        print 'rxnorm id: ' + rxnorm\n",
    "        atccode = urllib2.urlopen('https://amalic.stdlib.com/rxnorm2atc@dev/?rxcui=' + rxnorm).read().strip(\"\\\"\") \n",
    "        print 'atc code : ' + atccode\n",
    "\n",
    "        sparql = SPARQLWrapper(\"http://bio2rdf.org/sparql\")\n",
    "        query = \"\"\"\n",
    "            PREFIX dct: <http://purl.org/dc/terms/>\n",
    "            SELECT distinct str(?phenotype_label) as ?pl\n",
    "            WHERE {\n",
    "                ?drug <http://bio2rdf.org/drugbank_vocabulary:target> ?target ;\n",
    "                    <http://bio2rdf.org/drugbank_vocabulary:x-atc> ?atc.\n",
    "                FILTER(?atc = <http://bio2rdf.org/atc:\"\"\" + atccode + \"\"\">)\n",
    "\n",
    "                ?target <http://bio2rdf.org/drugbank_vocabulary:x-hgnc> ?hgnc .\n",
    "\n",
    "                ?hgnc <http://bio2rdf.org/hgnc_vocabulary:x-mgi> ?marker .\n",
    "\n",
    "                ?model <http://bio2rdf.org/mgi_vocabulary:marker> ?marker .\n",
    "                ?model <http://bio2rdf.org/mgi_vocabulary:allele> ?all .\n",
    "                ?all <http://bio2rdf.org/mgi_vocabulary:allele-attribute> ?allele_type .\n",
    "                ?model <http://bio2rdf.org/mgi_vocabulary:phenotype> ?phenotypes .\n",
    "                FILTER (str(?allele_type) = \"Null/knockout\")\n",
    "\n",
    "                ?p owl:sameAs ?phenotypes .\n",
    "                ?p rdfs:label ?phenotype_label .\n",
    "            }\"\"\"\n",
    "        \n",
    "        # print query\n",
    "        sparql.setQuery(query)\n",
    "\n",
    "        # *** JSON Example\n",
    "        print '\\nBio2RDF Phenotypes'\n",
    "        sparql.setReturnFormat(JSON)\n",
    "        results = sparql.query().convert()\n",
    "        for result in results[\"results\"][\"bindings\"]:\n",
    "            print result[\"pl\"][\"value\"]\n",
    "\n",
    "        # *** N3 Example\n",
    "        #sparql.setReturnFormat(N3)\n",
    "        #results = sparql.query().convert()\n",
    "        #print results\n",
    "\n",
    "        # *** XML Example\n",
    "        #sparql.setReturnFormat(XML)\n",
    "        #results = sparql.query().convert()\n",
    "        #print results.toxml()"
   ]
  },
  {
   "cell_type": "code",
   "execution_count": null,
   "metadata": {
    "collapsed": true
   },
   "outputs": [],
   "source": []
  }
 ],
 "metadata": {
  "kernelspec": {
   "display_name": "Python 2",
   "language": "python",
   "name": "python2"
  },
  "language_info": {
   "codemirror_mode": {
    "name": "ipython",
    "version": 2
   },
   "file_extension": ".py",
   "mimetype": "text/x-python",
   "name": "python",
   "nbconvert_exporter": "python",
   "pygments_lexer": "ipython2",
   "version": "2.7.13"
  }
 },
 "nbformat": 4,
 "nbformat_minor": 1
}
