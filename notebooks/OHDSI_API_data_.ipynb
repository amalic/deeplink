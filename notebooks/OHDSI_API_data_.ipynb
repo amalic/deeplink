{
 "cells": [
  {
   "cell_type": "code",
   "execution_count": 1,
   "metadata": {
    "collapsed": true
   },
   "outputs": [],
   "source": [
    "import csv\n",
    "import gzip\n",
    "import tqdm\n",
    "import json\n",
    "import heapq\n",
    "import random\n",
    "import urllib2\n",
    "\n",
    "import requests\n",
    "from json import JSONEncoder"
   ]
  },
  {
   "cell_type": "markdown",
   "metadata": {},
   "source": [
    "# Get data from the OHDSI WEB API "
   ]
  },
  {
   "cell_type": "markdown",
   "metadata": {},
   "source": [
    "## Get the list of existing cohorts"
   ]
  },
  {
   "cell_type": "code",
   "execution_count": 42,
   "metadata": {
    "collapsed": true
   },
   "outputs": [],
   "source": [
    "def get_cohorts():\n",
    "    url = 'http://api.ohdsi.org/WebAPI/cohortdefinition'\n",
    "    #print url\n",
    "    \n",
    "    r = requests.get(url, '')\n",
    "    r.encoding = 'utf-8'\n",
    "    items  = json.loads(r.text)\n",
    "    \n",
    "    return items\n",
    "\n",
    "def get_cohorts_id():\n",
    "    # Returns the list of all existing cohorts ids\n",
    "    data = get_cohorts()\n",
    "    c_id = list()\n",
    "    \n",
    "    for cohort in data:\n",
    "        c_id.append(cohort['id'])\n",
    "    \n",
    "    return c_id\n",
    "\n",
    "def get_cohorts_name():\n",
    "    data = get_cohorts()\n",
    "    cohorts_name = list()\n",
    "    \n",
    "    for cohort in data:\n",
    "        cohorts_name.append(cohort['name'])\n",
    "        \n",
    "    return cohorts_name"
   ]
  },
  {
   "cell_type": "code",
   "execution_count": 36,
   "metadata": {},
   "outputs": [
    {
     "name": "stdout",
     "output_type": "stream",
     "text": [
      "http://api.ohdsi.org/WebAPI/cohortdefinition\n"
     ]
    }
   ],
   "source": [
    "def mapping():\n",
    "    # Update the mapping dicionaries\n",
    "    data = get_cohorts()\n",
    "    map_id_name = dict()\n",
    "    map_name_id = dict()\n",
    "    \n",
    "    for cohort in data:\n",
    "        map_id_name[cohort['id']] =  cohort['name']\n",
    "        map_name_id[cohort['name']] = cohort['id']\n",
    "    \n",
    "    return map_id_name, map_name_id\n",
    "\n",
    "map_id_name, map_name_id = mapping()"
   ]
  },
  {
   "cell_type": "code",
   "execution_count": 43,
   "metadata": {
    "collapsed": true
   },
   "outputs": [],
   "source": [
    "# Generate a cohort\n",
    "def generate_cohort(id):\n",
    "    '''\n",
    "    Generates a cohort knowing its id\n",
    "    id: string, id of the cohort\n",
    "    '''\n",
    "    uri = 'http://api.ohdsi.org/WebAPI/cohortdefinition/'    \n",
    "    sourcekey = '1PCT'\n",
    "    url = uri + '%s' %id + '/generate/' + sourcekey\n",
    "    #print url\n",
    "    \n",
    "    r = requests.get(url, '')\n",
    "    \n",
    "    #get info about the progression of the generation process\n",
    "    url = 'http://api.ohdsi.org/WebAPI/cohortdefinition/' + \"%s\"%id + '/info'\n",
    "    r = requests.get(url, '')\n",
    "    r.encoding = 'utf-8'\n",
    "    items  = json.loads(r.text)  \n",
    "    \n",
    "    return items"
   ]
  },
  {
   "cell_type": "markdown",
   "metadata": {},
   "source": [
    "## Get existing concepts "
   ]
  },
  {
   "cell_type": "code",
   "execution_count": 44,
   "metadata": {
    "collapsed": true
   },
   "outputs": [],
   "source": [
    "def get_concept_info(id):\n",
    "    \"\"\"\n",
    "    Get info about a specific concept\n",
    "    id: integer, concept id\n",
    "    \"\"\"\n",
    "    \n",
    "    url = \"http://api.ohdsi.org/WebAPI/vocabulary/concept/\" + \"%s\"%id\n",
    "    #print url\n",
    "    r = requests.get(url, '')\n",
    "    r.encoding = 'utf-8'\n",
    "    data  = json.loads(r.text)  \n",
    "    \n",
    "    return data"
   ]
  },
  {
   "cell_type": "code",
   "execution_count": 6,
   "metadata": {},
   "outputs": [
    {
     "name": "stdout",
     "output_type": "stream",
     "text": [
      "{u'VOCABULARY_ID': u'LOINC', u'CONCEPT_CLASS_ID': u'Clinical Observation', u'STANDARD_CONCEPT_CAPTION': u'Standard', u'CONCEPT_NAME': u'Descending thoracic aorta Diastolic blood pressure', u'INVALID_REASON': u'V', u'STANDARD_CONCEPT': u'S', u'INVALID_REASON_CAPTION': u'Valid', u'CONCEPT_CODE': u'8369-1', u'DOMAIN_ID': u'Measurement', u'CONCEPT_ID': 3037744}\n"
     ]
    }
   ],
   "source": [
    "data = get_concept_info(3037744)\n",
    "print data"
   ]
  },
  {
   "cell_type": "markdown",
   "metadata": {},
   "source": [
    "## Concept set info"
   ]
  },
  {
   "cell_type": "code",
   "execution_count": 45,
   "metadata": {
    "collapsed": true
   },
   "outputs": [],
   "source": [
    "def get_conceptsets():\n",
    "    '''\n",
    "    Returns the list of all existing conceptsets ids and names\n",
    "    '''\n",
    "    conceptsets = list()\n",
    "    url = 'http://api.ohdsi.org/WebAPI/conceptset/'\n",
    "    #print url\n",
    "    \n",
    "    response = urllib2.urlopen(url).read()\n",
    "    data = json.loads(response)\n",
    "    \n",
    "    return data\n",
    "\n",
    "def get_conceptset_id(name):\n",
    "    '''\n",
    "    Returns the id of the concept set named 'name'\n",
    "    If it doesn't exist, returns 0\n",
    "    name: string\n",
    "    '''\n",
    "    conceptsets = get_conceptsets()\n",
    "    for pair in conceptsets:\n",
    "        if pair['name'] == name:\n",
    "            return pair['id']\n",
    "    return 0\n",
    "\n",
    "def get_conceptset_detail(id):\n",
    "    \n",
    "    url = 'http://api.ohdsi.org/WebAPI/conceptset/' + '%s' %id + '/items'\n",
    "    #print url\n",
    "    \n",
    "    r = requests.get(url, '')\n",
    "    r.encoding = 'utf-8'\n",
    "    data = json.loads(r.text)\n",
    "    return data"
   ]
  },
  {
   "cell_type": "code",
   "execution_count": 18,
   "metadata": {},
   "outputs": [
    {
     "name": "stdout",
     "output_type": "stream",
     "text": [
      "http://api.ohdsi.org/WebAPI/conceptset/158060/items\n",
      "[{u'conceptId': 1177480, u'includeMapped': 0, u'isExcluded': 0, u'includeDescendants': 0, u'id': 158061, u'conceptSetId': 158060}]\n"
     ]
    }
   ],
   "source": [
    "data = get_conceptset_detail(158060)\n",
    "print data"
   ]
  },
  {
   "cell_type": "markdown",
   "metadata": {},
   "source": [
    "## Cohort creation"
   ]
  },
  {
   "cell_type": "code",
   "execution_count": 46,
   "metadata": {
    "collapsed": true
   },
   "outputs": [],
   "source": [
    "# Build the cohort for exposure to one drug alone\n",
    "def cohort_definition_1D(concept):\n",
    "    \"\"\"\n",
    "    Build the definition data for the creation of a new cohort (for exposure to a single drug)\n",
    "    concept: json, typically obtained with the 'get_concept_info' function\n",
    "    return: data, sringified json expression of the cohort definition\n",
    "    \"\"\"\n",
    "    \n",
    "    expression = {\n",
    "      \"ConceptSets\": [{\n",
    "          \"id\": 0,\n",
    "          \"name\": \"%s\"%concept[\"CONCEPT_NAME\"],\n",
    "          \"expression\": {\n",
    "            \"items\": [{\n",
    "                \"concept\": {\n",
    "                  \"CONCEPT_CLASS_ID\": \"Ingredient\",\n",
    "                  \"CONCEPT_CODE\": \"%s\"%concept[\"CONCEPT_CODE\"],\n",
    "                  \"CONCEPT_ID\": \"%d\"%concept[\"CONCEPT_ID\"],\n",
    "                  \"CONCEPT_NAME\": \"%s\"%concept[\"CONCEPT_NAME\"],\n",
    "                  \"DOMAIN_ID\": \"Drug\",\n",
    "                  \"INVALID_REASON\": \"V\",\n",
    "                  \"INVALID_REASON_CAPTION\": \"Valid\",\n",
    "                  \"STANDARD_CONCEPT\": \"S\",\n",
    "                  \"STANDARD_CONCEPT_CAPTION\": \"Standard\",\n",
    "                  \"VOCABULARY_ID\": \"RxNorm\"\n",
    "                },\n",
    "                \"includeDescendants\": True,\n",
    "                \"includeMapped\": True\n",
    "              }]\n",
    "          }\n",
    "        }\n",
    "      ],\n",
    "      \"PrimaryCriteria\": {\n",
    "        \"CriteriaList\": [{\n",
    "            \"DrugExposure\": {\"CodesetId\": 0}}],\n",
    "        \"ObservationWindow\": {\n",
    "          \"PriorDays\": \"30\",\n",
    "          \"PostDays\": \"30\"},\n",
    "        \"PrimaryCriteriaLimit\": {\"Type\": \"First\"}},\n",
    "      \"QualifiedLimit\": {\"Type\": \"All\"},\n",
    "      \"ExpressionLimit\": {\"Type\": \"First\"},\n",
    "      \"InclusionRules\": [],\n",
    "      \"EndStrategy\": {\n",
    "        \"DateOffset\": {\n",
    "          \"DateField\": \"StartDate\",\n",
    "          \"Offset\": \"30\"\n",
    "        }\n",
    "      },\n",
    "      \"CensoringCriteria\": []\n",
    "    }\n",
    "\n",
    "    string_expression = JSONEncoder().encode(expression)\n",
    "    \n",
    "    data = {\n",
    "      \"name\":\"%s\"%concept['CONCEPT_NAME'],\n",
    "      \"description\":\"null\",\n",
    "      \"expressionType\":\"SIMPLE_EXPRESSION\",\n",
    "      \"createdBy\":\"anonymous\",\n",
    "      \"createdDate\":\"2017-02-14, 22:00\",\n",
    "      \"modifiedBy\":\"anonymous\",\n",
    "      \"modifiedDate\":\"2017-03-09, 19:55\",\n",
    "      \"expression\":string_expression\n",
    "    }\n",
    "\n",
    "    return data"
   ]
  },
  {
   "cell_type": "code",
   "execution_count": 47,
   "metadata": {
    "collapsed": true
   },
   "outputs": [],
   "source": [
    "# Build the cohort for exposure to 2 different drugs within 7 days\n",
    "def cohort_definition_2D(concept1, concept2):\n",
    "    \"\"\"\n",
    "    Build the definition data for the creation of a new cohort (for exposure to 2 different drugs within 7 days)\n",
    "    concept1, concept2: json, typically obtained with the 'get_concept_info' function\n",
    "    return: data, sringified json expression of the cohort definition\n",
    "    \"\"\"\n",
    "    \n",
    "    expression = {\n",
    "      \"ConceptSets\": [{\n",
    "          \"id\": 0,\n",
    "          \"name\": \"%s\"%concept1[\"CONCEPT_NAME\"],\n",
    "          \"expression\": {\n",
    "            \"items\": [{\n",
    "                \"concept\": {\n",
    "                  \"CONCEPT_CLASS_ID\": \"Ingredient\",\n",
    "                  \"CONCEPT_CODE\": \"%s\"%concept1[\"CONCEPT_CODE\"],\n",
    "                  \"CONCEPT_ID\": \"%d\"%concept1[\"CONCEPT_ID\"],\n",
    "                  \"CONCEPT_NAME\": \"%s\"%concept1[\"CONCEPT_NAME\"],\n",
    "                  \"DOMAIN_ID\": \"Drug\",\n",
    "                  \"INVALID_REASON\": \"V\",\n",
    "                  \"INVALID_REASON_CAPTION\": \"Valid\",\n",
    "                  \"STANDARD_CONCEPT\": \"S\",\n",
    "                  \"STANDARD_CONCEPT_CAPTION\": \"Standard\",\n",
    "                  \"VOCABULARY_ID\": \"RxNorm\"},\n",
    "                \"includeDescendants\": True,\n",
    "                \"includeMapped\": True}]}},\n",
    "          {\n",
    "            \"id\":1,\n",
    "            \"name\":\"%s\"%concept2[\"CONCEPT_NAME\"],\n",
    "            \"expression\":{\n",
    "             \"items\":[{\n",
    "                \"concept\":{\n",
    "                    \"CONCEPT_ID\":\"%d\"%concept2[\"CONCEPT_ID\"],\n",
    "                    \"CONCEPT_NAME\":\"%s\"%concept2[\"CONCEPT_NAME\"],\n",
    "                    \"STANDARD_CONCEPT\":\"S\",\n",
    "                    \"INVALID_REASON\":\"V\",\n",
    "                    \"CONCEPT_CODE\":\"%s\"%concept2[\"CONCEPT_CODE\"],\n",
    "                    \"DOMAIN_ID\":\"Drug\",\n",
    "                    \"VOCABULARY_ID\":\"RxNorm\",\n",
    "                    \"CONCEPT_CLASS_ID\":\"Ingredient\",\n",
    "                    \"INVALID_REASON_CAPTION\":\"Valid\",\n",
    "                    \"STANDARD_CONCEPT_CAPTION\":\"Standard\"},\n",
    "                 \"includeDescendants\":True,\n",
    "                 \"includeMapped\":True}]}}\n",
    "      ],\n",
    "      \"PrimaryCriteria\": {\n",
    "        \"CriteriaList\": [{\n",
    "            \"DrugExposure\": {\"CodesetId\": 0}}],\n",
    "        \"ObservationWindow\": {\n",
    "          \"PriorDays\": \"30\",\n",
    "          \"PostDays\": \"30\"},\n",
    "        \"PrimaryCriteriaLimit\": {\"Type\": \"First\"}},\n",
    "      \"AdditionalCriteria\":{\n",
    "        \"Type\":\"ALL\",\n",
    "        \"CriteriaList\":[{\n",
    "            \"Criteria\":{\"DrugExposure\":{\"CodesetId\":1}},\n",
    "            \"StartWindow\":{\"Start\":{\"Days\":\"7\",\"Coeff\":-1}, \"End\":{\"Days\":\"7\",\"Coeff\":1}},\n",
    "            \"Occurrence\":{\"Type\":2,\"Count\":1}}],\n",
    "        \"DemographicCriteriaList\":[],\"Groups\":[]},\n",
    "      \"QualifiedLimit\": {\"Type\": \"First\"},\n",
    "      \"ExpressionLimit\": {\"Type\": \"First\"},\n",
    "      \"InclusionRules\": [],\n",
    "      \"EndStrategy\": {\n",
    "        \"CustomEra\":{\"DrugCodesetId\":0,\"GapDays\":37,\"Offset\":0}},\n",
    "      \"CensoringCriteria\": []\n",
    "    }\n",
    "\n",
    "    string_expression = JSONEncoder().encode(expression)\n",
    "    \n",
    "    data = {\n",
    "      \"name\":\"%s_%s\"%(concept1[\"CONCEPT_NAME\"],concept2[\"CONCEPT_NAME\"]),\n",
    "      \"description\":\"null\",\n",
    "      \"expressionType\":\"SIMPLE_EXPRESSION\",\n",
    "      \"createdBy\":\"anonymous\",\n",
    "      \"createdDate\":\"2017-02-14, 22:00\",\n",
    "      \"modifiedBy\":\"anonymous\",\n",
    "      \"modifiedDate\":\"2017-03-09, 19:55\",\n",
    "      \"expression\":string_expression\n",
    "    }\n",
    "\n",
    "    return data"
   ]
  },
  {
   "cell_type": "code",
   "execution_count": 48,
   "metadata": {
    "collapsed": true
   },
   "outputs": [],
   "source": [
    "# Creation of a new cohort using the OHDSI WebAPI\n",
    "def create_cohort(data):\n",
    "    '''\n",
    "    Creation of a new cohort\n",
    "    data: json, with the parameters of the new cohort\n",
    "    '''\n",
    "    \n",
    "    # We check if a cohort with the same name doesn't already exist\n",
    "    cohorts_name = get_cohorts_name()\n",
    "    if data[\"name\"] in cohorts_name:\n",
    "        print \"A cohort with the same name already exists, please choose another name\"\n",
    "        return 0\n",
    "    \n",
    "    url = 'http://api.ohdsi.org/WebAPI/cohortdefinition/'\n",
    "\n",
    "    r = requests.post(url, json=data)\n",
    "\n",
    "    #print r.url\n",
    "    #print r.text\n",
    "    \n",
    "    return r.status_code\n",
    "\n",
    "def delete_cohort(cohort_id):\n",
    "    \"\"\"\n",
    "    Deletes the cohort\n",
    "    id: integer, the cohort's id\n",
    "    \"\"\"\n",
    "\n",
    "    url = 'http://api.ohdsi.org/WebAPI/cohortdefinition/' + '%s' %cohort_id\n",
    "    r = requests.delete(url)\n",
    "    #print r.url\n",
    "    #print r.text\n",
    "    \n",
    "    print \"Cohort was deleted with exit status %i \" %r.status_code\n",
    "    return r.status_code"
   ]
  },
  {
   "cell_type": "markdown",
   "metadata": {},
   "source": [
    "## Retrieve data from a cohort"
   ]
  },
  {
   "cell_type": "code",
   "execution_count": 49,
   "metadata": {
    "collapsed": true
   },
   "outputs": [],
   "source": [
    "def getAlldistinctPatients(cohort_id):\n",
    "    url = 'http://api.ohdsi.org/WebAPI/cohortresults/1PCT/'+'%s'%cohort_id+'/members/1-30000'\n",
    "    #print url\n",
    "    \n",
    "    response = urllib2.urlopen(url).read()\n",
    "    data = json.loads(response)    \n",
    "    \n",
    "    patientset = list()\n",
    "\n",
    "    for patient in data:\n",
    "        patientset.append(patient['personId'])\n",
    "    return patientset          "
   ]
  },
  {
   "cell_type": "code",
   "execution_count": null,
   "metadata": {
    "collapsed": true
   },
   "outputs": [],
   "source": [
    "#demo_cohort_id = '6839'\n",
    "#patientset = getAlldistinctPatients(demo_cohort_id)\n",
    "#print len(patientset)\n",
    "#print patientset[0]"
   ]
  },
  {
   "cell_type": "code",
   "execution_count": 50,
   "metadata": {
    "collapsed": true
   },
   "outputs": [],
   "source": [
    "def getPatientRecord(patient_id):\n",
    "    '''\n",
    "    Get all records for a specific patient\n",
    "    Returns a list of all those observations\n",
    "    '''\n",
    "    \n",
    "    url = 'http://api.ohdsi.org/WebAPI/1PCT/person/' + '%s' %patient_id\n",
    "    #print url\n",
    "    r = requests.get(url, '')\n",
    "    r.encoding = 'utf-8'\n",
    "    data = json.loads(r.text)\n",
    "    \n",
    "    records  = list()\n",
    "    \n",
    "    for event in data['records']:\n",
    "           records.append((event['domain'], event['conceptId'], event['conceptName'], event['startDate'], event['endDate']))\n",
    "    \n",
    "    return records\n",
    "\n",
    "def getPatientDetail(patient_id):\n",
    "    '''\n",
    "    Get information about a specific patient (gender, year of birth, number of records)\n",
    "    '''\n",
    "    url = 'http://api.ohdsi.org/WebAPI/1PCT/person/' + '%s' %patient_id\n",
    "    #print url\n",
    "    r = requests.get(url, '')\n",
    "    r.encoding = 'utf-8'\n",
    "    data = json.loads(r.text)\n",
    "    \n",
    "    return data['gender'], data['yearOfBirth'], data['recordCount']\n",
    "\n",
    "def getPatientObservation(patient_id):\n",
    "    '''\n",
    "    Get all the observation periods of a specific patient\n",
    "    Returns the list of all observation periods\n",
    "    '''\n",
    "    \n",
    "    url = 'http://api.ohdsi.org/WebAPI/1PCT/person/' + '%s' %patient_id\n",
    "    r = requests.get(url, '')\n",
    "    r.encoding = 'utf-8'\n",
    "    data = json.loads(r.text)\n",
    "    \n",
    "    periods = list()\n",
    "    \n",
    "    for obs in data['observationPeriods']:\n",
    "        periods.append((obs['startDate'], obs['endDate'], obs['type']))\n",
    "    \n",
    "    return periods"
   ]
  },
  {
   "cell_type": "code",
   "execution_count": 24,
   "metadata": {
    "collapsed": true
   },
   "outputs": [],
   "source": [
    "#record = getPatientDetail(patientset[0])"
   ]
  },
  {
   "cell_type": "code",
   "execution_count": 25,
   "metadata": {
    "collapsed": true
   },
   "outputs": [],
   "source": [
    "#print len(record)\n",
    "#print record[0]"
   ]
  },
  {
   "cell_type": "code",
   "execution_count": null,
   "metadata": {
    "collapsed": true
   },
   "outputs": [],
   "source": [
    "#obs_2 = getPatientObservation(patientset[1])\n",
    "#print len(obs_2)\n",
    "#print obs_2[0]"
   ]
  },
  {
   "cell_type": "code",
   "execution_count": 51,
   "metadata": {
    "collapsed": true
   },
   "outputs": [],
   "source": [
    "def getPatientMeasurement(patient_id):\n",
    "    '''\n",
    "    Get all of a patient measurements\n",
    "    Returns them as a list\n",
    "    '''\n",
    "    patient_record = getPatientRecord(patient_id)\n",
    "    measurements = list()\n",
    "    \n",
    "    for record in patient_record:\n",
    "        if record[0] == 'measurement':\n",
    "            measurements.append(record)\n",
    "            \n",
    "    return measurements"
   ]
  },
  {
   "cell_type": "code",
   "execution_count": null,
   "metadata": {
    "collapsed": true
   },
   "outputs": [],
   "source": [
    "#measurements = getPatientMeasurement(patientset[5])\n",
    "#print measurements"
   ]
  },
  {
   "cell_type": "markdown",
   "metadata": {
    "collapsed": true
   },
   "source": [
    "## Example for the top DDI"
   ]
  },
  {
   "cell_type": "code",
   "execution_count": 13,
   "metadata": {},
   "outputs": [
    {
     "name": "stdout",
     "output_type": "stream",
     "text": [
      "{u'VOCABULARY_ID': u'LOINC', u'CONCEPT_CLASS_ID': u'Clinical Observation', u'STANDARD_CONCEPT_CAPTION': u'Standard', u'CONCEPT_NAME': u'BP systolic', u'INVALID_REASON': u'V', u'STANDARD_CONCEPT': u'S', u'INVALID_REASON_CAPTION': u'Valid', u'CONCEPT_CODE': u'8480-6', u'DOMAIN_ID': u'Measurement', u'CONCEPT_ID': 3004249}\n",
      "LOINC\n"
     ]
    }
   ],
   "source": [
    "# Get the concepts corresponding to blood pressure measurements (LOINC code)\n",
    "sys_BP_LOINC = \"8480\"+\"-\"+\"6\"\n",
    "sys_BP_OMOP = 3004249\n",
    "info_sys_BP = get_concept_info(sys_BP_OMOP)\n",
    "\n",
    "dias_BP_LOINC = \"8462\"+\"-\"+\"4\"\n",
    "dias_BP_OMOP = 3012888\n",
    "info_dias_BP = get_concept_info(dias_BP_OMOP)\n",
    "\n",
    "#print info_sys_BP\n",
    "#print info_sys_BP[\"VOCABULARY_ID\"]"
   ]
  },
  {
   "cell_type": "code",
   "execution_count": 14,
   "metadata": {},
   "outputs": [
    {
     "name": "stdout",
     "output_type": "stream",
     "text": [
      "{u'VOCABULARY_ID': u'RxNorm', u'CONCEPT_CLASS_ID': u'Ingredient', u'STANDARD_CONCEPT_CAPTION': u'Standard', u'CONCEPT_NAME': u'Acetaminophen', u'INVALID_REASON': u'V', u'STANDARD_CONCEPT': u'S', u'INVALID_REASON_CAPTION': u'Valid', u'CONCEPT_CODE': u'161', u'DOMAIN_ID': u'Drug', u'CONCEPT_ID': 1125315}\n",
      "10\n"
     ]
    }
   ],
   "source": [
    "# Get the concepts in OHDSI corresponding to the drugpair\n",
    "top_ddi = (1125315, 800878)\n",
    "info_drug1 = get_concept_info(top_ddi[0])\n",
    "info_drug2 = get_concept_info(top_ddi[1])\n",
    "\n",
    "#print info_drug1\n",
    "#print len(info_drug1)\n",
    "#print info_drug2"
   ]
  },
  {
   "cell_type": "code",
   "execution_count": 19,
   "metadata": {},
   "outputs": [
    {
     "name": "stdout",
     "output_type": "stream",
     "text": [
      "{u'VOCABULARY_ID': u'RxNorm', u'CONCEPT_CLASS_ID': u'Ingredient', u'STANDARD_CONCEPT_CAPTION': u'Standard', u'CONCEPT_NAME': u'Ibuprofen', u'INVALID_REASON': u'V', u'STANDARD_CONCEPT': u'S', u'INVALID_REASON_CAPTION': u'Valid', u'CONCEPT_CODE': u'5640', u'DOMAIN_ID': u'Drug', u'CONCEPT_ID': 1177480}\n",
      "226233\n",
      "http://api.ohdsi.org/WebAPI/cohortdefinition/226233/generate/1PCT\n",
      "[{u'status': u'PENDING', u'isValid': True, u'id': {u'sourceId': 3, u'cohortDefinitionId': 226233}, u'startTime': 1497884022502, u'executionDuration': 51517}]\n"
     ]
    }
   ],
   "source": [
    "ibuprofen = 1177480\n",
    "#info_ibuprofen = get_concept_info(ibuprofen)\n",
    "#print info_ibuprofen\n",
    "#data = cohort_definition(info_ibuprofen)\n",
    "#status = create_cohort(data)\n",
    "#print status\n",
    "#cohort_id = map_name_id[info_ibuprofen['CONCEPT_NAME']]\n",
    "#print cohort_id\n",
    "#info = generate_cohort(cohort_id)\n",
    "#print info"
   ]
  },
  {
   "cell_type": "code",
   "execution_count": 22,
   "metadata": {},
   "outputs": [
    {
     "name": "stdout",
     "output_type": "stream",
     "text": [
      "http://api.ohdsi.org/WebAPI/cohortresults/1PCT/226233/members/1-30000\n",
      "22156\n",
      "10\n",
      "[(1200009600000, 1267833600000, u'Period while enrolled in insurance')]\n"
     ]
    }
   ],
   "source": [
    "#patientset = getAlldistinctPatients(cohort_id)\n",
    "#print len(patientset)\n",
    "#print patientset[0]\n",
    "#info = getPatientObservation(patientset[0])\n",
    "#print info"
   ]
  },
  {
   "cell_type": "code",
   "execution_count": 21,
   "metadata": {},
   "outputs": [
    {
     "name": "stdout",
     "output_type": "stream",
     "text": [
      "(u'FEMALE', 1938, 170)\n"
     ]
    }
   ],
   "source": [
    "#details = getPatientDetail(patientset[0])\n",
    "#print details"
   ]
  },
  {
   "cell_type": "code",
   "execution_count": null,
   "metadata": {
    "collapsed": true
   },
   "outputs": [],
   "source": []
  }
 ],
 "metadata": {
  "kernelspec": {
   "display_name": "Python 2",
   "language": "python",
   "name": "python2"
  },
  "language_info": {
   "codemirror_mode": {
    "name": "ipython",
    "version": 2
   },
   "file_extension": ".py",
   "mimetype": "text/x-python",
   "name": "python",
   "nbconvert_exporter": "python",
   "pygments_lexer": "ipython2",
   "version": "2.7.12"
  }
 },
 "nbformat": 4,
 "nbformat_minor": 2
}
