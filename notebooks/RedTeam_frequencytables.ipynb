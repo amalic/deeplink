{
 "cells": [
  {
   "cell_type": "code",
   "execution_count": 1,
   "metadata": {
    "collapsed": false
   },
   "outputs": [],
   "source": [
    "import numpy as np\n",
    "from collections import defaultdict\n",
    "\n",
    "import gzip\n",
    "\n",
    "import csv\n",
    "\n",
    "from tqdm import tqdm\n",
    "\n",
    "from sklearn.ensemble import RandomForestClassifier\n",
    "from sklearn.metrics import roc_auc_score, roc_curve, auc\n",
    "\n",
    "import heapq\n",
    "\n",
    "import matplotlib.pyplot as plt\n"
   ]
  },
  {
   "cell_type": "code",
   "execution_count": 2,
   "metadata": {
    "collapsed": false
   },
   "outputs": [],
   "source": [
    "drug_mapping = defaultdict(list)\n",
    "all_drugs = list()\n",
    "\n",
    "with open('/home/rvanguri/deeplink/data/ingredientList.csv') as f:\n",
    "    reader = csv.reader(f)\n",
    "    for line in reader:\n",
    "        #print line\n",
    "        mapped = line[7]\n",
    "        concept_id = line[0]\n",
    "        drug_mapping[mapped] = concept_id\n",
    "        all_drugs.append(line[0])"
   ]
  },
  {
   "cell_type": "code",
   "execution_count": 3,
   "metadata": {
    "collapsed": false
   },
   "outputs": [],
   "source": [
    "all_outcomes = list()\n",
    "with open('/home/rvanguri/deeplink/data/reactionList.csv') as f:\n",
    "    reader = csv.reader(f)\n",
    "    for line in reader:\n",
    "        all_outcomes.append(line[0])"
   ]
  },
  {
   "cell_type": "code",
   "execution_count": 4,
   "metadata": {
    "collapsed": false
   },
   "outputs": [],
   "source": [
    "all_pairoutcomes = list()\n",
    "with open('/home/rvanguri/deeplink/data/pairReactions.csv') as f:\n",
    "    reader = csv.reader(f)\n",
    "    for line in reader:\n",
    "        all_pairoutcomes.append(line[0])"
   ]
  },
  {
   "cell_type": "code",
   "execution_count": 5,
   "metadata": {
    "collapsed": false
   },
   "outputs": [],
   "source": [
    "all_drugpairs = list()\n",
    "with open('/home/rvanguri/deeplink/data/drugpairList.csv') as f:\n",
    "    reader = csv.reader(f)\n",
    "    for line in reader:\n",
    "        all_drugpairs.append(line)"
   ]
  },
  {
   "cell_type": "code",
   "execution_count": 6,
   "metadata": {
    "collapsed": true
   },
   "outputs": [],
   "source": [
    "druglist = list()\n",
    "chem_features = np.zeros((1,64))\n",
    "\n",
    "with open('/home/rvanguri/drugs_simple_chem_features_formatted.txt') as f:\n",
    "    reader = csv.reader(f)\n",
    "\n",
    "    for line in reader:\n",
    "        druglist.append(line[0])\n",
    "        this_chem_features = np.zeros((1,64))\n",
    "        #print line\n",
    "        rxnorm = line[0]\n",
    "        for i in range(1,len(line)-1):\n",
    "            #print line[i]\n",
    "            this_chem_features[0,i-1] = line[i]\n",
    "        if reader.line_num==1:\n",
    "            chem_features = this_chem_features\n",
    "        else:\n",
    "            chem_features = np.vstack((chem_features,this_chem_features))"
   ]
  },
  {
   "cell_type": "code",
   "execution_count": 26,
   "metadata": {
    "collapsed": false
   },
   "outputs": [],
   "source": [
    "drugpair_chem_features = np.zeros((len(all_drugpairs),chem_features.shape[1]))\n",
    "\n",
    "for drugpair in all_drugpairs:\n",
    "    drug1 = drugpair[0]\n",
    "    drug2 = drugpair[1]\n",
    "    if drug1 == \"drug1_concept_id\":\n",
    "        continue\n",
    "        \n",
    "    chem_d1 = np.zeros((chem_features.shape[1]))\n",
    "    \n",
    "    if drug1 in druglist:\n",
    "        d1idx = druglist.index(drug1)\n",
    "        chem_d1 = chem_features[d1idx,:]\n",
    "        \n",
    "    if drug2 in druglist:\n",
    "        d2idx = druglist.index(drug2)\n",
    "        chem_d2 = chem_features[d2idx,:]\n",
    "    \n",
    "    chem_d1d2 = np.logical_or(chem_d1, chem_d2)\n",
    "    \n",
    "    drugpair_chem_features[all_drugpairs.index(drugpair),] = chem_d1d2"
   ]
  },
  {
   "cell_type": "code",
   "execution_count": 33,
   "metadata": {
    "collapsed": false
   },
   "outputs": [
    {
     "name": "stdout",
     "output_type": "stream",
     "text": [
      "(39801, 64)\n"
     ]
    }
   ],
   "source": [
    "print drugpair_chem_features.shape"
   ]
  },
  {
   "cell_type": "code",
   "execution_count": 40,
   "metadata": {
    "collapsed": false
   },
   "outputs": [],
   "source": [
    "def make_lsd_training_table(pos_drugs = None, neg_drugs = None):\n",
    "\n",
    "    pos_drugs_mapped = list()\n",
    "    for pos_drug in pos_drugs:\n",
    "        pos_drugs_mapped.append(drug_mapping[str(pos_drug)])\n",
    "        \n",
    "    neg_drugs_mapped = list()\n",
    "    for neg_drug in neg_drugs:\n",
    "        neg_drugs_mapped.append(drug_mapping[str(neg_drug)])\n",
    "        \n",
    "    #print pos_drugs_mapped\n",
    "    #print neg_drugs_mapped\n",
    "        \n",
    "    outcomes = np.concatenate((np.ones(len(pos_drugs),np.bool), np.zeros(len(neg_drugs),np.bool)))\n",
    "    \n",
    "    training_drugs = pos_drugs_mapped + neg_drugs_mapped\n",
    "    \n",
    "    #print outcomes\n",
    "    #print training_drugs\n",
    "    \n",
    "    ae_frequencies_training = np.zeros((len(pos_drugs)+len(neg_drugs),len(all_pairoutcomes)))\n",
    "\n",
    "    with gzip.open ('/home/rvanguri/deeplink/data/drugReactionCounts.csv.gz') as f:\n",
    "        reader = csv.reader(f)\n",
    "        for line in reader:\n",
    "            if line[0] in training_drugs:\n",
    "                #print training_drugs.index(line[0])\n",
    "                #print all_outcomes.index(int(line[1]))\n",
    "                if line[1] in all_pairoutcomes:\n",
    "                    ae_frequencies_training[training_drugs.index(line[0]), all_pairoutcomes.index(line[1])] = float(line[2])/float(line[3])\n",
    "                    \n",
    "                \n",
    "    chem_ind = list()\n",
    "    for drug in pos_drugs_mapped:\n",
    "        chem_ind.append(druglist.index(drug))\n",
    "    for drug in neg_drugs_mapped:\n",
    "        chem_ind.append(druglist.index(drug))\n",
    "        \n",
    "    rel_chem_features = chem_features[chem_ind,:]\n",
    "    \n",
    "    #print chem_features.shape\n",
    "    \n",
    "    features = np.hstack((ae_frequencies_training,rel_chem_features))\n",
    "                \n",
    "\n",
    "    #keep_cols = np.where( np.sum(ae_frequencies_training, axis=0) != 0)[0]\n",
    "    #print keep_cols\n",
    "    #ae_frequencies_training = ae_frequencies_training[:,keep_cols]\n",
    "                \n",
    "    return features, outcomes#, list(keep_cols)"
   ]
  },
  {
   "cell_type": "code",
   "execution_count": 41,
   "metadata": {
    "collapsed": false
   },
   "outputs": [
    {
     "name": "stdout",
     "output_type": "stream",
     "text": [
      "(81, 264)\n",
      "(81,)\n"
     ]
    }
   ],
   "source": [
    "#X,y,keep_cols = make_lsd_training_table([253190, 2549, 2580], [25806, 38323, 4511])\n",
    "\n",
    "pos_controls = [279645,17767,1760,283838,3247,3393,3521,231049,105694,4083,4099,4099,33747,24605,4331,4502,228783,5691,5781,6142,35827,30131,31448,141366,7417,7531,32613,8356,88014,10237,37418,10636,135775]\n",
    "neg_controls = [16681,167,743,18993,19737,2582,2890,136198,3361,3648,8031,4440,41126,228476,153970,6135,6146,6218,6406,28889,6672,59078,6832,6835,6845,6932,53654,32675,7984,7984,8686,8691,8704,596205,36117,9601,593411,235496,235496,235496,10156,9524,10355,37801,10402,10612,11002,114970]\n",
    "\n",
    "#MI\n",
    "X,y = make_lsd_training_table(pos_controls,neg_controls)\n",
    "\n",
    "print X.shape\n",
    "print y.shape"
   ]
  },
  {
   "cell_type": "code",
   "execution_count": 36,
   "metadata": {
    "collapsed": false
   },
   "outputs": [],
   "source": [
    "def make_lsd_testing_table():\n",
    "    ae_frequencies_ddi_testing = np.zeros((len(all_drugpairs),len(all_pairoutcomes)))\n",
    "    \n",
    "    with gzip.open ('/home/rvanguri/deeplink/data/drugpairReactionCounts.csv.gz') as f:\n",
    "        reader = csv.reader(f)\n",
    "        next(reader)\n",
    "        for line in tqdm(reader):\n",
    "            drugpair = [line[1],line[2]]\n",
    "            if line[0] in all_pairoutcomes:\n",
    "                #print all_outcomes.index(line[0])\n",
    "                #if all_pairoutcomes.index(line[0]) in keep_cols:\n",
    "                x_index = all_drugpairs.index(drugpair)\n",
    "                y_index = all_pairoutcomes.index(line[0])\n",
    "                \n",
    "                ae_frequencies_ddi_testing[x_index,y_index] = float(line[3])/float(line[4])\n",
    "                \n",
    "                \n",
    "    testing = np.hstack((ae_frequencies_ddi_testing,drugpair_chem_features))\n",
    "    #keep_rows = (np.sum(X_test,axis=1) != 0)[0]\n",
    "    \n",
    "                \n",
    "    return testing\n",
    "            "
   ]
  },
  {
   "cell_type": "code",
   "execution_count": 37,
   "metadata": {
    "collapsed": false
   },
   "outputs": [
    {
     "name": "stderr",
     "output_type": "stream",
     "text": [
      "1313184it [09:45, 2244.61it/s]\n"
     ]
    }
   ],
   "source": [
    "X_test = make_lsd_testing_table()"
   ]
  },
  {
   "cell_type": "code",
   "execution_count": 44,
   "metadata": {
    "collapsed": false
   },
   "outputs": [],
   "source": [
    "#remove this cell np.hstack((X_test, drugpair_chem_features))\n",
    "X_test_n = np.hstack((X_test, drugpair_chem_features))\n",
    "X_test = X_test_n"
   ]
  },
  {
   "cell_type": "code",
   "execution_count": 45,
   "metadata": {
    "collapsed": false
   },
   "outputs": [
    {
     "name": "stdout",
     "output_type": "stream",
     "text": [
      "(81, 264)\n",
      "(39801, 264)\n",
      "(81,)\n"
     ]
    }
   ],
   "source": [
    "print X.shape\n",
    "print X_test.shape\n",
    "print y.shape"
   ]
  },
  {
   "cell_type": "code",
   "execution_count": 52,
   "metadata": {
    "collapsed": false
   },
   "outputs": [],
   "source": [
    "def drugpair_predictions(X,y,X_test):\n",
    "    rf = RandomForestClassifier(oob_score=True,random_state=12)\n",
    "    rf.fit(X,y)\n",
    "    predictions_proba = rf.predict_proba(X_test)[:,1]\n",
    "    predictions = rf.predict(X_test)\n",
    "    \n",
    "    #print rf.score(X,y)\n",
    "    oob_predictions = rf.oob_decision_function_[:,1]\n",
    "    #print oob_predictions\n",
    "    \n",
    "    oob_predictions[ np.where( np.isnan(oob_predictions) == True)[0]] = 0\n",
    "    \n",
    "    print oob_predictions\n",
    "    \n",
    "    print \"OOB ROC:\",roc_auc_score(y_true=y, y_score=oob_predictions)\n",
    "    fprOOB, tprOOB, _ = roc_curve(y_true=y,y_score=oob_predictions)\n",
    "    \n",
    "    y_pred = np.zeros((len(predictions)))\n",
    "    \n",
    "    pos_drugs_mapped = list()\n",
    "    for pos_drug in pos_controls:\n",
    "        pos_drugs_mapped.append(drug_mapping[str(pos_drug)])\n",
    "        \n",
    "    for drugpair in all_drugpairs:         \n",
    "        for drug in drugpair:\n",
    "            if drug in pos_drugs_mapped:\n",
    "                y_pred[all_drugpairs.index(drugpair)] = 1\n",
    "                \n",
    "    pred_sorted = predictions_proba\n",
    "    \n",
    "    top_ddi = heapq.nlargest(10, range(len(pred_sorted)), pred_sorted.__getitem__)\n",
    "\n",
    "    while 1:\n",
    "        for ddi in top_ddi:\n",
    "            for drug in all_drugpairs[ddi]:\n",
    "                if drug in pos_drugs_mapped:\n",
    "                    pred_sorted[ddi] = 0\n",
    "                    top_ddi = np.delete(top_ddi, top_ddi.index(ddi))\n",
    "        if len(top_ddi) == 10:\n",
    "            break\n",
    "        else:\n",
    "            top_ddi = heapq.nlargest(10, range(len(pred_sorted)), pred_sorted.__getitem__)\n",
    "                \n",
    "    print len(top_ddi)\n",
    "    \n",
    "    for ddi in top_ddi:\n",
    "        print all_drugpairs[ddi], predictions_proba[ddi]\n",
    "            \n",
    "    print \"Number of positive predictions:\",np.sum(y_pred)\n",
    "    \n",
    "    print \"Single-drug ROC:\",roc_auc_score(y_true=y_pred,y_score=predictions_proba)\n",
    "    \n",
    "    fprSD, tprSD, _ = roc_curve(y_true=y_pred,y_score=predictions_proba)\n",
    "    \n",
    "    plt.figure()\n",
    "    plt.plot(fprSD,tprSD,label='One-of-pair (area= %0.2f)' % auc(fprSD,tprSD))\n",
    "    plt.plot(fprOOB,tprOOB,label='OOB (area= %0.2f)' % auc(fprOOB,tprOOB))\n",
    "    plt.legend(loc=\"lower right\")\n",
    "    plt.show()\n",
    "    \n",
    "    "
   ]
  },
  {
   "cell_type": "code",
   "execution_count": 53,
   "metadata": {
    "collapsed": false
   },
   "outputs": [
    {
     "name": "stdout",
     "output_type": "stream",
     "text": [
      "[ 0.5         0.          0.2         0.33333333  0.66666667  0.5         0.25\n",
      "  1.          0.5         1.          0.66666667  0.          0.5         0.75\n",
      "  0.33333333  0.25        0.25        1.          0.          0.16666667\n",
      "  0.5         0.75        0.25        1.          0.66666667  0.          0.8\n",
      "  1.          1.          0.          1.          0.          1.          0.4\n",
      "  0.          0.          0.4         0.2         0.25        0.375\n",
      "  0.66666667  0.8         0.5         0.62        0.35714286  0.          0.5\n",
      "  0.66666667  0.75        0.33333333  0.16666667  0.          0.          1.\n",
      "  0.5         0.25        0.          0.33333333  0.          0.          1.\n",
      "  0.          0.6         0.66666667  0.16666667  0.          0.8         0.25\n",
      "  0.25        0.5         0.4         1.          0.875       1.          0.5\n",
      "  0.5         0.33333333  0.          0.57142857  0.2         0.        ]\n",
      "OOB ROC: 0.59375\n",
      "10\n",
      "['743670', '1398937'] 1.0\n",
      "['780442', '941258'] 1.0\n",
      "['941258', '780442'] 1.0\n",
      "['1115008', '1150345'] 1.0\n",
      "['1150345', '1115008'] 1.0\n",
      "['1151789', '1777087'] 1.0\n",
      "['1189754', '1703687'] 1.0\n",
      "['1398937', '743670'] 1.0\n",
      "['1500211', '1551099'] 1.0\n",
      "['1551099', '1500211'] 1.0\n",
      "Number of positive predictions: 1580.0\n",
      "Single-drug ROC: 0.550230554546\n"
     ]
    },
    {
     "data": {
      "image/png": "[encoded data removed]",
      "text/plain": [
       "<matplotlib.figure.Figure at 0x57642d0>"
      ]
     },
     "metadata": {},
     "output_type": "display_data"
    }
   ],
   "source": [
    "drugpair_predictions(X,y,X_test)"
   ]
  },
  {
   "cell_type": "code",
   "execution_count": 11,
   "metadata": {
    "collapsed": false
   },
   "outputs": [],
   "source": [
    "with open('/home/rvanguri/drugs_simple_chem_features_formatted.txt') as f:\n",
    "    reader = csv.reader(f)\n",
    "    \n",
    "    druglist = list()\n",
    "    chem_features = np.zeros((1,64))\n",
    "        \n",
    "    for line in reader:\n",
    "        druglist.append(line[0])\n",
    "        this_chem_features = np.zeros((1,64))\n",
    "        #print line\n",
    "        rxnorm = line[0]\n",
    "        for i in range(1,len(line)-1):\n",
    "            #print line[i]\n",
    "            this_chem_features[0,i-1] = line[i]\n",
    "        if reader.line_num==1:\n",
    "            chem_features = this_chem_features\n",
    "        else:\n",
    "            chem_features = np.vstack((chem_features,this_chem_features))\n",
    "            "
   ]
  },
  {
   "cell_type": "code",
   "execution_count": 14,
   "metadata": {
    "collapsed": false
   },
   "outputs": [
    {
     "name": "stdout",
     "output_type": "stream",
     "text": [
      "(3525, 64)\n",
      "3525\n"
     ]
    }
   ],
   "source": [
    "print chem_features.shape\n",
    "print len(druglist)"
   ]
  },
  {
   "cell_type": "code",
   "execution_count": null,
   "metadata": {
    "collapsed": true
   },
   "outputs": [],
   "source": []
  }
 ],
 "metadata": {
  "kernelspec": {
   "display_name": "Python 2",
   "language": "python",
   "name": "python2"
  },
  "language_info": {
   "codemirror_mode": {
    "name": "ipython",
    "version": 2
   },
   "file_extension": ".py",
   "mimetype": "text/x-python",
   "name": "python",
   "nbconvert_exporter": "python",
   "pygments_lexer": "ipython2",
   "version": "2.7.5"
  }
 },
 "nbformat": 4,
 "nbformat_minor": 2
}
