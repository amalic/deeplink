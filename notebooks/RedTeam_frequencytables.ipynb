{
 "cells": [
  {
   "cell_type": "code",
   "execution_count": 341,
   "metadata": {
    "collapsed": false
   },
   "outputs": [],
   "source": [
    "import numpy as np\n",
    "from collections import defaultdict\n",
    "\n",
    "import gzip\n",
    "\n",
    "import csv\n",
    "\n",
    "from tqdm import tqdm\n",
    "\n",
    "from sklearn.ensemble import RandomForestClassifier\n",
    "from sklearn.metrics import roc_auc_score, roc_curve, auc\n",
    "\n",
    "import heapq\n",
    "\n",
    "import matplotlib.pyplot as plt\n"
   ]
  },
  {
   "cell_type": "code",
   "execution_count": 2,
   "metadata": {
    "collapsed": false
   },
   "outputs": [],
   "source": [
    "drug_mapping = defaultdict(list)\n",
    "all_drugs = list()\n",
    "\n",
    "with open('/home/rvanguri/deeplink/data/ingredientList.csv') as f:\n",
    "    reader = csv.reader(f)\n",
    "    for line in reader:\n",
    "        #print line\n",
    "        mapped = line[7]\n",
    "        concept_id = line[0]\n",
    "        drug_mapping[mapped] = concept_id\n",
    "        all_drugs.append(line[0])"
   ]
  },
  {
   "cell_type": "code",
   "execution_count": 3,
   "metadata": {
    "collapsed": false
   },
   "outputs": [],
   "source": [
    "all_outcomes = list()\n",
    "with open('/home/rvanguri/deeplink/data/reactionList.csv') as f:\n",
    "    reader = csv.reader(f)\n",
    "    for line in reader:\n",
    "        all_outcomes.append(line[0])"
   ]
  },
  {
   "cell_type": "code",
   "execution_count": 18,
   "metadata": {
    "collapsed": true
   },
   "outputs": [],
   "source": [
    "all_pairoutcomes = list()\n",
    "with open('/home/rvanguri/deeplink/data/pairReactions.csv') as f:\n",
    "    reader = csv.reader(f)\n",
    "    for line in reader:\n",
    "        all_pairoutcomes.append(line[0])"
   ]
  },
  {
   "cell_type": "code",
   "execution_count": 4,
   "metadata": {
    "collapsed": false
   },
   "outputs": [],
   "source": [
    "all_drugpairs = list()\n",
    "with open('/home/rvanguri/deeplink/data/drugpairList.csv') as f:\n",
    "    reader = csv.reader(f)\n",
    "    for line in reader:\n",
    "        all_drugpairs.append(line)"
   ]
  },
  {
   "cell_type": "code",
   "execution_count": 38,
   "metadata": {
    "collapsed": false
   },
   "outputs": [],
   "source": [
    "def make_lsd_training_table(pos_drugs = None, neg_drugs = None):\n",
    "\n",
    "    pos_drugs_mapped = list()\n",
    "    for pos_drug in pos_drugs:\n",
    "        pos_drugs_mapped.append(drug_mapping[str(pos_drug)])\n",
    "        \n",
    "    neg_drugs_mapped = list()\n",
    "    for neg_drug in neg_drugs:\n",
    "        neg_drugs_mapped.append(drug_mapping[str(neg_drug)])\n",
    "        \n",
    "    #print pos_drugs_mapped\n",
    "    #print neg_drugs_mapped\n",
    "        \n",
    "    outcomes = np.concatenate((np.ones(len(pos_drugs),np.bool), np.zeros(len(neg_drugs),np.bool)))\n",
    "    \n",
    "    training_drugs = pos_drugs_mapped + neg_drugs_mapped\n",
    "    \n",
    "    #print outcomes\n",
    "    #print training_drugs\n",
    "    \n",
    "    ae_frequencies_training = np.zeros((len(pos_drugs)+len(neg_drugs),len(all_pairoutcomes)))\n",
    "\n",
    "    with gzip.open ('/home/rvanguri/deeplink/data/drugReactionCounts.csv.gz') as f:\n",
    "        reader = csv.reader(f)\n",
    "        for line in reader:\n",
    "            if line[0] in training_drugs:\n",
    "                #print training_drugs.index(line[0])\n",
    "                #print all_outcomes.index(int(line[1]))\n",
    "                if line[1] in all_pairoutcomes:\n",
    "                    ae_frequencies_training[training_drugs.index(line[0]), all_pairoutcomes.index(line[1])] = float(line[2])/float(line[3])\n",
    "                \n",
    "\n",
    "    #keep_cols = np.where( np.sum(ae_frequencies_training, axis=0) != 0)[0]\n",
    "    #print keep_cols\n",
    "    #ae_frequencies_training = ae_frequencies_training[:,keep_cols]\n",
    "                \n",
    "    return ae_frequencies_training, outcomes#, list(keep_cols)"
   ]
  },
  {
   "cell_type": "code",
   "execution_count": 122,
   "metadata": {
    "collapsed": false
   },
   "outputs": [
    {
     "name": "stdout",
     "output_type": "stream",
     "text": [
      "(81, 200)\n",
      "(81,)\n"
     ]
    }
   ],
   "source": [
    "#X,y,keep_cols = make_lsd_training_table([253190, 2549, 2580], [25806, 38323, 4511])\n",
    "\n",
    "pos_controls = [279645,17767,1760,283838,3247,3393,3521,231049,105694,4083,4099,4099,33747,24605,4331,4502,228783,5691,5781,6142,35827,30131,31448,141366,7417,7531,32613,8356,88014,10237,37418,10636,135775]\n",
    "neg_controls = [16681,167,743,18993,19737,2582,2890,136198,3361,3648,8031,4440,41126,228476,153970,6135,6146,6218,6406,28889,6672,59078,6832,6835,6845,6932,53654,32675,7984,7984,8686,8691,8704,596205,36117,9601,593411,235496,235496,235496,10156,9524,10355,37801,10402,10612,11002,114970]\n",
    "\n",
    "#MI\n",
    "X,y = make_lsd_training_table(pos_controls,neg_controls)\n",
    "\n",
    "print X.shape\n",
    "print y.shape"
   ]
  },
  {
   "cell_type": "code",
   "execution_count": 47,
   "metadata": {
    "collapsed": false
   },
   "outputs": [],
   "source": [
    "def make_lsd_testing_table():\n",
    "    ae_frequencies_ddi_testing = np.zeros((len(all_drugpairs),len(all_pairoutcomes)))\n",
    "    \n",
    "    with gzip.open ('/home/rvanguri/deeplink/data/drugpairReactionCounts.csv.gz') as f:\n",
    "        reader = csv.reader(f)\n",
    "        next(reader)\n",
    "        for line in tqdm(reader):\n",
    "            drugpair = [line[1],line[2]]\n",
    "            if line[0] in all_pairoutcomes:\n",
    "                #print all_outcomes.index(line[0])\n",
    "                #if all_pairoutcomes.index(line[0]) in keep_cols:\n",
    "                x_index = all_drugpairs.index(drugpair)\n",
    "                y_index = all_pairoutcomes.index(line[0])\n",
    "                \n",
    "                ae_frequencies_ddi_testing[x_index,y_index] = float(line[3])/float(line[4])\n",
    "                    \n",
    "    #keep_rows = (np.sum(X_test,axis=1) != 0)[0]\n",
    "    \n",
    "                \n",
    "    return ae_frequencies_ddi_testing\n",
    "            "
   ]
  },
  {
   "cell_type": "code",
   "execution_count": 48,
   "metadata": {
    "collapsed": false
   },
   "outputs": [
    {
     "name": "stderr",
     "output_type": "stream",
     "text": [
      "1313184it [14:01, 1561.21it/s]\n"
     ]
    }
   ],
   "source": [
    "X_test = make_lsd_testing_table()"
   ]
  },
  {
   "cell_type": "code",
   "execution_count": 49,
   "metadata": {
    "collapsed": false
   },
   "outputs": [
    {
     "name": "stdout",
     "output_type": "stream",
     "text": [
      "(81, 200)\n",
      "(39801, 200)\n",
      "(81,)\n"
     ]
    }
   ],
   "source": [
    "print X.shape\n",
    "print X_test.shape\n",
    "print y.shape"
   ]
  },
  {
   "cell_type": "code",
   "execution_count": 53,
   "metadata": {
    "collapsed": false
   },
   "outputs": [
    {
     "name": "stdout",
     "output_type": "stream",
     "text": [
      "33\n",
      "33\n"
     ]
    }
   ],
   "source": [
    "pos = [279645,17767,1760,283838,3247,3393,3521,231049,105694,4083,4099,4099,33747,24605,4331,4502,228783,5691,5781,6142,35827,30131,31448,141366,7417,7531,32613,8356,88014,10237,37418,10636,135775]\n",
    "print len(pos)\n",
    "print np.sum(y)"
   ]
  },
  {
   "cell_type": "code",
   "execution_count": 70,
   "metadata": {
    "collapsed": false
   },
   "outputs": [
    {
     "data": {
      "text/plain": [
       "LogisticRegression(C=1.0, class_weight=None, dual=False, fit_intercept=True,\n",
       "          intercept_scaling=1, max_iter=100, multi_class='ovr', n_jobs=1,\n",
       "          penalty='l1', random_state=None, solver='liblinear', tol=1e-09,\n",
       "          verbose=0, warm_start=False)"
      ]
     },
     "execution_count": 70,
     "metadata": {},
     "output_type": "execute_result"
    }
   ],
   "source": [
    "from sklearn.linear_model import LogisticRegression\n",
    "lr = LogisticRegression(penalty='l1',tol=0.000000001)\n",
    "lr.fit(X,y)"
   ]
  },
  {
   "cell_type": "code",
   "execution_count": 71,
   "metadata": {
    "collapsed": false
   },
   "outputs": [
    {
     "data": {
      "text/plain": [
       "0"
      ]
     },
     "execution_count": 71,
     "metadata": {},
     "output_type": "execute_result"
    }
   ],
   "source": [
    "np.sum(lr.predict(X_test))"
   ]
  },
  {
   "cell_type": "code",
   "execution_count": 17,
   "metadata": {
    "collapsed": false
   },
   "outputs": [
    {
     "data": {
      "text/plain": [
       "array([  1.12057833e-04,   3.21990739e-04,   1.64243027e-04,\n",
       "         2.86835621e-04,   1.34109734e-04,   7.30697410e-05,\n",
       "         2.68748808e-04,   2.14937115e-04,   2.95266994e-04,\n",
       "         2.95140561e-04,   3.15542544e-04,   0.00000000e+00,\n",
       "         1.82451762e-04,   2.48721685e-04,   1.29814035e-05,\n",
       "         1.34456820e-04,   1.03806177e-04,   2.31435484e-04,\n",
       "         2.55370283e-04,   2.45681150e-04,   2.72486589e-04,\n",
       "         1.31821166e-04,   2.58492106e-04,   1.46594393e-04,\n",
       "         2.96932861e-04,   2.71001677e-04,   1.78578093e-04,\n",
       "         2.24704625e-04,   2.32728624e-04,   1.70377215e-04,\n",
       "         2.71517944e-04,   6.67986098e-06,   2.12730888e-04,\n",
       "         2.11480504e-04,   1.94504707e-04,   3.50070483e-05,\n",
       "         2.50291839e-04,   8.00228496e-05,   2.89761394e-04,\n",
       "         7.65855604e-06,   2.20651323e-04,   2.81259102e-04,\n",
       "         1.27051663e-04,   0.00000000e+00,   2.11328809e-05,\n",
       "         3.14338852e-04,   2.37363978e-04,   2.55084801e-04,\n",
       "         2.26538864e-04,   1.26777436e-04,   2.89789301e-04,\n",
       "         2.34575170e-04,   2.93332802e-04,   4.55723347e-05,\n",
       "         2.70394411e-04,   1.01432340e-04,   1.91772846e-04,\n",
       "         2.70484198e-04,   1.86380849e-04,   2.33997109e-04,\n",
       "         2.69144415e-04,   2.00919655e-04,   0.00000000e+00,\n",
       "         2.87370773e-05,   2.30727512e-04,   3.04664361e-04,\n",
       "         2.06012184e-04,   3.05682407e-04,   2.31828136e-04,\n",
       "         2.98416749e-04,   3.13503461e-05,   0.00000000e+00,\n",
       "         0.00000000e+00,   2.79685536e-04,   2.72748764e-04,\n",
       "         3.05279675e-04,   2.46995335e-04,   2.08171219e-04,\n",
       "         2.67495588e-05,   1.62098346e-04,   1.74004979e-04])"
      ]
     },
     "execution_count": 17,
     "metadata": {},
     "output_type": "execute_result"
    }
   ],
   "source": [
    "np.mean(X,axis=1)"
   ]
  },
  {
   "cell_type": "code",
   "execution_count": 352,
   "metadata": {
    "collapsed": false
   },
   "outputs": [],
   "source": [
    "def drugpair_predictions(X,y,X_test):\n",
    "    rf = RandomForestClassifier(oob_score=True, random_state=12)\n",
    "    rf.fit(X,y)\n",
    "    predictions_proba = rf.predict_proba(X_test)[:,1]\n",
    "    predictions = rf.predict(X_test)\n",
    "    \n",
    "    #print rf.score(X,y)\n",
    "    oob_predictions = rf.oob_decision_function_[:,1]\n",
    "    #print oob_predictions\n",
    "    \n",
    "    oob_predictions[ np.where( np.isnan(oob_predictions) == True)[0]] = 0\n",
    "    \n",
    "    print oob_predictions\n",
    "    \n",
    "    print \"OOB ROC:\",roc_auc_score(y_true=y, y_score=oob_predictions)\n",
    "    fprOOB, tprOOB, _ = roc_curve(y_true=y,y_score=oob_predictions)\n",
    "    \n",
    "    y_pred = np.zeros((len(predictions)))\n",
    "    \n",
    "    pos_drugs_mapped = list()\n",
    "    for pos_drug in pos_controls:\n",
    "        pos_drugs_mapped.append(drug_mapping[str(pos_drug)])\n",
    "        \n",
    "    for drugpair in all_drugpairs:         \n",
    "        for drug in drugpair:\n",
    "            if drug in pos_drugs_mapped:\n",
    "                y_pred[all_drugpairs.index(drugpair)] = 1\n",
    "                \n",
    "    pred_sorted = predictions_proba\n",
    "    \n",
    "    top_ddi = heapq.nlargest(10, range(len(pred_sorted)), pred_sorted.__getitem__)\n",
    "\n",
    "    while 1:\n",
    "        for ddi in top_ddi:\n",
    "            for drug in all_drugpairs[ddi]:\n",
    "                if drug in pos_drugs_mapped:\n",
    "                    pred_sorted[ddi] = 0\n",
    "                    top_ddi = np.delete(top_ddi, top_ddi.index(ddi))\n",
    "        if len(top_ddi) == 10:\n",
    "            break\n",
    "        else:\n",
    "            top_ddi = heapq.nlargest(10, range(len(pred_sorted)), pred_sorted.__getitem__)\n",
    "                \n",
    "    print len(top_ddi)\n",
    "    \n",
    "    for ddi in top_ddi:\n",
    "        print all_drugpairs[ddi], predictions_proba[ddi]\n",
    "            \n",
    "    print \"Number of positive predictions:\",np.sum(y_pred)\n",
    "    \n",
    "    print \"Single-drug ROC:\",roc_auc_score(y_true=y_pred,y_score=predictions_proba)\n",
    "    \n",
    "    fprSD, tprSD, _ = roc_curve(y_true=y_pred,y_score=predictions_proba)\n",
    "    \n",
    "    plt.figure()\n",
    "    plt.plot(fprSD,tprSD,label='One-of-pair (area= %0.2f)' % auc(fprSD,tprSD))\n",
    "    plt.plot(fprOOB,tprOOB,label='OOB (area= %0.2f)' % auc(fprOOB,tprOOB))\n",
    "    plt.legend(loc=\"lower right\")\n",
    "    plt.show()\n",
    "    \n",
    "    "
   ]
  },
  {
   "cell_type": "code",
   "execution_count": 353,
   "metadata": {
    "collapsed": false
   },
   "outputs": [
    {
     "name": "stdout",
     "output_type": "stream",
     "text": [
      "[ 0.          0.66666667  0.4         0.33333333  0.66666667  0.5         0.75\n",
      "  1.          0.5         1.          0.66666667  0.          1.          0.5\n",
      "  0.75        0.25        1.          1.          0.          0.66666667\n",
      "  1.          1.          0.25        1.          0.33333333  1.          0.8\n",
      "  1.          1.          0.          0.66666667  0.25        0.5         0.4\n",
      "  1.          0.38888889  0.          0.2         0.25        0.25\n",
      "  0.83333333  0.8         1.          0.45333333  0.05952381  0.5         0.5\n",
      "  0.33333333  0.          0.33333333  0.5         0.33333333  1.          0.\n",
      "  0.75        0.25        0.25        1.          0.5         0.16666667\n",
      "  0.          0.          0.43666667  0.          0.5         1.          0.4\n",
      "  0.5         0.5         0.          0.          0.61111111  0.52083333\n",
      "  0.          0.25        0.66666667  0.66666667  0.66666667  0.3952381\n",
      "  0.4         0.5       ]\n",
      "OOB ROC: 0.671085858586\n",
      "10\n",
      "['19122121', '743670'] 0.9\n",
      "['40226579', '715259'] 0.9\n",
      "['703547', '1506270'] 0.9\n",
      "['705103', '1307046'] 0.9\n",
      "['710062', '1316262'] 0.9\n",
      "['711584', '791967'] 0.9\n",
      "['715259', '40226579'] 0.9\n",
      "['715939', '1353766'] 0.9\n",
      "['722031', '1549786'] 0.9\n",
      "['722424', '797617'] 0.9\n",
      "Number of positive predictions: 1580.0\n",
      "Single-drug ROC: 0.529305481545\n"
     ]
    },
    {
     "data": {
      "image/png": "[encoded data removed]",
      "text/plain": [
       "<matplotlib.figure.Figure at 0x5e7df50>"
      ]
     },
     "metadata": {},
     "output_type": "display_data"
    }
   ],
   "source": [
    "drugpair_predictions(X,y,X_test)"
   ]
  },
  {
   "cell_type": "code",
   "execution_count": 282,
   "metadata": {
    "collapsed": false
   },
   "outputs": [
    {
     "ename": "AttributeError",
     "evalue": "'collections.defaultdict' object has no attribute 'index'",
     "output_type": "error",
     "traceback": [
      "\u001b[0;31m---------------------------------------------------------------------------\u001b[0m",
      "\u001b[0;31mAttributeError\u001b[0m                            Traceback (most recent call last)",
      "\u001b[0;32m<ipython-input-282-8d14bdd5b796>\u001b[0m in \u001b[0;36m<module>\u001b[0;34m()\u001b[0m\n\u001b[0;32m----> 1\u001b[0;31m \u001b[0mdrug_mapping\u001b[0m\u001b[0;34m.\u001b[0m\u001b[0mindex\u001b[0m\u001b[0;34m(\u001b[0m\u001b[0;36m781039\u001b[0m\u001b[0;34m)\u001b[0m\u001b[0;34m\u001b[0m\u001b[0m\n\u001b[0m",
      "\u001b[0;31mAttributeError\u001b[0m: 'collections.defaultdict' object has no attribute 'index'"
     ]
    }
   ],
   "source": [
    "drug_mapping.index(781039'')"
   ]
  },
  {
   "cell_type": "code",
   "execution_count": null,
   "metadata": {
    "collapsed": true
   },
   "outputs": [],
   "source": []
  }
 ],
 "metadata": {
  "kernelspec": {
   "display_name": "Python 2",
   "language": "python",
   "name": "python2"
  },
  "language_info": {
   "codemirror_mode": {
    "name": "ipython",
    "version": 2
   },
   "file_extension": ".py",
   "mimetype": "text/x-python",
   "name": "python",
   "nbconvert_exporter": "python",
   "pygments_lexer": "ipython2",
   "version": "2.7.5"
  }
 },
 "nbformat": 4,
 "nbformat_minor": 2
}
