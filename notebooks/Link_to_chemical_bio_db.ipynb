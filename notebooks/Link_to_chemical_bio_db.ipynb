{
 "cells": [
  {
   "cell_type": "markdown",
   "metadata": {},
   "source": [
    "## Input: drug_name, Output: Rxnorm"
   ]
  },
  {
   "cell_type": "code",
   "execution_count": 3,
   "metadata": {
    "collapsed": true
   },
   "outputs": [],
   "source": [
    "from biothings_client import get_client\n",
    "\n",
    "# get mydrug client\n",
    "md = get_client('drug')\n",
    "\n",
    "def names2rxnorm(drug_name_list):\n",
    "    results = {}\n",
    "    for _drug in drug_name_list:\n",
    "        query_term = 'aeolus.drug_name:' + _drug\n",
    "        _result = md.query(query_term, fields='aeolus.drug_code')\n",
    "        if _result['hits'] != []:\n",
    "            results[_drug] = [_record['aeolus']['drug_code'] for _record in _result['hits']]\n",
    "        else:\n",
    "            results[_drug] = ['no results found']\n",
    "    return results\n",
    "    "
   ]
  },
  {
   "cell_type": "markdown",
   "metadata": {},
   "source": [
    "### Example"
   ]
  },
  {
   "cell_type": "code",
   "execution_count": 4,
   "metadata": {
    "collapsed": false
   },
   "outputs": [
    {
     "data": {
      "text/plain": [
       "{'Methandriol': ['6817'], 'topiramate': ['38404'], 'varenicline': ['591622']}"
      ]
     },
     "execution_count": 4,
     "metadata": {},
     "output_type": "execute_result"
    }
   ],
   "source": [
    "names2rxnorm(['varenicline', 'Tranylcypromine', 'topiramate'])"
   ]
  },
  {
   "cell_type": "markdown",
   "metadata": {},
   "source": [
    "## Input: Rxnorm, Output: Enzyme Uniprot ID & Gene Symbol"
   ]
  },
  {
   "cell_type": "code",
   "execution_count": 13,
   "metadata": {
    "collapsed": true
   },
   "outputs": [],
   "source": [
    "def rxnorms2enzyme(rxnorm_list):\n",
    "    results = {}\n",
    "    for _rxnorm in rxnorm_list:\n",
    "        query_term = 'aeolus.drug_code:' + _rxnorm\n",
    "        _result = md.query(query_term, fields='drugbank.enzymes.name, drugbank.enzymes.uniprot')\n",
    "        if _result['hits'] != []:\n",
    "            results[_rxnorm] = [_record['drugbank'] for _record in _result['hits']]\n",
    "        else:\n",
    "            results[_rxnorm] = ['no results found']\n",
    "    return results"
   ]
  },
  {
   "cell_type": "markdown",
   "metadata": {},
   "source": [
    "### Example"
   ]
  },
  {
   "cell_type": "code",
   "execution_count": 16,
   "metadata": {
    "collapsed": false
   },
   "outputs": [
    {
     "data": {
      "text/plain": [
       "{'3418': [{'enzymes': {'name': 'Cytochrome P450 3A4', 'uniprot': 'P08684'}}],\n",
       " '38404': [{'enzymes': [{'name': 'Cytochrome P450 2C19', 'uniprot': 'P33261'},\n",
       "    {'name': 'Cytochrome P450 3A4', 'uniprot': 'P08684'}]}]}"
      ]
     },
     "execution_count": 16,
     "metadata": {},
     "output_type": "execute_result"
    }
   ],
   "source": [
    "rxnorms2enzyme(['38404', '3418'])"
   ]
  },
  {
   "cell_type": "markdown",
   "metadata": {},
   "source": [
    "## Input: two drug_names, Output: whether having common enzymes"
   ]
  },
  {
   "cell_type": "code",
   "execution_count": 71,
   "metadata": {
    "collapsed": true
   },
   "outputs": [],
   "source": [
    "def rxnorms2enzymes(rxnorm_list):\n",
    "    results = {}\n",
    "    for _rxnorm in rxnorm_list:\n",
    "        query_term = 'aeolus.drug_code:' + _rxnorm\n",
    "        _result = md.query(query_term, fields='drugbank.enzymes.uniprot')\n",
    "        if 'hits' in _result:\n",
    "            results[_rxnorm] = [_record['uniprot'] for _record in _result['hits'][0]['drugbank']['enzymes']]\n",
    "        else:\n",
    "            results[_rxnorm] = ['no results found']\n",
    "    return results\n",
    "            "
   ]
  },
  {
   "cell_type": "code",
   "execution_count": 72,
   "metadata": {
    "collapsed": true
   },
   "outputs": [],
   "source": [
    "def compareenzymes(drug_name_list):\n",
    "    results = rxnorms2enzymes(drug_name_list)\n",
    "    uniprot_list = []\n",
    "    for drug, uniprot in results.items():\n",
    "        uniprot_list.append(uniprot)\n",
    "    overlap = list(set(uniprot_list[0]) & set(uniprot_list[1]))\n",
    "    if overlap:\n",
    "        return {'overlap': overlap}\n",
    "    else:\n",
    "        print('no overlap')"
   ]
  },
  {
   "cell_type": "markdown",
   "metadata": {},
   "source": [
    "### Example"
   ]
  },
  {
   "cell_type": "code",
   "execution_count": 74,
   "metadata": {
    "collapsed": false
   },
   "outputs": [
    {
     "data": {
      "text/plain": [
       "{'36567': ['P08684',\n",
       "  'P20815',\n",
       "  'P24462',\n",
       "  'P10632',\n",
       "  'P11712',\n",
       "  'P33261',\n",
       "  'P10635',\n",
       "  'P20813',\n",
       "  'P22309',\n",
       "  'P35503',\n",
       "  'P16662'],\n",
       " '38404': ['P33261', 'P08684']}"
      ]
     },
     "execution_count": 74,
     "metadata": {},
     "output_type": "execute_result"
    }
   ],
   "source": [
    "rxnorms2enzymes(['36567', '38404'])"
   ]
  },
  {
   "cell_type": "code",
   "execution_count": 76,
   "metadata": {
    "collapsed": false
   },
   "outputs": [
    {
     "data": {
      "text/plain": [
       "{'overlap': ['P08684', 'P33261']}"
      ]
     },
     "execution_count": 76,
     "metadata": {},
     "output_type": "execute_result"
    }
   ],
   "source": [
    "compareenzymes(['36567', '38404'])"
   ]
  },
  {
   "cell_type": "code",
   "execution_count": 77,
   "metadata": {
    "collapsed": false
   },
   "outputs": [],
   "source": [
    "mg = get_client('gene')\n",
    "def uniprot2symbol(uniprot_id_list):\n",
    "    results = [['uniprot_id', 'gene_name', 'gene_symbol']]\n",
    "    for _uniprot in uniprot_id_list:\n",
    "        query_term = 'uniprot.Swiss-Prot:' + _uniprot\n",
    "        _result = mg.query(query_term)\n",
    "        if _result['hits'] != []:\n",
    "            results.append([_uniprot, _result['hits'][0]['name'], _result['hits'][0]['symbol']])\n",
    "    return results"
   ]
  },
  {
   "cell_type": "code",
   "execution_count": 79,
   "metadata": {
    "collapsed": false
   },
   "outputs": [
    {
     "data": {
      "text/plain": [
       "[['uniprot_id', 'gene_name', 'gene_symbol'],\n",
       " ['P08684', 'cytochrome P450 family 3 subfamily A member 4', 'CYP3A4'],\n",
       " ['P33261', 'cytochrome P450 family 2 subfamily C member 19', 'CYP2C19']]"
      ]
     },
     "execution_count": 79,
     "metadata": {},
     "output_type": "execute_result"
    }
   ],
   "source": [
    "uniprot2symbol(compareenzymes(['36567', '38404'])['overlap'])"
   ]
  },
  {
   "cell_type": "code",
   "execution_count": 80,
   "metadata": {
    "collapsed": false
   },
   "outputs": [],
   "source": [
    "import plotly.figure_factory as ff"
   ]
  },
  {
   "cell_type": "code",
   "execution_count": 84,
   "metadata": {
    "collapsed": false
   },
   "outputs": [],
   "source": [
    "table = ff.create_table(uniprot2symbol(compareenzymes(['36567', '38404'])['overlap']))"
   ]
  },
  {
   "cell_type": "code",
   "execution_count": 85,
   "metadata": {
    "collapsed": false
   },
   "outputs": [
    {
     "name": "stdout",
     "output_type": "stream",
     "text": [
      "High five! You successfuly sent some data to your account on plotly. View your plot in your browser at https://plot.ly/~kevinxin90/0 or inside your plot.ly account where it is named 'simple_table'\n"
     ]
    },
    {
     "data": {
      "text/html": [
       "<iframe id=\"igraph\" scrolling=\"no\" style=\"border:none;\" seamless=\"seamless\" src=\"https://plot.ly/~kevinxin90/0.embed\" height=\"140px\" width=\"100%\"></iframe>"
      ],
      "text/plain": [
       "<plotly.tools.PlotlyDisplay object>"
      ]
     },
     "execution_count": 85,
     "metadata": {},
     "output_type": "execute_result"
    }
   ],
   "source": [
    "import plotly.plotly as py\n",
    "import plotly\n",
    "py.iplot(table, filename='simple_table')"
   ]
  }
 ],
 "metadata": {
  "kernelspec": {
   "display_name": "Python 3",
   "language": "python",
   "name": "python3"
  },
  "language_info": {
   "codemirror_mode": {
    "name": "ipython",
    "version": 3
   },
   "file_extension": ".py",
   "mimetype": "text/x-python",
   "name": "python",
   "nbconvert_exporter": "python",
   "pygments_lexer": "ipython3",
   "version": "3.5.0"
  }
 },
 "nbformat": 4,
 "nbformat_minor": 0
}
