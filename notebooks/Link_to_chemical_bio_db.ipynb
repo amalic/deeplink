{
 "cells": [
  {
   "cell_type": "markdown",
   "metadata": {},
   "source": [
    "## Input: drug_name, Output: Rxnorm"
   ]
  },
  {
   "cell_type": "code",
   "execution_count": 166,
   "metadata": {
    "collapsed": true
   },
   "outputs": [],
   "source": [
    "def parseuniiresults(results):\n",
    "    final_results = []\n",
    "    for _result in results:\n",
    "        if 'unii' in _result:\n",
    "            final_results.append(_result['unii']['rxcui'])\n",
    "    return final_results\n",
    "\n",
    "def names2rxnorm(drug_name_list):\n",
    "    results = {}\n",
    "    for _drug in drug_name_list:\n",
    "        query_term = 'unii.preferred_term:' + _drug\n",
    "        _result = md.query(query_term, fields='unii.rxcui')\n",
    "        print(_drug, parseuniiresults(_result['hits']))\n",
    "        results[_drug] = parseuniiresults(_result['hits'])\n",
    "    return results"
   ]
  },
  {
   "cell_type": "markdown",
   "metadata": {},
   "source": [
    "### Example"
   ]
  },
  {
   "cell_type": "code",
   "execution_count": 167,
   "metadata": {
    "collapsed": false
   },
   "outputs": [
    {
     "name": "stdout",
     "output_type": "stream",
     "text": [
      "varenicline ['591622', '636674']\n",
      "Tranylcypromine ['10734', '91119']\n",
      "topiramate ['38404']\n"
     ]
    },
    {
     "data": {
      "text/plain": [
       "{'Tranylcypromine': ['10734', '91119'],\n",
       " 'topiramate': ['38404'],\n",
       " 'varenicline': ['591622', '636674']}"
      ]
     },
     "execution_count": 167,
     "metadata": {},
     "output_type": "execute_result"
    }
   ],
   "source": [
    "names2rxnorm(['varenicline', 'Tranylcypromine', 'topiramate'])"
   ]
  },
  {
   "cell_type": "code",
   "execution_count": 168,
   "metadata": {
    "collapsed": false
   },
   "outputs": [
    {
     "name": "stdout",
     "output_type": "stream",
     "text": [
      "amiodarone ['703', '203114']\n",
      "citalopram ['2556', '221078']\n",
      "clonidine ['2599', '142432']\n",
      "erythromycin ['4053', '4055', '4056', '24347', '4058']\n",
      "famotidine ['4278']\n",
      "formoterol ['25255', '998038']\n",
      "galantamine ['4637', '860693']\n",
      "hydromorphone ['3423', '203177']\n",
      "atropine ['1223', '153971']\n",
      "ketoconazole ['6135']\n",
      "memantine ['6719', '236685']\n",
      "methadone ['6813', '218337']\n",
      "moxifloxacin ['139462', '228750']\n",
      "ofloxacin ['7623']\n",
      "ondansetron ['26225', '203148']\n",
      "propafenone ['8754', '203135']\n",
      "quetiapine ['51272', '221153']\n",
      "risperidone ['35636']\n",
      "rivastigmine ['183379', '994808']\n",
      "sevoflurane ['36453']\n",
      "tizanidine ['57258', '236460']\n",
      "trazodone ['10737', '82112']\n",
      "medroxyprogesterone ['6691', '1000112']\n",
      "pimozide ['8331']\n",
      "clarithromycin ['21212']\n",
      "atomoxetine ['38400', '353103']\n",
      "aripiprazole ['89013', '1673265']\n",
      "voriconazole ['121243']\n",
      "gemifloxacin ['138099', '402429']\n",
      "gadobenate ['68173']\n",
      "paliperidone ['679314', '858045']\n",
      "gefitinib ['328134']\n",
      "pregabalin ['187832']\n",
      "anidulafungin ['341018']\n",
      "sitaxsentan []\n",
      "nilotinib ['662281']\n",
      "tigecycline ['384455']\n",
      "Gadofosveset ['1364290', '1364289']\n",
      "aripiprazole ['89013', '1673265']\n",
      "paliperidone ['679314', '858045']\n",
      "gefitinib ['328134']\n"
     ]
    },
    {
     "data": {
      "text/plain": [
       "{'Gadofosveset': ['1364290', '1364289'],\n",
       " 'amiodarone': ['703', '203114'],\n",
       " 'anidulafungin': ['341018'],\n",
       " 'aripiprazole': ['89013', '1673265'],\n",
       " 'atomoxetine': ['38400', '353103'],\n",
       " 'atropine': ['1223', '153971'],\n",
       " 'citalopram': ['2556', '221078'],\n",
       " 'clarithromycin': ['21212'],\n",
       " 'clonidine': ['2599', '142432'],\n",
       " 'erythromycin': ['4053', '4055', '4056', '24347', '4058'],\n",
       " 'famotidine': ['4278'],\n",
       " 'formoterol': ['25255', '998038'],\n",
       " 'gadobenate': ['68173'],\n",
       " 'galantamine': ['4637', '860693'],\n",
       " 'gefitinib': ['328134'],\n",
       " 'gemifloxacin': ['138099', '402429'],\n",
       " 'hydromorphone': ['3423', '203177'],\n",
       " 'ketoconazole': ['6135'],\n",
       " 'medroxyprogesterone': ['6691', '1000112'],\n",
       " 'memantine': ['6719', '236685'],\n",
       " 'methadone': ['6813', '218337'],\n",
       " 'moxifloxacin': ['139462', '228750'],\n",
       " 'nilotinib': ['662281'],\n",
       " 'ofloxacin': ['7623'],\n",
       " 'ondansetron': ['26225', '203148'],\n",
       " 'paliperidone': ['679314', '858045'],\n",
       " 'pimozide': ['8331'],\n",
       " 'pregabalin': ['187832'],\n",
       " 'propafenone': ['8754', '203135'],\n",
       " 'quetiapine': ['51272', '221153'],\n",
       " 'risperidone': ['35636'],\n",
       " 'rivastigmine': ['183379', '994808'],\n",
       " 'sevoflurane': ['36453'],\n",
       " 'sitaxsentan': [],\n",
       " 'tigecycline': ['384455'],\n",
       " 'tizanidine': ['57258', '236460'],\n",
       " 'trazodone': ['10737', '82112'],\n",
       " 'voriconazole': ['121243']}"
      ]
     },
     "execution_count": 168,
     "metadata": {},
     "output_type": "execute_result"
    }
   ],
   "source": [
    "id_list = ['amiodarone', 'citalopram', 'clonidine', 'erythromycin', 'famotidine', 'formoterol', 'galantamine', 'hydromorphone', 'atropine', 'ketoconazole', 'memantine', 'methadone', 'moxifloxacin', 'ofloxacin', 'ondansetron', 'propafenone', 'quetiapine', 'risperidone', 'rivastigmine', 'sevoflurane', 'tizanidine', 'trazodone', 'medroxyprogesterone', 'pimozide', 'clarithromycin', 'atomoxetine', 'aripiprazole', 'voriconazole', 'gemifloxacin', 'gadobenate', 'paliperidone', 'gefitinib', 'pregabalin', 'anidulafungin', 'sitaxsentan', 'nilotinib', 'tigecycline', 'Gadofosveset', 'aripiprazole', 'paliperidone', 'gefitinib']\n",
    "names2rxnorm_unii(id_list)"
   ]
  },
  {
   "cell_type": "markdown",
   "metadata": {},
   "source": [
    "###### Input: Rxnorm, Output: Enzyme Uniprot ID"
   ]
  },
  {
   "cell_type": "code",
   "execution_count": 171,
   "metadata": {
    "collapsed": true
   },
   "outputs": [],
   "source": [
    "def rxnorms2enzymes(rxnorm_list):\n",
    "    results = {}\n",
    "    for _rxnorm in rxnorm_list:\n",
    "        query_term = 'unii.rxcui:' + _rxnorm\n",
    "        _result = md.query(query_term, fields='drugbank.enzymes.name, drugbank.enzymes.uniprot')\n",
    "        if _result['hits'] != [] and 'drugbank' in _result['hits'][0]:\n",
    "            uniprot_list = _result['hits'][0]['drugbank']['enzymes']\n",
    "            if type(uniprot_list) == list:\n",
    "                results[_rxnorm] = [_uniprot['uniprot'] for _uniprot in uniprot_list]\n",
    "            else:\n",
    "                results[_rxnorm] = uniprot_list['uniprot']\n",
    "        else:\n",
    "            results[_rxnorm] = []\n",
    "    return results"
   ]
  },
  {
   "cell_type": "markdown",
   "metadata": {},
   "source": [
    "### Example"
   ]
  },
  {
   "cell_type": "code",
   "execution_count": 172,
   "metadata": {
    "collapsed": false
   },
   "outputs": [
    {
     "data": {
      "text/plain": [
       "{'1223': [],\n",
       " '139462': [],\n",
       " '25255': [],\n",
       " '2556': [],\n",
       " '2599': ['P10635', 'P05177', 'P08684', 'P04798', 'P20815'],\n",
       " '26225': [],\n",
       " '3423': ['P08684', 'P11712', 'P10635', 'P23219', 'O60656'],\n",
       " '4053': ['P08684', 'P24462', 'P20815', 'P05177', 'P20813'],\n",
       " '4278': 'P33261',\n",
       " '4637': ['P08684', 'P10635'],\n",
       " '6135': [],\n",
       " '6719': ['P20813', 'P11509', 'P33261'],\n",
       " '6813': [],\n",
       " '703': ['P08684',\n",
       "  'P10632',\n",
       "  'P10635',\n",
       "  'P11712',\n",
       "  'P05177',\n",
       "  'P33261',\n",
       "  'P04798',\n",
       "  'P20815',\n",
       "  'P24462',\n",
       "  'P11509'],\n",
       " '7623': [],\n",
       " '8754': []}"
      ]
     },
     "execution_count": 172,
     "metadata": {},
     "output_type": "execute_result"
    }
   ],
   "source": [
    "rxnorms2enzyme(['703', '2556', '2599', '4053', '4278', '25255', '4637', '3423', '1223', '6135', '6719', '6813', '139462', '7623', '26225', '8754', \n",
    "    ])"
   ]
  },
  {
   "cell_type": "markdown",
   "metadata": {},
   "source": [
    "## Input: two drug_names, Output: whether having common enzymes"
   ]
  },
  {
   "cell_type": "code",
   "execution_count": 173,
   "metadata": {
    "collapsed": true
   },
   "outputs": [],
   "source": [
    "def compareenzyme(rxnorm_list):\n",
    "    results = rxnorms2enzymes(rxnorm_list)\n",
    "    uniprot_list = []\n",
    "    for drug, uniprot in results.items():\n",
    "        uniprot_list.append(uniprot)\n",
    "    overlap = list(set(uniprot_list[0]) & set(uniprot_list[1]))\n",
    "    if overlap:\n",
    "        return {'overlap': overlap}\n",
    "    else:\n",
    "        print('no overlap')"
   ]
  },
  {
   "cell_type": "markdown",
   "metadata": {},
   "source": [
    "### Example"
   ]
  },
  {
   "cell_type": "code",
   "execution_count": 174,
   "metadata": {
    "collapsed": false
   },
   "outputs": [
    {
     "data": {
      "text/plain": [
       "{'2599': ['P10635', 'P05177', 'P08684', 'P04798', 'P20815'],\n",
       " '703': ['P08684',\n",
       "  'P10632',\n",
       "  'P10635',\n",
       "  'P11712',\n",
       "  'P05177',\n",
       "  'P33261',\n",
       "  'P04798',\n",
       "  'P20815',\n",
       "  'P24462',\n",
       "  'P11509']}"
      ]
     },
     "execution_count": 174,
     "metadata": {},
     "output_type": "execute_result"
    }
   ],
   "source": [
    "rxnorms2enzymes(['703', '2599'])"
   ]
  },
  {
   "cell_type": "code",
   "execution_count": 175,
   "metadata": {
    "collapsed": false
   },
   "outputs": [
    {
     "data": {
      "text/plain": [
       "{'overlap': ['P10635', 'P05177', 'P04798', 'P20815', 'P08684']}"
      ]
     },
     "execution_count": 175,
     "metadata": {},
     "output_type": "execute_result"
    }
   ],
   "source": [
    "compareenzymes(['703', '2599'])"
   ]
  },
  {
   "cell_type": "code",
   "execution_count": 176,
   "metadata": {
    "collapsed": false
   },
   "outputs": [],
   "source": [
    "mg = get_client('gene')\n",
    "def uniprot2symbol(uniprot_id_list):\n",
    "    results = [['uniprot_id', 'gene_name', 'gene_symbol']]\n",
    "    for _uniprot in uniprot_id_list:\n",
    "        query_term = 'uniprot.Swiss-Prot:' + _uniprot\n",
    "        _result = mg.query(query_term)\n",
    "        if _result['hits'] != []:\n",
    "            results.append([_uniprot, _result['hits'][0]['name'], _result['hits'][0]['symbol']])\n",
    "    return results"
   ]
  },
  {
   "cell_type": "code",
   "execution_count": 177,
   "metadata": {
    "collapsed": false
   },
   "outputs": [
    {
     "data": {
      "text/plain": [
       "[['uniprot_id', 'gene_name', 'gene_symbol'],\n",
       " ['P10635', 'cytochrome P450 family 2 subfamily D member 6', 'CYP2D6'],\n",
       " ['P05177', 'cytochrome P450 family 1 subfamily A member 2', 'CYP1A2'],\n",
       " ['P04798', 'cytochrome P450 family 1 subfamily A member 1', 'CYP1A1'],\n",
       " ['P20815', 'cytochrome P450 family 3 subfamily A member 5', 'CYP3A5'],\n",
       " ['P08684', 'cytochrome P450 family 3 subfamily A member 4', 'CYP3A4']]"
      ]
     },
     "execution_count": 177,
     "metadata": {},
     "output_type": "execute_result"
    }
   ],
   "source": [
    "uniprot2symbol(compareenzymes(['703', '2599'])['overlap'])"
   ]
  },
  {
   "cell_type": "code",
   "execution_count": 80,
   "metadata": {
    "collapsed": false
   },
   "outputs": [],
   "source": [
    "import plotly.figure_factory as ff"
   ]
  },
  {
   "cell_type": "code",
   "execution_count": 84,
   "metadata": {
    "collapsed": false
   },
   "outputs": [],
   "source": [
    "table = ff.create_table(uniprot2symbol(compareenzymes(['36567', '38404'])['overlap']))"
   ]
  },
  {
   "cell_type": "code",
   "execution_count": 85,
   "metadata": {
    "collapsed": false
   },
   "outputs": [
    {
     "name": "stdout",
     "output_type": "stream",
     "text": [
      "High five! You successfuly sent some data to your account on plotly. View your plot in your browser at https://plot.ly/~kevinxin90/0 or inside your plot.ly account where it is named 'simple_table'\n"
     ]
    },
    {
     "data": {
      "text/html": [
       "<iframe id=\"igraph\" scrolling=\"no\" style=\"border:none;\" seamless=\"seamless\" src=\"https://plot.ly/~kevinxin90/0.embed\" height=\"140px\" width=\"100%\"></iframe>"
      ],
      "text/plain": [
       "<plotly.tools.PlotlyDisplay object>"
      ]
     },
     "execution_count": 85,
     "metadata": {},
     "output_type": "execute_result"
    }
   ],
   "source": [
    "import plotly.plotly as py\n",
    "import plotly\n",
    "py.iplot(table, filename='simple_table')"
   ]
  }
 ],
 "metadata": {
  "kernelspec": {
   "display_name": "Python 3",
   "language": "python",
   "name": "python3"
  },
  "language_info": {
   "codemirror_mode": {
    "name": "ipython",
    "version": 3
   },
   "file_extension": ".py",
   "mimetype": "text/x-python",
   "name": "python",
   "nbconvert_exporter": "python",
   "pygments_lexer": "ipython3",
   "version": "3.5.0"
  }
 },
 "nbformat": 4,
 "nbformat_minor": 0
}
