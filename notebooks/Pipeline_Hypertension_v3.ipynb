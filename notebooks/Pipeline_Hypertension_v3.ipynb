{
 "cells": [
  {
   "cell_type": "markdown",
   "metadata": {
    "collapsed": true
   },
   "source": [
    "# Hypertension DDIs pipeline\n",
    "\n",
    "Steps to build the pipeline:\n",
    "1. Useful functions for the pipeline (mapping, retrieving data from web apis...)\n",
    "2. Find positive and negative controls for the AE of interest\n",
    "3. Retrieve adverse event report data for these and a set of control drugs\n",
    "4. Build the training and testing frequency tables\n",
    "5. Features reduction to avoid overfitting\n",
    "6. Drugpair predictions\n",
    "7. Corroboration using OHDSI data"
   ]
  },
  {
   "cell_type": "code",
   "execution_count": 1,
   "metadata": {
    "collapsed": true
   },
   "outputs": [],
   "source": [
    "import csv\n",
    "import gzip\n",
    "import tqdm\n",
    "import json\n",
    "import heapq\n",
    "import random\n",
    "import urllib2\n",
    "\n",
    "import requests\n",
    "import itertools\n",
    "\n",
    "import numpy as np\n",
    "import seaborn as sns\n",
    "import matplotlib.pyplot as plt\n",
    "\n",
    "from tqdm import tqdm\n",
    "from scipy import stats\n",
    "from collections import defaultdict\n",
    "from biothings_client import get_client\n",
    "\n",
    "from sklearn.linear_model import Lasso\n",
    "from sklearn.linear_model import LassoCV\n",
    "from sklearn.model_selection import KFold\n",
    "from sklearn.model_selection import cross_val_score\n",
    "from sklearn.model_selection import ShuffleSplit\n",
    "\n",
    "from sklearn.ensemble import RandomForestClassifier\n",
    "from sklearn.metrics import roc_auc_score, roc_curve, auc\n",
    "from urllib2 import Request, urlopen, URLError, build_opener\n",
    "\n",
    "#import OHDSI_API_data_ as ohdsi\n",
    "\n",
    "%matplotlib inline"
   ]
  },
  {
   "cell_type": "code",
   "execution_count": 4,
   "metadata": {
    "collapsed": true
   },
   "outputs": [],
   "source": [
    "from import_notebook import *\n",
    "sys.meta_path.append(NotebookFinder())\n",
    "import OHDSI_API_data_ as ohdsi"
   ]
  },
  {
   "cell_type": "markdown",
   "metadata": {},
   "source": [
    "## Needed functions"
   ]
  },
  {
   "cell_type": "code",
   "execution_count": 2,
   "metadata": {
    "collapsed": true
   },
   "outputs": [],
   "source": [
    "ADVERSE_EVENT_OF_INTEREST = 'hypertension'\n",
    "\n",
    "# adverse events related to hypertension (from SIDER)\n",
    "AE_LIST = ['hypertension', 'hypertention worsened', 'hypertension paroxysmal']"
   ]
  },
  {
   "cell_type": "code",
   "execution_count": 3,
   "metadata": {
    "collapsed": true
   },
   "outputs": [],
   "source": [
    "# Authentication module\n",
    "# Instructions at https://documentation.uts.nlm.nih.gov/rest/home.html\n",
    "\n",
    "#get the tgt corresponding to the apikey\n",
    "def get_tgt(apikey):\n",
    "    tgt = requests.post(\"https://utslogin.nlm.nih.gov/cas/v1/api-key\", data = {'apikey':apikey})\n",
    "    TGT = tgt.content.split()[20]\n",
    "    TGT = TGT[52:+len(TGT)-1]\n",
    "    return TGT\n",
    "\n",
    "#get a ticket corresponding to the tgt\n",
    "def get_ticket(tgt):\n",
    "    uri_login = \"https://utslogin.nlm.nih.gov/cas/v1/tickets/\" + tgt\n",
    "    ticket = requests.post(uri_login, data = {'service':'http://umlsks.nlm.nih.gov'})\n",
    "    return ticket.content\n"
   ]
  },
  {
   "cell_type": "code",
   "execution_count": 4,
   "metadata": {
    "collapsed": true
   },
   "outputs": [],
   "source": [
    "def AEtoCUI(aeName):\n",
    "    \"Converts AE name to UMLS CUIs\"\n",
    "    cuis = []\n",
    "    apikey = \"6fd08e99-cb99-48be-937c-bbaa5205fd44\"\n",
    "    \n",
    "    tgt = get_tgt(apikey)\n",
    "    ticket = get_ticket(tgt)\n",
    "    \n",
    "    query = {'ticket':ticket}\n",
    "    uri = \"https://uts-ws.nlm.nih.gov/rest/search/current?string=\" + aeName\n",
    "    r = requests.get(uri, params = query)\n",
    "    r.encoding = 'utf-8'\n",
    "    items  = json.loads(r.text)\n",
    "    \n",
    "    jsonData = items[\"result\"]\n",
    "    for s in jsonData['results']:\n",
    "        cuis.append(s['ui'])\n",
    "    return cuis"
   ]
  },
  {
   "cell_type": "code",
   "execution_count": 5,
   "metadata": {
    "collapsed": true
   },
   "outputs": [],
   "source": [
    "def nsides_api(service, method, args = None):\n",
    "    \"\"\"\n",
    "    Simple python API to access the NSIDES services and data.\n",
    "    \n",
    "    service   string, that can be one of three values: aeolus, sider, or omop\n",
    "    method    string, for a list of methods see http://nsideseb-env.us-east-1.elasticbeanstalk.com\n",
    "    args      dictionary, method parameters see http://nsideseb-env.us-east-1.elasticbeanstalk.com\n",
    "    \"\"\"\n",
    "    NSIDES_API_URL = 'http://nsideseb-env.us-east-1.elasticbeanstalk.com/api/v1/'\n",
    "    \n",
    "    base_url = NSIDES_API_URL + 'query?service=%s&meta=%s' % (service, method)\n",
    "    url = base_url\n",
    "    if not args is None:\n",
    "        url = base_url + '&' + '&'.join(['%s=%s' % (k,v) for k,v in args.items()])\n",
    "    #print url\n",
    "    \n",
    "    response = urllib2.urlopen(url).read()\n",
    "    data = json.loads(response)\n",
    "    \n",
    "    return data\n",
    "\n",
    "# Test with one value\n",
    "#reference_byname = list()\n",
    "#data = nsides_api('sider', 'drugForEffect', {'q': 'C0235750'})\n",
    "#reference_byname.extend( [(r['drug_name'], 1) for r in data['results']] )\n",
    "#print len(reference_byname)\n",
    "#print reference_byname"
   ]
  },
  {
   "cell_type": "code",
   "execution_count": 6,
   "metadata": {},
   "outputs": [
    {
     "name": "stdout",
     "output_type": "stream",
     "text": [
      "[u'14845']\n"
     ]
    }
   ],
   "source": [
    "# map the name of a drug to its rxnorm notation\n",
    "def annotator(text, ontologies):\n",
    "    REST_URL = \"http://data.bioontology.org\"\n",
    "    API_KEY = 'b55cf758-dbd3-4959-a9c0-2e6bba5b5d8b'\n",
    "    url = REST_URL + \"/annotator?text=\" + urllib2.quote(text) + \"&ontologies=\" + ','.join(ontologies)\n",
    "    opener = urllib2.build_opener()\n",
    "    opener.addheaders = [('Authorization', 'apikey token=' + API_KEY)]\n",
    "    \n",
    "    annotations = json.loads(opener.open(url).read())\n",
    "\n",
    "    return annotations\n",
    "\n",
    "def name2rxnorm(drugname):\n",
    "    annotations = annotator(drugname, ['RXNORM'])\n",
    "    \n",
    "    rxnorms = list()\n",
    "    for annotation in annotations:\n",
    "        rxnorms.append(annotations[0]['annotatedClass']['@id'].split('/')[-1])\n",
    "    \n",
    "    return rxnorms\n",
    "\n",
    "print name2rxnorm('apraclonidine')"
   ]
  },
  {
   "cell_type": "code",
   "execution_count": 7,
   "metadata": {},
   "outputs": [
    {
     "name": "stdout",
     "output_type": "stream",
     "text": [
      "acarbose\n",
      "[u'16681']\n"
     ]
    }
   ],
   "source": [
    "def stitch_api(id):\n",
    "    \"\"\"\n",
    "    Function to access STITCH data\n",
    "    id : stitch id (string)\n",
    "    returns drug rxnorm\n",
    "    \"\"\"\n",
    "    STITCH_API_URL = 'http://stitch.embl.de/api/json/'\n",
    "    request = 'resolve?identifier=%s' %(id)\n",
    "    \n",
    "    url = STITCH_API_URL + request\n",
    "    \n",
    "    response = urllib2.urlopen(url).read()\n",
    "    data = json.loads(response)\n",
    "    \n",
    "    return data\n",
    "    \n",
    "data = stitch_api('CID000041774')\n",
    "print data[0]['preferredName']\n",
    "print name2rxnorm('acarbose')"
   ]
  },
  {
   "cell_type": "markdown",
   "metadata": {},
   "source": [
    "## Find positive and negative controls"
   ]
  },
  {
   "cell_type": "code",
   "execution_count": 8,
   "metadata": {
    "collapsed": true
   },
   "outputs": [],
   "source": [
    "# Write the cuis corresponding to hypertension in a csv file\n",
    "f = \"cuis_hypertension.csv\"\n",
    "ff = open(f,'w')\n",
    "\n",
    "for cui in AEtoCUI(\"hypertension\"):\n",
    "    ff.write(cui)\n",
    "    ff.write(\"\\n\")\n",
    "    #print cui\n",
    "    \n",
    "ff.close()\n",
    "\n",
    "#print len(AEtoCUI(\"hypertension\"))"
   ]
  },
  {
   "cell_type": "code",
   "execution_count": 9,
   "metadata": {},
   "outputs": [
    {
     "name": "stdout",
     "output_type": "stream",
     "text": [
      "84\n"
     ]
    }
   ],
   "source": [
    "# Get a list of drugs (name) known to have hypertension as a side effect using SIDER\n",
    "reference_byname = list()\n",
    "for cui in AEtoCUI('hypertension'):\n",
    "    #print cui\n",
    "    if cui=='C0020538' : #this cui causes a 500 error\n",
    "        continue\n",
    "    else :\n",
    "        data = nsides_api('sider', 'drugForEffect', {'q': \"%s\" %cui})\n",
    "        reference_byname.extend( [(r['drug_name'], 1) for r in data['results']] )\n",
    "    \n",
    "if len(reference_byname) == 0:\n",
    "    raise Exception(\"No available reference standard for cui: %s\" % cui)\n",
    "\n",
    "reference_byname = sorted(set(reference_byname))\n",
    "print len(reference_byname)\n",
    "#print sorted(reference_byname)"
   ]
  },
  {
   "cell_type": "code",
   "execution_count": 10,
   "metadata": {},
   "outputs": [
    {
     "name": "stderr",
     "output_type": "stream",
     "text": [
      "100%|██████████| 84/84 [00:41<00:00,  1.81it/s]"
     ]
    },
    {
     "name": "stdout",
     "output_type": "stream",
     "text": [
      "Produced reference with 80 positive examples and 0 negative examples.\n"
     ]
    },
    {
     "name": "stderr",
     "output_type": "stream",
     "text": [
      "\n"
     ]
    }
   ],
   "source": [
    "# We map those drugs to their rxnorm\n",
    "positives = list()\n",
    "negatives = list()\n",
    "\n",
    "drugnames = [d for d,e in reference_byname]\n",
    "#print drugnames\n",
    "\n",
    "#we write the positive controls in a csv file\n",
    "c = csv.writer(open(\"positive_controls.csv\", \"wb\"))\n",
    "\n",
    "for drugname, causes_ae in tqdm(reference_byname):\n",
    "    \n",
    "    rxnorms = name2rxnorm(drugname)\n",
    "    \n",
    "    for rxnorm in rxnorms:\n",
    "        if causes_ae == 1:\n",
    "            positives.append(int(rxnorm))\n",
    "            c.writerow([int(rxnorm)])\n",
    "            \n",
    "        else:\n",
    "            negatives.append(int(rxnorm))\n",
    "\n",
    "print \"Produced reference with %d positive examples and %d negative examples.\" % (len(positives), len(negatives))"
   ]
  },
  {
   "cell_type": "code",
   "execution_count": 11,
   "metadata": {},
   "outputs": [
    {
     "name": "stdout",
     "output_type": "stream",
     "text": [
      "Randomly selected 200 negative examples from available drugs.\n"
     ]
    }
   ],
   "source": [
    "# If there are no negative examples, we randomly pick 200 from what's available in AEOLUS\n",
    "if len(negatives) == 0:\n",
    "    data = nsides_api('aeolus', 'ingredientList')\n",
    "    \n",
    "    c = csv.writer(open(\"negative_controls.csv\", \"wb\"))\n",
    "    \n",
    "    all_rxnorms = [r['concept_code'] for r in data['results']]\n",
    "    available_negatives = (set(all_rxnorms) - set(positives))\n",
    "    \n",
    "    negatives = random.sample(available_negatives, 200)\n",
    "    #negatives = available_negatives\n",
    "    \n",
    "    for rxnorm in negatives:\n",
    "        c.writerow([int(rxnorm)])\n",
    "\n",
    "print \"Randomly selected %d negative examples from available drugs.\" % len(negatives)\n",
    "#print negatives"
   ]
  },
  {
   "cell_type": "markdown",
   "metadata": {},
   "source": [
    "##  Retrieve adverse event report data for these and a set of control drugs."
   ]
  },
  {
   "cell_type": "code",
   "execution_count": 12,
   "metadata": {},
   "outputs": [
    {
     "name": "stdout",
     "output_type": "stream",
     "text": [
      "{u'valid_end_date': u'2099-12-31', u'concept_class_id': u'Ingredient', u'valid_start_date': u'1970-01-01', u'vocabulary_id': u'RxNorm', u'concept_name': u'hepatitis B immune globulin', u'invalid_reason': u'', u'standard_concept_id': 501343, u'standard_concept': u'S', u'concept_code': 26744, u'domain_id': u'Drug', u'concept_id': 501343}\n",
      "3526\n",
      "1177480\n"
     ]
    }
   ],
   "source": [
    "# concept = OMOP concept id\n",
    "data = nsides_api('aeolus', 'ingredientList')\n",
    "\n",
    "concept2name = dict()\n",
    "all_drugs = list()\n",
    "drug_mapping = dict()\n",
    "concept2rxnorm = dict()\n",
    "rxnorm2concept = dict()\n",
    "\n",
    "for r in data['results']:\n",
    "    concept2name[r['concept_id']] = r['concept_name']\n",
    "    all_drugs.append(r['concept_id'])\n",
    "    drug_mapping[r['concept_code']] = r['concept_id']\n",
    "    concept2rxnorm[r['concept_id']] = r['concept_code']\n",
    "    rxnorm2concept[r['concept_code']] = r['concept_id']\n",
    "\n",
    "#print drug_mapping.items()\n",
    "#print concept2name\n",
    "print data['results'][0]\n",
    "print len(all_drugs)\n",
    "#print concept2rxnorm[501343]\n",
    "print rxnorm2concept[5640]"
   ]
  },
  {
   "cell_type": "code",
   "execution_count": 13,
   "metadata": {},
   "outputs": [
    {
     "name": "stdout",
     "output_type": "stream",
     "text": [
      "7540\n",
      "{u'valid_end_date': u'2099-12-31', u'concept_class_id': u'LLT', u'outcome_concept_id': 36718526, u'valid_start_date': u'1970-01-01', u'vocabulary_id': u'MedDRA', u'concept_name': u'Convulsion', u'invalid_reason': u'', u'snomed_outcome_concept_id': 377091, u'standard_concept': u'C', u'concept_code': 10010904, u'domain_id': u'Condition', u'concept_id': 36718526}\n",
      "36718526\n"
     ]
    }
   ],
   "source": [
    "#query?service=aeolus&meta=reactionListMedDRA\n",
    "data = nsides_api('aeolus', 'reactionListMedDRA')\n",
    "\n",
    "# List of all AEs reported in FAERS\n",
    "all_outcomes = list() \n",
    "\n",
    "for r in data['results']:\n",
    "    all_outcomes.append(r['outcome_concept_id'])\n",
    "\n",
    "print len(all_outcomes)\n",
    "print data['results'][0]\n",
    "print all_outcomes[0]"
   ]
  },
  {
   "cell_type": "code",
   "execution_count": 14,
   "metadata": {},
   "outputs": [
    {
     "name": "stdout",
     "output_type": "stream",
     "text": [
      "199\n",
      "37622529\n",
      "{u'valid_end_date': u'2099-12-31', u'concept_class_id': u'PT', u'outcome_concept_id': 37622529, u'valid_start_date': u'1970-01-01', u'vocabulary_id': u'MedDRA', u'concept_name': u'Hypertension', u'invalid_reason': u'', u'standard_concept': u'C', u'concept_code': 10020772, u'domain_id': u'Condition', u'concept_id': 37622529}\n"
     ]
    }
   ],
   "source": [
    "#query?service=aeolus&meta=drugpairReactionListMedDRA\n",
    "data = nsides_api('aeolus', 'drugpairReactionListMedDRA')\n",
    "#List of all AEs reported as drugpairs outcome in FAERS\n",
    "all_pairoutcomes = list()\n",
    "all_conceptnames = list()\n",
    "for r in data['results']:\n",
    "    all_pairoutcomes.append(r['outcome_concept_id'])\n",
    "    all_conceptnames.append(r['concept_name'])\n",
    "\n",
    "print len(all_pairoutcomes)\n",
    "print all_pairoutcomes[0]\n",
    "print data['results'][0]\n",
    "\n",
    "#for r in all_conceptnames:\n",
    "#    print r"
   ]
  },
  {
   "cell_type": "code",
   "execution_count": 15,
   "metadata": {},
   "outputs": [
    {
     "name": "stdout",
     "output_type": "stream",
     "text": [
      "39800\n",
      "(19111620, 19122121)\n"
     ]
    }
   ],
   "source": [
    "#query?service=aeolus&meta=drugpairList\n",
    "data = nsides_api('aeolus', 'drugpairList')\n",
    "\n",
    "all_drugpairs = list()\n",
    "\n",
    "for r in data['results']:\n",
    "    all_drugpairs.append((r['drug1_concept_id'], r['drug2_concept_id']))\n",
    "\n",
    "print len(all_drugpairs)\n",
    "print all_drugpairs[0]"
   ]
  },
  {
   "cell_type": "code",
   "execution_count": 16,
   "metadata": {},
   "outputs": [
    {
     "name": "stderr",
     "output_type": "stream",
     "text": [
      "100%|██████████| 64/64 [03:13<00:00,  2.99s/it]"
     ]
    },
    {
     "name": "stdout",
     "output_type": "stream",
     "text": [
      "631743\n"
     ]
    },
    {
     "name": "stderr",
     "output_type": "stream",
     "text": [
      "\n"
     ]
    }
   ],
   "source": [
    "#query?service=aeolus&meta=drugReactionCounts&q=0\n",
    "data = nsides_api('aeolus', 'drugReactionCounts', {'q':0})\n",
    "\n",
    "aeolus_drugReactionCounts = dict()\n",
    "aeolus_drugReactionCounts['results'] = list()\n",
    "\n",
    "for start in tqdm(range(0, data[0]['nrows'][0], 10000)):    \n",
    "    aeolus_drugReactionCounts['results'].extend(data[0]['result'])    \n",
    "    start = len(aeolus_drugReactionCounts['results'])\n",
    "    data = nsides_api('aeolus', 'drugReactionCounts', {'q': start})\n",
    "\n",
    "print len(aeolus_drugReactionCounts['results'])"
   ]
  },
  {
   "cell_type": "code",
   "execution_count": 17,
   "metadata": {},
   "outputs": [
    {
     "name": "stdout",
     "output_type": "stream",
     "text": [
      "{u'nreports': 11, u'outcome_concept_id': 35104067, u'drug_concept_id': 904453, u'ndrugreports': 448710}\n",
      "{u'nreports': 13, u'outcome_concept_id': 35104067, u'drug_concept_id': 1112807, u'ndrugreports': 1077453}\n"
     ]
    }
   ],
   "source": [
    "print aeolus_drugReactionCounts['results'][0]\n",
    "print aeolus_drugReactionCounts['results'][1]"
   ]
  },
  {
   "cell_type": "code",
   "execution_count": 18,
   "metadata": {},
   "outputs": [
    {
     "name": "stdout",
     "output_type": "stream",
     "text": [
      "39\n"
     ]
    }
   ],
   "source": [
    "unrecognized_id = list()\n",
    "unrecognized_id.append('CID011953896')\n",
    "unrecognized_id.append('CID000003706')\n",
    "unrecognized_id.append('CID000002550')\n",
    "unrecognized_id.append('CID000031371')\n",
    "unrecognized_id.append('CID000054688')\n",
    "unrecognized_id.append('CID000000653')\n",
    "unrecognized_id.append('CID000009908')\n",
    "unrecognized_id.append('CID000005257')\n",
    "unrecognized_id.append('CID000006691')\n",
    "unrecognized_id.append('CID000002177')\n",
    "unrecognized_id.append('CID000002949')\n",
    "unrecognized_id.append('CID000002909')\n",
    "unrecognized_id.append('CID000005267')\n",
    "unrecognized_id.append('CID000028112')\n",
    "unrecognized_id.append('CID000001451')\n",
    "unrecognized_id.append('CID000016213')\n",
    "unrecognized_id.append('CID000003075')\n",
    "unrecognized_id.append('CID005311048')\n",
    "unrecognized_id.append('CID000003929')\n",
    "unrecognized_id.append('CID000004691')\n",
    "unrecognized_id.append('CID000003962')\n",
    "unrecognized_id.append('CID005361912')\n",
    "unrecognized_id.append('CID000005064')\n",
    "unrecognized_id.append('CID006420046')\n",
    "unrecognized_id.append('CID000003143')\n",
    "unrecognized_id.append('CID000004048')\n",
    "unrecognized_id.append('CID000003222')\n",
    "unrecognized_id.append('CID000150310')\n",
    "unrecognized_id.append('CID000005372')\n",
    "unrecognized_id.append('CID000062924')\n",
    "unrecognized_id.append('CID000443871')\n",
    "unrecognized_id.append('CID006419754')\n",
    "unrecognized_id.append('CID000004547')\n",
    "unrecognized_id.append('CID000065027')\n",
    "unrecognized_id.append('CID000004259')\n",
    "unrecognized_id.append('CID011953892')\n",
    "unrecognized_id.append('CID000004724')\n",
    "unrecognized_id.append('CID000002769')\n",
    "unrecognized_id.append('CID000005412')\n",
    "\n",
    "print len(unrecognized_id)"
   ]
  },
  {
   "cell_type": "code",
   "execution_count": 19,
   "metadata": {
    "scrolled": true
   },
   "outputs": [
    {
     "name": "stderr",
     "output_type": "stream",
     "text": [
      "\r",
      "  0%|          | 0/1000 [00:00<?, ?it/s]"
     ]
    },
    {
     "name": "stdout",
     "output_type": "stream",
     "text": [
      "{u'interaction': 1, u'drug_1': u'CID000041774', u'drug_2': u'CID000005379'}\n",
      "1000\n"
     ]
    },
    {
     "name": "stderr",
     "output_type": "stream",
     "text": [
      "100%|██████████| 1000/1000 [26:17<00:00,  2.06s/it]"
     ]
    },
    {
     "name": "stdout",
     "output_type": "stream",
     "text": [
      "641\n",
      "(16681, 228476)\n"
     ]
    },
    {
     "name": "stderr",
     "output_type": "stream",
     "text": [
      "\n"
     ]
    }
   ],
   "source": [
    "#query?service=va&meta=get_ddi_alerts\n",
    "\n",
    "# Retrieve data from the Veteran Affairs Hospital (Stitch ids)\n",
    "# We map those drugs to their rxnorm\n",
    "\n",
    "data = nsides_api('va', 'get_ddi_alerts')\n",
    "print data['results'][0]\n",
    "print len(data['results'])\n",
    "\n",
    "va_ddi_alerts = list()\n",
    "\n",
    "for r in tqdm(data['results']):\n",
    "    \n",
    "    #print r\n",
    "    \n",
    "    if (r['drug_1'] in unrecognized_id) or (r['drug_2'] in unrecognized_id):\n",
    "        continue\n",
    "    \n",
    "    stitch_data1 = stitch_api(r['drug_1'])\n",
    "    stitch_data2 = stitch_api(r['drug_2'])\n",
    "\n",
    "    drugs1 = name2rxnorm(stitch_data1[0]['preferredName'])\n",
    "    drugs2 = name2rxnorm(stitch_data2[0]['preferredName'])\n",
    "    \n",
    "    for drug1 in drugs1:\n",
    "        drug1 = (int(drug1))\n",
    "    for drug2 in drugs2:\n",
    "        drug2 = (int(drug2))\n",
    "        \n",
    "    va_ddi_alerts.append((drug1, drug2))\n",
    "\n",
    "print len(va_ddi_alerts)\n",
    "print va_ddi_alerts[0]"
   ]
  },
  {
   "cell_type": "code",
   "execution_count": 20,
   "metadata": {
    "collapsed": true
   },
   "outputs": [],
   "source": [
    "key_errors = list()\n",
    "key_errors.append(17941)\n",
    "key_errors.append(7930)\n",
    "key_errors.append(357280)\n",
    "key_errors.append(218863)\n",
    "key_errors.append(353062)"
   ]
  },
  {
   "cell_type": "code",
   "execution_count": 21,
   "metadata": {},
   "outputs": [
    {
     "name": "stdout",
     "output_type": "stream",
     "text": [
      "641\n",
      "574\n",
      "(1529331, 1789276)\n"
     ]
    }
   ],
   "source": [
    "# We map drugpairs from rxnorm to their OMOP id\n",
    "va_omop_ddi = list()\n",
    "\n",
    "for drugpair in va_ddi_alerts:\n",
    "    #print drugpair\n",
    "    if drugpair[0] in key_errors:\n",
    "        continue\n",
    "    if drugpair[1] in key_errors:\n",
    "        continue\n",
    "    va_omop_ddi.append((rxnorm2concept[drugpair[0]],rxnorm2concept[drugpair[1]]))\n",
    "\n",
    "print len(va_ddi_alerts)\n",
    "print len(va_omop_ddi)\n",
    "print va_omop_ddi[0]"
   ]
  },
  {
   "cell_type": "code",
   "execution_count": 22,
   "metadata": {},
   "outputs": [
    {
     "name": "stdout",
     "output_type": "stream",
     "text": [
      "1\n",
      "{u'results': [{u'concept_id': u'3000000'}]}\n"
     ]
    }
   ],
   "source": [
    "#LOINC to OMOP\n",
    "#/api/v1/query?service=omop&meta=get_omop_from_loinc&q=28377-0\n",
    "data = nsides_api('omop', 'get_omop_from_loinc', {'q':'28377-0'})\n",
    "print len(data)\n",
    "print data"
   ]
  },
  {
   "cell_type": "markdown",
   "metadata": {},
   "source": [
    "## Build the training table for single drugs"
   ]
  },
  {
   "cell_type": "code",
   "execution_count": 23,
   "metadata": {
    "collapsed": true
   },
   "outputs": [],
   "source": [
    "def make_lsd_training_table(pos_drugs = None, neg_drugs = None):\n",
    "\n",
    "    # we map positive and negative drugs from their concept_code to their concept_id\n",
    "    pos_drugs_mapped = list()\n",
    "    for pos_drug in pos_drugs:\n",
    "        pos_drugs_mapped.append(drug_mapping[pos_drug])\n",
    "        \n",
    "    neg_drugs_mapped = list()\n",
    "    for neg_drug in neg_drugs:\n",
    "        neg_drugs_mapped.append(drug_mapping[neg_drug])\n",
    "        \n",
    "    outcomes = np.concatenate((np.ones(len(pos_drugs),np.bool), np.zeros(len(neg_drugs),np.bool)))\n",
    "    \n",
    "    training_drugs = pos_drugs_mapped + neg_drugs_mapped\n",
    "    \n",
    "    # build the adverse events frequency table\n",
    "    ae_frequencies_training = np.zeros((len(pos_drugs)+len(neg_drugs),len(all_pairoutcomes)))\n",
    "    \n",
    "    for r in aeolus_drugReactionCounts['results']:\n",
    "        if not r['drug_concept_id'] in training_drugs:\n",
    "            continue\n",
    "        if not r['outcome_concept_id'] in all_pairoutcomes:\n",
    "            continue\n",
    "        \n",
    "        \n",
    "        i = training_drugs.index(r['drug_concept_id'])\n",
    "        j = all_pairoutcomes.index(r['outcome_concept_id'])\n",
    "        \n",
    "        frequency = float(r['nreports'])/float(r['ndrugreports'])\n",
    "        \n",
    "        ae_frequencies_training[i,j] = frequency\n",
    "                    \n",
    "    return ae_frequencies_training, outcomes"
   ]
  },
  {
   "cell_type": "code",
   "execution_count": 24,
   "metadata": {},
   "outputs": [
    {
     "name": "stdout",
     "output_type": "stream",
     "text": [
      "72\n",
      "200\n"
     ]
    }
   ],
   "source": [
    "# we only keep drugs that can be mapped\n",
    "pos_controls = [p for p in positives if p in drug_mapping]\n",
    "neg_controls = [n for n in negatives if n in drug_mapping]\n",
    "\n",
    "print len(pos_controls)\n",
    "print len(neg_controls)"
   ]
  },
  {
   "cell_type": "code",
   "execution_count": 25,
   "metadata": {},
   "outputs": [
    {
     "name": "stdout",
     "output_type": "stream",
     "text": [
      "(272, 199)\n",
      "(272,)\n",
      "72\n"
     ]
    }
   ],
   "source": [
    "X,y = make_lsd_training_table(pos_controls, neg_controls)\n",
    "\n",
    "print X.shape\n",
    "print y.shape\n",
    "\n",
    "print y.sum()"
   ]
  },
  {
   "cell_type": "markdown",
   "metadata": {},
   "source": [
    "### Same process for drugpairs"
   ]
  },
  {
   "cell_type": "code",
   "execution_count": 26,
   "metadata": {},
   "outputs": [
    {
     "name": "stderr",
     "output_type": "stream",
     "text": [
      "100%|██████████| 793/793 [09:13<00:00,  1.85it/s]\n"
     ]
    },
    {
     "data": {
      "text/plain": [
       "1313184"
      ]
     },
     "execution_count": 26,
     "metadata": {},
     "output_type": "execute_result"
    }
   ],
   "source": [
    "#query?service=aeolus&meta=drugpairReactionCounts&q=0\n",
    "data = nsides_api('aeolus', 'drugpairReactionCounts', {'q':0})\n",
    "\n",
    "aeolus_drugpairReactionCounts = dict()\n",
    "aeolus_drugpairReactionCounts['results'] = list()\n",
    "\n",
    "for start in tqdm(range(0, data[0]['nrows'][0], 10000)):    \n",
    "    aeolus_drugpairReactionCounts['results'].extend(data[0]['results'])    \n",
    "    start = len(aeolus_drugpairReactionCounts['results'])\n",
    "    data = nsides_api('aeolus', 'drugpairReactionCounts', {'q': start})\n",
    "\n",
    "len(aeolus_drugpairReactionCounts['results'])"
   ]
  },
  {
   "cell_type": "code",
   "execution_count": 27,
   "metadata": {},
   "outputs": [
    {
     "data": {
      "text/plain": [
       "{u'drug1_concept_id': 19111620,\n",
       " u'drug2_concept_id': 19122121,\n",
       " u'n_d1d2': 722,\n",
       " u'n_d1d2ae': 38,\n",
       " u'outcome_concept_id': 37622529}"
      ]
     },
     "execution_count": 27,
     "metadata": {},
     "output_type": "execute_result"
    }
   ],
   "source": [
    "aeolus_drugpairReactionCounts['results'][0]"
   ]
  },
  {
   "cell_type": "code",
   "execution_count": 28,
   "metadata": {
    "collapsed": true
   },
   "outputs": [],
   "source": [
    "# build the frequency table for drugpairs\n",
    "def make_lsd_testing_table():\n",
    "    ae_frequencies_ddi_testing = np.zeros((len(all_drugpairs),len(all_pairoutcomes)))\n",
    "    \n",
    "    for r in tqdm(aeolus_drugpairReactionCounts['results']):\n",
    "        \n",
    "        drugpair = (r['drug1_concept_id'],r['drug2_concept_id'])\n",
    "        if r['outcome_concept_id'] in all_pairoutcomes:\n",
    "            x_index = all_drugpairs.index(drugpair)\n",
    "            y_index = all_pairoutcomes.index(r['outcome_concept_id'])\n",
    "            \n",
    "            frequency = float(r['n_d1d2ae'])/float(r['n_d1d2'])\n",
    "            \n",
    "            ae_frequencies_ddi_testing[x_index,y_index] = frequency    \n",
    "                \n",
    "    return ae_frequencies_ddi_testing"
   ]
  },
  {
   "cell_type": "code",
   "execution_count": 29,
   "metadata": {},
   "outputs": [
    {
     "name": "stderr",
     "output_type": "stream",
     "text": [
      "100%|██████████| 1313184/1313184 [16:51<00:00, 1297.97it/s]\n"
     ]
    }
   ],
   "source": [
    "X_test = make_lsd_testing_table()"
   ]
  },
  {
   "cell_type": "code",
   "execution_count": 37,
   "metadata": {},
   "outputs": [
    {
     "name": "stdout",
     "output_type": "stream",
     "text": [
      "(272, 199)\n",
      "(39800, 199)\n",
      "(272,)\n",
      "72\n"
     ]
    },
    {
     "data": {
      "text/plain": [
       "(72613.835694147696, 0.009168182077996476)"
      ]
     },
     "execution_count": 37,
     "metadata": {},
     "output_type": "execute_result"
    }
   ],
   "source": [
    "print X.shape #Dimension of the ae frequencies training table\n",
    "print X_test.shape #Dimension of the ae frequencies ddi testing table\n",
    "print y.shape #Number of outcomes (positive + negative controls)\n",
    "\n",
    "#print len(aeolus_drugpairReactionCounts['results'])\n",
    "\n",
    "print np.sum(y)\n",
    "\n",
    "X_test.sum(), X_test.mean()"
   ]
  },
  {
   "cell_type": "markdown",
   "metadata": {},
   "source": [
    "## Features reduction (to avoid overfitting)"
   ]
  },
  {
   "cell_type": "code",
   "execution_count": 38,
   "metadata": {
    "collapsed": true
   },
   "outputs": [],
   "source": [
    "#Need to reduce the number of features: 199 features is too much compared to 'only' 272 examples (i.e pos+neg controls)\n",
    "#Method: L1 (lasso) regularization + 10 fold cross-validation"
   ]
  },
  {
   "cell_type": "code",
   "execution_count": 39,
   "metadata": {
    "collapsed": true
   },
   "outputs": [],
   "source": [
    "# Features reduction using L1 regularization + 10-folds cross-validation\n",
    "\n",
    "def l1_regression(X, y, alpha, predictions):\n",
    "    l1 = Lasso(alpha=alpha,fit_intercept=True, max_iter=100000, tol=0.0001)\n",
    "    l1.fit(X,y)\n",
    "    y_pred = l1.predict(X)\n",
    "    coef = l1.coef_\n",
    "    \n",
    "    auc_score = roc_auc_score(y, y_pred)\n",
    "    print 'auc score: %f' %auc_score\n",
    "    predictions.append([(pred, label) for label,pred in zip(y, y_pred)])\n",
    "    \n",
    "    nb_coef = 0\n",
    "    for i in range (0, len(coef)):\n",
    "        if coef[i] != 0.:\n",
    "            nb_coef+=1\n",
    "    print \"Number of coef with alpha = %f: %d\" %(alpha,nb_coef)\n",
    "    #print \"l1 intercept: %f \" %l1.intercept_\n",
    "    return coef, auc_score   "
   ]
  },
  {
   "cell_type": "code",
   "execution_count": 40,
   "metadata": {},
   "outputs": [
    {
     "name": "stdout",
     "output_type": "stream",
     "text": [
      "auc score: 0.928264\n",
      "Number of coef with alpha = 0.000090: 23\n",
      "auc score: 0.921319\n",
      "Number of coef with alpha = 0.000100: 22\n",
      "auc score: 0.895660\n",
      "Number of coef with alpha = 0.000200: 13\n",
      "auc score: 0.876493\n",
      "Number of coef with alpha = 0.000300: 13\n",
      "auc score: 0.848576\n",
      "Number of coef with alpha = 0.000400: 9\n",
      "auc score: 0.828785\n",
      "Number of coef with alpha = 0.000600: 7\n",
      "auc score: 0.827500\n",
      "Number of coef with alpha = 0.000700: 6\n"
     ]
    }
   ],
   "source": [
    "# We build 6 different potential fingerprint (with a different number of features each time)\n",
    "alphas = [0.00009, 1e-4, 0.0002, 0.0003, 0.0004, 0.0006, 0.0007]\n",
    "\n",
    "coef_lasso= np.zeros((len(alphas),len(all_pairoutcomes)))\n",
    "predictions = list()\n",
    "\n",
    "for i in range (0, len(alphas)):\n",
    "    coef, auc_score = l1_regression(X, y, alphas[i], predictions)\n",
    "    for j in range(0,len(all_pairoutcomes)):\n",
    "        coef_lasso[i][j] = coef[j] "
   ]
  },
  {
   "cell_type": "code",
   "execution_count": 46,
   "metadata": {
    "collapsed": true
   },
   "outputs": [],
   "source": [
    "#print coef_lasso[2]"
   ]
  },
  {
   "cell_type": "code",
   "execution_count": 41,
   "metadata": {},
   "outputs": [
    {
     "name": "stdout",
     "output_type": "stream",
     "text": [
      "[ 0.70434783  0.80116959  0.9125      0.78055556  0.73043478]\n",
      "[ 0.89473684  0.91875     0.9047619   0.88695652  0.875     ]\n",
      "[ 0.91875     0.9826087   0.83625731  0.79679144  0.9125    ]\n",
      "[ 0.76023392  0.84210526  0.91666667  0.85714286  0.83957219]\n",
      "[ 0.75        0.84795322  0.82312925  0.684375    0.87878788]\n",
      "[ 0.78911565  0.74561404  0.8128655   0.66666667  0.91875   ]\n",
      "[ 0.86394558  0.85964912  0.82051282  0.8707483   0.78888889]\n",
      "[ 0.78580155  0.89604105  0.88938149  0.84314418  0.79684907  0.78660237\n",
      "  0.84074894]\n"
     ]
    },
    {
     "data": {
      "text/plain": [
       "(9e-05, 0.0007)"
      ]
     },
     "execution_count": 41,
     "metadata": {},
     "output_type": "execute_result"
    },
    {
     "data": {
      "image/png": "[encoded data removed]",
      "text/plain": [
       "<matplotlib.figure.Figure at 0x7ff777f7de50>"
      ]
     },
     "metadata": {},
     "output_type": "display_data"
    }
   ],
   "source": [
    "# We use 10-fold cross-validation to evaluate the models\n",
    "alphas = [0.00009, 1e-4, 0.0002, 0.0003, 0.0004, 0.0006, 0.0007] #we get between 5 and 19 features using these values of alpha\n",
    "n_folds = 5\n",
    "scores = list()\n",
    "scores_std = list()\n",
    "\n",
    "for alpha in alphas:\n",
    "    lasso = Lasso(alpha=alpha,fit_intercept=True, max_iter=100000, tol=0.0001)\n",
    "    lasso_fit = lasso.fit(X,y)\n",
    "    #print y.sum()\n",
    "    #print len(y)\n",
    "    cv = ShuffleSplit(n_splits=n_folds)\n",
    "    this_scores = cross_val_score(lasso_fit, X, y, scoring='roc_auc', cv=cv, n_jobs=1)\n",
    "    print this_scores\n",
    "    scores.append(np.mean(this_scores))\n",
    "    scores_std.append(np.std(this_scores))\n",
    "\n",
    "scores, scores_std = np.array(scores), np.array(scores_std)\n",
    "print scores\n",
    "\n",
    "plt.figure().set_size_inches(8, 6)\n",
    "plt.semilogx(alphas, scores)\n",
    "\n",
    "# plot error lines showing +/- std. errors of the scores\n",
    "std_error = scores_std / np.sqrt(n_folds)\n",
    "\n",
    "plt.semilogx(alphas, scores + std_error, 'b--')\n",
    "plt.semilogx(alphas, scores - std_error, 'b--')\n",
    "\n",
    "# alpha=0.2 controls the translucency of the fill color\n",
    "plt.fill_between(alphas, scores + std_error, scores - std_error, alpha=0.2)\n",
    "\n",
    "plt.ylabel('CV score +/- std error')\n",
    "plt.xlabel('alpha')\n",
    "plt.axhline(np.max(scores), linestyle='--', color='.5')\n",
    "plt.xlim([alphas[0], alphas[-1]])"
   ]
  },
  {
   "cell_type": "markdown",
   "metadata": {},
   "source": [
    "######  Selection of alpha depending on the validation score\n",
    "Depending on the way the test group is picked, we have different values of alpha. \n",
    "So we test the model with three different values of alpha: [0.0001, 0.0002, 0.0003]"
   ]
  },
  {
   "cell_type": "code",
   "execution_count": 42,
   "metadata": {},
   "outputs": [
    {
     "name": "stdout",
     "output_type": "stream",
     "text": [
      "22\n",
      "22\n",
      "22\n",
      "37622529\n"
     ]
    }
   ],
   "source": [
    "# Extract the set of relevant features and their weight, alpha = 0.0002\n",
    "features_indice = list()\n",
    "features_weight = list()\n",
    "features = list()\n",
    "\n",
    "for i in range (len(coef_lasso[1])):\n",
    "    if coef_lasso[1][i] != 0.:\n",
    "        features_indice.append(i)\n",
    "\n",
    "print len(features_indice)\n",
    "\n",
    "for i in range (len(all_pairoutcomes)):\n",
    "    if i in features_indice:\n",
    "        features.append(all_pairoutcomes[i])\n",
    "        features_weight.append((all_pairoutcomes[i], coef_lasso[1][i]))\n",
    "    \n",
    "print len(features)\n",
    "print len(features_weight)\n",
    "print features[0]"
   ]
  },
  {
   "cell_type": "code",
   "execution_count": 43,
   "metadata": {
    "collapsed": true
   },
   "outputs": [],
   "source": [
    "# Build the new frequency tables\n",
    "def make_lsd_training_table_reduced(features, pos_drugs = None, neg_drugs = None):\n",
    "\n",
    "    # we map positive and negative drugs from their concept_code to their concept_id\n",
    "    pos_drugs_mapped = list()\n",
    "    for pos_drug in pos_drugs:\n",
    "        pos_drugs_mapped.append(drug_mapping[pos_drug])\n",
    "        \n",
    "    neg_drugs_mapped = list()\n",
    "    for neg_drug in neg_drugs:\n",
    "        neg_drugs_mapped.append(drug_mapping[neg_drug])\n",
    "        \n",
    "    outcomes = np.concatenate((np.ones(len(pos_drugs),np.bool), np.zeros(len(neg_drugs),np.bool)))\n",
    "    \n",
    "    training_drugs = pos_drugs_mapped + neg_drugs_mapped\n",
    "    \n",
    "    # build the adverse events frequency table\n",
    "    ae_frequencies_training = np.zeros((len(pos_drugs)+len(neg_drugs),len(features)))\n",
    "    \n",
    "    for r in aeolus_drugReactionCounts['results']:\n",
    "        if not r['drug_concept_id'] in training_drugs:\n",
    "            continue\n",
    "        if not r['outcome_concept_id'] in features:\n",
    "            continue\n",
    "        \n",
    "        \n",
    "        i = training_drugs.index(r['drug_concept_id'])\n",
    "        j = features.index(r['outcome_concept_id'])\n",
    "        \n",
    "        frequency = float(r['nreports'])/float(r['ndrugreports'])\n",
    "        \n",
    "        ae_frequencies_training[i,j] = frequency\n",
    "                    \n",
    "    return ae_frequencies_training, outcomes\n",
    "\n",
    "\n",
    "# Build the frequency table for drugpairs\n",
    "def make_lsd_testing_table_reduced(features):\n",
    "    ae_frequencies_ddi_testing = np.zeros((len(all_drugpairs),len(features)))\n",
    "    \n",
    "    for r in tqdm(aeolus_drugpairReactionCounts['results']):\n",
    "        \n",
    "        drugpair = (r['drug1_concept_id'],r['drug2_concept_id'])\n",
    "        if r['outcome_concept_id'] in features:\n",
    "            x_index = all_drugpairs.index(drugpair)\n",
    "            y_index = features.index(r['outcome_concept_id'])\n",
    "            \n",
    "            frequency = float(r['n_d1d2ae'])/float(r['n_d1d2'])\n",
    "            #print frequency\n",
    "            \n",
    "            ae_frequencies_ddi_testing[x_index,y_index] = frequency    \n",
    "                \n",
    "    return ae_frequencies_ddi_testing"
   ]
  },
  {
   "cell_type": "code",
   "execution_count": 44,
   "metadata": {},
   "outputs": [
    {
     "name": "stdout",
     "output_type": "stream",
     "text": [
      "(272, 22)\n",
      "(272,)\n"
     ]
    }
   ],
   "source": [
    "X_reduced, y_reduced = make_lsd_training_table_reduced(features, pos_controls, neg_controls)\n",
    "\n",
    "print X_reduced.shape\n",
    "print y_reduced.shape"
   ]
  },
  {
   "cell_type": "code",
   "execution_count": 45,
   "metadata": {},
   "outputs": [
    {
     "name": "stderr",
     "output_type": "stream",
     "text": [
      "100%|██████████| 1313184/1313184 [03:53<00:00, 5614.85it/s] \n"
     ]
    }
   ],
   "source": [
    "X_test_reduced = make_lsd_testing_table_reduced(features)"
   ]
  },
  {
   "cell_type": "code",
   "execution_count": 46,
   "metadata": {
    "scrolled": true
   },
   "outputs": [
    {
     "name": "stdout",
     "output_type": "stream",
     "text": [
      "37622529\n",
      "(39800, 22)\n"
     ]
    }
   ],
   "source": [
    "print features[0]\n",
    "print X_test_reduced.shape\n",
    "#print X_test_reduced[2]"
   ]
  },
  {
   "cell_type": "markdown",
   "metadata": {},
   "source": [
    "## Build the latent signal detection model (i.e hypertension's fingerprint)"
   ]
  },
  {
   "cell_type": "code",
   "execution_count": 47,
   "metadata": {
    "collapsed": true
   },
   "outputs": [],
   "source": [
    "# We use a Logistic Regression Binary classifier: each drug or drug pair is represented by a combination of AEs and their weight (beta coefficient)\n",
    "# If a drug is above a certain threshold, we classify it as causing hypertension\n",
    "\n",
    "def score(features_weight, X_test):\n",
    "    score = list()\n",
    "    \n",
    "    for drugpair in X_test:\n",
    "        #print drugpair\n",
    "        drugpair_score = 0\n",
    "        for i in range (0, len(features)):\n",
    "            drugpair_score += drugpair[i] * features_weight[i][1]\n",
    "        score.append(drugpair_score)\n",
    "    \n",
    "    return score\n",
    "\n",
    "def y_pred_FAERS(drug_mapping):\n",
    "    \n",
    "    y_pred = np.zeros((len(scores)))\n",
    "    pos_drugs_mapped = list()\n",
    "    \n",
    "    for pos_drug in pos_controls:\n",
    "        if pos_drug not in drug_mapping:\n",
    "            continue\n",
    "        \n",
    "    pos_drugs_mapped.append(drug_mapping[pos_drug])\n",
    "    \n",
    "    # if a drugpair has a drug known to be a positive control then we predict that the drugpair will lead to the AE\n",
    "    for drugpair in all_drugpairs:         \n",
    "        for drug in drugpair:\n",
    "            if drug in pos_drugs_mapped:\n",
    "                y_pred[all_drugpairs.index(drugpair)] = 1\n",
    "                \n",
    "    return y_pred\n",
    "\n",
    "def y_pred_va():\n",
    "    \n",
    "    y_pred = np.zeros((len(scores)))\n",
    "    \n",
    "    # if a drugpair has a drug known to be a positive control then we predict that the drugpair will lead to the AE\n",
    "    for drugpair in all_drugpairs:         \n",
    "        if drugpair in va_omop_ddi :\n",
    "            y_pred[all_drugpairs.index(drugpair)] = 1\n",
    "    \n",
    "    return y_pred\n",
    "\n",
    "def predict_ddi(scores, threshold):\n",
    "    \n",
    "    predictions = np.zeros((len(scores)))\n",
    "    for score in scores:\n",
    "        if (score > threshold):\n",
    "            predictions[scores.index(score)] = 1\n",
    "    print sum(predictions)\n",
    "    \n",
    "    y_pred_Faers = y_pred_FAERS(drug_mapping)\n",
    "    y_pred_VA = y_pred_va()\n",
    "    \n",
    "    print \"Number of positive predictions from FAERS:\",np.sum(y_pred_Faers)\n",
    "    print \"Number of positive predictions from the VA:\",np.sum(y_pred_VA)\n",
    "    \n",
    "    print \"FAERS drugpairs ROC:\",roc_auc_score(y_true=y_pred_Faers,y_score=scores)\n",
    "    fprFA, tprFA, _ = roc_curve(y_true=y_pred_Faers,y_score=scores)\n",
    "    \n",
    "    print \"VA drugpairs ROC:\",roc_auc_score(y_true=y_pred_VA,y_score=scores)\n",
    "    fprVA, tprVA, _ = roc_curve(y_true=y_pred_VA,y_score=scores)\n",
    "    \n",
    "    sns.set(style='ticks', font_scale=1.4)\n",
    "    \n",
    "    plt.figure(figsize=(6,6))\n",
    "    plt.plot(fprFA,tprFA,label='FAERS (area= %0.2f)' % auc(fprFA,tprFA))\n",
    "    plt.plot(fprVA,tprVA,label='VA (area= %0.2f)' % auc(fprVA,tprVA))\n",
    "    \n",
    "    plt.xlabel('False Positive Rate')\n",
    "    plt.ylabel('True Positive Rate')\n",
    "    \n",
    "    plt.legend(loc=\"lower right\")\n",
    "    \n",
    "    sns.despine()\n",
    "    \n",
    "    return predictions\n",
    "            "
   ]
  },
  {
   "cell_type": "code",
   "execution_count": 48,
   "metadata": {},
   "outputs": [
    {
     "name": "stdout",
     "output_type": "stream",
     "text": [
      "39800\n",
      "4.42349750526\n",
      "5159.0\n",
      "Number of positive predictions from FAERS: 398.0\n",
      "Number of positive predictions from the VA: 14.0\n",
      "FAERS drugpairs ROC: 0.737106041858\n",
      "VA drugpairs ROC: 0.606175180071\n"
     ]
    },
    {
     "data": {
      "image/png": "[encoded data removed]",
      "text/plain": [
       "<matplotlib.figure.Figure at 0x7ff7604eb890>"
      ]
     },
     "metadata": {},
     "output_type": "display_data"
    }
   ],
   "source": [
    "scores = score(features_weight, X_test_reduced)\n",
    "print len(scores)\n",
    "print scores[0]\n",
    "\n",
    "threshold = 5\n",
    "predictions = predict_ddi(scores, threshold)"
   ]
  },
  {
   "cell_type": "code",
   "execution_count": 47,
   "metadata": {
    "scrolled": false
   },
   "outputs": [
    {
     "name": "stderr",
     "output_type": "stream",
     "text": [
      "  1%|          | 11938/1313184 [00:00<00:10, 119378.98it/s]"
     ]
    },
    {
     "name": "stdout",
     "output_type": "stream",
     "text": [
      "0.0001\n",
      "10\n"
     ]
    },
    {
     "name": "stderr",
     "output_type": "stream",
     "text": [
      "100%|██████████| 1313184/1313184 [01:49<00:00, 12032.30it/s]\n"
     ]
    },
    {
     "name": "stdout",
     "output_type": "stream",
     "text": [
      "(39800, 10)\n",
      "5591.0\n"
     ]
    },
    {
     "name": "stderr",
     "output_type": "stream",
     "text": [
      "\r",
      "  0%|          | 0/1313184 [00:00<?, ?it/s]"
     ]
    },
    {
     "name": "stdout",
     "output_type": "stream",
     "text": [
      "Number of positive predictions from FAERS: 398.0\n",
      "Number of positive predictions from the VA: 14.0\n",
      "FAERS drugpairs ROC: 0.733398860706\n",
      "VA drugpairs ROC: 0.569460901538\n",
      "0.0002\n",
      "9\n"
     ]
    },
    {
     "name": "stderr",
     "output_type": "stream",
     "text": [
      "100%|██████████| 1313184/1313184 [01:58<00:00, 11052.17it/s]\n"
     ]
    },
    {
     "name": "stdout",
     "output_type": "stream",
     "text": [
      "(39800, 9)\n",
      "3967.0\n"
     ]
    },
    {
     "name": "stderr",
     "output_type": "stream",
     "text": [
      "\r",
      "  0%|          | 0/1313184 [00:00<?, ?it/s]"
     ]
    },
    {
     "name": "stdout",
     "output_type": "stream",
     "text": [
      "Number of positive predictions from FAERS: 398.0\n",
      "Number of positive predictions from the VA: 14.0\n",
      "FAERS drugpairs ROC: 0.728481757042\n",
      "VA drugpairs ROC: 0.55855972309\n",
      "0.0003\n",
      "8\n"
     ]
    },
    {
     "name": "stderr",
     "output_type": "stream",
     "text": [
      "100%|██████████| 1313184/1313184 [01:56<00:00, 11226.62it/s]\n"
     ]
    },
    {
     "name": "stdout",
     "output_type": "stream",
     "text": [
      "(39800, 8)\n",
      "2525.0\n",
      "Number of positive predictions from FAERS: 398.0\n",
      "Number of positive predictions from the VA: 14.0\n",
      "FAERS drugpairs ROC: 0.718124657091\n",
      "VA drugpairs ROC: 0.552218655521\n"
     ]
    },
    {
     "data": {
      "image/png": "[encoded data removed]",
      "text/plain": [
       "<matplotlib.figure.Figure at 0x7fcd88163190>"
      ]
     },
     "metadata": {},
     "output_type": "display_data"
    },
    {
     "data": {
      "image/png": "[encoded data removed]",
      "text/plain": [
       "<matplotlib.figure.Figure at 0x7fcdf46a59d0>"
      ]
     },
     "metadata": {},
     "output_type": "display_data"
    },
    {
     "data": {
      "image/png": "[encoded data removed]",
      "text/plain": [
       "<matplotlib.figure.Figure at 0x7fcdd75fe4d0>"
      ]
     },
     "metadata": {},
     "output_type": "display_data"
    }
   ],
   "source": [
    "# Loop to test all three models\n",
    "# We use a Logistic Regression Binary classifier: each drug or drug pair is represented by a combination of AEs and their weight (beta coefficient)\n",
    "# If a drug is above a certain threshold, we classify it as causing hypertension\n",
    "\n",
    "alphas_selected = [0.0001, 0.0002, 0.0003]\n",
    "threshold = 4\n",
    "\n",
    "for alpha in alphas_selected:\n",
    "    print alpha\n",
    "    \n",
    "    #Extraction of features\n",
    "    features_indice = list()\n",
    "    features_weight = list()\n",
    "    features = list()\n",
    "\n",
    "    for i in range (len(coef_lasso[2+alphas_selected.index(alpha)])):\n",
    "        if coef_lasso[2+alphas_selected.index(alpha)][i] != 0.:\n",
    "            features_indice.append(i)\n",
    "\n",
    "    for i in range (len(all_pairoutcomes)):\n",
    "        if i in features_indice:\n",
    "            features.append(all_pairoutcomes[i])\n",
    "            features_weight.append((all_pairoutcomes[i], coef_lasso[2+alphas_selected.index(alpha)][i]))\n",
    "    \n",
    "    print len(features)\n",
    "    \n",
    "    #Construction of the new testing frequency table\n",
    "    X_test_reduced = make_lsd_testing_table_reduced(features)\n",
    "    print X_test_reduced.shape\n",
    "    \n",
    "    #Fingerprint construction\n",
    "    scores = score(features_weight, X_test_reduced)\n",
    "    predictions = predict_ddi(scores, threshold)\n"
   ]
  },
  {
   "cell_type": "code",
   "execution_count": 49,
   "metadata": {
    "collapsed": true
   },
   "outputs": [],
   "source": [
    "# Random Forest Classifier after the L1 reduction of features\n",
    "\n",
    "def drugpair_predictions_reduced(X, y, X_test):\n",
    "    \n",
    "    # can't use oob after L1 regularization\n",
    "    rf = RandomForestClassifier(n_estimators = 100, oob_score=False, random_state=12)\n",
    "    rf.fit(X,y) #Build a forest of trees from the training set (X, y).\n",
    "    \n",
    "    predictions_proba = rf.predict_proba(X_test)[:,1]\n",
    "    predictions = rf.predict(X_test) #predict class for X_test\n",
    "    print \"Mean accuracy on the given test data and labels: \", rf.score(X,y)  \n",
    "    \n",
    "    y_pred_Faers = y_pred_FAERS(drug_mapping)\n",
    "    y_pred_VA = y_pred_va()\n",
    "    \n",
    "    predicted_ddi = sorted(zip(predictions_proba, all_drugpairs))\n",
    "    predicted_ddi.reverse()\n",
    "    i=0\n",
    "    while predicted_ddi[i][0]>0.5:\n",
    "        i+=1\n",
    "    predicted_ddi = predicted_ddi[:i]\n",
    "            \n",
    "    #(i.e with at least one drug known to have hypertension as a side effect)\n",
    "    print \"Number of positive predictions:\",np.sum(y_pred_Faers)\n",
    "    \n",
    "    print \"FAERS drugpairs ROC:\",roc_auc_score(y_true=y_pred_Faers,y_score=predictions_proba)\n",
    "    fprFA, tprFA, _ = roc_curve(y_true=y_pred_Faers,y_score=predictions_proba)\n",
    "    \n",
    "    print \"VA drugpairs ROC:\",roc_auc_score(y_true=y_pred_VA,y_score=predictions_proba)\n",
    "    fprVA, tprVA, _ = roc_curve(y_true=y_pred_VA,y_score=predictions_proba)\n",
    "\n",
    "    sns.set(style='ticks', font_scale=1.4)\n",
    "    \n",
    "    plt.figure(figsize=(6,6))\n",
    "    plt.plot(fprFA,tprFA,label='FAERS (area= %0.2f)' % auc(fprFA,tprFA))\n",
    "    plt.plot(fprVA,tprVA,label='VA (area= %0.2f)' % auc(fprVA,tprVA))\n",
    "    \n",
    "    plt.xlabel('False Positive Rate')\n",
    "    plt.ylabel('True Positive Rate')\n",
    "    \n",
    "    plt.legend(loc=\"lower right\")\n",
    "    \n",
    "    sns.despine()\n",
    "    \n",
    "    return predicted_ddi"
   ]
  },
  {
   "cell_type": "code",
   "execution_count": 50,
   "metadata": {},
   "outputs": [
    {
     "name": "stdout",
     "output_type": "stream",
     "text": [
      "Mean accuracy on the given test data and labels:  0.996323529412\n",
      "Number of positive predictions: 398.0\n",
      "FAERS drugpairs ROC: 0.707681726229\n",
      "VA drugpairs ROC: 0.620909365103\n",
      "15906\n"
     ]
    },
    {
     "data": {
      "image/png": "[encoded data removed]",
      "text/plain": [
       "<matplotlib.figure.Figure at 0x7ff77ddaba90>"
      ]
     },
     "metadata": {},
     "output_type": "display_data"
    }
   ],
   "source": [
    "predicted_ddi = drugpair_predictions_reduced(X_reduced,y_reduced,X_test_reduced)\n",
    "print len(predicted_ddi)"
   ]
  },
  {
   "cell_type": "code",
   "execution_count": 55,
   "metadata": {
    "collapsed": true
   },
   "outputs": [],
   "source": [
    "def drugpair_predictions(X,y,X_test):  \n",
    "    \n",
    "    rf = RandomForestClassifier(n_estimators = 100, oob_score=True, random_state=12)\n",
    "    rf.fit(X,y) #Build a forest of trees from the training set (X, y).\n",
    "    \n",
    "    print \"Number of estimators: \", len(rf.estimators_)\n",
    "    \n",
    "    predictions_proba = rf.predict_proba(X_test)[:,1]\n",
    "    predictions = rf.predict(X_test) #predict class for X_test\n",
    "    print \"Mean accuracy on the given test data and labels: \", rf.score(X,y)   \n",
    "\n",
    "    oob_predictions = rf.oob_decision_function_[:,1]\n",
    "    oob_predictions[ np.where( np.isnan(oob_predictions) == True)[0]] = 0\n",
    "    \n",
    "    #roc_auc_score computes the area under the ROC curve\n",
    "    print \"OOB ROC:\",roc_auc_score(y_true=y, y_score=oob_predictions)\n",
    "    fprOOB, tprOOB, _ = roc_curve(y_true=y,y_score=oob_predictions)\n",
    "    \n",
    "    y_pred_Faers = y_pred_FAERS(drug_mapping)\n",
    "    y_pred_VA = y_pred_va()\n",
    "    \n",
    "    predicted_ddi = sorted(zip(predictions_proba, all_drugpairs))\n",
    "    predicted_ddi.reverse()\n",
    "    i=0\n",
    "    while predicted_ddi[i][0]>0.5:\n",
    "        i+=1\n",
    "    predicted_ddi = predicted_ddi[:i]\n",
    "            \n",
    "    #(i.e with at least one drug known to have hypertension as a side effect)\n",
    "    print \"Number of positive predictions FAERS:\",np.sum(y_pred_Faers)\n",
    "    print \"Number of ddi predictions (with a probability > 0,5): \", len(predicted_ddi)\n",
    "    \n",
    "    print \"FAERS drugpairs ROC:\",roc_auc_score(y_true=y_pred_Faers,y_score=predictions_proba)\n",
    "    fprFA, tprFA, _ = roc_curve(y_true=y_pred_Faers,y_score=predictions_proba)\n",
    "    \n",
    "    print \"VA drugpairs ROC:\",roc_auc_score(y_true=y_pred_VA,y_score=predictions_proba)\n",
    "    fprVA, tprVA, _ = roc_curve(y_true=y_pred_VA,y_score=predictions_proba)\n",
    "    \n",
    "    sns.set(style='ticks', font_scale=1.4)\n",
    "    \n",
    "    plt.figure(figsize=(6,6))\n",
    "    plt.plot(fprOOB,tprOOB,label='OOB (area= %0.2f)' % auc(fprOOB,tprOOB))\n",
    "    plt.plot(fprFA,tprFA,label='FAERS (area= %0.2f)' % auc(fprFA,tprFA))\n",
    "    plt.plot(fprVA,tprVA,label='VA (area= %0.2f)' % auc(fprVA,tprVA))\n",
    "    \n",
    "    plt.xlabel('False Positive Rate')\n",
    "    plt.ylabel('True Positive Rate')\n",
    "    \n",
    "    plt.legend(loc=\"lower right\")\n",
    "    \n",
    "    sns.despine()\n",
    "    \n",
    "    return predicted_ddi"
   ]
  },
  {
   "cell_type": "code",
   "execution_count": 56,
   "metadata": {},
   "outputs": [
    {
     "name": "stdout",
     "output_type": "stream",
     "text": [
      "Number of estimators:  100\n",
      "Mean accuracy on the given test data and labels:  0.996323529412\n",
      "OOB ROC: 0.865625\n",
      "Number of positive predictions FAERS: 398.0\n",
      "Number of ddi predictions (with a probability > 0,5):  12290\n",
      "FAERS drugpairs ROC: 0.662355480769\n",
      "VA drugpairs ROC: 0.562279624563\n"
     ]
    },
    {
     "data": {
      "image/png": "[encoded data removed]",
      "text/plain": [
       "<matplotlib.figure.Figure at 0x7ff71763f450>"
      ]
     },
     "metadata": {},
     "output_type": "display_data"
    }
   ],
   "source": [
    "pred_ddi = drugpair_predictions(X,y,X_test)"
   ]
  },
  {
   "cell_type": "markdown",
   "metadata": {},
   "source": [
    "## DDI predictions"
   ]
  },
  {
   "cell_type": "code",
   "execution_count": 50,
   "metadata": {
    "collapsed": true
   },
   "outputs": [],
   "source": [
    "c = csv.writer(open(\"top_ddi.csv\", \"wb\"))\n",
    "for prob, ddi in predicted_ddi:\n",
    "    c.writerow([prob, ddi])"
   ]
  },
  {
   "cell_type": "code",
   "execution_count": 48,
   "metadata": {},
   "outputs": [
    {
     "name": "stdout",
     "output_type": "stream",
     "text": [
      "17652\n",
      "6152\n"
     ]
    }
   ],
   "source": [
    "#Treatment of the predictions\n",
    "final_predictions = list()\n",
    "\n",
    "pos_drugs_mapped = list()\n",
    "for pos_drug in pos_controls:\n",
    "    if pos_drug not in drug_mapping:\n",
    "        continue\n",
    "        \n",
    "    pos_drugs_mapped.append(drug_mapping[pos_drug])\n",
    "\n",
    "# Removing the pairs where at least one of the drugs is known to be responsible for hypertension alone\n",
    "for prob, drugpair in predicted_ddi:\n",
    "    if (drugpair[0] not in pos_drugs_mapped):\n",
    "        if (drugpair[1] not in pos_drugs_mapped):\n",
    "            # All drugpairs are twice in the list ((a,b) and (b,a)), we only keep one\n",
    "            if drugpair[0] > drugpair[1]:\n",
    "                final_predictions.append(drugpair)\n",
    "\n",
    "print len(predicted_ddi)\n",
    "print len(final_predictions)                \n",
    "top_ddi = final_predictions[:50]\n",
    "#print top_ddi"
   ]
  },
  {
   "cell_type": "code",
   "execution_count": 52,
   "metadata": {
    "collapsed": true
   },
   "outputs": [],
   "source": [
    "c = csv.writer(open(\"top_ddi_treated.csv\", \"wb\"))\n",
    "for ddi in final_predictions:\n",
    "    c.writerow([ddi])"
   ]
  },
  {
   "cell_type": "code",
   "execution_count": 49,
   "metadata": {},
   "outputs": [
    {
     "name": "stdout",
     "output_type": "stream",
     "text": [
      "(19135832, 1597756)\n",
      "(19135832, 1351557)\n",
      "Multivitamin preparation glimepiride\n",
      "Multivitamin preparation candesartan\n"
     ]
    }
   ],
   "source": [
    "# Pull the top prediction\n",
    "pair = top_ddi[0]\n",
    "pair2 = top_ddi[1]\n",
    "print pair\n",
    "print pair2\n",
    "print concept2name[pair[0]], concept2name[pair[1]]\n",
    "print concept2name[pair2[0]], concept2name[pair2[1]]"
   ]
  },
  {
   "cell_type": "markdown",
   "metadata": {},
   "source": [
    "## Corroborate drugpair predictions using OHDSI data\n",
    "Analysis of the top 50 predicted DDIs.\n",
    "Method: Creation of cohorts of patients using the OHDSI API.\n",
    "Criteria: Patients exposed to either drug of a predicted drugpair alone and patients exposed to both within a 30 days interval.\n",
    "All patients must have had their blood pressure measured within 30 days of their last drug intake. "
   ]
  },
  {
   "cell_type": "code",
   "execution_count": 67,
   "metadata": {
    "collapsed": true
   },
   "outputs": [],
   "source": [
    "# Retrieve patient information for the top 50 ddi predictions"
   ]
  },
  {
   "cell_type": "code",
   "execution_count": 68,
   "metadata": {
    "collapsed": true
   },
   "outputs": [],
   "source": [
    "# Assess significance of the difference in values of BP for drugpair and control groups using Mann-Whitney U test\n",
    "from scipy.stats import mannwhitneyu"
   ]
  },
  {
   "cell_type": "code",
   "execution_count": 69,
   "metadata": {
    "collapsed": true
   },
   "outputs": [],
   "source": [
    "# Correct for multiple hypothesis testing using Bonferroni's method"
   ]
  },
  {
   "cell_type": "code",
   "execution_count": null,
   "metadata": {
    "collapsed": true
   },
   "outputs": [],
   "source": []
  }
 ],
 "metadata": {
  "kernelspec": {
   "display_name": "Python 2",
   "language": "python",
   "name": "python2"
  },
  "language_info": {
   "codemirror_mode": {
    "name": "ipython",
    "version": 2
   },
   "file_extension": ".py",
   "mimetype": "text/x-python",
   "name": "python",
   "nbconvert_exporter": "python",
   "pygments_lexer": "ipython2",
   "version": "2.7.12"
  }
 },
 "nbformat": 4,
 "nbformat_minor": 2
}
