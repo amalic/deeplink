{
 "cells": [
  {
   "cell_type": "markdown",
   "metadata": {
    "collapsed": true
   },
   "source": [
    "# Hypertension DDIs pipeline\n",
    "\n",
    "Steps to build the pipeline:\n",
    "1. Useful functions for the pipeline (mapping, retrieving data from web apis...)\n",
    "2. Find positive and negative controls for the AE of interest\n",
    "3. Retrieve adverse event report data for these and a set of control drugs\n",
    "4. Build the training and testing frequency tables\n",
    "5. Features reduction to avoid overfitting\n",
    "6. Drugpair predictions\n",
    "7. Corroboration using OHDSI data"
   ]
  },
  {
   "cell_type": "code",
   "execution_count": 172,
   "metadata": {
    "collapsed": true
   },
   "outputs": [],
   "source": [
    "import csv\n",
    "import gzip\n",
    "import tqdm\n",
    "import json\n",
    "import heapq\n",
    "import random\n",
    "import urllib2\n",
    "\n",
    "import requests\n",
    "import itertools\n",
    "\n",
    "import numpy as np\n",
    "import seaborn as sns\n",
    "import matplotlib.pyplot as plt\n",
    "\n",
    "from tqdm import tqdm\n",
    "from scipy import stats\n",
    "from collections import defaultdict\n",
    "from biothings_client import get_client\n",
    "\n",
    "from sklearn.linear_model import Lasso\n",
    "from sklearn.linear_model import LassoCV\n",
    "from sklearn.model_selection import KFold\n",
    "from sklearn.model_selection import cross_val_score\n",
    "from sklearn.model_selection import ShuffleSplit\n",
    "\n",
    "from sklearn.ensemble import RandomForestClassifier\n",
    "from sklearn.metrics import roc_auc_score, roc_curve, auc\n",
    "from urllib2 import Request, urlopen, URLError, build_opener\n",
    "from json import JSONEncoder\n",
    "\n",
    "#import OHDSI_API_data_ as ohdsi\n",
    "\n",
    "%matplotlib inline"
   ]
  },
  {
   "cell_type": "code",
   "execution_count": 159,
   "metadata": {},
   "outputs": [],
   "source": [
    "from import_notebook import *\n",
    "sys.meta_path.append(NotebookFinder())\n",
    "import OHDSI_API_data_ as ohdsi"
   ]
  },
  {
   "cell_type": "markdown",
   "metadata": {},
   "source": [
    "## Needed functions"
   ]
  },
  {
   "cell_type": "code",
   "execution_count": 3,
   "metadata": {
    "collapsed": true
   },
   "outputs": [],
   "source": [
    "ADVERSE_EVENT_OF_INTEREST = 'hypertension'\n",
    "\n",
    "# adverse events related to hypertension (from SIDER)\n",
    "AE_LIST = ['hypertension', 'hypertention worsened', 'hypertension paroxysmal']"
   ]
  },
  {
   "cell_type": "code",
   "execution_count": 4,
   "metadata": {
    "collapsed": true
   },
   "outputs": [],
   "source": [
    "# Authentication module\n",
    "# Instructions at https://documentation.uts.nlm.nih.gov/rest/home.html\n",
    "\n",
    "#get the tgt corresponding to the apikey\n",
    "def get_tgt(apikey):\n",
    "    tgt = requests.post(\"https://utslogin.nlm.nih.gov/cas/v1/api-key\", data = {'apikey':apikey})\n",
    "    TGT = tgt.content.split()[20]\n",
    "    TGT = TGT[52:+len(TGT)-1]\n",
    "    return TGT\n",
    "\n",
    "#get a ticket corresponding to the tgt\n",
    "def get_ticket(tgt):\n",
    "    uri_login = \"https://utslogin.nlm.nih.gov/cas/v1/tickets/\" + tgt\n",
    "    ticket = requests.post(uri_login, data = {'service':'http://umlsks.nlm.nih.gov'})\n",
    "    return ticket.content\n"
   ]
  },
  {
   "cell_type": "code",
   "execution_count": 5,
   "metadata": {
    "collapsed": true
   },
   "outputs": [],
   "source": [
    "def AEtoCUI(aeName, apikey):\n",
    "    \"Converts AE name to UMLS CUIs\"\n",
    "    cuis = []\n",
    "    \n",
    "    tgt = get_tgt(apikey)\n",
    "    ticket = get_ticket(tgt)\n",
    "    \n",
    "    query = {'ticket':ticket}\n",
    "    uri = \"https://uts-ws.nlm.nih.gov/rest/search/current?string=\" + aeName\n",
    "    r = requests.get(uri, params = query)\n",
    "    r.encoding = 'utf-8'\n",
    "    items  = json.loads(r.text)\n",
    "    \n",
    "    jsonData = items[\"result\"]\n",
    "    for s in jsonData['results']:\n",
    "        cuis.append(s['ui'])\n",
    "    return cuis"
   ]
  },
  {
   "cell_type": "code",
   "execution_count": 29,
   "metadata": {
    "collapsed": true
   },
   "outputs": [],
   "source": [
    "def nsides_api(service, method, args = None):\n",
    "    \"\"\"\n",
    "    Simple python API to access the NSIDES services and data.\n",
    "    \n",
    "    service   string, that can be one of three values: aeolus, sider, or omop\n",
    "    method    string, for a list of methods see http://nsideseb-env.us-east-1.elasticbeanstalk.com\n",
    "    args      dictionary, method parameters see http://nsideseb-env.us-east-1.elasticbeanstalk.com\n",
    "    \"\"\"\n",
    "    NSIDES_API_URL = 'http://nsideseb-env.us-east-1.elasticbeanstalk.com/api/v1/'\n",
    "    \n",
    "    base_url = NSIDES_API_URL + 'query?service=%s&meta=%s' % (service, method)\n",
    "    url = base_url\n",
    "    if not args is None:\n",
    "        url = base_url + '&' + '&'.join(['%s=%s' % (k,v) for k,v in args.items()])\n",
    "    #print url\n",
    "    \n",
    "    response = urllib2.urlopen(url).read()\n",
    "    data = json.loads(response)\n",
    "    \n",
    "    return data\n",
    "\n",
    "# Test with one value\n",
    "#reference_byname = list()\n",
    "#data = nsides_api('sider', 'drugForEffect', {'q': 'C0235750'})\n",
    "#reference_byname.extend( [(r['drug_name'], 1) for r in data['results']] )\n",
    "#print len(reference_byname)\n",
    "#print reference_byname"
   ]
  },
  {
   "cell_type": "code",
   "execution_count": 7,
   "metadata": {},
   "outputs": [
    {
     "name": "stdout",
     "output_type": "stream",
     "text": [
      "[u'14845']\n"
     ]
    }
   ],
   "source": [
    "# map the name of a drug to its rxnorm notation\n",
    "def annotator(text, ontologies):\n",
    "    REST_URL = \"http://data.bioontology.org\"\n",
    "    API_KEY = 'b55cf758-dbd3-4959-a9c0-2e6bba5b5d8b'\n",
    "    url = REST_URL + \"/annotator?text=\" + urllib2.quote(text) + \"&ontologies=\" + ','.join(ontologies)\n",
    "    opener = urllib2.build_opener()\n",
    "    opener.addheaders = [('Authorization', 'apikey token=' + API_KEY)]\n",
    "    \n",
    "    annotations = json.loads(opener.open(url).read())\n",
    "\n",
    "    return annotations\n",
    "\n",
    "def name2rxnorm(drugname):\n",
    "    annotations = annotator(drugname, ['RXNORM'])\n",
    "    \n",
    "    rxnorms = list()\n",
    "    for annotation in annotations:\n",
    "        rxnorms.append(annotations[0]['annotatedClass']['@id'].split('/')[-1])\n",
    "    \n",
    "    return rxnorms\n",
    "\n",
    "print name2rxnorm('apraclonidine')"
   ]
  },
  {
   "cell_type": "code",
   "execution_count": 8,
   "metadata": {},
   "outputs": [
    {
     "name": "stdout",
     "output_type": "stream",
     "text": [
      "acarbose\n",
      "[u'16681']\n"
     ]
    }
   ],
   "source": [
    "def stitch_api(id):\n",
    "    \"\"\"\n",
    "    Function to access STITCH data\n",
    "    id : stitch id (string)\n",
    "    returns drug rxnorm\n",
    "    \"\"\"\n",
    "    STITCH_API_URL = 'http://stitch.embl.de/api/json/'\n",
    "    request = 'resolve?identifier=%s' %(id)\n",
    "    \n",
    "    url = STITCH_API_URL + request\n",
    "    \n",
    "    response = urllib2.urlopen(url).read()\n",
    "    data = json.loads(response)\n",
    "    \n",
    "    return data\n",
    "    \n",
    "data = stitch_api('CID000041774')\n",
    "print data[0]['preferredName']\n",
    "print name2rxnorm('acarbose')"
   ]
  },
  {
   "cell_type": "markdown",
   "metadata": {},
   "source": [
    "## Find positive and negative controls"
   ]
  },
  {
   "cell_type": "code",
   "execution_count": 54,
   "metadata": {},
   "outputs": [
    {
     "name": "stdout",
     "output_type": "stream",
     "text": [
      "84\n"
     ]
    }
   ],
   "source": [
    "# Get a list of drugs (name) known to have hypertension as a side effect using SIDER\n",
    "reference_byname = list()\n",
    "for cui in AEtoCUI('hypertension', apikey):\n",
    "    #print cui\n",
    "    if cui=='C0020538' : #this cui causes a syntax error (in the json)\n",
    "        continue\n",
    "    else :\n",
    "        data = nsides_api('sider', 'drugForEffect', {'q': \"%s\" %cui})\n",
    "        reference_byname.extend( [(r['drug_name'], 1) for r in data['results']] )\n",
    "    \n",
    "if len(reference_byname) == 0:\n",
    "    raise Exception(\"No available reference standard for cui: %s\" % cui)\n",
    "\n",
    "reference_byname = sorted(set(reference_byname))\n",
    "print len(reference_byname)\n",
    "#print sorted(reference_byname)"
   ]
  },
  {
   "cell_type": "code",
   "execution_count": 55,
   "metadata": {},
   "outputs": [
    {
     "name": "stdout",
     "output_type": "stream",
     "text": [
      "390\n"
     ]
    }
   ],
   "source": [
    "# We add manually the drugs coreesponding to the cui C0020538\n",
    "# http://nsideseb-env.us-east-1.elasticbeanstalk.com/api/v1/query?service=sider&meta=drugForEffect&q=C0020538\n",
    "data0 = {\"results\": [{\"drug_name\": \"carnitine\", \"stitch_id\": \"CID000000085\"}, {\"drug_name\": \"prostaglandin E2\", \"stitch_id\": \"CID000000158\"}, {\"drug_name\": \"prostaglandin E1\", \"stitch_id\": \"CID000000214\"}, {\"drug_name\": \"bupropion\", \"stitch_id\": \"CID000000444\"}, {\"drug_name\": \"mannitol\", \"stitch_id\": \"CID000000453\"}, {\"drug_name\": \"epsilon-aminocaproic acid\", \"stitch_id\": \"CID000000564\"}, {\"drug_name\": \"cytosine arabinoside\", \"stitch_id\": \"CID000000596\"}, {\"drug_name\": \"mesna\", \"stitch_id\": \"CID000000598\"}, {\"drug_name\": \"dopamine\", \"stitch_id\": \"CID000000681\"}, {\"drug_name\": \"low molecular weight heparin\", \"stitch_id\": \"CID000000772\"}, {\"drug_name\": \"histamine\", \"stitch_id\": \"CID000000774\"}, {\"drug_name\": \"iodine\", \"stitch_id\": \"CID000000807\"}, {\"drug_name\": \"epinephrine\", \"stitch_id\": \"CID000000838\"}, {\"drug_name\": \"triiodothyronine\", \"stitch_id\": \"CID000000861\"}, {\"drug_name\": \"nicotine\", \"stitch_id\": \"CID000000942\"}, {\"drug_name\": \"norepinephrine\", \"stitch_id\": \"CID000000951\"}, {\"drug_name\": \"naproxen\", \"stitch_id\": \"CID000001301\"}, {\"drug_name\": \"doxorubicin\", \"stitch_id\": \"CID000001690\"}, {\"drug_name\": \"phenytoin\", \"stitch_id\": \"CID000001775\"}, {\"drug_name\": \"5-azacytidine\", \"stitch_id\": \"CID000001805\"}, {\"drug_name\": \"tacrine\", \"stitch_id\": \"CID000001935\"}, {\"drug_name\": \"amphotericin B\", \"stitch_id\": \"CID000001972\"}, {\"drug_name\": \"acetaminophen\", \"stitch_id\": \"CID000001983\"}, {\"drug_name\": \"salbutamol\", \"stitch_id\": \"CID000002083\"}, {\"drug_name\": \"allopurinol\", \"stitch_id\": \"CID000002094\"}, {\"drug_name\": \"amantadine\", \"stitch_id\": \"CID000002130\"}, {\"drug_name\": \"diatrizoate\", \"stitch_id\": \"CID000002140\"}, {\"drug_name\": \"amifostine\", \"stitch_id\": \"CID000002141\"}, {\"drug_name\": \"amitriptyline\", \"stitch_id\": \"CID000002160\"}, {\"drug_name\": \"amoxapine\", \"stitch_id\": \"CID000002170\"}, {\"drug_name\": \"anagrelide\", \"stitch_id\": \"CID000002182\"}, {\"drug_name\": \"anastrozole\", \"stitch_id\": \"CID000002187\"}, {\"drug_name\": \"azelastine\", \"stitch_id\": \"CID000002267\"}, {\"drug_name\": \"azithromycin\", \"stitch_id\": \"CID000002269\"}, {\"drug_name\": \"baclofen\", \"stitch_id\": \"CID000002284\"}, {\"drug_name\": \"betaxolol\", \"stitch_id\": \"CID000002369\"}, {\"drug_name\": \"bicalutamide\", \"stitch_id\": \"CID000002375\"}, {\"drug_name\": \"bretylium\", \"stitch_id\": \"CID000002431\"}, {\"drug_name\": \"bromocriptine\", \"stitch_id\": \"CID000002443\"}, {\"drug_name\": \"budesonide\", \"stitch_id\": \"CID000002462\"}, {\"drug_name\": \"bupivacaine\", \"stitch_id\": \"CID000002474\"}, {\"drug_name\": \"buprenorphine\", \"stitch_id\": \"CID000002476\"}, {\"drug_name\": \"buspirone\", \"stitch_id\": \"CID000002477\"}, {\"drug_name\": \"busulfan\", \"stitch_id\": \"CID000002478\"}, {\"drug_name\": \"butorphanol\", \"stitch_id\": \"CID000002487\"}, {\"drug_name\": \"capsaicin\", \"stitch_id\": \"CID000002548\"}, {\"drug_name\": \"carbamazepine\", \"stitch_id\": \"CID000002554\"}, {\"drug_name\": \"BCNU\", \"stitch_id\": \"CID000002578\"}, {\"drug_name\": \"celecoxib\", \"stitch_id\": \"CID000002662\"}, {\"drug_name\": \"cerivastatin\", \"stitch_id\": \"CID000002676\"}, {\"drug_name\": \"cetirizine\", \"stitch_id\": \"CID000002678\"}, {\"drug_name\": \"cevimeline\", \"stitch_id\": \"CID000002684\"}, {\"drug_name\": \"chlorhexidine\", \"stitch_id\": \"CID000002713\"}, {\"drug_name\": \"ciprofloxacin\", \"stitch_id\": \"CID000002764\"}, {\"drug_name\": \"citalopram\", \"stitch_id\": \"CID000002771\"}, {\"drug_name\": \"clindamycin\", \"stitch_id\": \"CID000002786\"}, {\"drug_name\": \"clomiphene citrate\", \"stitch_id\": \"CID000002800\"}, {\"drug_name\": \"clopidogrel\", \"stitch_id\": \"CID000002806\"}, {\"drug_name\": \"clozapine\", \"stitch_id\": \"CID000002818\"}, {\"drug_name\": \"cyclobenzaprine\", \"stitch_id\": \"CID000002895\"}, {\"drug_name\": \"Neoral\", \"stitch_id\": \"CID000002909\"}, {\"drug_name\": \"danazol\", \"stitch_id\": \"CID000002949\"}, {\"drug_name\": \"deferiprone\", \"stitch_id\": \"CID000002972\"}, {\"drug_name\": \"demeclocycline\", \"stitch_id\": \"CID000002983\"}, {\"drug_name\": \"desipramine\", \"stitch_id\": \"CID000002995\"}, {\"drug_name\": \"dexamethasone\", \"stitch_id\": \"CID000003003\"}, {\"drug_name\": \"amphetamine\", \"stitch_id\": \"CID000003007\"}, {\"drug_name\": \"diclofenac\", \"stitch_id\": \"CID000003032\"}, {\"drug_name\": \"dicyclomine\", \"stitch_id\": \"CID000003042\"}, {\"drug_name\": \"didanosine\", \"stitch_id\": \"CID000003043\"}, {\"drug_name\": \"dihydroergotamine\", \"stitch_id\": \"CID000003066\"}, {\"drug_name\": \"dipivefrin\", \"stitch_id\": \"CID000003105\"}, {\"drug_name\": \"dipyridamole\", \"stitch_id\": \"CID000003108\"}, {\"drug_name\": \"valproic acid\", \"stitch_id\": \"CID000003121\"}, {\"drug_name\": \"docetaxel\", \"stitch_id\": \"CID000003143\"}, {\"drug_name\": \"dolasetron\", \"stitch_id\": \"CID000003148\"}, {\"drug_name\": \"donepezil\", \"stitch_id\": \"CID000003152\"}, {\"drug_name\": \"doxepin\", \"stitch_id\": \"CID000003158\"}, {\"drug_name\": \"doxycycline\", \"stitch_id\": \"CID000003161\"}, {\"drug_name\": \"droperidol\", \"stitch_id\": \"CID000003168\"}, {\"drug_name\": \"efavirenz\", \"stitch_id\": \"CID000003203\"}, {\"drug_name\": \"vitamin D2\", \"stitch_id\": \"CID000003249\"}, {\"drug_name\": \"etodolac\", \"stitch_id\": \"CID000003308\"}, {\"drug_name\": \"etoposide\", \"stitch_id\": \"CID000003310\"}, {\"drug_name\": \"felbamate\", \"stitch_id\": \"CID000003331\"}, {\"drug_name\": \"fentanyl\", \"stitch_id\": \"CID000003345\"}, {\"drug_name\": \"flecainide\", \"stitch_id\": \"CID000003355\"}, {\"drug_name\": \"fluphenazine\", \"stitch_id\": \"CID000003372\"}, {\"drug_name\": \"flumazenil\", \"stitch_id\": \"CID000003373\"}, {\"drug_name\": \"flunisolide\", \"stitch_id\": \"CID000003379\"}, {\"drug_name\": \"fluoxetine\", \"stitch_id\": \"CID000003386\"}, {\"drug_name\": \"flurbiprofen\", \"stitch_id\": \"CID000003394\"}, {\"drug_name\": \"flutamide\", \"stitch_id\": \"CID000003397\"}, {\"drug_name\": \"fluvoxamine\", \"stitch_id\": \"CID000003404\"}, {\"drug_name\": \"formoterol\", \"stitch_id\": \"CID000003410\"}, {\"drug_name\": \"foscarnet\", \"stitch_id\": \"CID000003414\"}, {\"drug_name\": \"gabapentin\", \"stitch_id\": \"CID000003446\"}, {\"drug_name\": \"galantamine\", \"stitch_id\": \"CID000003449\"}, {\"drug_name\": \"ganciclovir\", \"stitch_id\": \"CID000003454\"}, {\"drug_name\": \"gemcitabine\", \"stitch_id\": \"CID000003461\"}, {\"drug_name\": \"gentamicin\", \"stitch_id\": \"CID000003467\"}, {\"drug_name\": \"gliclazide\", \"stitch_id\": \"CID000003475\"}, {\"drug_name\": \"glipizide\", \"stitch_id\": \"CID000003478\"}, {\"drug_name\": \"glycopyrrolate\", \"stitch_id\": \"CID000003494\"}, {\"drug_name\": \"granisetron\", \"stitch_id\": \"CID000003510\"}, {\"drug_name\": \"haloperidol\", \"stitch_id\": \"CID000003559\"}, {\"drug_name\": \"cortisol\", \"stitch_id\": \"CID000003640\"}, {\"drug_name\": \"hydromorphone\", \"stitch_id\": \"CID000003648\"}, {\"drug_name\": \"ibuprofen\", \"stitch_id\": \"CID000003672\"}, {\"drug_name\": \"lidocaine\", \"stitch_id\": \"CID000003676\"}, {\"drug_name\": \"ifosfamide\", \"stitch_id\": \"CID000003690\"}, {\"drug_name\": \"imipramine\", \"stitch_id\": \"CID000003696\"}, {\"drug_name\": \"indomethacin\", \"stitch_id\": \"CID000003715\"}, {\"drug_name\": \"iodixanol\", \"stitch_id\": \"CID000003724\"}, {\"drug_name\": \"iohexol\", \"stitch_id\": \"CID000003730\"}, {\"drug_name\": \"iopamidol\", \"stitch_id\": \"CID000003734\"}, {\"drug_name\": \"iopromide\", \"stitch_id\": \"CID000003736\"}, {\"drug_name\": \"sodium iothalamate\", \"stitch_id\": \"CID000003737\"}, {\"drug_name\": \"ioversol\", \"stitch_id\": \"CID000003741\"}, {\"drug_name\": \"ioxilan\", \"stitch_id\": \"CID000003743\"}, {\"drug_name\": \"ipratropium bromide\", \"stitch_id\": \"CID000003746\"}, {\"drug_name\": \"irinotecan\", \"stitch_id\": \"CID000003750\"}, {\"drug_name\": \"isoproterenol\", \"stitch_id\": \"CID000003779\"}, {\"drug_name\": \"isosorbide dinitrate\", \"stitch_id\": \"CID000003780\"}, {\"drug_name\": \"itraconazole\", \"stitch_id\": \"CID000003793\"}, {\"drug_name\": \"ketoprofen\", \"stitch_id\": \"CID000003825\"}, {\"drug_name\": \"ketorolac\", \"stitch_id\": \"CID000003826\"}, {\"drug_name\": \"ketotifen\", \"stitch_id\": \"CID000003827\"}, {\"drug_name\": \"lamotrigine\", \"stitch_id\": \"CID000003878\"}, {\"drug_name\": \"lansoprazole\", \"stitch_id\": \"CID000003883\"}, {\"drug_name\": \"leflunomide\", \"stitch_id\": \"CID000003899\"}, {\"drug_name\": \"letrozole\", \"stitch_id\": \"CID000003902\"}, {\"drug_name\": \"leuprolide acetate\", \"stitch_id\": \"CID000003911\"}, {\"drug_name\": \"linezolid\", \"stitch_id\": \"CID000003929\"}, {\"drug_name\": \"lomefloxacin\", \"stitch_id\": \"CID000003948\"}, {\"drug_name\": \"lorazepam\", \"stitch_id\": \"CID000003958\"}, {\"drug_name\": \"loxapine\", \"stitch_id\": \"CID000003964\"}, {\"drug_name\": \"mefenamic acid\", \"stitch_id\": \"CID000004044\"}, {\"drug_name\": \"mefloquine\", \"stitch_id\": \"CID000004046\"}, {\"drug_name\": \"meloxicam\", \"stitch_id\": \"CID000004051\"}, {\"drug_name\": \"memantine\", \"stitch_id\": \"CID000004054\"}, {\"drug_name\": \"mepivacaine\", \"stitch_id\": \"CID000004062\"}, {\"drug_name\": \"5-aminosalicylic acid\", \"stitch_id\": \"CID000004075\"}, {\"drug_name\": \"metaproterenol\", \"stitch_id\": \"CID000004086\"}, {\"drug_name\": \"metformin\", \"stitch_id\": \"CID000004091\"}, {\"drug_name\": \"methylergometrine\", \"stitch_id\": \"CID000004140\"}, {\"drug_name\": \"methylphenidate\", \"stitch_id\": \"CID000004158\"}, {\"drug_name\": \"methylprednisolone\", \"stitch_id\": \"CID000004159\"}, {\"drug_name\": \"metoclopramide\", \"stitch_id\": \"CID000004168\"}, {\"drug_name\": \"metronidazole\", \"stitch_id\": \"CID000004173\"}, {\"drug_name\": \"mexiletine\", \"stitch_id\": \"CID000004178\"}, {\"drug_name\": \"midodrine\", \"stitch_id\": \"CID000004195\"}, {\"drug_name\": \"minocycline\", \"stitch_id\": \"CID000004200\"}, {\"drug_name\": \"mirtazapine\", \"stitch_id\": \"CID000004205\"}, {\"drug_name\": \"mitotane\", \"stitch_id\": \"CID000004211\"}, {\"drug_name\": \"mitoxantrone\", \"stitch_id\": \"CID000004212\"}, {\"drug_name\": \"modafinil\", \"stitch_id\": \"CID000004236\"}, {\"drug_name\": \"morphine\", \"stitch_id\": \"CID000004253\"}, {\"drug_name\": \"moxifloxacin\", \"stitch_id\": \"CID000004259\"}, {\"drug_name\": \"mycophenolic acid\", \"stitch_id\": \"CID000004272\"}, {\"drug_name\": \"nabumetone\", \"stitch_id\": \"CID000004409\"}, {\"drug_name\": \"nalbuphine\", \"stitch_id\": \"CID000004419\"}, {\"drug_name\": \"naloxone\", \"stitch_id\": \"CID000004425\"}, {\"drug_name\": \"naltrexone\", \"stitch_id\": \"CID000004428\"}, {\"drug_name\": \"naphazoline\", \"stitch_id\": \"CID000004436\"}, {\"drug_name\": \"nefazodone\", \"stitch_id\": \"CID000004449\"}, {\"drug_name\": \"nilutamide\", \"stitch_id\": \"CID000004493\"}, {\"drug_name\": \"nimodipine\", \"stitch_id\": \"CID000004497\"}, {\"drug_name\": \"nitrofurantoin\", \"stitch_id\": \"CID000004509\"}]}\n",
    "reference_byname.extend([(r['drug_name'], 1) for r in data0['results']])\n",
    "data1 = {\"results\": [{\"drug_name\": \"levonorgestrel\", \"stitch_id\": \"CID000004542\"}, {\"drug_name\": \"nortriptyline\", \"stitch_id\": \"CID000004543\"}, {\"drug_name\": \"repaglinide\", \"stitch_id\": \"CID000004547\"}, {\"drug_name\": \"ofloxacin\", \"stitch_id\": \"CID000004583\"}, {\"drug_name\": \"olanzapine\", \"stitch_id\": \"CID000004585\"}, {\"drug_name\": \"omeprazole\", \"stitch_id\": \"CID000004594\"}, {\"drug_name\": \"oxaliplatin\", \"stitch_id\": \"CID000004609\"}, {\"drug_name\": \"oxaprozin\", \"stitch_id\": \"CID000004614\"}, {\"drug_name\": \"oxybutynin\", \"stitch_id\": \"CID000004634\"}, {\"drug_name\": \"oxytetracycline\", \"stitch_id\": \"CID000004645\"}, {\"drug_name\": \"pamidronate\", \"stitch_id\": \"CID000004673\"}, {\"drug_name\": \"pantoprazole\", \"stitch_id\": \"CID000004679\"}, {\"drug_name\": \"paroxetine\", \"stitch_id\": \"CID000004691\"}, {\"drug_name\": \"pentazocine\", \"stitch_id\": \"CID000004736\"}, {\"drug_name\": \"2-deoxycoformycin\", \"stitch_id\": \"CID000004739\"}, {\"drug_name\": \"pentoxifylline\", \"stitch_id\": \"CID000004740\"}, {\"drug_name\": \"pergolide\", \"stitch_id\": \"CID000004745\"}, {\"drug_name\": \"perphenazine\", \"stitch_id\": \"CID000004748\"}, {\"drug_name\": \"piroxicam\", \"stitch_id\": \"CID000004856\"}, {\"drug_name\": \"pramipexole\", \"stitch_id\": \"CID000004885\"}, {\"drug_name\": \"prednisolone\", \"stitch_id\": \"CID000004894\"}, {\"drug_name\": \"prednisone\", \"stitch_id\": \"CID000004900\"}, {\"drug_name\": \"procaine\", \"stitch_id\": \"CID000004914\"}, {\"drug_name\": \"procarbazine\", \"stitch_id\": \"CID000004915\"}, {\"drug_name\": \"progesterone\", \"stitch_id\": \"CID000004920\"}, {\"drug_name\": \"propafenone\", \"stitch_id\": \"CID000004932\"}, {\"drug_name\": \"propofol\", \"stitch_id\": \"CID000004943\"}, {\"drug_name\": \"protriptyline\", \"stitch_id\": \"CID000004976\"}, {\"drug_name\": \"quetiapine\", \"stitch_id\": \"CID000005002\"}, {\"drug_name\": \"rabeprazole\", \"stitch_id\": \"CID000005029\"}, {\"drug_name\": \"rapamycin\", \"stitch_id\": \"CID000005040\"}, {\"drug_name\": \"ribavirin\", \"stitch_id\": \"CID000005064\"}, {\"drug_name\": \"riluzole\", \"stitch_id\": \"CID000005070\"}, {\"drug_name\": \"rimantadine\", \"stitch_id\": \"CID000005071\"}, {\"drug_name\": \"risperidone\", \"stitch_id\": \"CID000005073\"}, {\"drug_name\": \"ritonavir\", \"stitch_id\": \"CID000005076\"}, {\"drug_name\": \"rivastigmine\", \"stitch_id\": \"CID000005077\"}, {\"drug_name\": \"rizatriptan\", \"stitch_id\": \"CID000005078\"}, {\"drug_name\": \"rofecoxib\", \"stitch_id\": \"CID000005090\"}, {\"drug_name\": \"ropinirole\", \"stitch_id\": \"CID000005095\"}, {\"drug_name\": \"salmeterol\", \"stitch_id\": \"CID000005152\"}, {\"drug_name\": \"selegiline\", \"stitch_id\": \"CID000005195\"}, {\"drug_name\": \"sertraline\", \"stitch_id\": \"CID000005203\"}, {\"drug_name\": \"sevoflurane\", \"stitch_id\": \"CID000005206\"}, {\"drug_name\": \"risedronate\", \"stitch_id\": \"CID000005245\"}, {\"drug_name\": \"imatinib\", \"stitch_id\": \"CID000005291\"}, {\"drug_name\": \"succinylcholine\", \"stitch_id\": \"CID000005314\"}, {\"drug_name\": \"sulfisoxazole\", \"stitch_id\": \"CID000005344\"}, {\"drug_name\": \"sulindac\", \"stitch_id\": \"CID000005352\"}, {\"drug_name\": \"sumatriptan\", \"stitch_id\": \"CID000005358\"}, {\"drug_name\": \"tacrolimus\", \"stitch_id\": \"CID000005372\"}, {\"drug_name\": \"tamoxifen\", \"stitch_id\": \"CID000005376\"}, {\"drug_name\": \"gatifloxacin\", \"stitch_id\": \"CID000005379\"}, {\"drug_name\": \"temozolomide\", \"stitch_id\": \"CID000005394\"}, {\"drug_name\": \"teniposide\", \"stitch_id\": \"CID000005396\"}, {\"drug_name\": \"testosterone\", \"stitch_id\": \"CID000005408\"}, {\"drug_name\": \"thalidomide\", \"stitch_id\": \"CID000005426\"}, {\"drug_name\": \"tiagabine\", \"stitch_id\": \"CID000005466\"}, {\"drug_name\": \"tirofiban\", \"stitch_id\": \"CID000005486\"}, {\"drug_name\": \"topiramate\", \"stitch_id\": \"CID000005514\"}, {\"drug_name\": \"tramadol\", \"stitch_id\": \"CID000005523\"}, {\"drug_name\": \"trazodone\", \"stitch_id\": \"CID000005533\"}, {\"drug_name\": \"retinoic acid\", \"stitch_id\": \"CID000005538\"}, {\"drug_name\": \"triamcinolone\", \"stitch_id\": \"CID000005544\"}, {\"drug_name\": \"delavirdine\", \"stitch_id\": \"CID000005625\"}, {\"drug_name\": \"ursodeoxycholic acid\", \"stitch_id\": \"CID000005645\"}, {\"drug_name\": \"valacyclovir\", \"stitch_id\": \"CID000005647\"}, {\"drug_name\": \"venlafaxine\", \"stitch_id\": \"CID000005656\"}, {\"drug_name\": \"vinorelbine\", \"stitch_id\": \"CID000005672\"}, {\"drug_name\": \"zaleplon\", \"stitch_id\": \"CID000005719\"}, {\"drug_name\": \"zolmitriptan\", \"stitch_id\": \"CID000005731\"}, {\"drug_name\": \"zolpidem\", \"stitch_id\": \"CID000005732\"}, {\"drug_name\": \"zonisamide\", \"stitch_id\": \"CID000005734\"}, {\"drug_name\": \"zopiclone\", \"stitch_id\": \"CID000005735\"}, {\"drug_name\": \"phentolamine\", \"stitch_id\": \"CID000005775\"}, {\"drug_name\": \"vincristine\", \"stitch_id\": \"CID000005978\"}, {\"drug_name\": \"17-hydroxyprogesterone\", \"stitch_id\": \"CID000006238\"}, {\"drug_name\": \"diethylpropion\", \"stitch_id\": \"CID000007029\"}, {\"drug_name\": \"perflubron\", \"stitch_id\": \"CID000009873\"}, {\"drug_name\": \"gamma-hydroxybutyrate\", \"stitch_id\": \"CID000010413\"}, {\"drug_name\": \"medroxyprogesterone\", \"stitch_id\": \"CID000010631\"}, {\"drug_name\": \"arsenic trioxide\", \"stitch_id\": \"CID000014888\"}, {\"drug_name\": \"5-aza-2-deoxycytidine\", \"stitch_id\": \"CID000016886\"}, {\"drug_name\": \"estramustine\", \"stitch_id\": \"CID000018140\"}, {\"drug_name\": \"megestrol\", \"stitch_id\": \"CID000019090\"}, {\"drug_name\": \"isosorbide-5-mononitrate\", \"stitch_id\": \"CID000027661\"}, {\"drug_name\": \"DDAVP\", \"stitch_id\": \"CID000027991\"}, {\"drug_name\": \"conjugated estrogens\", \"stitch_id\": \"CID000027993\"}, {\"drug_name\": \"fludrocortisone\", \"stitch_id\": \"CID000031378\"}, {\"drug_name\": \"cholecystokinin-pancreozymin\", \"stitch_id\": \"CID000032800\"}, {\"drug_name\": \"oxcarbazepine\", \"stitch_id\": \"CID000034312\"}, {\"drug_name\": \"moricizine\", \"stitch_id\": \"CID000034632\"}, {\"drug_name\": \"carboplatin\", \"stitch_id\": \"CID000038904\"}, {\"drug_name\": \"nabilone\", \"stitch_id\": \"CID000039860\"}, {\"drug_name\": \"Implanon\", \"stitch_id\": \"CID000040976\"}, {\"drug_name\": \"nitazoxanide\", \"stitch_id\": \"CID000041684\"}, {\"drug_name\": \"sufentanil\", \"stitch_id\": \"CID000041693\"}, {\"drug_name\": \"desflurane\", \"stitch_id\": \"CID000042113\"}, {\"drug_name\": \"Zoladex\", \"stitch_id\": \"CID000047725\"}, {\"drug_name\": \"alfentanil\", \"stitch_id\": \"CID000051263\"}, {\"drug_name\": \"SMS 201-995\", \"stitch_id\": \"CID000054373\"}, {\"drug_name\": \"cefpodoxime\", \"stitch_id\": \"CID000054547\"}, {\"drug_name\": \"milnacipran\", \"stitch_id\": \"CID000055480\"}, {\"drug_name\": \"fosphenytoin\", \"stitch_id\": \"CID000056338\"}, {\"drug_name\": \"imiquimod\", \"stitch_id\": \"CID000057469\"}, {\"drug_name\": \"rotigotine\", \"stitch_id\": \"CID000057537\"}, {\"drug_name\": \"exemestane\", \"stitch_id\": \"CID000060198\"}, {\"drug_name\": \"dexmedetomidine\", \"stitch_id\": \"CID000060612\"}, {\"drug_name\": \"cidofovir\", \"stitch_id\": \"CID000060613\"}, {\"drug_name\": \"rocuronium\", \"stitch_id\": \"CID000060695\"}, {\"drug_name\": \"meropenem\", \"stitch_id\": \"CID000060706\"}, {\"drug_name\": \"gadoteridol\", \"stitch_id\": \"CID000060714\"}, {\"drug_name\": \"ibutilide\", \"stitch_id\": \"CID000060753\"}, {\"drug_name\": \"saquinavir\", \"stitch_id\": \"CID000060787\"}, {\"drug_name\": \"aripiprazole\", \"stitch_id\": \"CID000060795\"}, {\"drug_name\": \"remifentanil\", \"stitch_id\": \"CID000060814\"}, {\"drug_name\": \"pemetrexed\", \"stitch_id\": \"CID000060843\"}, {\"drug_name\": \"ibandronate\", \"stitch_id\": \"CID000060852\"}, {\"drug_name\": \"ziprasidone\", \"stitch_id\": \"CID000060853\"}, {\"drug_name\": \"adefovir dipivoxil\", \"stitch_id\": \"CID000060871\"}, {\"drug_name\": \"tiludronate\", \"stitch_id\": \"CID000060936\"}, {\"drug_name\": \"capecitabine\", \"stitch_id\": \"CID000060953\"}, {\"drug_name\": \"Urofollitropin\", \"stitch_id\": \"CID000062819\"}, {\"drug_name\": \"fluticasone\", \"stitch_id\": \"CID000062924\"}, {\"drug_name\": \"trovafloxacin\", \"stitch_id\": \"CID000062959\"}, {\"drug_name\": \"valganciclovir\", \"stitch_id\": \"CID000064147\"}, {\"drug_name\": \"bendamustine\", \"stitch_id\": \"CID000065628\"}, {\"drug_name\": \"zoledronic acid\", \"stitch_id\": \"CID000068740\"}, {\"drug_name\": \"acamprosate\", \"stitch_id\": \"CID000071158\"}, {\"drug_name\": \"ropivacaine\", \"stitch_id\": \"CID000071273\"}, {\"drug_name\": \"dofetilide\", \"stitch_id\": \"CID000071329\"}, {\"drug_name\": \"lanreotide\", \"stitch_id\": \"CID000071348\"}, {\"drug_name\": \"voriconazole\", \"stitch_id\": \"CID000071616\"}, {\"drug_name\": \"darifenacin\", \"stitch_id\": \"CID000072054\"}, {\"drug_name\": \"eletriptan\", \"stitch_id\": \"CID000077993\"}, {\"drug_name\": \"paricalcitol\", \"stitch_id\": \"CID000077996\"}, {\"drug_name\": \"rosiglitazone\", \"stitch_id\": \"CID000077999\"}, {\"drug_name\": \"bexarotene\", \"stitch_id\": \"CID000082146\"}, {\"drug_name\": \"bortezomib\", \"stitch_id\": \"CID000093860\"}, {\"drug_name\": \"gadobenate\", \"stitch_id\": \"CID000105124\"}, {\"drug_name\": \"vardenafil\", \"stitch_id\": \"CID000110634\"}, {\"drug_name\": \"paliperidone\", \"stitch_id\": \"CID000115237\"}, {\"drug_name\": \"clofarabine\", \"stitch_id\": \"CID000119182\"}, {\"drug_name\": \"valdecoxib\", \"stitch_id\": \"CID000119607\"}, {\"drug_name\": \"almotriptan\", \"stitch_id\": \"CID000123606\"}, {\"drug_name\": \"fondaparinux\", \"stitch_id\": \"CID000123611\"}, {\"drug_name\": \"caspofungin\", \"stitch_id\": \"CID000123623\"}, {\"drug_name\": \"pregabalin\", \"stitch_id\": \"CID000125889\"}, {\"drug_name\": \"febuxostat\", \"stitch_id\": \"CID000134018\"}, {\"drug_name\": \"posaconazole\", \"stitch_id\": \"CID000147912\"}, {\"drug_name\": \"temsirolimus\", \"stitch_id\": \"CID000148191\"}, {\"drug_name\": \"atazanavir\", \"stitch_id\": \"CID000148192\"}, {\"drug_name\": \"palonosetron\", \"stitch_id\": \"CID000148211\"}, {\"drug_name\": \"ertapenem\", \"stitch_id\": \"CID000150610\"}, {\"drug_name\": \"nepafenac\", \"stitch_id\": \"CID000151075\"}, {\"drug_name\": \"aprepitant\", \"stitch_id\": \"CID000151165\"}, {\"drug_name\": \"conivaptan\", \"stitch_id\": \"CID000151171\"}, {\"drug_name\": \"solifenacin\", \"stitch_id\": \"CID000154058\"}, {\"drug_name\": \"cinacalcet\", \"stitch_id\": \"CID000156418\"}, {\"drug_name\": \"gadopentetate\", \"stitch_id\": \"CID000157429\"}, {\"drug_name\": \"lubiprostone\", \"stitch_id\": \"CID000157920\"}, {\"drug_name\": \"pegaptanib sodium\", \"stitch_id\": \"CID000158786\"}, {\"drug_name\": \"asenapine\", \"stitch_id\": \"CID000163091\"}, {\"drug_name\": \"anidulafungin\", \"stitch_id\": \"CID000166548\"}, {\"drug_name\": \"varenicline\", \"stitch_id\": \"CID000170361\"}, {\"drug_name\": \"etravirine\", \"stitch_id\": \"CID000193962\"}, {\"drug_name\": \"darunavir\", \"stitch_id\": \"CID000213039\"}, {\"drug_name\": \"sorafenib\", \"stitch_id\": \"CID000216239\"}, {\"drug_name\": \"lenalidomide\", \"stitch_id\": \"CID000216326\"}, {\"drug_name\": \"cortisone\", \"stitch_id\": \"CID000222786\"}, {\"drug_name\": \"gadoversetamide\", \"stitch_id\": \"CID000444013\"}, {\"drug_name\": \"ciclesonide\", \"stitch_id\": \"CID000444033\"}, {\"drug_name\": \"micafungin\", \"stitch_id\": \"CID000477468\"}, {\"drug_name\": \"nilotinib\", \"stitch_id\": \"CID000644241\"}, {\"drug_name\": \"6-thioguanine\", \"stitch_id\": \"CID002723601\"}, {\"drug_name\": \"dasatinib\", \"stitch_id\": \"CID003062316\"}, {\"drug_name\": \"glatiramer acetate\", \"stitch_id\": \"CID003081884\"}, {\"drug_name\": \"porfimer sodium\", \"stitch_id\": \"CID003086257\"}, {\"drug_name\": \"sunitinib\", \"stitch_id\": \"CID003086686\"}, {\"drug_name\": \"misoprostol\", \"stitch_id\": \"CID004183806\"}, {\"drug_name\": \"sitagliptin\", \"stitch_id\": \"CID004369359\"}, {\"drug_name\": \"doxercalciferol\", \"stitch_id\": \"CID004479094\"}, {\"drug_name\": \"entacapone\", \"stitch_id\": \"CID004659568\"}, {\"drug_name\": \"tolcapone\", \"stitch_id\": \"CID004659569\"}, {\"drug_name\": \"15(S) 15-methyl prostaglandin F2 alpha\", \"stitch_id\": \"CID005229711\"}, {\"drug_name\": \"tigecycline\", \"stitch_id\": \"CID005282044\"}, {\"drug_name\": \"olsalazine\", \"stitch_id\": \"CID005360126\"}, {\"drug_name\": \"verteporfin\", \"stitch_id\": \"CID005362420\"}, {\"drug_name\": \"rifapentine\", \"stitch_id\": \"CID006178306\"}, {\"drug_name\": \"cefdinir\", \"stitch_id\": \"CID006398970\"}, {\"drug_name\": \"saccharated iron oxide\", \"stitch_id\": \"CID006850789\"}, {\"drug_name\": \"ceftobiprole medocaril\", \"stitch_id\": \"CID006918438\"}, {\"drug_name\": \"prasugrel\", \"stitch_id\": \"CID006918456\"}, {\"drug_name\": \"Gadofosveset\", \"stitch_id\": \"CID009962850\"}, {\"drug_name\": \"salmon calcitonin\", \"stitch_id\": \"CID016129616\"}, {\"drug_name\": \"Synacthen\", \"stitch_id\": \"CID016129617\"}, {\"drug_name\": \"LY146032\", \"stitch_id\": \"CID016129629\"}, {\"drug_name\": \"human insulin\", \"stitch_id\": \"CID016129672\"}, {\"drug_name\": \"LY 333334\", \"stitch_id\": \"CID016129682\"}, {\"drug_name\": \"ziconotide\", \"stitch_id\": \"CID016129690\"}, {\"drug_name\": \"bivalirudin\", \"stitch_id\": \"CID016129704\"}, {\"drug_name\": \"Trasylol\", \"stitch_id\": \"CID016130295\"}, {\"drug_name\": \"adrenocorticotrophin\", \"stitch_id\": \"CID016132265\"}, {\"drug_name\": \"human glucagon\", \"stitch_id\": \"CID016132283\"}, {\"drug_name\": \"degarelix\", \"stitch_id\": \"CID016136245\"}, {\"drug_name\": \"human brain natriuretic peptide-32\", \"stitch_id\": \"CID022834577\"}, {\"drug_name\": \"Decapeptyl\", \"stitch_id\": \"CID025074470\"}, {\"drug_name\": \"insulin glargine\", \"stitch_id\": \"CID044146714\"}]}\n",
    "reference_byname.extend([(r['drug_name'], 1) for r in data1['results']])\n",
    "reference_byname = sorted(set(reference_byname))\n",
    "print len(reference_byname)"
   ]
  },
  {
   "cell_type": "code",
   "execution_count": 64,
   "metadata": {
    "collapsed": true
   },
   "outputs": [],
   "source": [
    "invalid_drugnames = list()\n",
    "invalid_drugnames.append(\"human brain natriuretic peptide-32\")\n",
    "invalid_drugnames.append(\"human glucagon\")\n",
    "invalid_drugnames.append(\"human insulin\")\n",
    "invalid_drugnames.append(\"vitamin D2\")"
   ]
  },
  {
   "cell_type": "code",
   "execution_count": 118,
   "metadata": {},
   "outputs": [
    {
     "name": "stderr",
     "output_type": "stream",
     "text": [
      "100%|██████████| 390/390 [02:49<00:00,  2.21it/s]"
     ]
    },
    {
     "name": "stdout",
     "output_type": "stream",
     "text": [
      "Produced reference with 380 positive examples and 0 negative examples.\n"
     ]
    },
    {
     "name": "stderr",
     "output_type": "stream",
     "text": [
      "\n"
     ]
    }
   ],
   "source": [
    "# We map those drugs to their rxnorm\n",
    "positives = list()\n",
    "negatives = list()\n",
    "\n",
    "drugnames = [d for d,e in reference_byname]\n",
    "#print drugnames\n",
    "\n",
    "#we write the positive controls in a csv file\n",
    "c = csv.writer(open(\"positive_controls.csv\", \"wb\"))\n",
    "\n",
    "for drugname, causes_ae in tqdm(reference_byname):\n",
    "    \n",
    "    if drugname not in invalid_drugnames:\n",
    "        rxnorms = name2rxnorm(drugname)\n",
    "        #print drugname, rxnorms\n",
    "    \n",
    "        for rxnorm in rxnorms:\n",
    "            if causes_ae == 1:\n",
    "                positives.append(int(rxnorm))\n",
    "                c.writerow([int(rxnorm)])\n",
    "            \n",
    "            else:\n",
    "                negatives.append(int(rxnorm))\n",
    "\n",
    "print \"Produced reference with %d positive examples and %d negative examples.\" % (len(positives), len(negatives))"
   ]
  },
  {
   "cell_type": "code",
   "execution_count": 119,
   "metadata": {},
   "outputs": [
    {
     "name": "stdout",
     "output_type": "stream",
     "text": [
      "Randomly selected 350 negative examples from available drugs.\n"
     ]
    }
   ],
   "source": [
    "# If there are no negative examples, we randomly pick 200 from what's available in AEOLUS\n",
    "if len(negatives) == 0:\n",
    "    data = nsides_api('aeolus', 'ingredientList')\n",
    "    \n",
    "    c = csv.writer(open(\"negative_controls.csv\", \"wb\"))\n",
    "    \n",
    "    all_rxnorms = [r['concept_code'] for r in data['results']]\n",
    "    available_negatives = (set(all_rxnorms) - set(positives))\n",
    "    \n",
    "    negatives = random.sample(available_negatives, 350)\n",
    "    #negatives = available_negatives\n",
    "    \n",
    "    for rxnorm in negatives:\n",
    "        c.writerow([int(rxnorm)])\n",
    "\n",
    "print \"Randomly selected %d negative examples from available drugs.\" % len(negatives)\n",
    "#print negatives"
   ]
  },
  {
   "cell_type": "markdown",
   "metadata": {},
   "source": [
    "##  Retrieve adverse event report data for these and a set of control drugs."
   ]
  },
  {
   "cell_type": "code",
   "execution_count": 12,
   "metadata": {},
   "outputs": [
    {
     "name": "stdout",
     "output_type": "stream",
     "text": [
      "{u'valid_end_date': u'2099-12-31', u'concept_class_id': u'Ingredient', u'valid_start_date': u'1970-01-01', u'vocabulary_id': u'RxNorm', u'concept_name': u'hepatitis B immune globulin', u'invalid_reason': u'', u'standard_concept_id': 501343, u'standard_concept': u'S', u'concept_code': 26744, u'domain_id': u'Drug', u'concept_id': 501343}\n",
      "3526\n",
      "1177480\n"
     ]
    }
   ],
   "source": [
    "# concept = OMOP concept id\n",
    "data = nsides_api('aeolus', 'ingredientList')\n",
    "\n",
    "concept2name = dict()\n",
    "all_drugs = list()\n",
    "drug_mapping = dict()\n",
    "concept2rxnorm = dict()\n",
    "rxnorm2concept = dict()\n",
    "\n",
    "for r in data['results']:\n",
    "    concept2name[r['concept_id']] = r['concept_name']\n",
    "    all_drugs.append(r['concept_id'])\n",
    "    drug_mapping[r['concept_code']] = r['concept_id']\n",
    "    concept2rxnorm[r['concept_id']] = r['concept_code']\n",
    "    rxnorm2concept[r['concept_code']] = r['concept_id']\n",
    "\n",
    "#print drug_mapping.items()\n",
    "#print concept2name\n",
    "print data['results'][0]\n",
    "print len(all_drugs)\n",
    "#print concept2rxnorm[501343]\n",
    "print rxnorm2concept[5640]"
   ]
  },
  {
   "cell_type": "code",
   "execution_count": 13,
   "metadata": {},
   "outputs": [
    {
     "name": "stdout",
     "output_type": "stream",
     "text": [
      "7540\n",
      "{u'valid_end_date': u'2099-12-31', u'concept_class_id': u'LLT', u'outcome_concept_id': 36718526, u'valid_start_date': u'1970-01-01', u'vocabulary_id': u'MedDRA', u'concept_name': u'Convulsion', u'invalid_reason': u'', u'snomed_outcome_concept_id': 377091, u'standard_concept': u'C', u'concept_code': 10010904, u'domain_id': u'Condition', u'concept_id': 36718526}\n",
      "36718526\n"
     ]
    }
   ],
   "source": [
    "#query?service=aeolus&meta=reactionListMedDRA\n",
    "data = nsides_api('aeolus', 'reactionListMedDRA')\n",
    "\n",
    "# List of all AEs reported in FAERS\n",
    "all_outcomes = list() \n",
    "\n",
    "for r in data['results']:\n",
    "    all_outcomes.append(r['outcome_concept_id'])\n",
    "\n",
    "print len(all_outcomes)\n",
    "print data['results'][0]\n",
    "print all_outcomes[0]"
   ]
  },
  {
   "cell_type": "code",
   "execution_count": 14,
   "metadata": {},
   "outputs": [
    {
     "name": "stdout",
     "output_type": "stream",
     "text": [
      "199\n",
      "37622529\n",
      "{u'valid_end_date': u'2099-12-31', u'concept_class_id': u'PT', u'outcome_concept_id': 37622529, u'valid_start_date': u'1970-01-01', u'vocabulary_id': u'MedDRA', u'concept_name': u'Hypertension', u'invalid_reason': u'', u'standard_concept': u'C', u'concept_code': 10020772, u'domain_id': u'Condition', u'concept_id': 37622529}\n"
     ]
    }
   ],
   "source": [
    "#query?service=aeolus&meta=drugpairReactionListMedDRA\n",
    "data = nsides_api('aeolus', 'drugpairReactionListMedDRA')\n",
    "#List of all AEs reported as drugpairs outcome in FAERS\n",
    "all_pairoutcomes = list()\n",
    "all_conceptnames = list()\n",
    "for r in data['results']:\n",
    "    all_pairoutcomes.append(r['outcome_concept_id'])\n",
    "    all_conceptnames.append(r['concept_name'])\n",
    "\n",
    "print len(all_pairoutcomes)\n",
    "print all_pairoutcomes[0]\n",
    "print data['results'][0]\n",
    "\n",
    "#for r in all_conceptnames:\n",
    "#    print r"
   ]
  },
  {
   "cell_type": "code",
   "execution_count": 15,
   "metadata": {},
   "outputs": [
    {
     "name": "stdout",
     "output_type": "stream",
     "text": [
      "39800\n",
      "(19111620, 19122121)\n"
     ]
    }
   ],
   "source": [
    "#query?service=aeolus&meta=drugpairList\n",
    "data = nsides_api('aeolus', 'drugpairList')\n",
    "\n",
    "all_drugpairs = list()\n",
    "\n",
    "for r in data['results']:\n",
    "    all_drugpairs.append((r['drug1_concept_id'], r['drug2_concept_id']))\n",
    "\n",
    "print len(all_drugpairs)\n",
    "print all_drugpairs[0]"
   ]
  },
  {
   "cell_type": "code",
   "execution_count": 16,
   "metadata": {},
   "outputs": [
    {
     "name": "stderr",
     "output_type": "stream",
     "text": [
      "100%|██████████| 64/64 [03:18<00:00,  3.01s/it]"
     ]
    },
    {
     "name": "stdout",
     "output_type": "stream",
     "text": [
      "631743\n"
     ]
    },
    {
     "name": "stderr",
     "output_type": "stream",
     "text": [
      "\n"
     ]
    }
   ],
   "source": [
    "#query?service=aeolus&meta=drugReactionCounts&q=0\n",
    "data = nsides_api('aeolus', 'drugReactionCounts', {'q':0})\n",
    "\n",
    "aeolus_drugReactionCounts = dict()\n",
    "aeolus_drugReactionCounts['results'] = list()\n",
    "\n",
    "for start in tqdm(range(0, data[0]['nrows'][0], 10000)):    \n",
    "    aeolus_drugReactionCounts['results'].extend(data[0]['result'])    \n",
    "    start = len(aeolus_drugReactionCounts['results'])\n",
    "    data = nsides_api('aeolus', 'drugReactionCounts', {'q': start})\n",
    "\n",
    "print len(aeolus_drugReactionCounts['results'])"
   ]
  },
  {
   "cell_type": "code",
   "execution_count": 17,
   "metadata": {},
   "outputs": [
    {
     "name": "stdout",
     "output_type": "stream",
     "text": [
      "{u'nreports': 11, u'outcome_concept_id': 35104067, u'drug_concept_id': 904453, u'ndrugreports': 448710}\n",
      "{u'nreports': 13, u'outcome_concept_id': 35104067, u'drug_concept_id': 1112807, u'ndrugreports': 1077453}\n"
     ]
    }
   ],
   "source": [
    "print aeolus_drugReactionCounts['results'][0]\n",
    "print aeolus_drugReactionCounts['results'][1]"
   ]
  },
  {
   "cell_type": "code",
   "execution_count": 18,
   "metadata": {},
   "outputs": [
    {
     "name": "stdout",
     "output_type": "stream",
     "text": [
      "39\n"
     ]
    }
   ],
   "source": [
    "unrecognized_id = list()\n",
    "unrecognized_id.append('CID011953896')\n",
    "unrecognized_id.append('CID000003706')\n",
    "unrecognized_id.append('CID000002550')\n",
    "unrecognized_id.append('CID000031371')\n",
    "unrecognized_id.append('CID000054688')\n",
    "unrecognized_id.append('CID000000653')\n",
    "unrecognized_id.append('CID000009908')\n",
    "unrecognized_id.append('CID000005257')\n",
    "unrecognized_id.append('CID000006691')\n",
    "unrecognized_id.append('CID000002177')\n",
    "unrecognized_id.append('CID000002949')\n",
    "unrecognized_id.append('CID000002909')\n",
    "unrecognized_id.append('CID000005267')\n",
    "unrecognized_id.append('CID000028112')\n",
    "unrecognized_id.append('CID000001451')\n",
    "unrecognized_id.append('CID000016213')\n",
    "unrecognized_id.append('CID000003075')\n",
    "unrecognized_id.append('CID005311048')\n",
    "unrecognized_id.append('CID000003929')\n",
    "unrecognized_id.append('CID000004691')\n",
    "unrecognized_id.append('CID000003962')\n",
    "unrecognized_id.append('CID005361912')\n",
    "unrecognized_id.append('CID000005064')\n",
    "unrecognized_id.append('CID006420046')\n",
    "unrecognized_id.append('CID000003143')\n",
    "unrecognized_id.append('CID000004048')\n",
    "unrecognized_id.append('CID000003222')\n",
    "unrecognized_id.append('CID000150310')\n",
    "unrecognized_id.append('CID000005372')\n",
    "unrecognized_id.append('CID000062924')\n",
    "unrecognized_id.append('CID000443871')\n",
    "unrecognized_id.append('CID006419754')\n",
    "unrecognized_id.append('CID000004547')\n",
    "unrecognized_id.append('CID000065027')\n",
    "unrecognized_id.append('CID000004259')\n",
    "unrecognized_id.append('CID011953892')\n",
    "unrecognized_id.append('CID000004724')\n",
    "unrecognized_id.append('CID000002769')\n",
    "unrecognized_id.append('CID000005412')\n",
    "\n",
    "print len(unrecognized_id)"
   ]
  },
  {
   "cell_type": "code",
   "execution_count": 19,
   "metadata": {
    "scrolled": true
   },
   "outputs": [
    {
     "name": "stderr",
     "output_type": "stream",
     "text": [
      "\r",
      "  0%|          | 0/1000 [00:00<?, ?it/s]"
     ]
    },
    {
     "name": "stdout",
     "output_type": "stream",
     "text": [
      "{u'interaction': 1, u'drug_1': u'CID000041774', u'drug_2': u'CID000005379'}\n",
      "1000\n"
     ]
    },
    {
     "name": "stderr",
     "output_type": "stream",
     "text": [
      "100%|██████████| 1000/1000 [26:08<00:00,  1.81s/it]"
     ]
    },
    {
     "name": "stdout",
     "output_type": "stream",
     "text": [
      "641\n",
      "(16681, 228476)\n"
     ]
    },
    {
     "name": "stderr",
     "output_type": "stream",
     "text": [
      "\n"
     ]
    }
   ],
   "source": [
    "#query?service=va&meta=get_ddi_alerts\n",
    "\n",
    "# Retrieve data from the Veteran Affairs Hospital (Stitch ids)\n",
    "# We map those drugs to their rxnorm\n",
    "\n",
    "data = nsides_api('va', 'get_ddi_alerts')\n",
    "print data['results'][0]\n",
    "print len(data['results'])\n",
    "\n",
    "va_ddi_alerts = list()\n",
    "\n",
    "for r in tqdm(data['results']):\n",
    "    \n",
    "    #print r\n",
    "    \n",
    "    if (r['drug_1'] in unrecognized_id) or (r['drug_2'] in unrecognized_id):\n",
    "        continue\n",
    "    \n",
    "    stitch_data1 = stitch_api(r['drug_1'])\n",
    "    stitch_data2 = stitch_api(r['drug_2'])\n",
    "\n",
    "    drugs1 = name2rxnorm(stitch_data1[0]['preferredName'])\n",
    "    drugs2 = name2rxnorm(stitch_data2[0]['preferredName'])\n",
    "    \n",
    "    for drug1 in drugs1:\n",
    "        drug1 = (int(drug1))\n",
    "    for drug2 in drugs2:\n",
    "        drug2 = (int(drug2))\n",
    "        \n",
    "    va_ddi_alerts.append((drug1, drug2))\n",
    "\n",
    "print len(va_ddi_alerts)\n",
    "print va_ddi_alerts[0]"
   ]
  },
  {
   "cell_type": "code",
   "execution_count": 67,
   "metadata": {
    "collapsed": true
   },
   "outputs": [],
   "source": [
    "key_errors = list()\n",
    "key_errors.append(17941)\n",
    "key_errors.append(7930)\n",
    "key_errors.append(357280)\n",
    "key_errors.append(218863)\n",
    "key_errors.append(353062)"
   ]
  },
  {
   "cell_type": "code",
   "execution_count": 68,
   "metadata": {},
   "outputs": [
    {
     "name": "stdout",
     "output_type": "stream",
     "text": [
      "641\n",
      "574\n",
      "(1529331, 1789276)\n"
     ]
    }
   ],
   "source": [
    "# We map drugpairs from rxnorm to their OMOP id\n",
    "va_omop_ddi = list()\n",
    "\n",
    "for drugpair in va_ddi_alerts:\n",
    "    #print drugpair\n",
    "    if drugpair[0] in key_errors:\n",
    "        continue\n",
    "    if drugpair[1] in key_errors:\n",
    "        continue\n",
    "    va_omop_ddi.append((rxnorm2concept[drugpair[0]],rxnorm2concept[drugpair[1]]))\n",
    "\n",
    "print len(va_ddi_alerts)\n",
    "print len(va_omop_ddi)\n",
    "print va_omop_ddi[0]"
   ]
  },
  {
   "cell_type": "code",
   "execution_count": 22,
   "metadata": {},
   "outputs": [
    {
     "name": "stdout",
     "output_type": "stream",
     "text": [
      "1\n",
      "{u'results': [{u'concept_id': u'3000000'}]}\n"
     ]
    }
   ],
   "source": [
    "#LOINC to OMOP\n",
    "#/api/v1/query?service=omop&meta=get_omop_from_loinc&q=28377-0\n",
    "data = nsides_api('omop', 'get_omop_from_loinc', {'q':'28377-0'})\n",
    "print len(data)\n",
    "print data"
   ]
  },
  {
   "cell_type": "markdown",
   "metadata": {},
   "source": [
    "## Build the training table for single drugs"
   ]
  },
  {
   "cell_type": "code",
   "execution_count": 69,
   "metadata": {
    "collapsed": true
   },
   "outputs": [],
   "source": [
    "def make_lsd_training_table(pos_drugs = None, neg_drugs = None):\n",
    "\n",
    "    # we map positive and negative drugs from their concept_code to their concept_id\n",
    "    pos_drugs_mapped = list()\n",
    "    for pos_drug in pos_drugs:\n",
    "        pos_drugs_mapped.append(drug_mapping[pos_drug])\n",
    "        \n",
    "    neg_drugs_mapped = list()\n",
    "    for neg_drug in neg_drugs:\n",
    "        neg_drugs_mapped.append(drug_mapping[neg_drug])\n",
    "        \n",
    "    outcomes = np.concatenate((np.ones(len(pos_drugs),np.bool), np.zeros(len(neg_drugs),np.bool)))\n",
    "    \n",
    "    training_drugs = pos_drugs_mapped + neg_drugs_mapped\n",
    "    \n",
    "    # build the adverse events frequency table\n",
    "    ae_frequencies_training = np.zeros((len(pos_drugs)+len(neg_drugs),len(all_pairoutcomes)))\n",
    "    \n",
    "    for r in aeolus_drugReactionCounts['results']:\n",
    "        if not r['drug_concept_id'] in training_drugs:\n",
    "            continue\n",
    "        if not r['outcome_concept_id'] in all_pairoutcomes:\n",
    "            continue\n",
    "        \n",
    "        \n",
    "        i = training_drugs.index(r['drug_concept_id'])\n",
    "        j = all_pairoutcomes.index(r['outcome_concept_id'])\n",
    "        \n",
    "        frequency = float(r['nreports'])/float(r['ndrugreports'])\n",
    "        \n",
    "        ae_frequencies_training[i,j] = frequency\n",
    "                    \n",
    "    return ae_frequencies_training, outcomes"
   ]
  },
  {
   "cell_type": "code",
   "execution_count": 120,
   "metadata": {},
   "outputs": [
    {
     "name": "stdout",
     "output_type": "stream",
     "text": [
      "350\n",
      "350\n"
     ]
    }
   ],
   "source": [
    "# we only keep drugs that can be mapped\n",
    "pos_controls = [p for p in positives if p in drug_mapping]\n",
    "neg_controls = [n for n in negatives if n in drug_mapping]\n",
    "\n",
    "print len(pos_controls)\n",
    "print len(neg_controls)"
   ]
  },
  {
   "cell_type": "code",
   "execution_count": 121,
   "metadata": {},
   "outputs": [
    {
     "name": "stdout",
     "output_type": "stream",
     "text": [
      "(700, 199)\n",
      "(700,)\n",
      "350\n"
     ]
    }
   ],
   "source": [
    "X,y = make_lsd_training_table(pos_controls, neg_controls)\n",
    "\n",
    "print X.shape\n",
    "print y.shape\n",
    "\n",
    "print y.sum()"
   ]
  },
  {
   "cell_type": "markdown",
   "metadata": {},
   "source": [
    "### Same process for drugpairs"
   ]
  },
  {
   "cell_type": "code",
   "execution_count": 72,
   "metadata": {},
   "outputs": [
    {
     "name": "stderr",
     "output_type": "stream",
     "text": [
      "100%|██████████| 793/793 [11:00<00:00,  1.88it/s]  \n"
     ]
    },
    {
     "data": {
      "text/plain": [
       "1313184"
      ]
     },
     "execution_count": 72,
     "metadata": {},
     "output_type": "execute_result"
    }
   ],
   "source": [
    "#query?service=aeolus&meta=drugpairReactionCounts&q=0\n",
    "data = nsides_api('aeolus', 'drugpairReactionCounts', {'q':0})\n",
    "\n",
    "aeolus_drugpairReactionCounts = dict()\n",
    "aeolus_drugpairReactionCounts['results'] = list()\n",
    "\n",
    "for start in tqdm(range(0, data[0]['nrows'][0], 10000)):    \n",
    "    aeolus_drugpairReactionCounts['results'].extend(data[0]['results'])    \n",
    "    start = len(aeolus_drugpairReactionCounts['results'])\n",
    "    data = nsides_api('aeolus', 'drugpairReactionCounts', {'q': start})\n",
    "\n",
    "len(aeolus_drugpairReactionCounts['results'])"
   ]
  },
  {
   "cell_type": "code",
   "execution_count": 73,
   "metadata": {},
   "outputs": [
    {
     "data": {
      "text/plain": [
       "{u'drug1_concept_id': 19111620,\n",
       " u'drug2_concept_id': 19122121,\n",
       " u'n_d1d2': 722,\n",
       " u'n_d1d2ae': 38,\n",
       " u'outcome_concept_id': 37622529}"
      ]
     },
     "execution_count": 73,
     "metadata": {},
     "output_type": "execute_result"
    }
   ],
   "source": [
    "aeolus_drugpairReactionCounts['results'][0]"
   ]
  },
  {
   "cell_type": "code",
   "execution_count": 74,
   "metadata": {
    "collapsed": true
   },
   "outputs": [],
   "source": [
    "# build the frequency table for drugpairs\n",
    "def make_lsd_testing_table():\n",
    "    ae_frequencies_ddi_testing = np.zeros((len(all_drugpairs),len(all_pairoutcomes)))\n",
    "    \n",
    "    for r in tqdm(aeolus_drugpairReactionCounts['results']):\n",
    "        \n",
    "        drugpair = (r['drug1_concept_id'],r['drug2_concept_id'])\n",
    "        if r['outcome_concept_id'] in all_pairoutcomes:\n",
    "            x_index = all_drugpairs.index(drugpair)\n",
    "            y_index = all_pairoutcomes.index(r['outcome_concept_id'])\n",
    "            \n",
    "            frequency = float(r['n_d1d2ae'])/float(r['n_d1d2'])\n",
    "            \n",
    "            ae_frequencies_ddi_testing[x_index,y_index] = frequency    \n",
    "                \n",
    "    return ae_frequencies_ddi_testing"
   ]
  },
  {
   "cell_type": "code",
   "execution_count": 122,
   "metadata": {},
   "outputs": [
    {
     "name": "stderr",
     "output_type": "stream",
     "text": [
      "100%|██████████| 1313184/1313184 [17:39<00:00, 1239.82it/s]\n"
     ]
    }
   ],
   "source": [
    "X_test = make_lsd_testing_table()"
   ]
  },
  {
   "cell_type": "code",
   "execution_count": 123,
   "metadata": {},
   "outputs": [
    {
     "name": "stdout",
     "output_type": "stream",
     "text": [
      "(700, 199)\n",
      "(39800, 199)\n",
      "(700,)\n",
      "350\n"
     ]
    },
    {
     "data": {
      "text/plain": [
       "(72613.835694147696, 0.009168182077996476)"
      ]
     },
     "execution_count": 123,
     "metadata": {},
     "output_type": "execute_result"
    }
   ],
   "source": [
    "print X.shape #Dimension of the ae frequencies training table\n",
    "print X_test.shape #Dimension of the ae frequencies ddi testing table\n",
    "print y.shape #Number of outcomes (positive + negative controls)\n",
    "\n",
    "#print len(aeolus_drugpairReactionCounts['results'])\n",
    "\n",
    "print np.sum(y)\n",
    "\n",
    "X_test.sum(), X_test.mean()"
   ]
  },
  {
   "cell_type": "markdown",
   "metadata": {},
   "source": [
    "## Features reduction (to avoid overfitting)"
   ]
  },
  {
   "cell_type": "code",
   "execution_count": 38,
   "metadata": {
    "collapsed": true
   },
   "outputs": [],
   "source": [
    "#Need to reduce the number of features: 199 features is too much compared to 'only' 272 examples (i.e pos+neg controls)\n",
    "#Method: L1 (lasso) regularization + 10 fold cross-validation"
   ]
  },
  {
   "cell_type": "code",
   "execution_count": 124,
   "metadata": {
    "collapsed": true
   },
   "outputs": [],
   "source": [
    "# Features reduction using L1 regularization + 10-folds cross-validation\n",
    "\n",
    "def l1_regression(X, y, alpha, predictions):\n",
    "    l1 = Lasso(alpha=alpha,fit_intercept=True, max_iter=100000, tol=0.0001)\n",
    "    l1.fit(X,y)\n",
    "    y_pred = l1.predict(X)\n",
    "    coef = l1.coef_\n",
    "    \n",
    "    auc_score = roc_auc_score(y, y_pred)\n",
    "    print 'auc score: %f' %auc_score\n",
    "    predictions.append([(pred, label) for label,pred in zip(y, y_pred)])\n",
    "    \n",
    "    nb_coef = 0\n",
    "    for i in range (0, len(coef)):\n",
    "        if coef[i] != 0.:\n",
    "            nb_coef+=1\n",
    "    print \"Number of coef with alpha = %f: %d\" %(alpha,nb_coef)\n",
    "    #print \"l1 intercept: %f \" %l1.intercept_\n",
    "    return coef, auc_score   "
   ]
  },
  {
   "cell_type": "code",
   "execution_count": 125,
   "metadata": {},
   "outputs": [
    {
     "name": "stdout",
     "output_type": "stream",
     "text": [
      "auc score: 0.846890\n",
      "Number of coef with alpha = 0.000090: 26\n",
      "auc score: 0.845465\n",
      "Number of coef with alpha = 0.000100: 24\n",
      "auc score: 0.830184\n",
      "Number of coef with alpha = 0.000200: 14\n",
      "auc score: 0.822453\n",
      "Number of coef with alpha = 0.000300: 13\n",
      "auc score: 0.811690\n",
      "Number of coef with alpha = 0.000400: 10\n",
      "auc score: 0.799143\n",
      "Number of coef with alpha = 0.000600: 5\n",
      "auc score: 0.798531\n",
      "Number of coef with alpha = 0.000700: 5\n"
     ]
    }
   ],
   "source": [
    "# We build 6 different potential fingerprint (with a different number of features each time)\n",
    "alphas = [0.00009, 1e-4, 0.0002, 0.0003, 0.0004, 0.0006, 0.0007]\n",
    "\n",
    "coef_lasso= np.zeros((len(alphas),len(all_pairoutcomes)))\n",
    "predictions = list()\n",
    "\n",
    "for i in range (0, len(alphas)):\n",
    "    coef, auc_score = l1_regression(X, y, alphas[i], predictions)\n",
    "    for j in range(0,len(all_pairoutcomes)):\n",
    "        coef_lasso[i][j] = coef[j] "
   ]
  },
  {
   "cell_type": "code",
   "execution_count": 83,
   "metadata": {
    "collapsed": true
   },
   "outputs": [],
   "source": [
    "#print coef_lasso[2]"
   ]
  },
  {
   "cell_type": "code",
   "execution_count": 126,
   "metadata": {},
   "outputs": [
    {
     "name": "stdout",
     "output_type": "stream",
     "text": [
      "[ 0.86125     0.85346939  0.78530612  0.80148883  0.74110835]\n",
      "[ 0.80674342  0.80392157  0.8494898   0.73384354  0.75186104]\n",
      "[ 0.85526316  0.71020408  0.80355666  0.86041667  0.76653061]\n",
      "[ 0.76344086  0.8725      0.87182637  0.80653061  0.86356209]\n",
      "[ 0.82133333  0.72816327  0.7753268   0.77253929  0.74346405]\n",
      "[ 0.80562448  0.67918367  0.88001638  0.69387755  0.79728618]\n",
      "[ 0.82719083  0.75833333  0.77714286  0.72891073  0.73959184]\n",
      "[ 0.80852454  0.78917187  0.79919424  0.83557199  0.76816535  0.77119765\n",
      "  0.76623392]\n"
     ]
    },
    {
     "data": {
      "text/plain": [
       "(9e-05, 0.0007)"
      ]
     },
     "execution_count": 126,
     "metadata": {},
     "output_type": "execute_result"
    },
    {
     "data": {
      "image/png": "[encoded data removed]",
      "text/plain": [
       "<matplotlib.figure.Figure at 0x7f9d7b4a9350>"
      ]
     },
     "metadata": {},
     "output_type": "display_data"
    }
   ],
   "source": [
    "# We use 10-fold cross-validation to evaluate the models\n",
    "alphas = [0.00009, 1e-4, 0.0002, 0.0003, 0.0004, 0.0006, 0.0007] #we get between 5 and 19 features using these values of alpha\n",
    "n_folds = 5\n",
    "scores = list()\n",
    "scores_std = list()\n",
    "\n",
    "for alpha in alphas:\n",
    "    lasso = Lasso(alpha=alpha,fit_intercept=True, max_iter=100000, tol=0.0001)\n",
    "    lasso_fit = lasso.fit(X,y)\n",
    "    #print y.sum()\n",
    "    #print len(y)\n",
    "    cv = ShuffleSplit(n_splits=n_folds)\n",
    "    this_scores = cross_val_score(lasso_fit, X, y, scoring='roc_auc', cv=cv, n_jobs=1)\n",
    "    print this_scores\n",
    "    scores.append(np.mean(this_scores))\n",
    "    scores_std.append(np.std(this_scores))\n",
    "\n",
    "scores, scores_std = np.array(scores), np.array(scores_std)\n",
    "print scores\n",
    "\n",
    "plt.figure().set_size_inches(8, 6)\n",
    "plt.semilogx(alphas, scores)\n",
    "\n",
    "# plot error lines showing +/- std. errors of the scores\n",
    "std_error = scores_std / np.sqrt(n_folds)\n",
    "\n",
    "plt.semilogx(alphas, scores + std_error, 'b--')\n",
    "plt.semilogx(alphas, scores - std_error, 'b--')\n",
    "\n",
    "# alpha=0.2 controls the translucency of the fill color\n",
    "plt.fill_between(alphas, scores + std_error, scores - std_error, alpha=0.2)\n",
    "\n",
    "plt.ylabel('CV score +/- std error')\n",
    "plt.xlabel('alpha')\n",
    "plt.axhline(np.max(scores), linestyle='--', color='.5')\n",
    "plt.xlim([alphas[0], alphas[-1]])"
   ]
  },
  {
   "cell_type": "markdown",
   "metadata": {},
   "source": [
    "######  Selection of alpha depending on the validation score\n",
    "Depending on the way the test group is picked, we have different values of alpha. \n",
    "So we test the model with three different values of alpha: [0.0001, 0.0002, 0.0003]"
   ]
  },
  {
   "cell_type": "code",
   "execution_count": 127,
   "metadata": {},
   "outputs": [
    {
     "name": "stdout",
     "output_type": "stream",
     "text": [
      "24\n",
      "24\n",
      "24\n",
      "35205185\n"
     ]
    }
   ],
   "source": [
    "# Extract the set of relevant features and their weight, alpha = 0.0002\n",
    "features_indice = list()\n",
    "features_weight = list()\n",
    "features = list()\n",
    "\n",
    "for i in range (len(coef_lasso[1])):\n",
    "    if coef_lasso[1][i] != 0.:\n",
    "        features_indice.append(i)\n",
    "\n",
    "print len(features_indice)\n",
    "\n",
    "for i in range (len(all_pairoutcomes)):\n",
    "    if i in features_indice:\n",
    "        features.append(all_pairoutcomes[i])\n",
    "        features_weight.append((all_pairoutcomes[i], coef_lasso[1][i]))\n",
    "    \n",
    "print len(features)\n",
    "print len(features_weight)\n",
    "print features[0]"
   ]
  },
  {
   "cell_type": "code",
   "execution_count": 128,
   "metadata": {
    "collapsed": true
   },
   "outputs": [],
   "source": [
    "# Build the new frequency tables\n",
    "def make_lsd_training_table_reduced(features, pos_drugs = None, neg_drugs = None):\n",
    "\n",
    "    # we map positive and negative drugs from their concept_code to their concept_id\n",
    "    pos_drugs_mapped = list()\n",
    "    for pos_drug in pos_drugs:\n",
    "        pos_drugs_mapped.append(drug_mapping[pos_drug])\n",
    "        \n",
    "    neg_drugs_mapped = list()\n",
    "    for neg_drug in neg_drugs:\n",
    "        neg_drugs_mapped.append(drug_mapping[neg_drug])\n",
    "        \n",
    "    outcomes = np.concatenate((np.ones(len(pos_drugs),np.bool), np.zeros(len(neg_drugs),np.bool)))\n",
    "    \n",
    "    training_drugs = pos_drugs_mapped + neg_drugs_mapped\n",
    "    \n",
    "    # build the adverse events frequency table\n",
    "    ae_frequencies_training = np.zeros((len(pos_drugs)+len(neg_drugs),len(features)))\n",
    "    \n",
    "    for r in aeolus_drugReactionCounts['results']:\n",
    "        if not r['drug_concept_id'] in training_drugs:\n",
    "            continue\n",
    "        if not r['outcome_concept_id'] in features:\n",
    "            continue\n",
    "        \n",
    "        \n",
    "        i = training_drugs.index(r['drug_concept_id'])\n",
    "        j = features.index(r['outcome_concept_id'])\n",
    "        \n",
    "        frequency = float(r['nreports'])/float(r['ndrugreports'])\n",
    "        \n",
    "        ae_frequencies_training[i,j] = frequency\n",
    "                    \n",
    "    return ae_frequencies_training, outcomes\n",
    "\n",
    "\n",
    "# Build the frequency table for drugpairs\n",
    "def make_lsd_testing_table_reduced(features):\n",
    "    ae_frequencies_ddi_testing = np.zeros((len(all_drugpairs),len(features)))\n",
    "    \n",
    "    for r in tqdm(aeolus_drugpairReactionCounts['results']):\n",
    "        \n",
    "        drugpair = (r['drug1_concept_id'],r['drug2_concept_id'])\n",
    "        if r['outcome_concept_id'] in features:\n",
    "            x_index = all_drugpairs.index(drugpair)\n",
    "            y_index = features.index(r['outcome_concept_id'])\n",
    "            \n",
    "            frequency = float(r['n_d1d2ae'])/float(r['n_d1d2'])\n",
    "            #print frequency\n",
    "            \n",
    "            ae_frequencies_ddi_testing[x_index,y_index] = frequency    \n",
    "                \n",
    "    return ae_frequencies_ddi_testing"
   ]
  },
  {
   "cell_type": "code",
   "execution_count": 129,
   "metadata": {},
   "outputs": [
    {
     "name": "stdout",
     "output_type": "stream",
     "text": [
      "(700, 24)\n",
      "(700,)\n"
     ]
    }
   ],
   "source": [
    "X_reduced, y_reduced = make_lsd_training_table_reduced(features, pos_controls, neg_controls)\n",
    "\n",
    "print X_reduced.shape\n",
    "print y_reduced.shape"
   ]
  },
  {
   "cell_type": "code",
   "execution_count": 130,
   "metadata": {},
   "outputs": [
    {
     "name": "stderr",
     "output_type": "stream",
     "text": [
      "100%|██████████| 1313184/1313184 [03:35<00:00, 6084.06it/s] \n"
     ]
    }
   ],
   "source": [
    "X_test_reduced = make_lsd_testing_table_reduced(features)"
   ]
  },
  {
   "cell_type": "code",
   "execution_count": 131,
   "metadata": {
    "scrolled": true
   },
   "outputs": [
    {
     "name": "stdout",
     "output_type": "stream",
     "text": [
      "35205185\n",
      "(39800, 24)\n"
     ]
    }
   ],
   "source": [
    "print features[0]\n",
    "print X_test_reduced.shape\n",
    "#print X_test_reduced[2]"
   ]
  },
  {
   "cell_type": "markdown",
   "metadata": {},
   "source": [
    "## Build the latent signal detection model (i.e hypertension's fingerprint)"
   ]
  },
  {
   "cell_type": "code",
   "execution_count": 132,
   "metadata": {},
   "outputs": [],
   "source": [
    "# We use a Logistic Regression Binary classifier: each drug or drug pair is represented by a combination of AEs and their weight (beta coefficient)\n",
    "# If a drug is above a certain threshold, we classify it as causing hypertension\n",
    "\n",
    "def score(features_weight, X_test):\n",
    "    score = list()\n",
    "    \n",
    "    for drugpair in X_test:\n",
    "        #print drugpair\n",
    "        drugpair_score = 0\n",
    "        for i in range (0, len(features)):\n",
    "            drugpair_score += drugpair[i] * features_weight[i][1]\n",
    "        score.append(drugpair_score)\n",
    "    \n",
    "    return score\n",
    "\n",
    "def y_pred_FAERS(drug_mapping):\n",
    "    \n",
    "    y_pred = np.zeros((len(scores)))\n",
    "    pos_drugs_mapped = list()\n",
    "    \n",
    "    for pos_drug in pos_controls:\n",
    "        if pos_drug not in drug_mapping:\n",
    "            continue\n",
    "        \n",
    "        pos_drugs_mapped.append(drug_mapping[pos_drug])\n",
    "    \n",
    "    # if a drugpair has a drug known to be a positive control then we predict that the drugpair will lead to the AE\n",
    "    for drugpair in all_drugpairs:         \n",
    "        for drug in drugpair:\n",
    "            if drug in pos_drugs_mapped:\n",
    "                y_pred[all_drugpairs.index(drugpair)] = 1\n",
    "                \n",
    "    return y_pred\n",
    "\n",
    "def y_pred_va():\n",
    "    \n",
    "    y_pred = np.zeros((len(scores)))\n",
    "    \n",
    "    # if a drugpair has a drug known to be a positive control then we predict that the drugpair will lead to the AE\n",
    "    for drugpair in all_drugpairs:         \n",
    "        if drugpair in va_omop_ddi :\n",
    "            y_pred[all_drugpairs.index(drugpair)] = 1\n",
    "    \n",
    "    return y_pred\n",
    "\n",
    "def predict_ddi(scores, threshold):\n",
    "    \n",
    "    predictions = np.zeros((len(scores)))\n",
    "    for score in scores:\n",
    "        if (score > threshold):\n",
    "            predictions[scores.index(score)] = 1\n",
    "    print sum(predictions)\n",
    "    \n",
    "    y_pred_Faers = y_pred_FAERS(drug_mapping)\n",
    "    y_pred_VA = y_pred_va()\n",
    "    \n",
    "    print \"Number of positive predictions from FAERS:\",np.sum(y_pred_Faers)\n",
    "    print \"Number of positive predictions from the VA:\",np.sum(y_pred_VA)\n",
    "    \n",
    "    print \"FAERS drugpairs ROC:\",roc_auc_score(y_true=y_pred_Faers,y_score=scores)\n",
    "    fprFA, tprFA, _ = roc_curve(y_true=y_pred_Faers,y_score=scores)\n",
    "    \n",
    "    print \"VA drugpairs ROC:\",roc_auc_score(y_true=y_pred_VA,y_score=scores)\n",
    "    fprVA, tprVA, _ = roc_curve(y_true=y_pred_VA,y_score=scores)\n",
    "    \n",
    "    sns.set(style='ticks', font_scale=1.4)\n",
    "    \n",
    "    plt.figure(figsize=(6,6))\n",
    "    plt.plot(fprFA,tprFA,label='FAERS (area= %0.2f)' % auc(fprFA,tprFA))\n",
    "    plt.plot(fprVA,tprVA,label='VA (area= %0.2f)' % auc(fprVA,tprVA))\n",
    "    \n",
    "    plt.xlabel('False Positive Rate')\n",
    "    plt.ylabel('True Positive Rate')\n",
    "    \n",
    "    plt.legend(loc=\"lower right\")\n",
    "    \n",
    "    sns.despine()\n",
    "    \n",
    "    return predictions\n",
    "            "
   ]
  },
  {
   "cell_type": "code",
   "execution_count": 133,
   "metadata": {},
   "outputs": [
    {
     "name": "stdout",
     "output_type": "stream",
     "text": [
      "39800\n",
      "5.04422031006\n",
      "5484.0\n",
      "Number of positive predictions from FAERS: 25994.0\n",
      "Number of positive predictions from the VA: 14.0\n",
      "FAERS drugpairs ROC: 0.534704952193\n",
      "VA drugpairs ROC: 0.58073012043\n"
     ]
    },
    {
     "data": {
      "image/png": "[encoded data removed]",
      "text/plain": [
       "<matplotlib.figure.Figure at 0x7f9d7cae1710>"
      ]
     },
     "metadata": {},
     "output_type": "display_data"
    }
   ],
   "source": [
    "scores = score(features_weight, X_test_reduced)\n",
    "print len(scores)\n",
    "print scores[0]\n",
    "\n",
    "threshold = 5\n",
    "predictions = predict_ddi(scores, threshold)"
   ]
  },
  {
   "cell_type": "code",
   "execution_count": 107,
   "metadata": {
    "scrolled": false
   },
   "outputs": [
    {
     "name": "stderr",
     "output_type": "stream",
     "text": [
      "  1%|          | 8383/1313184 [00:00<00:15, 83772.96it/s]"
     ]
    },
    {
     "name": "stdout",
     "output_type": "stream",
     "text": [
      "0.0001\n",
      "13\n"
     ]
    },
    {
     "name": "stderr",
     "output_type": "stream",
     "text": [
      "100%|██████████| 1313184/1313184 [02:38<00:00, 8262.10it/s] \n"
     ]
    },
    {
     "name": "stdout",
     "output_type": "stream",
     "text": [
      "(39800, 13)\n",
      "5081.0\n"
     ]
    },
    {
     "name": "stderr",
     "output_type": "stream",
     "text": [
      "\r",
      "  0%|          | 0/1313184 [00:00<?, ?it/s]"
     ]
    },
    {
     "name": "stdout",
     "output_type": "stream",
     "text": [
      "Number of positive predictions from FAERS: 25994.0\n",
      "Number of positive predictions from the VA: 14.0\n",
      "FAERS drugpairs ROC: 0.534072115796\n",
      "VA drugpairs ROC: 0.570525525849\n",
      "0.0002\n",
      "12\n"
     ]
    },
    {
     "name": "stderr",
     "output_type": "stream",
     "text": [
      " 31%|███       | 406743/1313184 [01:29<06:03, 2491.68it/s] "
     ]
    },
    {
     "ename": "KeyboardInterrupt",
     "evalue": "",
     "output_type": "error",
     "traceback": [
      "\u001b[0;31m---------------------------------------------------------------------------\u001b[0m",
      "\u001b[0;31mKeyboardInterrupt\u001b[0m                         Traceback (most recent call last)",
      "\u001b[0;32m<ipython-input-107-57dedf00491e>\u001b[0m in \u001b[0;36m<module>\u001b[0;34m()\u001b[0m\n\u001b[1;32m     26\u001b[0m \u001b[0;34m\u001b[0m\u001b[0m\n\u001b[1;32m     27\u001b[0m     \u001b[0;31m#Construction of the new testing frequency table\u001b[0m\u001b[0;34m\u001b[0m\u001b[0;34m\u001b[0m\u001b[0m\n\u001b[0;32m---> 28\u001b[0;31m     \u001b[0mX_test_reduced\u001b[0m \u001b[0;34m=\u001b[0m \u001b[0mmake_lsd_testing_table_reduced\u001b[0m\u001b[0;34m(\u001b[0m\u001b[0mfeatures\u001b[0m\u001b[0;34m)\u001b[0m\u001b[0;34m\u001b[0m\u001b[0m\n\u001b[0m\u001b[1;32m     29\u001b[0m     \u001b[0;32mprint\u001b[0m \u001b[0mX_test_reduced\u001b[0m\u001b[0;34m.\u001b[0m\u001b[0mshape\u001b[0m\u001b[0;34m\u001b[0m\u001b[0m\n\u001b[1;32m     30\u001b[0m \u001b[0;34m\u001b[0m\u001b[0m\n",
      "\u001b[0;32m<ipython-input-86-80c7019aae66>\u001b[0m in \u001b[0;36mmake_lsd_testing_table_reduced\u001b[0;34m(features)\u001b[0m\n\u001b[1;32m     43\u001b[0m         \u001b[0mdrugpair\u001b[0m \u001b[0;34m=\u001b[0m \u001b[0;34m(\u001b[0m\u001b[0mr\u001b[0m\u001b[0;34m[\u001b[0m\u001b[0;34m'drug1_concept_id'\u001b[0m\u001b[0;34m]\u001b[0m\u001b[0;34m,\u001b[0m\u001b[0mr\u001b[0m\u001b[0;34m[\u001b[0m\u001b[0;34m'drug2_concept_id'\u001b[0m\u001b[0;34m]\u001b[0m\u001b[0;34m)\u001b[0m\u001b[0;34m\u001b[0m\u001b[0m\n\u001b[1;32m     44\u001b[0m         \u001b[0;32mif\u001b[0m \u001b[0mr\u001b[0m\u001b[0;34m[\u001b[0m\u001b[0;34m'outcome_concept_id'\u001b[0m\u001b[0;34m]\u001b[0m \u001b[0;32min\u001b[0m \u001b[0mfeatures\u001b[0m\u001b[0;34m:\u001b[0m\u001b[0;34m\u001b[0m\u001b[0m\n\u001b[0;32m---> 45\u001b[0;31m             \u001b[0mx_index\u001b[0m \u001b[0;34m=\u001b[0m \u001b[0mall_drugpairs\u001b[0m\u001b[0;34m.\u001b[0m\u001b[0mindex\u001b[0m\u001b[0;34m(\u001b[0m\u001b[0mdrugpair\u001b[0m\u001b[0;34m)\u001b[0m\u001b[0;34m\u001b[0m\u001b[0m\n\u001b[0m\u001b[1;32m     46\u001b[0m             \u001b[0my_index\u001b[0m \u001b[0;34m=\u001b[0m \u001b[0mfeatures\u001b[0m\u001b[0;34m.\u001b[0m\u001b[0mindex\u001b[0m\u001b[0;34m(\u001b[0m\u001b[0mr\u001b[0m\u001b[0;34m[\u001b[0m\u001b[0;34m'outcome_concept_id'\u001b[0m\u001b[0;34m]\u001b[0m\u001b[0;34m)\u001b[0m\u001b[0;34m\u001b[0m\u001b[0m\n\u001b[1;32m     47\u001b[0m \u001b[0;34m\u001b[0m\u001b[0m\n",
      "\u001b[0;31mKeyboardInterrupt\u001b[0m: "
     ]
    },
    {
     "data": {
      "image/png": "[encoded data removed]",
      "text/plain": [
       "<matplotlib.figure.Figure at 0x7f9d7ec25950>"
      ]
     },
     "metadata": {},
     "output_type": "display_data"
    },
    {
     "name": "stderr",
     "output_type": "stream",
     "text": [
      "\r",
      "          \r",
      " 31%|███       | 406743/1313184 [01:40<03:44, 4042.91it/s]"
     ]
    }
   ],
   "source": [
    "# Loop to test all three models\n",
    "# We use a Logistic Regression Binary classifier: each drug or drug pair is represented by a combination of AEs and their weight (beta coefficient)\n",
    "# If a drug is above a certain threshold, we classify it as causing hypertension\n",
    "\n",
    "alphas_selected = [0.0001, 0.0002, 0.0003]\n",
    "threshold = 4\n",
    "\n",
    "for alpha in alphas_selected:\n",
    "    print alpha\n",
    "    \n",
    "    #Extraction of features\n",
    "    features_indice = list()\n",
    "    features_weight = list()\n",
    "    features = list()\n",
    "\n",
    "    for i in range (len(coef_lasso[2+alphas_selected.index(alpha)])):\n",
    "        if coef_lasso[2+alphas_selected.index(alpha)][i] != 0.:\n",
    "            features_indice.append(i)\n",
    "\n",
    "    for i in range (len(all_pairoutcomes)):\n",
    "        if i in features_indice:\n",
    "            features.append(all_pairoutcomes[i])\n",
    "            features_weight.append((all_pairoutcomes[i], coef_lasso[2+alphas_selected.index(alpha)][i]))\n",
    "    \n",
    "    print len(features)\n",
    "    \n",
    "    #Construction of the new testing frequency table\n",
    "    X_test_reduced = make_lsd_testing_table_reduced(features)\n",
    "    print X_test_reduced.shape\n",
    "    \n",
    "    #Fingerprint construction\n",
    "    scores = score(features_weight, X_test_reduced)\n",
    "    predictions = predict_ddi(scores, threshold)\n"
   ]
  },
  {
   "cell_type": "code",
   "execution_count": 134,
   "metadata": {
    "collapsed": true
   },
   "outputs": [],
   "source": [
    "# Random Forest Classifier after the L1 reduction of features\n",
    "\n",
    "def drugpair_predictions_reduced(X, y, X_test):\n",
    "    \n",
    "    # can't use oob after L1 regularization\n",
    "    rf = RandomForestClassifier(n_estimators = 100, oob_score=False, random_state=12)\n",
    "    rf.fit(X,y) #Build a forest of trees from the training set (X, y).\n",
    "    \n",
    "    predictions_proba = rf.predict_proba(X_test)[:,1]\n",
    "    predictions = rf.predict(X_test) #predict class for X_test\n",
    "    print \"Mean accuracy on the given test data and labels: \", rf.score(X,y)  \n",
    "    \n",
    "    y_pred_Faers = y_pred_FAERS(drug_mapping)\n",
    "    y_pred_VA = y_pred_va()\n",
    "    \n",
    "    predicted_ddi = sorted(zip(predictions_proba, all_drugpairs))\n",
    "    predicted_ddi.reverse()\n",
    "    i=0\n",
    "    while predicted_ddi[i][0]>0.5:\n",
    "        i+=1\n",
    "    predicted_ddi = predicted_ddi[:i]\n",
    "            \n",
    "    #(i.e with at least one drug known to have hypertension as a side effect)\n",
    "    print \"Number of positive predictions:\",np.sum(y_pred_Faers)\n",
    "    \n",
    "    print \"FAERS drugpairs ROC:\",roc_auc_score(y_true=y_pred_Faers,y_score=predictions_proba)\n",
    "    fprFA, tprFA, _ = roc_curve(y_true=y_pred_Faers,y_score=predictions_proba)\n",
    "    \n",
    "    print \"VA drugpairs ROC:\",roc_auc_score(y_true=y_pred_VA,y_score=predictions_proba)\n",
    "    fprVA, tprVA, _ = roc_curve(y_true=y_pred_VA,y_score=predictions_proba)\n",
    "\n",
    "    sns.set(style='ticks', font_scale=1.4)\n",
    "    \n",
    "    plt.figure(figsize=(6,6))\n",
    "    plt.plot(fprFA,tprFA,label='FAERS (area= %0.2f)' % auc(fprFA,tprFA))\n",
    "    plt.plot(fprVA,tprVA,label='VA (area= %0.2f)' % auc(fprVA,tprVA))\n",
    "    \n",
    "    plt.xlabel('False Positive Rate')\n",
    "    plt.ylabel('True Positive Rate')\n",
    "    \n",
    "    plt.legend(loc=\"lower right\")\n",
    "    \n",
    "    sns.despine()\n",
    "    \n",
    "    return predicted_ddi"
   ]
  },
  {
   "cell_type": "code",
   "execution_count": 135,
   "metadata": {},
   "outputs": [
    {
     "name": "stdout",
     "output_type": "stream",
     "text": [
      "Mean accuracy on the given test data and labels:  0.955714285714\n",
      "Number of positive predictions: 25994.0\n",
      "FAERS drugpairs ROC: 0.517615661003\n",
      "VA drugpairs ROC: 0.617419264494\n",
      "21738\n"
     ]
    },
    {
     "data": {
      "image/png": "[encoded data removed]",
      "text/plain": [
       "<matplotlib.figure.Figure at 0x7f9d7cae1090>"
      ]
     },
     "metadata": {},
     "output_type": "display_data"
    }
   ],
   "source": [
    "predicted_ddi = drugpair_predictions_reduced(X_reduced,y_reduced,X_test_reduced)\n",
    "print len(predicted_ddi)"
   ]
  },
  {
   "cell_type": "code",
   "execution_count": 136,
   "metadata": {
    "collapsed": true
   },
   "outputs": [],
   "source": [
    "def drugpair_predictions(X,y,X_test):  \n",
    "    \n",
    "    rf = RandomForestClassifier(n_estimators = 100, oob_score=True, random_state=12)\n",
    "    rf.fit(X,y) #Build a forest of trees from the training set (X, y).\n",
    "    \n",
    "    print \"Number of estimators: \", len(rf.estimators_)\n",
    "    \n",
    "    predictions_proba = rf.predict_proba(X_test)[:,1]\n",
    "    predictions = rf.predict(X_test) #predict class for X_test\n",
    "    print \"Mean accuracy on the given test data and labels: \", rf.score(X,y)   \n",
    "\n",
    "    oob_predictions = rf.oob_decision_function_[:,1]\n",
    "    oob_predictions[ np.where( np.isnan(oob_predictions) == True)[0]] = 0\n",
    "    \n",
    "    #roc_auc_score computes the area under the ROC curve\n",
    "    print \"OOB ROC:\",roc_auc_score(y_true=y, y_score=oob_predictions)\n",
    "    fprOOB, tprOOB, _ = roc_curve(y_true=y,y_score=oob_predictions)\n",
    "    \n",
    "    y_pred_Faers = y_pred_FAERS(drug_mapping)\n",
    "    y_pred_VA = y_pred_va()\n",
    "    \n",
    "    predicted_ddi = sorted(zip(predictions_proba, all_drugpairs))\n",
    "    predicted_ddi.reverse()\n",
    "    i=0\n",
    "    while predicted_ddi[i][0]>0.5:\n",
    "        i+=1\n",
    "    predicted_ddi = predicted_ddi[:i]\n",
    "            \n",
    "    #(i.e with at least one drug known to have hypertension as a side effect)\n",
    "    print \"Number of positive predictions FAERS:\",np.sum(y_pred_Faers)\n",
    "    print \"Number of ddi predictions (with a probability > 0,5): \", len(predicted_ddi)\n",
    "    \n",
    "    print \"FAERS drugpairs ROC:\",roc_auc_score(y_true=y_pred_Faers,y_score=predictions_proba)\n",
    "    fprFA, tprFA, _ = roc_curve(y_true=y_pred_Faers,y_score=predictions_proba)\n",
    "    \n",
    "    print \"VA drugpairs ROC:\",roc_auc_score(y_true=y_pred_VA,y_score=predictions_proba)\n",
    "    fprVA, tprVA, _ = roc_curve(y_true=y_pred_VA,y_score=predictions_proba)\n",
    "    \n",
    "    sns.set(style='ticks', font_scale=1.4)\n",
    "    \n",
    "    plt.figure(figsize=(6,6))\n",
    "    plt.plot(fprOOB,tprOOB,label='OOB (area= %0.2f)' % auc(fprOOB,tprOOB))\n",
    "    plt.plot(fprFA,tprFA,label='FAERS (area= %0.2f)' % auc(fprFA,tprFA))\n",
    "    plt.plot(fprVA,tprVA,label='VA (area= %0.2f)' % auc(fprVA,tprVA))\n",
    "    \n",
    "    plt.xlabel('False Positive Rate')\n",
    "    plt.ylabel('True Positive Rate')\n",
    "    \n",
    "    plt.legend(loc=\"lower right\")\n",
    "    \n",
    "    sns.despine()\n",
    "    \n",
    "    return predicted_ddi"
   ]
  },
  {
   "cell_type": "code",
   "execution_count": 137,
   "metadata": {},
   "outputs": [
    {
     "name": "stdout",
     "output_type": "stream",
     "text": [
      "Number of estimators:  100\n",
      "Mean accuracy on the given test data and labels:  0.962857142857\n",
      "OOB ROC: 0.822457142857\n",
      "Number of positive predictions FAERS: 25994.0\n",
      "Number of ddi predictions (with a probability > 0,5):  9532\n",
      "FAERS drugpairs ROC: 0.51984557976\n",
      "VA drugpairs ROC: 0.607293663959\n"
     ]
    },
    {
     "data": {
      "image/png": "[encoded data removed]",
      "text/plain": [
       "<matplotlib.figure.Figure at 0x7f9dcc0a67d0>"
      ]
     },
     "metadata": {},
     "output_type": "display_data"
    }
   ],
   "source": [
    "pred_ddi = drugpair_predictions(X,y,X_test)"
   ]
  },
  {
   "cell_type": "markdown",
   "metadata": {},
   "source": [
    "## DDI predictions"
   ]
  },
  {
   "cell_type": "code",
   "execution_count": 152,
   "metadata": {},
   "outputs": [
    {
     "name": "stdout",
     "output_type": "stream",
     "text": [
      "21738\n",
      "3641\n"
     ]
    }
   ],
   "source": [
    "#Treatment of the predictions\n",
    "final_predictions = list()\n",
    "\n",
    "pos_drugs_mapped = list()\n",
    "for pos_drug in pos_controls:\n",
    "    if pos_drug not in drug_mapping:\n",
    "        continue\n",
    "        \n",
    "    pos_drugs_mapped.append(drug_mapping[pos_drug])\n",
    "\n",
    "# Removing the pairs where at least one of the drugs is known to be responsible for hypertension alone\n",
    "for prob, drugpair in predicted_ddi:\n",
    "    if (drugpair[0] not in pos_drugs_mapped):\n",
    "        if (drugpair[1] not in pos_drugs_mapped):\n",
    "            # All drugpairs are twice in the list ((a,b) and (b,a)), we only keep one\n",
    "            if drugpair[0] > drugpair[1]:\n",
    "                final_predictions.append(drugpair)\n",
    "\n",
    "print len(predicted_ddi)\n",
    "print len(final_predictions)                \n",
    "top_ddi = final_predictions[:100]\n",
    "#print top_ddi"
   ]
  },
  {
   "cell_type": "code",
   "execution_count": 139,
   "metadata": {},
   "outputs": [
    {
     "name": "stdout",
     "output_type": "stream",
     "text": [
      "(1557272, 1347384)\n",
      "(1353766, 904453)\n",
      "Alendronate irbesartan\n",
      "Propranolol Esomeprazole\n"
     ]
    }
   ],
   "source": [
    "# Pull the top prediction\n",
    "pair = top_ddi[0]\n",
    "pair2 = top_ddi[1]\n",
    "print pair\n",
    "print pair2\n",
    "print concept2name[pair[0]], concept2name[pair[1]]\n",
    "print concept2name[pair2[0]], concept2name[pair2[1]]"
   ]
  },
  {
   "cell_type": "markdown",
   "metadata": {},
   "source": [
    "## Corroborate drugpair predictions using OHDSI data\n",
    "Analysis of the top predicted DDIs.\n",
    "Method: Creation of cohorts of patients using the OHDSI API.\n",
    "Criteria: Patients exposed to either drug of a predicted drugpair alone and patients exposed to both within a 30 days interval.\n",
    "All patients must have had their blood pressure measured within 30 days of their last drug intake. "
   ]
  },
  {
   "cell_type": "code",
   "execution_count": 186,
   "metadata": {},
   "outputs": [],
   "source": [
    "map_id_name, map_name_id = ohdsi.mapping()"
   ]
  },
  {
   "cell_type": "code",
   "execution_count": 187,
   "metadata": {},
   "outputs": [
    {
     "name": "stderr",
     "output_type": "stream",
     "text": [
      "\r",
      "  0%|          | 0/100 [00:00<?, ?it/s]"
     ]
    },
    {
     "name": "stdout",
     "output_type": "stream",
     "text": [
      "A cohort with the same name already exists, please choose another name\n"
     ]
    },
    {
     "name": "stderr",
     "output_type": "stream",
     "text": [
      "\r",
      "  1%|          | 1/100 [00:02<04:47,  2.91s/it]"
     ]
    },
    {
     "name": "stdout",
     "output_type": "stream",
     "text": [
      "38\n",
      "Enough patients for cohort Alendronate_irbesartan\n",
      "A cohort with the same name already exists, please choose another name\n"
     ]
    },
    {
     "name": "stderr",
     "output_type": "stream",
     "text": [
      "\r",
      "  2%|▏         | 2/100 [00:06<05:08,  3.15s/it]"
     ]
    },
    {
     "name": "stdout",
     "output_type": "stream",
     "text": [
      "161\n",
      "Enough patients for cohort Propranolol_Esomeprazole\n",
      "A cohort with the same name already exists, please choose another name\n"
     ]
    },
    {
     "name": "stderr",
     "output_type": "stream",
     "text": [
      "\r",
      "  3%|▎         | 3/100 [00:10<05:26,  3.37s/it]"
     ]
    },
    {
     "name": "stdout",
     "output_type": "stream",
     "text": [
      "11\n",
      "Not enough patients for cohort Calcium Carbonate_Loratadine\n",
      "Cohort was deleted with exit status 204 \n",
      "A cohort with the same name already exists, please choose another name\n"
     ]
    },
    {
     "name": "stderr",
     "output_type": "stream",
     "text": [
      "\r",
      "  4%|▍         | 4/100 [00:13<05:08,  3.21s/it]"
     ]
    },
    {
     "name": "stdout",
     "output_type": "stream",
     "text": [
      "1\n",
      "Not enough patients for cohort Vitamin D_ezetimibe\n",
      "Cohort was deleted with exit status 204 \n",
      "A cohort with the same name already exists, please choose another name\n"
     ]
    },
    {
     "name": "stderr",
     "output_type": "stream",
     "text": [
      "\r",
      "  5%|▌         | 5/100 [00:16<04:59,  3.15s/it]"
     ]
    },
    {
     "name": "stdout",
     "output_type": "stream",
     "text": [
      "8\n",
      "Not enough patients for cohort Loratadine_duloxetine\n",
      "Cohort was deleted with exit status 204 \n",
      "A cohort with the same name already exists, please choose another name\n"
     ]
    },
    {
     "name": "stderr",
     "output_type": "stream",
     "text": [
      "\r",
      "  6%|▌         | 6/100 [00:19<04:58,  3.18s/it]"
     ]
    },
    {
     "name": "stdout",
     "output_type": "stream",
     "text": [
      "50\n",
      "Enough patients for cohort Glyburide_montelukast\n",
      "A cohort with the same name already exists, please choose another name\n"
     ]
    },
    {
     "name": "stderr",
     "output_type": "stream",
     "text": [
      "\r",
      "  7%|▋         | 7/100 [00:22<04:52,  3.14s/it]"
     ]
    },
    {
     "name": "stdout",
     "output_type": "stream",
     "text": [
      "27\n",
      "Not enough patients for cohort Bisoprolol_Clonazepam\n",
      "Cohort was deleted with exit status 204 \n",
      "A cohort with the same name already exists, please choose another name\n"
     ]
    },
    {
     "name": "stderr",
     "output_type": "stream",
     "text": [
      "\r",
      "  8%|▊         | 8/100 [00:25<04:51,  3.17s/it]"
     ]
    },
    {
     "name": "stdout",
     "output_type": "stream",
     "text": [
      "284\n",
      "Enough patients for cohort Amoxicillin_Nifedipine\n",
      "A cohort with the same name already exists, please choose another name\n"
     ]
    },
    {
     "name": "stderr",
     "output_type": "stream",
     "text": [
      "\r",
      "  9%|▉         | 9/100 [00:29<04:57,  3.27s/it]"
     ]
    },
    {
     "name": "stdout",
     "output_type": "stream",
     "text": [
      "130\n",
      "Enough patients for cohort Glyburide_Clonazepam\n",
      "A cohort with the same name already exists, please choose another name\n"
     ]
    },
    {
     "name": "stderr",
     "output_type": "stream",
     "text": [
      "\r",
      " 10%|█         | 10/100 [00:33<05:14,  3.49s/it]"
     ]
    },
    {
     "name": "stdout",
     "output_type": "stream",
     "text": [
      "46\n",
      "Enough patients for cohort Alendronate_Ramipril\n",
      "A cohort with the same name already exists, please choose another name\n"
     ]
    },
    {
     "name": "stderr",
     "output_type": "stream",
     "text": [
      "\r",
      " 11%|█         | 11/100 [00:36<04:57,  3.35s/it]"
     ]
    },
    {
     "name": "stdout",
     "output_type": "stream",
     "text": [
      "1\n",
      "Not enough patients for cohort onabotulinumtoxinA_Alprazolam\n",
      "Cohort was deleted with exit status 204 \n",
      "A cohort with the same name already exists, please choose another name\n"
     ]
    },
    {
     "name": "stderr",
     "output_type": "stream",
     "text": [
      "\r",
      " 12%|█▏        | 12/100 [00:39<04:59,  3.41s/it]"
     ]
    },
    {
     "name": "stdout",
     "output_type": "stream",
     "text": [
      "0\n",
      "Not enough patients for cohort Multivitamin preparation_erlotinib\n",
      "Cohort was deleted with exit status 204 \n",
      "A cohort with the same name already exists, please choose another name\n"
     ]
    },
    {
     "name": "stderr",
     "output_type": "stream",
     "text": [
      "\r",
      " 13%|█▎        | 13/100 [00:44<05:19,  3.67s/it]"
     ]
    },
    {
     "name": "stdout",
     "output_type": "stream",
     "text": [
      "0\n",
      "Not enough patients for cohort Multivitamin preparation_Isotretinoin\n",
      "Cohort was deleted with exit status 204 \n",
      "A cohort with the same name already exists, please choose another name\n"
     ]
    },
    {
     "name": "stderr",
     "output_type": "stream",
     "text": [
      "\r",
      " 14%|█▍        | 14/100 [00:46<04:48,  3.36s/it]"
     ]
    },
    {
     "name": "stdout",
     "output_type": "stream",
     "text": [
      "2\n",
      "Not enough patients for cohort Ascorbic Acid_Alendronate\n",
      "Cohort was deleted with exit status 204 \n",
      "A cohort with the same name already exists, please choose another name\n"
     ]
    },
    {
     "name": "stderr",
     "output_type": "stream",
     "text": [
      "\r",
      " 15%|█▌        | 15/100 [00:50<04:56,  3.48s/it]"
     ]
    },
    {
     "name": "stdout",
     "output_type": "stream",
     "text": [
      "14\n",
      "Not enough patients for cohort Fluconazole_mesalamine\n",
      "Cohort was deleted with exit status 204 \n",
      "A cohort with the same name already exists, please choose another name\n"
     ]
    },
    {
     "name": "stderr",
     "output_type": "stream",
     "text": [
      "\r",
      " 16%|█▌        | 16/100 [00:54<04:49,  3.45s/it]"
     ]
    },
    {
     "name": "stdout",
     "output_type": "stream",
     "text": [
      "0\n",
      "Not enough patients for cohort peginterferon alfa-2a_Furosemide\n",
      "Cohort was deleted with exit status 204 \n",
      "A cohort with the same name already exists, please choose another name\n"
     ]
    },
    {
     "name": "stderr",
     "output_type": "stream",
     "text": [
      "\r",
      " 17%|█▋        | 17/100 [00:57<04:41,  3.39s/it]"
     ]
    },
    {
     "name": "stdout",
     "output_type": "stream",
     "text": [
      "31\n",
      "Enough patients for cohort Alendronate_Estrogens, Conjugated (USP)\n",
      "A cohort with the same name already exists, please choose another name\n"
     ]
    },
    {
     "name": "stderr",
     "output_type": "stream",
     "text": [
      "\r",
      " 18%|█▊        | 18/100 [01:00<04:40,  3.42s/it]"
     ]
    },
    {
     "name": "stdout",
     "output_type": "stream",
     "text": [
      "119\n",
      "Enough patients for cohort Alendronate_Enalapril\n",
      "A cohort with the same name already exists, please choose another name\n"
     ]
    },
    {
     "name": "stderr",
     "output_type": "stream",
     "text": [
      "\r",
      " 19%|█▉        | 19/100 [01:04<04:40,  3.47s/it]"
     ]
    },
    {
     "name": "stdout",
     "output_type": "stream",
     "text": [
      "232\n",
      "Enough patients for cohort Fenofibrate_Verapamil\n",
      "A cohort with the same name already exists, please choose another name\n"
     ]
    },
    {
     "name": "stderr",
     "output_type": "stream",
     "text": [
      "\r",
      " 20%|██        | 20/100 [01:08<04:54,  3.68s/it]"
     ]
    },
    {
     "name": "stdout",
     "output_type": "stream",
     "text": [
      "2\n",
      "Not enough patients for cohort Insulin Lispro_Estrogens, Conjugated (USP)\n",
      "Cohort was deleted with exit status 204 \n",
      "A cohort with the same name already exists, please choose another name\n"
     ]
    },
    {
     "name": "stderr",
     "output_type": "stream",
     "text": [
      "\r",
      " 21%|██        | 21/100 [01:11<04:28,  3.41s/it]"
     ]
    },
    {
     "name": "stdout",
     "output_type": "stream",
     "text": [
      "2\n",
      "Not enough patients for cohort Estrogens, Conjugated (USP)_tiotropium\n",
      "Cohort was deleted with exit status 204 \n",
      "A cohort with the same name already exists, please choose another name\n"
     ]
    },
    {
     "name": "stderr",
     "output_type": "stream",
     "text": [
      "\r",
      " 22%|██▏       | 22/100 [01:15<04:33,  3.51s/it]"
     ]
    },
    {
     "name": "stdout",
     "output_type": "stream",
     "text": [
      "61\n",
      "Enough patients for cohort ezetimibe_Nitroglycerin\n",
      "A cohort with the same name already exists, please choose another name\n"
     ]
    },
    {
     "name": "stderr",
     "output_type": "stream",
     "text": [
      "\r",
      " 23%|██▎       | 23/100 [01:18<04:23,  3.42s/it]"
     ]
    },
    {
     "name": "stdout",
     "output_type": "stream",
     "text": [
      "30\n",
      "Enough patients for cohort levothyroxine_bevacizumab\n",
      "A cohort with the same name already exists, please choose another name\n"
     ]
    },
    {
     "name": "stderr",
     "output_type": "stream",
     "text": [
      "\r",
      " 24%|██▍       | 24/100 [01:21<04:22,  3.46s/it]"
     ]
    },
    {
     "name": "stdout",
     "output_type": "stream",
     "text": [
      "32\n",
      "Enough patients for cohort levothyroxine_Paclitaxel\n",
      "A cohort with the same name already exists, please choose another name\n"
     ]
    },
    {
     "name": "stderr",
     "output_type": "stream",
     "text": [
      "\r",
      " 25%|██▌       | 25/100 [01:25<04:18,  3.45s/it]"
     ]
    },
    {
     "name": "stdout",
     "output_type": "stream",
     "text": [
      "42\n",
      "Enough patients for cohort candesartan_Diazepam\n",
      "A cohort with the same name already exists, please choose another name\n"
     ]
    },
    {
     "name": "stderr",
     "output_type": "stream",
     "text": [
      "\r",
      " 26%|██▌       | 26/100 [01:28<04:15,  3.45s/it]"
     ]
    },
    {
     "name": "stdout",
     "output_type": "stream",
     "text": [
      "39\n",
      "Enough patients for cohort Nifedipine_Methotrexate\n",
      "A cohort with the same name already exists, please choose another name\n"
     ]
    },
    {
     "name": "stderr",
     "output_type": "stream",
     "text": [
      "\r",
      " 27%|██▋       | 27/100 [01:32<04:13,  3.47s/it]"
     ]
    },
    {
     "name": "stdout",
     "output_type": "stream",
     "text": [
      "50\n",
      "Enough patients for cohort Nifedipine_duloxetine\n",
      "A cohort with the same name already exists, please choose another name\n"
     ]
    },
    {
     "name": "stderr",
     "output_type": "stream",
     "text": [
      "\r",
      " 28%|██▊       | 28/100 [01:35<04:12,  3.51s/it]"
     ]
    },
    {
     "name": "stdout",
     "output_type": "stream",
     "text": [
      "206\n",
      "Enough patients for cohort Verapamil_Oxycodone\n",
      "A cohort with the same name already exists, please choose another name\n"
     ]
    },
    {
     "name": "stderr",
     "output_type": "stream",
     "text": [
      "\r",
      " 29%|██▉       | 29/100 [01:39<04:09,  3.51s/it]"
     ]
    },
    {
     "name": "stdout",
     "output_type": "stream",
     "text": [
      "1\n",
      "Not enough patients for cohort onabotulinumtoxinA_Aspirin\n",
      "Cohort was deleted with exit status 204 \n",
      "A cohort with the same name already exists, please choose another name\n"
     ]
    },
    {
     "name": "stderr",
     "output_type": "stream",
     "text": [
      "\r",
      " 30%|███       | 30/100 [01:42<04:03,  3.48s/it]"
     ]
    },
    {
     "name": "stdout",
     "output_type": "stream",
     "text": [
      "0\n",
      "Not enough patients for cohort Calcium Carbonate_Interferon beta-1a\n",
      "Cohort was deleted with exit status 204 \n",
      "A cohort with the same name already exists, please choose another name\n"
     ]
    },
    {
     "name": "stderr",
     "output_type": "stream",
     "text": [
      "\r",
      " 31%|███       | 31/100 [01:46<04:00,  3.49s/it]"
     ]
    },
    {
     "name": "stdout",
     "output_type": "stream",
     "text": [
      "1\n",
      "Not enough patients for cohort peginterferon alfa-2b_Clonazepam\n",
      "Cohort was deleted with exit status 204 \n",
      "A cohort with the same name already exists, please choose another name\n"
     ]
    },
    {
     "name": "stderr",
     "output_type": "stream",
     "text": [
      "\r",
      " 32%|███▏      | 32/100 [01:50<04:12,  3.72s/it]"
     ]
    },
    {
     "name": "stdout",
     "output_type": "stream",
     "text": [
      "8\n",
      "Not enough patients for cohort Estrogens, Conjugated (USP)_Methadone\n",
      "Cohort was deleted with exit status 204 \n",
      "A cohort with the same name already exists, please choose another name\n"
     ]
    },
    {
     "name": "stderr",
     "output_type": "stream",
     "text": [
      "\r",
      " 33%|███▎      | 33/100 [01:53<03:53,  3.49s/it]"
     ]
    },
    {
     "name": "stdout",
     "output_type": "stream",
     "text": [
      "213\n",
      "Enough patients for cohort Estradiol_Enalapril\n",
      "A cohort with the same name already exists, please choose another name\n"
     ]
    },
    {
     "name": "stderr",
     "output_type": "stream",
     "text": [
      "\r",
      " 34%|███▍      | 34/100 [01:57<03:54,  3.55s/it]"
     ]
    },
    {
     "name": "stdout",
     "output_type": "stream",
     "text": [
      "3\n",
      "Not enough patients for cohort Leuprolide_Alprazolam\n",
      "Cohort was deleted with exit status 204 \n",
      "A cohort with the same name already exists, please choose another name\n"
     ]
    },
    {
     "name": "stderr",
     "output_type": "stream",
     "text": [
      "\r",
      " 35%|███▌      | 35/100 [02:00<03:41,  3.40s/it]"
     ]
    },
    {
     "name": "stdout",
     "output_type": "stream",
     "text": [
      "0\n",
      "Not enough patients for cohort irbesartan_Interferon beta-1a\n",
      "Cohort was deleted with exit status 204 \n",
      "A cohort with the same name already exists, please choose another name\n"
     ]
    },
    {
     "name": "stderr",
     "output_type": "stream",
     "text": [
      "\r",
      " 36%|███▌      | 36/100 [02:03<03:38,  3.41s/it]"
     ]
    },
    {
     "name": "stdout",
     "output_type": "stream",
     "text": [
      "77\n",
      "Enough patients for cohort Bisoprolol_Ranitidine\n",
      "A cohort with the same name already exists, please choose another name\n"
     ]
    },
    {
     "name": "stderr",
     "output_type": "stream",
     "text": [
      "\r",
      " 37%|███▋      | 37/100 [02:07<03:47,  3.62s/it]"
     ]
    },
    {
     "name": "stdout",
     "output_type": "stream",
     "text": [
      "4\n",
      "Not enough patients for cohort sildenafil_Valproate\n",
      "Cohort was deleted with exit status 204 \n",
      "A cohort with the same name already exists, please choose another name\n"
     ]
    },
    {
     "name": "stderr",
     "output_type": "stream",
     "text": [
      "\r",
      " 38%|███▊      | 38/100 [02:10<03:32,  3.43s/it]"
     ]
    },
    {
     "name": "stdout",
     "output_type": "stream",
     "text": [
      "0\n",
      "Not enough patients for cohort Isotretinoin_Escitalopram\n",
      "Cohort was deleted with exit status 204 \n",
      "A cohort with the same name already exists, please choose another name\n"
     ]
    },
    {
     "name": "stderr",
     "output_type": "stream",
     "text": [
      "\r",
      " 39%|███▉      | 39/100 [02:14<03:34,  3.52s/it]"
     ]
    },
    {
     "name": "stdout",
     "output_type": "stream",
     "text": [
      "3\n",
      "Not enough patients for cohort Furosemide_natalizumab\n",
      "Cohort was deleted with exit status 204 \n",
      "A cohort with the same name already exists, please choose another name\n"
     ]
    },
    {
     "name": "stderr",
     "output_type": "stream",
     "text": [
      "\r",
      " 40%|████      | 40/100 [02:18<03:33,  3.56s/it]"
     ]
    },
    {
     "name": "stdout",
     "output_type": "stream",
     "text": [
      "5\n",
      "Not enough patients for cohort Sodium Oxybate_Valproate\n",
      "Cohort was deleted with exit status 204 \n",
      "A cohort with the same name already exists, please choose another name\n"
     ]
    },
    {
     "name": "stderr",
     "output_type": "stream",
     "text": [
      "\r",
      " 41%|████      | 41/100 [02:24<04:22,  4.45s/it]"
     ]
    },
    {
     "name": "stdout",
     "output_type": "stream",
     "text": [
      "0\n",
      "Not enough patients for cohort Calcium_Levetiracetam\n",
      "Cohort was deleted with exit status 204 \n",
      "A cohort with the same name already exists, please choose another name\n"
     ]
    },
    {
     "name": "stderr",
     "output_type": "stream",
     "text": [
      "\r",
      " 42%|████▏     | 42/100 [02:27<03:51,  3.99s/it]"
     ]
    },
    {
     "name": "stdout",
     "output_type": "stream",
     "text": [
      "232\n",
      "Enough patients for cohort Glyburide_Spironolactone\n",
      "A cohort with the same name already exists, please choose another name\n"
     ]
    },
    {
     "name": "stderr",
     "output_type": "stream",
     "text": [
      "\r",
      " 43%|████▎     | 43/100 [02:30<03:29,  3.67s/it]"
     ]
    },
    {
     "name": "stdout",
     "output_type": "stream",
     "text": [
      "141\n",
      "Enough patients for cohort Glyburide_Esomeprazole\n",
      "A cohort with the same name already exists, please choose another name\n"
     ]
    },
    {
     "name": "stderr",
     "output_type": "stream",
     "text": [
      "\r",
      " 44%|████▍     | 44/100 [02:33<03:13,  3.45s/it]"
     ]
    },
    {
     "name": "stdout",
     "output_type": "stream",
     "text": [
      "159\n",
      "Enough patients for cohort Glyburide_Alprazolam\n",
      "A cohort with the same name already exists, please choose another name\n"
     ]
    },
    {
     "name": "stderr",
     "output_type": "stream",
     "text": [
      "\r",
      " 45%|████▌     | 45/100 [02:36<03:05,  3.37s/it]"
     ]
    },
    {
     "name": "stdout",
     "output_type": "stream",
     "text": [
      "45\n",
      "Enough patients for cohort Glyburide_duloxetine\n",
      "A cohort with the same name already exists, please choose another name\n"
     ]
    },
    {
     "name": "stderr",
     "output_type": "stream",
     "text": [
      "\r",
      " 46%|████▌     | 46/100 [02:40<03:15,  3.62s/it]"
     ]
    },
    {
     "name": "stdout",
     "output_type": "stream",
     "text": [
      "71\n",
      "Enough patients for cohort Fenofibrate_Clonazepam\n",
      "A cohort with the same name already exists, please choose another name\n"
     ]
    },
    {
     "name": "stderr",
     "output_type": "stream",
     "text": [
      "\r",
      " 47%|████▋     | 47/100 [02:44<03:19,  3.77s/it]"
     ]
    },
    {
     "name": "stdout",
     "output_type": "stream",
     "text": [
      "119\n",
      "Enough patients for cohort Estrogens, Conjugated (USP)_Diltiazem\n",
      "A cohort with the same name already exists, please choose another name\n"
     ]
    },
    {
     "name": "stderr",
     "output_type": "stream",
     "text": [
      "\r",
      " 48%|████▊     | 48/100 [02:47<02:57,  3.42s/it]"
     ]
    },
    {
     "name": "stdout",
     "output_type": "stream",
     "text": [
      "50\n",
      "Enough patients for cohort Clonidine_Losartan\n",
      "A cohort with the same name already exists, please choose another name\n"
     ]
    },
    {
     "name": "stderr",
     "output_type": "stream",
     "text": [
      "\r",
      " 49%|████▉     | 49/100 [02:50<02:50,  3.35s/it]"
     ]
    },
    {
     "name": "stdout",
     "output_type": "stream",
     "text": [
      "60\n",
      "Enough patients for cohort bevacizumab_Paclitaxel\n",
      "A cohort with the same name already exists, please choose another name\n"
     ]
    },
    {
     "name": "stderr",
     "output_type": "stream",
     "text": [
      "\r",
      " 50%|█████     | 50/100 [02:54<02:53,  3.47s/it]"
     ]
    },
    {
     "name": "stdout",
     "output_type": "stream",
     "text": [
      "0\n",
      "Not enough patients for cohort erlotinib_Oxycodone\n",
      "Cohort was deleted with exit status 204 \n",
      "A cohort with the same name already exists, please choose another name\n"
     ]
    },
    {
     "name": "stderr",
     "output_type": "stream",
     "text": [
      "\r",
      " 51%|█████     | 51/100 [02:57<02:45,  3.38s/it]"
     ]
    },
    {
     "name": "stdout",
     "output_type": "stream",
     "text": [
      "0\n",
      "Not enough patients for cohort Nifedipine_Amiodarone\n",
      "Cohort was deleted with exit status 204 \n",
      "A cohort with the same name already exists, please choose another name\n"
     ]
    },
    {
     "name": "stderr",
     "output_type": "stream",
     "text": [
      "\r",
      " 52%|█████▏    | 52/100 [03:01<02:44,  3.43s/it]"
     ]
    },
    {
     "name": "stdout",
     "output_type": "stream",
     "text": [
      "0\n",
      "Not enough patients for cohort Methotrexate_mesalamine\n",
      "Cohort was deleted with exit status 204 \n",
      "A cohort with the same name already exists, please choose another name\n"
     ]
    },
    {
     "name": "stderr",
     "output_type": "stream",
     "text": [
      "\r",
      " 53%|█████▎    | 53/100 [03:05<02:47,  3.57s/it]"
     ]
    },
    {
     "name": "stdout",
     "output_type": "stream",
     "text": [
      "0\n",
      "Not enough patients for cohort tiotropium_Ranitidine\n",
      "Cohort was deleted with exit status 204 \n",
      "A cohort with the same name already exists, please choose another name\n"
     ]
    },
    {
     "name": "stderr",
     "output_type": "stream",
     "text": [
      "\r",
      " 54%|█████▍    | 54/100 [03:08<02:36,  3.40s/it]"
     ]
    },
    {
     "name": "stdout",
     "output_type": "stream",
     "text": [
      "0\n",
      "Not enough patients for cohort tamsulosin_duloxetine\n",
      "Cohort was deleted with exit status 204 \n",
      "A cohort with the same name already exists, please choose another name\n"
     ]
    },
    {
     "name": "stderr",
     "output_type": "stream",
     "text": [
      "\r",
      " 55%|█████▌    | 55/100 [03:12<02:47,  3.72s/it]"
     ]
    },
    {
     "name": "stdout",
     "output_type": "stream",
     "text": [
      "0\n",
      "Not enough patients for cohort dabigatran etexilate_olmesartan\n",
      "Cohort was deleted with exit status 204 \n",
      "A cohort with the same name already exists, please choose another name\n"
     ]
    },
    {
     "name": "stderr",
     "output_type": "stream",
     "text": [
      "\r",
      " 56%|█████▌    | 56/100 [03:15<02:38,  3.61s/it]"
     ]
    },
    {
     "name": "stdout",
     "output_type": "stream",
     "text": [
      "0\n",
      "Not enough patients for cohort dabigatran etexilate_candesartan\n",
      "Cohort was deleted with exit status 204 \n",
      "A cohort with the same name already exists, please choose another name\n"
     ]
    },
    {
     "name": "stderr",
     "output_type": "stream",
     "text": [
      "\r",
      " 57%|█████▋    | 57/100 [03:19<02:34,  3.60s/it]"
     ]
    },
    {
     "name": "stdout",
     "output_type": "stream",
     "text": [
      "0\n",
      "Not enough patients for cohort dabigatran etexilate_Bisoprolol\n",
      "Cohort was deleted with exit status 204 \n",
      "A cohort with the same name already exists, please choose another name\n"
     ]
    },
    {
     "name": "stderr",
     "output_type": "stream",
     "text": [
      "\r",
      " 58%|█████▊    | 58/100 [03:22<02:27,  3.52s/it]"
     ]
    },
    {
     "name": "stdout",
     "output_type": "stream",
     "text": [
      "0\n",
      "Not enough patients for cohort Calcium Chloride / Glucose / Lactate / Magnesium Chloride / Sodium Chloride Intraperitoneal Solution_Potassium Chloride\n",
      "Cohort was deleted with exit status 204 \n",
      "A cohort with the same name already exists, please choose another name\n"
     ]
    },
    {
     "name": "stderr",
     "output_type": "stream",
     "text": [
      "\r",
      " 59%|█████▉    | 59/100 [03:26<02:30,  3.66s/it]"
     ]
    },
    {
     "name": "stdout",
     "output_type": "stream",
     "text": [
      "0\n",
      "Not enough patients for cohort Calcium Chloride / Glucose / Lactate / Magnesium Chloride / Sodium Chloride Intraperitoneal Solution_atorvastatin\n",
      "Cohort was deleted with exit status 204 \n",
      "A cohort with the same name already exists, please choose another name\n"
     ]
    },
    {
     "name": "stderr",
     "output_type": "stream",
     "text": [
      "\r",
      " 60%|██████    | 60/100 [03:30<02:28,  3.71s/it]"
     ]
    },
    {
     "name": "stdout",
     "output_type": "stream",
     "text": [
      "0\n",
      "Not enough patients for cohort Calcium Chloride / Glucose / Lactate / Magnesium Chloride / Sodium Chloride Intraperitoneal Solution_carvedilol\n",
      "Cohort was deleted with exit status 204 \n",
      "A cohort with the same name already exists, please choose another name\n"
     ]
    },
    {
     "name": "stderr",
     "output_type": "stream",
     "text": [
      "\r",
      " 61%|██████    | 61/100 [03:33<02:17,  3.53s/it]"
     ]
    },
    {
     "name": "stdout",
     "output_type": "stream",
     "text": [
      "0\n",
      "Not enough patients for cohort Insulin_Etanercept\n",
      "Cohort was deleted with exit status 204 \n",
      "A cohort with the same name already exists, please choose another name\n"
     ]
    },
    {
     "name": "stderr",
     "output_type": "stream",
     "text": [
      "\r",
      " 62%|██████▏   | 62/100 [03:38<02:27,  3.87s/it]"
     ]
    },
    {
     "name": "stdout",
     "output_type": "stream",
     "text": [
      "0\n",
      "Not enough patients for cohort Calcium Carbonate_Niacin\n",
      "Cohort was deleted with exit status 204 \n",
      "A cohort with the same name already exists, please choose another name\n"
     ]
    },
    {
     "name": "stderr",
     "output_type": "stream",
     "text": [
      "\r",
      " 63%|██████▎   | 63/100 [03:41<02:16,  3.70s/it]"
     ]
    },
    {
     "name": "stdout",
     "output_type": "stream",
     "text": [
      "0\n",
      "Not enough patients for cohort Calcium Carbonate_Enalapril\n",
      "Cohort was deleted with exit status 204 \n",
      "A cohort with the same name already exists, please choose another name\n"
     ]
    },
    {
     "name": "stderr",
     "output_type": "stream",
     "text": [
      "\r",
      " 64%|██████▍   | 64/100 [03:45<02:19,  3.86s/it]"
     ]
    },
    {
     "name": "stdout",
     "output_type": "stream",
     "text": [
      "0\n",
      "Not enough patients for cohort Calcium_mycophenolate mofetil\n",
      "Cohort was deleted with exit status 204 \n",
      "A cohort with the same name already exists, please choose another name\n"
     ]
    },
    {
     "name": "stderr",
     "output_type": "stream",
     "text": [
      "\r",
      " 65%|██████▌   | 65/100 [03:48<02:05,  3.60s/it]"
     ]
    },
    {
     "name": "stdout",
     "output_type": "stream",
     "text": [
      "0\n",
      "Not enough patients for cohort Cyclosporine_Ranitidine\n",
      "Cohort was deleted with exit status 204 \n",
      "A cohort with the same name already exists, please choose another name\n"
     ]
    },
    {
     "name": "stderr",
     "output_type": "stream",
     "text": [
      "\r",
      " 66%|██████▌   | 66/100 [03:52<02:00,  3.55s/it]"
     ]
    },
    {
     "name": "stdout",
     "output_type": "stream",
     "text": [
      "0\n",
      "Not enough patients for cohort mycophenolate mofetil_Famotidine\n",
      "Cohort was deleted with exit status 204 \n",
      "A cohort with the same name already exists, please choose another name\n"
     ]
    },
    {
     "name": "stderr",
     "output_type": "stream",
     "text": [
      "\r",
      " 67%|██████▋   | 67/100 [03:55<01:57,  3.55s/it]"
     ]
    },
    {
     "name": "stdout",
     "output_type": "stream",
     "text": [
      "0\n",
      "Not enough patients for cohort Sulfamethoxazole_Alprazolam\n",
      "Cohort was deleted with exit status 204 \n",
      "A cohort with the same name already exists, please choose another name\n"
     ]
    },
    {
     "name": "stderr",
     "output_type": "stream",
     "text": [
      "\r",
      " 68%|██████▊   | 68/100 [03:59<01:52,  3.51s/it]"
     ]
    },
    {
     "name": "stdout",
     "output_type": "stream",
     "text": [
      "0\n",
      "Not enough patients for cohort Alendronate_Amiodarone\n",
      "Cohort was deleted with exit status 204 \n",
      "A cohort with the same name already exists, please choose another name\n"
     ]
    },
    {
     "name": "stderr",
     "output_type": "stream",
     "text": [
      "\r",
      " 69%|██████▉   | 69/100 [04:03<01:53,  3.65s/it]"
     ]
    },
    {
     "name": "stdout",
     "output_type": "stream",
     "text": [
      "0\n",
      "Not enough patients for cohort Insulin Lispro_tiotropium\n",
      "Cohort was deleted with exit status 204 \n",
      "A cohort with the same name already exists, please choose another name\n"
     ]
    },
    {
     "name": "stderr",
     "output_type": "stream",
     "text": [
      "\r",
      " 70%|███████   | 70/100 [04:06<01:48,  3.62s/it]"
     ]
    },
    {
     "name": "stdout",
     "output_type": "stream",
     "text": [
      "0\n",
      "Not enough patients for cohort Insulin Lispro_Ranitidine\n",
      "Cohort was deleted with exit status 204 \n",
      "A cohort with the same name already exists, please choose another name\n"
     ]
    },
    {
     "name": "stderr",
     "output_type": "stream",
     "text": [
      "\r",
      " 71%|███████   | 71/100 [04:11<01:55,  3.97s/it]"
     ]
    },
    {
     "name": "stdout",
     "output_type": "stream",
     "text": [
      "0\n",
      "Not enough patients for cohort Estrogens, Conjugated (USP)_infliximab\n",
      "Cohort was deleted with exit status 204 \n",
      "A cohort with the same name already exists, please choose another name\n"
     ]
    },
    {
     "name": "stderr",
     "output_type": "stream",
     "text": [
      "\r",
      " 72%|███████▏  | 72/100 [04:14<01:44,  3.74s/it]"
     ]
    },
    {
     "name": "stdout",
     "output_type": "stream",
     "text": [
      "0\n",
      "Not enough patients for cohort atorvastatin_Cisplatin\n",
      "Cohort was deleted with exit status 204 \n",
      "A cohort with the same name already exists, please choose another name\n"
     ]
    },
    {
     "name": "stderr",
     "output_type": "stream",
     "text": [
      "\r",
      " 73%|███████▎  | 73/100 [04:18<01:43,  3.85s/it]"
     ]
    },
    {
     "name": "stdout",
     "output_type": "stream",
     "text": [
      "0\n",
      "Not enough patients for cohort Simvastatin_Levetiracetam\n",
      "Cohort was deleted with exit status 204 \n",
      "A cohort with the same name already exists, please choose another name\n"
     ]
    },
    {
     "name": "stderr",
     "output_type": "stream",
     "text": [
      "\r",
      " 74%|███████▍  | 74/100 [04:22<01:37,  3.77s/it]"
     ]
    },
    {
     "name": "stdout",
     "output_type": "stream",
     "text": [
      "0\n",
      "Not enough patients for cohort Teriparatide_duloxetine\n",
      "Cohort was deleted with exit status 204 \n",
      "A cohort with the same name already exists, please choose another name\n"
     ]
    },
    {
     "name": "stderr",
     "output_type": "stream",
     "text": [
      "\r",
      " 75%|███████▌  | 75/100 [04:26<01:37,  3.89s/it]"
     ]
    },
    {
     "name": "stdout",
     "output_type": "stream",
     "text": [
      "0\n",
      "Not enough patients for cohort Niacin_Methotrexate\n",
      "Cohort was deleted with exit status 204 \n",
      "A cohort with the same name already exists, please choose another name\n",
      "0\n",
      "Not enough patients for cohort Niacin_Docusate\n"
     ]
    },
    {
     "name": "stderr",
     "output_type": "stream",
     "text": [
      "\r",
      " 76%|███████▌  | 76/100 [04:32<01:50,  4.61s/it]"
     ]
    },
    {
     "name": "stdout",
     "output_type": "stream",
     "text": [
      "Cohort was deleted with exit status 204 \n",
      "A cohort with the same name already exists, please choose another name\n"
     ]
    },
    {
     "name": "stderr",
     "output_type": "stream",
     "text": [
      "\r",
      " 77%|███████▋  | 77/100 [04:36<01:36,  4.21s/it]"
     ]
    },
    {
     "name": "stdout",
     "output_type": "stream",
     "text": [
      "0\n",
      "Not enough patients for cohort Clonidine_duloxetine\n",
      "Cohort was deleted with exit status 204 \n",
      "A cohort with the same name already exists, please choose another name\n"
     ]
    },
    {
     "name": "stderr",
     "output_type": "stream",
     "text": [
      "\r",
      " 78%|███████▊  | 78/100 [04:39<01:24,  3.84s/it]"
     ]
    },
    {
     "name": "stdout",
     "output_type": "stream",
     "text": [
      "0\n",
      "Not enough patients for cohort Ramipril_Verapamil\n",
      "Cohort was deleted with exit status 204 \n",
      "A cohort with the same name already exists, please choose another name\n"
     ]
    },
    {
     "name": "stderr",
     "output_type": "stream",
     "text": [
      "\r",
      " 79%|███████▉  | 79/100 [04:42<01:20,  3.82s/it]"
     ]
    },
    {
     "name": "stdout",
     "output_type": "stream",
     "text": [
      "0\n",
      "Not enough patients for cohort Digoxin_bosentan\n",
      "Cohort was deleted with exit status 204 \n",
      "A cohort with the same name already exists, please choose another name\n"
     ]
    },
    {
     "name": "stderr",
     "output_type": "stream",
     "text": [
      "\r",
      " 80%|████████  | 80/100 [04:46<01:17,  3.86s/it]"
     ]
    },
    {
     "name": "stdout",
     "output_type": "stream",
     "text": [
      "0\n",
      "Not enough patients for cohort Warfarin_infliximab\n",
      "Cohort was deleted with exit status 204 \n",
      "A cohort with the same name already exists, please choose another name\n"
     ]
    },
    {
     "name": "stderr",
     "output_type": "stream",
     "text": [
      "\r",
      " 81%|████████  | 81/100 [04:51<01:18,  4.15s/it]"
     ]
    },
    {
     "name": "stdout",
     "output_type": "stream",
     "text": [
      "0\n",
      "Not enough patients for cohort Verapamil_Valproate\n",
      "Cohort was deleted with exit status 204 \n",
      "A cohort with the same name already exists, please choose another name\n"
     ]
    },
    {
     "name": "stderr",
     "output_type": "stream",
     "text": [
      "\r",
      " 82%|████████▏ | 82/100 [04:55<01:11,  3.99s/it]"
     ]
    },
    {
     "name": "stdout",
     "output_type": "stream",
     "text": [
      "0\n",
      "Not enough patients for cohort montelukast_Docusate\n",
      "Cohort was deleted with exit status 204 \n",
      "A cohort with the same name already exists, please choose another name\n"
     ]
    },
    {
     "name": "stderr",
     "output_type": "stream",
     "text": [
      "\r",
      " 83%|████████▎ | 83/100 [04:58<01:02,  3.68s/it]"
     ]
    },
    {
     "name": "stdout",
     "output_type": "stream",
     "text": [
      "0\n",
      "Not enough patients for cohort fexofenadine_Valproate\n",
      "Cohort was deleted with exit status 204 \n",
      "A cohort with the same name already exists, please choose another name\n"
     ]
    },
    {
     "name": "stderr",
     "output_type": "stream",
     "text": [
      "\r",
      " 84%|████████▍ | 84/100 [05:01<00:58,  3.64s/it]"
     ]
    },
    {
     "name": "stdout",
     "output_type": "stream",
     "text": [
      "0\n",
      "Not enough patients for cohort telaprevir_Losartan\n",
      "Cohort was deleted with exit status 204 \n",
      "A cohort with the same name already exists, please choose another name\n"
     ]
    },
    {
     "name": "stderr",
     "output_type": "stream",
     "text": [
      "\r",
      " 85%|████████▌ | 85/100 [05:04<00:52,  3.47s/it]"
     ]
    },
    {
     "name": "stdout",
     "output_type": "stream",
     "text": [
      "0\n",
      "Not enough patients for cohort telaprevir_Propranolol\n",
      "Cohort was deleted with exit status 204 \n",
      "A cohort with the same name already exists, please choose another name\n"
     ]
    },
    {
     "name": "stderr",
     "output_type": "stream",
     "text": [
      "\r",
      " 86%|████████▌ | 86/100 [05:09<00:52,  3.76s/it]"
     ]
    },
    {
     "name": "stdout",
     "output_type": "stream",
     "text": [
      "0\n",
      "Not enough patients for cohort telaprevir_valsartan\n",
      "Cohort was deleted with exit status 204 \n",
      "A cohort with the same name already exists, please choose another name\n"
     ]
    },
    {
     "name": "stderr",
     "output_type": "stream",
     "text": [
      "\r",
      " 87%|████████▋ | 87/100 [05:13<00:50,  3.88s/it]"
     ]
    },
    {
     "name": "stdout",
     "output_type": "stream",
     "text": [
      "0\n",
      "Not enough patients for cohort telaprevir_Albuterol\n",
      "Cohort was deleted with exit status 204 \n",
      "A cohort with the same name already exists, please choose another name\n"
     ]
    },
    {
     "name": "stderr",
     "output_type": "stream",
     "text": [
      "\r",
      " 88%|████████▊ | 88/100 [05:17<00:46,  3.84s/it]"
     ]
    },
    {
     "name": "stdout",
     "output_type": "stream",
     "text": [
      "0\n",
      "Not enough patients for cohort telaprevir_Promethazine\n",
      "Cohort was deleted with exit status 204 \n",
      "A cohort with the same name already exists, please choose another name\n"
     ]
    },
    {
     "name": "stderr",
     "output_type": "stream",
     "text": [
      "\r",
      " 89%|████████▉ | 89/100 [05:20<00:39,  3.58s/it]"
     ]
    },
    {
     "name": "stdout",
     "output_type": "stream",
     "text": [
      "0\n",
      "Not enough patients for cohort telaprevir_Oxycodone\n",
      "Cohort was deleted with exit status 204 \n",
      "A cohort with the same name already exists, please choose another name\n"
     ]
    },
    {
     "name": "stderr",
     "output_type": "stream",
     "text": [
      "\r",
      " 90%|█████████ | 90/100 [05:23<00:34,  3.45s/it]"
     ]
    },
    {
     "name": "stdout",
     "output_type": "stream",
     "text": [
      "0\n",
      "Not enough patients for cohort telaprevir_Ondansetron\n",
      "Cohort was deleted with exit status 204 \n",
      "A cohort with the same name already exists, please choose another name\n"
     ]
    },
    {
     "name": "stderr",
     "output_type": "stream",
     "text": [
      "\r",
      " 91%|█████████ | 91/100 [05:26<00:31,  3.46s/it]"
     ]
    },
    {
     "name": "stdout",
     "output_type": "stream",
     "text": [
      "0\n",
      "Not enough patients for cohort telaprevir_Spironolactone\n",
      "Cohort was deleted with exit status 204 \n",
      "A cohort with the same name already exists, please choose another name\n"
     ]
    },
    {
     "name": "stderr",
     "output_type": "stream",
     "text": [
      "\r",
      " 92%|█████████▏| 92/100 [05:29<00:26,  3.31s/it]"
     ]
    },
    {
     "name": "stdout",
     "output_type": "stream",
     "text": [
      "0\n",
      "Not enough patients for cohort telaprevir_Ranitidine\n",
      "Cohort was deleted with exit status 204 \n",
      "A cohort with the same name already exists, please choose another name\n"
     ]
    },
    {
     "name": "stderr",
     "output_type": "stream",
     "text": [
      "\r",
      " 93%|█████████▎| 93/100 [05:33<00:23,  3.42s/it]"
     ]
    },
    {
     "name": "stdout",
     "output_type": "stream",
     "text": [
      "0\n",
      "Not enough patients for cohort telaprevir_Clonazepam\n",
      "Cohort was deleted with exit status 204 \n",
      "A cohort with the same name already exists, please choose another name\n"
     ]
    },
    {
     "name": "stderr",
     "output_type": "stream",
     "text": [
      "\r",
      " 94%|█████████▍| 94/100 [05:37<00:20,  3.44s/it]"
     ]
    },
    {
     "name": "stdout",
     "output_type": "stream",
     "text": [
      "0\n",
      "Not enough patients for cohort dabigatran etexilate_Ascorbic Acid\n",
      "Cohort was deleted with exit status 204 \n",
      "A cohort with the same name already exists, please choose another name\n"
     ]
    },
    {
     "name": "stderr",
     "output_type": "stream",
     "text": [
      "\r",
      " 95%|█████████▌| 95/100 [05:40<00:16,  3.39s/it]"
     ]
    },
    {
     "name": "stdout",
     "output_type": "stream",
     "text": [
      "0\n",
      "Not enough patients for cohort olmesartan_Sodium Oxybate\n",
      "Cohort was deleted with exit status 204 \n",
      "A cohort with the same name already exists, please choose another name\n"
     ]
    },
    {
     "name": "stderr",
     "output_type": "stream",
     "text": [
      "\r",
      " 96%|█████████▌| 96/100 [05:43<00:13,  3.26s/it]"
     ]
    },
    {
     "name": "stdout",
     "output_type": "stream",
     "text": [
      "0\n",
      "Not enough patients for cohort fingolimod_Ascorbic Acid\n",
      "Cohort was deleted with exit status 204 \n",
      "A cohort with the same name already exists, please choose another name\n"
     ]
    },
    {
     "name": "stderr",
     "output_type": "stream",
     "text": [
      "\r",
      " 97%|█████████▋| 97/100 [05:46<00:10,  3.34s/it]"
     ]
    },
    {
     "name": "stdout",
     "output_type": "stream",
     "text": [
      "0\n",
      "Not enough patients for cohort fingolimod_Simvastatin\n",
      "Cohort was deleted with exit status 204 \n",
      "A cohort with the same name already exists, please choose another name\n"
     ]
    },
    {
     "name": "stderr",
     "output_type": "stream",
     "text": [
      "\r",
      " 98%|█████████▊| 98/100 [05:50<00:06,  3.37s/it]"
     ]
    },
    {
     "name": "stdout",
     "output_type": "stream",
     "text": [
      "0\n",
      "Not enough patients for cohort onabotulinumtoxinA_Metoprolol\n",
      "Cohort was deleted with exit status 204 \n",
      "A cohort with the same name already exists, please choose another name\n"
     ]
    },
    {
     "name": "stderr",
     "output_type": "stream",
     "text": [
      "\r",
      " 99%|█████████▉| 99/100 [05:53<00:03,  3.46s/it]"
     ]
    },
    {
     "name": "stdout",
     "output_type": "stream",
     "text": [
      "0\n",
      "Not enough patients for cohort Insulin_bevacizumab\n",
      "Cohort was deleted with exit status 204 \n",
      "A cohort with the same name already exists, please choose another name\n"
     ]
    },
    {
     "name": "stderr",
     "output_type": "stream",
     "text": [
      "\r",
      "100%|██████████| 100/100 [05:57<00:00,  3.55s/it]"
     ]
    },
    {
     "name": "stdout",
     "output_type": "stream",
     "text": [
      "0\n",
      "Not enough patients for cohort Potassium Chloride_erlotinib\n",
      "Cohort was deleted with exit status 204 \n"
     ]
    },
    {
     "name": "stderr",
     "output_type": "stream",
     "text": [
      "\n"
     ]
    }
   ],
   "source": [
    "# Retrieve patient information for the top 50 ddi predictions\n",
    "qualifying_drugpairs = list()\n",
    "\n",
    "for drugpair in tqdm(top_ddi):\n",
    "    \n",
    "    # Creation of the first cohort with exposure to both drugs of the drugpair within 7 days\n",
    "    concept1 = ohdsi.get_concept_info(drugpair[0])\n",
    "    concept2 = ohdsi.get_concept_info(drugpair[1])\n",
    "    \n",
    "    data = ohdsi.cohort_definition_2D(concept1, concept2)\n",
    "    status = ohdsi.create_cohort(data)\n",
    "    \n",
    "    # Update the mapping dicionaries\n",
    "    cohorts = ohdsi.get_cohorts()\n",
    "    for cohort in cohorts:\n",
    "        if cohort['name'] == \"%s_%s\"%(concept1[\"CONCEPT_NAME\"],concept2[\"CONCEPT_NAME\"]):\n",
    "            map_id_name[cohort['id']] =  cohort['name']\n",
    "            map_name_id[cohort['name']] = cohort['id']\n",
    "    \n",
    "    cohort_id = map_name_id[\"%s_%s\"%(concept1[\"CONCEPT_NAME\"],concept2[\"CONCEPT_NAME\"])]\n",
    "    info = ohdsi.generate_cohort(cohort_id)\n",
    "    \n",
    "    patients = ohdsi.getAlldistinctPatients(cohort_id)\n",
    "    print len(patients)\n",
    "    \n",
    "    if(len(patients)<30):\n",
    "        print \"Not enough patients for cohort %s_%s\" %(concept1[\"CONCEPT_NAME\"],concept2[\"CONCEPT_NAME\"])\n",
    "        status_delete = delete_cohort(cohort_id)\n",
    "    else:\n",
    "        print \"Enough patients for cohort %s_%s\" %(concept1[\"CONCEPT_NAME\"],concept2[\"CONCEPT_NAME\"])\n",
    "        qualifying_drugpairs.append(drugpair)"
   ]
  },
  {
   "cell_type": "code",
   "execution_count": 188,
   "metadata": {},
   "outputs": [
    {
     "name": "stdout",
     "output_type": "stream",
     "text": [
      "26\n",
      "[(1557272, 1347384), (1353766, 904453), (1559684, 1154161), (1713332, 1318853), (1559684, 798874), (1557272, 1334456), (1557272, 1549080), (1557272, 1341927), (1551803, 1307863), (1526475, 1361711), (1501700, 1397141), (1501700, 1378382), (1351557, 723013), (1318853, 1305058), (1318853, 715259), (1307863, 1124957), (1548195, 1341927), (1338005, 961047), (1559684, 970250), (1559684, 904453), (1559684, 781039), (1559684, 715259), (1551803, 798874), (1549080, 1328165), (1398937, 1367500), (1397141, 1378382)]\n"
     ]
    }
   ],
   "source": [
    "print len(qualifying_drugpairs)\n",
    "print qualifying_drugpairs\n",
    "#print concept2name[qualifying_drugpairs[0][0]], concept2name[qualifying_drugpairs[0][1]]\n",
    "#print concept2name[qualifying_drugpairs[1][0]], concept2name[qualifying_drugpairs[1][1]]\n",
    "#print concept2name[qualifying_drugpairs[2][0]], concept2name[qualifying_drugpairs[2][1]]"
   ]
  },
  {
   "cell_type": "code",
   "execution_count": 68,
   "metadata": {
    "collapsed": true
   },
   "outputs": [],
   "source": [
    "# Assess significance of the difference in values of BP for drugpair and control groups using Mann-Whitney U test\n",
    "from scipy.stats import mannwhitneyu"
   ]
  },
  {
   "cell_type": "code",
   "execution_count": 69,
   "metadata": {
    "collapsed": true
   },
   "outputs": [],
   "source": [
    "# Correct for multiple hypothesis testing using Bonferroni's method"
   ]
  },
  {
   "cell_type": "code",
   "execution_count": null,
   "metadata": {
    "collapsed": true
   },
   "outputs": [],
   "source": []
  }
 ],
 "metadata": {
  "kernelspec": {
   "display_name": "Python 2",
   "language": "python",
   "name": "python2"
  },
  "language_info": {
   "codemirror_mode": {
    "name": "ipython",
    "version": 2
   },
   "file_extension": ".py",
   "mimetype": "text/x-python",
   "name": "python",
   "nbconvert_exporter": "python",
   "pygments_lexer": "ipython2",
   "version": "2.7.12"
  }
 },
 "nbformat": 4,
 "nbformat_minor": 2
}
