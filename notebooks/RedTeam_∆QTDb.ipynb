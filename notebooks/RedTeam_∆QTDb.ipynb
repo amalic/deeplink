{
 "cells": [
  {
   "cell_type": "markdown",
   "metadata": {
    "collapsed": true
   },
   "source": [
    "# ∆QT Database\n",
    "\n",
    "Sample notebook for querying ∆QT Database (web app at http://www.deltaqt.org)\n",
    "\n",
    "Can also incorporate Twosides for gathering additional evidence for drug-side effect relationships \n",
    "\n",
    "**Input:**  [Drug(s) to evaluate from list of drugs in database](#input)\n",
    "\n",
    "**Step 1:** [Define function for extracting ∆QTs from API](#step1)\n",
    "\n",
    "**Step 2:** [API call to obtain ∆QTs for each individual drug and combination](#step2)\n",
    "\n",
    "**Step 3:** [Bin ∆QTs for visualizing in histogram](#step3)\n",
    "\n",
    "**Step 4:** [Visualize ∆QTs](#step4)\n"
   ]
  },
  {
   "cell_type": "code",
   "execution_count": 1,
   "metadata": {
    "collapsed": true
   },
   "outputs": [],
   "source": [
    "%matplotlib inline"
   ]
  },
  {
   "cell_type": "code",
   "execution_count": 3,
   "metadata": {},
   "outputs": [],
   "source": [
    "from urllib2 import Request, urlopen, URLError\n",
    "import json\n",
    "\n",
    "import numpy as np\n",
    "# from scipy.interpolate import interp1d\n",
    "from collections import defaultdict\n",
    "\n",
    "import matplotlib.pyplot as plt\n",
    "#import seaborn as sns"
   ]
  },
  {
   "cell_type": "markdown",
   "metadata": {},
   "source": [
    "### Demo"
   ]
  },
  {
   "cell_type": "markdown",
   "metadata": {},
   "source": [
    "<a id='input'></a>\n",
    "**Input:** Drug(s) to evaluate from list of drugs in database"
   ]
  },
  {
   "cell_type": "code",
   "execution_count": 4,
   "metadata": {},
   "outputs": [
    {
     "name": "stdout",
     "output_type": "stream",
     "text": [
      "1309944 Amiodarone\n",
      "1314002 Atenolol\n",
      "1346823 Carvedilol\n",
      "1326303 Digoxin\n",
      "989878 Lidocaine\n",
      "1307046 Metoprolol\n",
      "1353766 Propranolol\n",
      "1713332 Amoxicillin\n",
      "1717327 Ampicillin\n",
      "1734104 Azithromycin\n",
      "1715117 Aztreonam\n",
      "915175 Bacitracin\n",
      "1771162 Cefazolin\n",
      "1774470 Cefotaxime\n",
      "1775741 Cefoxitin\n",
      "1777806 Ceftriaxone\n",
      "1778162 Cefuroxime\n",
      "1786621 Cephalexin\n",
      "1797513 Ciprofloxacin\n",
      "1759842 Clavulanate\n",
      "997881 Clindamycin\n",
      "1738521 Doxycycline\n",
      "1746940 Erythromycin\n",
      "919345 Gentamicin sulfate\n",
      "1742253 Levofloxacin\n",
      "1736887 Linezolid\n",
      "1709170 Meropenem\n",
      "1707164 Metronidazole\n",
      "951511 Mupirocin\n",
      "920293 Nitrofurantoin\n",
      "1724703 Oxacillin\n",
      "1728416 Penicillin G\n",
      "1746114 Piperacillin\n",
      "948582 Polymyxin B\n",
      "1836241 Sulbactam\n",
      "1836430 Sulfamethoxazole\n",
      "1741122 Tazobactam\n",
      "902722 Tobramycin\n",
      "1705674 Trimethoprim\n",
      "1707687 Vancomycin\n",
      "1000632 Clotrimazole\n",
      "1754994 Fluconazole\n",
      "907879 Miconazole\n",
      "922570 Nystatin\n",
      "941472 Terconazole\n",
      "904453 Esomeprazole\n",
      "929887 Lansoprazole\n",
      "923645 Omeprazole\n",
      "948078 Pantoprazole\n",
      "750982 Bupropion\n",
      "797617 Citalopram\n",
      "715939 Escitalopram\n",
      "755695 Fluoxetine\n",
      "725131 Mirtazapine\n",
      "722031 Paroxetine\n",
      "739138 Sertraline\n",
      "703547 Trazodone\n",
      "743670 Venlafaxine\n",
      "1703687 Acyclovir\n",
      "1757803 Ganciclovir\n",
      "1799139 Oseltamivir\n",
      "1717704 Valacyclovir\n",
      "1703063 Valganciclovir\n",
      "1545958 Atorvastatin\n",
      "1551860 Pravastatin\n",
      "1510813 Rosuvastatin\n",
      "1539403 Simvastatin\n",
      "713192 Fosphenytoin\n",
      "797399 Gabapentin\n",
      "705103 Lamotrigine\n",
      "711584 Levetiracetam\n",
      "740910 Phenytoin\n",
      "734275 Phenobarbital\n",
      "745466 Valproate\n",
      "757688 Aripiprazole\n",
      "766529 Haloperidol\n",
      "785788 Olanzapine\n",
      "752061 Prochlorperazine\n",
      "766814 Quetiapine\n",
      "735979 Risperidone\n",
      "917006 Benzocaine\n",
      "753626 Propofol\n",
      "19012598 Vecuronium\n",
      "929435 Acetazolamide\n",
      "992590 Chlorothiazide\n",
      "956874 Furosemide\n",
      "974166 Hydrochlorothiazide\n",
      "907013 Metolazone\n",
      "970250 Spironolactone\n",
      "1118084 Celecoxib\n",
      "1101554 Colchicine\n",
      "1177480 Ibuprofen\n",
      "1178663 Indomethacin\n",
      "1136980 Ketorolac\n",
      "1154161 Montelukast\n",
      "1115008 Naproxen\n",
      "1125315 Acetaminophen\n",
      "1112807 Aspirin\n",
      "1201620 Codeine\n",
      "1154029 Fentanyl\n",
      "1174888 Hydrocodone\n",
      "1126658 Hydromorphone\n",
      "1103640 Methadone\n",
      "1110410 Morphine\n",
      "1114122 Nalbuphine\n",
      "1124957 Oxycodone\n",
      "933724 Phenazopyridine\n",
      "1103314 Tramadol\n",
      "1154343 Albuterol\n",
      "1192218 Levalbuterol\n",
      "1300153 Racepinephrine\n",
      "1106776 Tiotropium\n",
      "781039 Alprazolam\n",
      "990678 Chlordiazepoxide\n",
      "798874 Clonazepam\n",
      "19061088 Dexmedetomidine\n",
      "723013 Diazepam\n",
      "791967 Lorazepam\n",
      "836715 Temazepam\n",
      "708298 Midazolam\n",
      "744740 Zolpidem\n",
      "1332418 Amlodipine\n",
      "1328165 Diltiazem\n",
      "1318853 Nifedipine\n",
      "1340128 Captopril\n",
      "1341927 Enalapril\n",
      "1308216 Lisinopril\n",
      "1334456 Ramipril\n",
      "920458 Betamethasone\n",
      "939259 Budesonide\n",
      "1518254 Dexamethasone\n",
      "1149380 Fluticasone\n",
      "975125 Hydrocortisone\n",
      "1506270 Methylprednisolone\n",
      "1550557 Prednisolone\n",
      "1551099 Prednisone\n",
      "903963 Triamcinolone\n",
      "1560171 Glipizide\n",
      "1559684 Glyburide\n",
      "1567198 Insulin, aspart, human\n",
      "1596914 Insulin, isophane, human\n",
      "1550023 Insulin, lispro, human\n",
      "1596977 Insulin, regular, human\n",
      "1503297 Metformin\n",
      "1000772 Granisetron\n",
      "1000560 Ondansetron\n",
      "1139042 Acetylcysteine\n",
      "1344143 Albumin human\n",
      "19055729 Alendronic acid\n",
      "1167322 Allopurinol\n",
      "1347450 Alteplase\n",
      "985247 Aluminum hydroxide\n",
      "19011773 Ascorbic acid\n",
      "914335 Atropine\n",
      "719174 Benztropine\n",
      "924939 Bisacodyl\n",
      "1319219 Calcium ascorbate\n",
      "19035704 Calcium carbonate\n",
      "19036781 Calcium chloride\n",
      "19058572 Calcium citrate\n",
      "19037038 Calcium gluconate\n",
      "1790812 Chlorhexidine\n",
      "1398937 Clonidine\n",
      "1322184 Clopidogrel\n",
      "19008009 Cosyntropin\n",
      "778711 Cyclobenzaprine\n",
      "910232 Cyclopentolate\n",
      "1304643 Darbepoetin alfa\n",
      "1517070 Desmopressin\n",
      "1119510 Dextromethorphan\n",
      "1329415 Dinoprostone\n",
      "1129625 Diphenhydramine\n",
      "1337720 Dobutamine\n",
      "941258 Docusate\n",
      "1337860 Dopamine\n",
      "19013789 Egg yolk phospholipids\n",
      "1301025 Enoxaparin\n",
      "1343916 Epinephrine\n",
      "1301125 Epoetin alfa\n",
      "1549786 Ethinyl estradiol\n",
      "1526475 Ezetimibe\n",
      "953076 Famotidine\n",
      "1391470 Ferrous asparto glycinate\n",
      "1396012 Ferrous gluconate\n",
      "1396131 Ferrous sulfate\n",
      "1304850 Filgrastim\n",
      "996416 Finasteride\n",
      "19111620 Folic acid\n",
      "1560278 Glucagon\n",
      "1560524 Glucose\n",
      "961145 Glycerol\n",
      "1163944 Guaifenesin\n",
      "1367571 Heparin\n",
      "1373928 Hydralazine\n",
      "777221 Hydroxyzine\n",
      "551749 Immunoglobulins, intravenous\n",
      "19127890 Inert ingredients\n",
      "1112921 Ipratropium\n",
      "1383815 Isosorbide\n",
      "1386957 Labetalol\n",
      "19011035 Lactate\n",
      "987245 Lactulose\n",
      "991876 Loperamide\n",
      "1107830 Loratadine\n",
      "1367500 Losartan\n",
      "992956 Magnesium hydroxide\n",
      "993631 Magnesium oxide\n",
      "19093848 Magnesium sulfate\n",
      "994341 Meclizine\n",
      "1500211 Medroxyprogesterone\n",
      "906780 Metoclopramide\n",
      "1368671 Milrinone\n",
      "1150871 Misoprostol\n",
      "19003999 Mycophenolate mofetil\n",
      "1114220 Naloxone\n",
      "718583 Nicotine\n",
      "1361711 Nitroglycerin\n",
      "1321341 Norepinephrine\n",
      "1521369 Norethindrone\n",
      "918906 Oxybutynin\n",
      "925636 Oxymetazoline\n",
      "1326115 Oxytocin\n",
      "1325608 Pegfilgrastim\n",
      "1135766 Phenylephrine\n",
      "986417 Polyethylene glycol 3350\n",
      "1300751 Polysaccharide iron complex\n",
      "19049105 Potassium chloride\n",
      "1153013 Promethazine\n",
      "1154332 Pseudoephedrine\n",
      "19058274 Purified protein derivative of tuberculin\n",
      "961047 Ranitidine\n",
      "938268 Sennosides\n",
      "952004 Sevelamer\n",
      "966991 Simethicone\n",
      "939506 Sodium bicarbonate\n",
      "967823 Sodium chloride\n",
      "977968 Sodium citrate\n",
      "19078126 Sodium polystyrene sulfonate\n",
      "939976 Sodium sulfate\n",
      "19070224 Soybean oil\n",
      "1340532 Succinic acid\n",
      "950637 Tacrolimus\n",
      "924566 Tamsulosin\n",
      "19137312 Thiamine\n",
      "1501700 Thyroxine\n",
      "1308842 Valsartan\n",
      "1507835 Vasopressins\n",
      "1308738 Vitamin B12\n",
      "19044727 Vitamin K1\n",
      "1310149 Warfarin\n",
      "19044522 Zinc sulfate\n",
      "\n",
      "251 drugs found\n"
     ]
    }
   ],
   "source": [
    "# Obtain list of possible drugs\n",
    "concept2name = dict()\n",
    "name2concept = dict()\n",
    "\n",
    "request = Request('http://deltaqt.org/index/js/drugs-brandnames-v4.js')\n",
    "response = urlopen(request).read()\n",
    "\n",
    "for line in response.split('\\n'):\n",
    "    if line.startswith('//') == False and line.startswith('var') == False and line not in ['','];']:\n",
    "        if line.split(\"'\")[1].startswith('('):\n",
    "            continue\n",
    "        concept_id = int(line.split(\"'\")[1])\n",
    "        drugname = line.split(\"'\")[-2].split('(')[0].strip()\n",
    "        print concept_id, drugname\n",
    "        concept2name[concept_id] = drugname\n",
    "        name2concept[drugname] = concept_id\n",
    "\n",
    "print '\\n',len(concept2name), \"drugs found\""
   ]
  },
  {
   "cell_type": "code",
   "execution_count": 5,
   "metadata": {},
   "outputs": [
    {
     "name": "stdout",
     "output_type": "stream",
     "text": [
      "1309944\n"
     ]
    },
    {
     "data": {
      "text/plain": [
       "'1309944'"
      ]
     },
     "execution_count": 5,
     "metadata": {},
     "output_type": "execute_result"
    }
   ],
   "source": [
    "# Test for amiodarone alone\n",
    "print name2concept['Amiodarone']\n",
    "drugs = [1309944]\n",
    "drugs_api_str = \",\".join([str(d) for d in drugs])\n",
    "drugs_api_str"
   ]
  },
  {
   "cell_type": "code",
   "execution_count": 6,
   "metadata": {},
   "outputs": [
    {
     "name": "stdout",
     "output_type": "stream",
     "text": [
      "1777806 929887\n"
     ]
    },
    {
     "data": {
      "text/plain": [
       "'1777806,929887'"
      ]
     },
     "execution_count": 6,
     "metadata": {},
     "output_type": "execute_result"
    }
   ],
   "source": [
    "# Test for ceftriaxone and lansoprazole\n",
    "print name2concept['Ceftriaxone'], name2concept['Lansoprazole']\n",
    "drugs = [1777806, 929887]\n",
    "drugs_api_str = \",\".join([str(d) for d in drugs])\n",
    "drugs_api_str"
   ]
  },
  {
   "cell_type": "markdown",
   "metadata": {},
   "source": [
    "<a id='step1'></a>\n",
    "**Step 1:** Define function for extracting ∆QTs from API"
   ]
  },
  {
   "cell_type": "code",
   "execution_count": 7,
   "metadata": {
    "collapsed": true
   },
   "outputs": [],
   "source": [
    "def pull_deltas(drugs_api_str, cached=False):\n",
    "    if ',' in drugs_api_str:\n",
    "        cached = True\n",
    "    \n",
    "    delta_qts = []\n",
    "    cached_qts = []\n",
    "    request = Request('http://deltaqt.org/api/v1/query?drugs=%s' %drugs_api_str)\n",
    "    \n",
    "    try:\n",
    "        response = urlopen(request).read()\n",
    "        decoded = json.loads(response)\n",
    "        #print len(decoded)\n",
    "\n",
    "        for p in decoded['delta_qts']:\n",
    "            delta_qts.append( p['delta'] )\n",
    "            \n",
    "        if cached == True:\n",
    "            for p in decoded['cache_'+drugs_api_str.split(',')[1]]:\n",
    "                cached_qts.append( p['delta'] )\n",
    "            \n",
    "    except URLError, e:\n",
    "        print '%s not found in database' %drugs_api_str, e\n",
    "    \n",
    "    if cached == True:\n",
    "        return delta_qts, cached_qts\n",
    "    else:\n",
    "        return delta_qts"
   ]
  },
  {
   "cell_type": "markdown",
   "metadata": {},
   "source": [
    "<a id='step2'></a>\n",
    "**Step 2:** API call to obtain ∆QTs for each individual drug and combination"
   ]
  },
  {
   "cell_type": "code",
   "execution_count": 8,
   "metadata": {},
   "outputs": [
    {
     "name": "stdout",
     "output_type": "stream",
     "text": [
      "[1777806, 929887]\n"
     ]
    }
   ],
   "source": [
    "print drugs\n",
    "drugs_api_str = \",\".join([str(d) for d in drugs])\n",
    "\n",
    "delta_qts = []\n",
    "individ_drug_qts = defaultdict(list)\n",
    "\n",
    "if len(drugs) == 1:\n",
    "    delta_qts = pull_deltas(drugs_api_str)\n",
    "elif len(drugs) > 1:\n",
    "    # API returns deltas for patients taking all N drugs, and for the Nth drug alone\n",
    "    # Need to run API for 1 – (N-1)th drugs\n",
    "    for d in drugs[0:-1]:\n",
    "        individ_drug_qts[d] = pull_deltas(str(d))\n",
    "    \n",
    "    delta_qts, individ_drug_qts[drugs[-1]] = pull_deltas(drugs_api_str)"
   ]
  },
  {
   "cell_type": "markdown",
   "metadata": {},
   "source": [
    "<a id='step3'></a>\n",
    "**Step 3:** Bin ∆QTs for visualizing in histogram"
   ]
  },
  {
   "cell_type": "code",
   "execution_count": 9,
   "metadata": {},
   "outputs": [
    {
     "name": "stdout",
     "output_type": "stream",
     "text": [
      "3 bins\n"
     ]
    }
   ],
   "source": [
    "thresholds = [-110, -100, -90, -80, -70, -60, -50, -40, -30, -20, -10, 0, 10, 20, 30, 40, 50, 60, 70, 80, 90, 100, 110, 120, 130, 140, 150]\n",
    "\n",
    "bins = dict()\n",
    "\n",
    "delta_qts_arr = np.array(delta_qts)\n",
    "weights = np.ones_like(delta_qts_arr)/float(len(delta_qts_arr))*100.0\n",
    "hist, bin_edges = np.histogram(delta_qts_arr, weights=weights, bins=thresholds)\n",
    "bins['all'] = hist\n",
    "\n",
    "if len(drugs) > 1:\n",
    "    for d in individ_drug_qts:\n",
    "        individ_drug_qts_arr = np.array(individ_drug_qts[d])\n",
    "        weights = np.ones_like(individ_drug_qts_arr)/float(len(individ_drug_qts_arr))*100.0\n",
    "        hist, bin_edges = np.histogram(individ_drug_qts_arr, weights=weights, bins=thresholds)\n",
    "        bins[d] = hist\n",
    "print len(bins), \"bins\""
   ]
  },
  {
   "cell_type": "markdown",
   "metadata": {},
   "source": [
    "<a id='step4'></a>\n",
    "**Step 4:** Visualize ∆QTs"
   ]
  },
  {
   "cell_type": "code",
   "execution_count": 10,
   "metadata": {},
   "outputs": [
    {
     "data": {
      "text/plain": [
       "<matplotlib.legend.Legend at 0x106173a50>"
      ]
     },
     "execution_count": 10,
     "metadata": {},
     "output_type": "execute_result"
    },
    {
     "data": {
      "image/png": "[encoded data removed]",
      "text/plain": [
       "<matplotlib.figure.Figure at 0x106161350>"
      ]
     },
     "metadata": {},
     "output_type": "display_data"
    }
   ],
   "source": [
    "xpos = [(bin_edges[i]+bin_edges[i+1])/2 for i in range(len(bin_edges)-1)]\n",
    "if len(drugs) == 1:\n",
    "    plt.bar(xpos, bins['all'], width=8, label=concept2name[drugs[0]])\n",
    "\n",
    "elif len(drugs) > 1:\n",
    "    plt.bar(xpos, bins['all'], width=8, label='Combo')\n",
    "    for d in drugs:\n",
    "        plt.plot(xpos, bins[d], label=concept2name[d])\n",
    "\n",
    "plt.xlim(-115,155)\n",
    "plt.ylim(0,28)\n",
    "plt.xlabel(u'∆QTc (milliseconds)')\n",
    "plt.ylabel('% of patients')\n",
    "plt.legend()"
   ]
  },
  {
   "cell_type": "code",
   "execution_count": null,
   "metadata": {
    "collapsed": true
   },
   "outputs": [],
   "source": []
  },
  {
   "cell_type": "markdown",
   "metadata": {},
   "source": [
    "---\n",
    "\n",
    "## Background\n",
    "\n",
    "### Current Status\n",
    "\n",
    "- Accesses CHEBI data via the BioLink API\n",
    "- Accesses GINAS data via their API\n",
    "- Trying to *join* information about 'acetylsalicylic acid' from both data sources, as a toy problem to get started.\n",
    "- We're going to look up 'acetylsalicylic acid' rather than 'aspirin', because it is a common term in all of the sources right now and I'm not sure that the Monarch BioLink API I'm using has the term 'aspirin' yet.\n",
    "\n",
    "\n",
    "### Next Steps\n",
    "\n",
    "- Explore [Pharos](https://pharos.nih.gov/idg/index) API and data sources\n",
    "- Use [mybinder](http://mybinder.org) badge (or a similar hosted Jupyter mechanism) to simplify invocation and editing from GitHub\n",
    "- Try to extract Drug-to-conditions and Condition-to-Drugs relations from sources. Use competency questions to guide this integration.\n",
    "- Consider WikiData as a source\n",
    "- Accommodate anticipated BROAD probability models, possibly by developing a mock API.\n"
   ]
  },
  {
   "cell_type": "markdown",
   "metadata": {},
   "source": [
    "---\n",
    "\n",
    "## Data Sources"
   ]
  },
  {
   "cell_type": "markdown",
   "metadata": {},
   "source": [
    "### CHEBI Data\n",
    "\n",
    "Monarch ingests [Chemical Entities of Biological Interest (ChEBI)](https://www.ebi.ac.uk/chebi/) data and makes it available via SciGraph, the Monarch API, and the new BioLink API.\n",
    "\n",
    "For reference, here is the link to CHEBI's entry for 'acetylsalicylic acid' (aka 'Aspirin'):\n",
    "\n",
    "[CHEBI:15365 acetylsalicylic acid](https://www.ebi.ac.uk/chebi/searchId.do?chebiId=CHEBI:15365)\n",
    "\n",
    "\n",
    "### BioLink substance data from CHEBI via Monarch\n",
    "\n",
    "Monarch has ingested CHEBI data, and we have a `/biolink/substance/{id}/participant_in/` endpoint that seems to return some data:\n",
    "\n",
    "https://api.monarchinitiative.org/api/bioentity/substance/CHEBI:40036/participant_in/\n",
    "\n",
    "However, the basic `/biolink/substance/{id}` endpoint returns no useful data, so we'll have to use the above link until BioLink has a fleshed out `/substance` endpoint.\n",
    "\n"
   ]
  },
  {
   "cell_type": "markdown",
   "metadata": {},
   "source": [
    "### ginas API Substance data from ginas\n",
    "\n",
    "The [Global Ingredient Archival System (ginas)](https://tripod.nih.gov/ginas/#/) provides a common identifier for all of the substances used in medicinal products, utilizing a consistent definition of substances globally, including active substances under clinical investigation. More info at [NCATS ginas](https://ncats.nih.gov/expertise/preclinical/ginas).\n",
    "\n",
    "#### Examples\n",
    "\n",
    "- [ginas Aspirin](https://tripod.nih.gov/ginas/app/api/v1/substances/search?q=root_names_name:\"^ASPIRIN$\")\n",
    "\n",
    "- [ginas acetylsalicylic acid](https://tripod.nih.gov/ginas/app/api/v1/substances/search?q=root_names_name:\"^acetylsalicylic acid$\")\n",
    "\n",
    "\n",
    "\n"
   ]
  }
 ],
 "metadata": {
  "kernelspec": {
   "display_name": "Python 2",
   "language": "python",
   "name": "python2"
  },
  "language_info": {
   "codemirror_mode": {
    "name": "ipython",
    "version": 2
   },
   "file_extension": ".py",
   "mimetype": "text/x-python",
   "name": "python",
   "nbconvert_exporter": "python",
   "pygments_lexer": "ipython2",
   "version": "2.7.10"
  }
 },
 "nbformat": 4,
 "nbformat_minor": 2
}
