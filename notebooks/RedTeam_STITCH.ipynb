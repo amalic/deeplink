{
 "cells": [
  {
   "cell_type": "markdown",
   "metadata": {},
   "source": [
    "# STITCH API\n",
    "\n",
    "Full documentation available at http://stitch.embl.de/help/api/\n",
    "\n",
    "<img src=\"http://stitch.embl.de/help/images/api_format.png\" width=\"650px\" align=\"left\" alt=\"API diagram\" >"
   ]
  },
  {
   "cell_type": "code",
   "execution_count": 1,
   "metadata": {
    "collapsed": true
   },
   "outputs": [],
   "source": [
    "from urllib2 import Request, urlopen, URLError\n",
    "import json"
   ]
  },
  {
   "cell_type": "markdown",
   "metadata": {},
   "source": [
    "### Demo\n",
    "\n",
    "All high-confidence (interaction score ≥ 700) human protein targets of amiodarone"
   ]
  },
  {
   "cell_type": "code",
   "execution_count": 2,
   "metadata": {
    "collapsed": true
   },
   "outputs": [],
   "source": [
    "# Input drug\n",
    "drug = 'amiodarone'"
   ]
  },
  {
   "cell_type": "code",
   "execution_count": 3,
   "metadata": {},
   "outputs": [
    {
     "name": "stdout",
     "output_type": "stream",
     "text": [
      "amiodarone 100002156\n"
     ]
    }
   ],
   "source": [
    "# Get molecule identifier\n",
    "request = Request('http://stitch.embl.de/api/json/resolve?identifier=%s&species=9606' %drug)\n",
    "\n",
    "try:\n",
    "    response = urlopen(request).read()\n",
    "    decoded = json.loads(response)\n",
    "    stitch_id = int(decoded[0]['stringId'].split('CID')[1])\n",
    "    print drug, stitch_id\n",
    "except URLError, e:\n",
    "    print '%s not found in STITCH' %drug, e"
   ]
  },
  {
   "cell_type": "code",
   "execution_count": 4,
   "metadata": {},
   "outputs": [
    {
     "name": "stdout",
     "output_type": "stream",
     "text": [
      "ENSP00000337915 CYP3A4 0.985\n",
      "ENSP00000237612 ABCG2 0.956\n",
      "ENSP00000353820 CYP2D6 0.915\n",
      "ENSP00000427336 D3 0.9\n",
      "ENSP00000262186 KCNH2 0.88\n",
      "ENSP00000260682 CYP2C9 0.871\n",
      "ENSP00000355627 AGT 0.849\n",
      "ENSP00000275216 TAAR1 0.826\n",
      "ENSP00000342007 CYP1A2 0.823\n",
      "ENSP00000265724 ABCB1 0.82\n"
     ]
    }
   ],
   "source": [
    "# Get interacting proteins (can't return as JSON, must be psi-mi (XML) or psi-mi-tab (TSV-like))\n",
    "min_score = 700 # range [0-1000]\n",
    "request = Request('http://stitch.embl.de/api/psi-mi-tab/interactionsList?identifiers=-%d&species=9606&required_score=%d'\n",
    "                 %(stitch_id, min_score) )\n",
    "try:\n",
    "    response = urlopen(request).read()\n",
    "    for line in response.split('\\n'):\n",
    "        row = line.split('\\t')\n",
    "        if len(row) > 1 and 'CID' in row[1]: # check for empty rows and that interaction is with a drug\n",
    "            if int(row[1].split('CID')[1]) != stitch_id: # confirm correct stitch_id for drug\n",
    "                continue\n",
    "            protein_id = row[0].split('.')[1]\n",
    "            gene_name = row[2]\n",
    "            score = row[14].split('|')[0].split(':')[1]\n",
    "            print protein_id, gene_name, score#, row\n",
    "        \n",
    "except URLError, e:\n",
    "    print 'Proteins interacting with %s not found in STITCH' %drug, e"
   ]
  },
  {
   "cell_type": "code",
   "execution_count": null,
   "metadata": {
    "collapsed": true
   },
   "outputs": [],
   "source": []
  }
 ],
 "metadata": {
  "kernelspec": {
   "display_name": "Python 2",
   "language": "python",
   "name": "python2"
  },
  "language_info": {
   "codemirror_mode": {
    "name": "ipython",
    "version": 2
   },
   "file_extension": ".py",
   "mimetype": "text/x-python",
   "name": "python",
   "nbconvert_exporter": "python",
   "pygments_lexer": "ipython2",
   "version": "2.7.10"
  }
 },
 "nbformat": 4,
 "nbformat_minor": 1
}
