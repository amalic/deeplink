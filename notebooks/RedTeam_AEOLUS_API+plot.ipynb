{
 "cells": [
  {
   "cell_type": "markdown",
   "metadata": {},
   "source": [
    "# AEOLUS API queries\n",
    "\n",
    "- Sample SQL queries for building AEOLUS/ Nsides API\n",
    "- Demo of pulling cumulative results for amiodarone and generating plots"
   ]
  },
  {
   "cell_type": "code",
   "execution_count": 1,
   "metadata": {},
   "outputs": [],
   "source": [
    "%matplotlib inline"
   ]
  },
  {
   "cell_type": "code",
   "execution_count": 2,
   "metadata": {},
   "outputs": [
    {
     "ename": "ImportError",
     "evalue": "No module named MySQLdb",
     "output_type": "error",
     "traceback": [
      "\u001b[0;31m---------------------------------------------------------------------------\u001b[0m",
      "\u001b[0;31mImportError\u001b[0m                               Traceback (most recent call last)",
      "\u001b[0;32m<ipython-input-2-2790c78a8c95>\u001b[0m in \u001b[0;36m<module>\u001b[0;34m()\u001b[0m\n\u001b[0;32m----> 1\u001b[0;31m \u001b[0;32mimport\u001b[0m \u001b[0mMySQLdb\u001b[0m\u001b[0;34m\u001b[0m\u001b[0m\n\u001b[0m\u001b[1;32m      2\u001b[0m \u001b[0;32mfrom\u001b[0m \u001b[0mcollections\u001b[0m \u001b[0;32mimport\u001b[0m \u001b[0mdefaultdict\u001b[0m\u001b[0;34m\u001b[0m\u001b[0m\n\u001b[1;32m      3\u001b[0m \u001b[0;32mfrom\u001b[0m \u001b[0mtqdm\u001b[0m \u001b[0;32mimport\u001b[0m \u001b[0mtqdm\u001b[0m\u001b[0;34m\u001b[0m\u001b[0m\n\u001b[1;32m      4\u001b[0m \u001b[0;32mimport\u001b[0m \u001b[0mnumpy\u001b[0m \u001b[0;32mas\u001b[0m \u001b[0mnp\u001b[0m\u001b[0;34m\u001b[0m\u001b[0m\n\u001b[1;32m      5\u001b[0m \u001b[0;32mfrom\u001b[0m \u001b[0mscipy\u001b[0m \u001b[0;32mimport\u001b[0m \u001b[0mstats\u001b[0m\u001b[0;34m\u001b[0m\u001b[0m\n",
      "\u001b[0;31mImportError\u001b[0m: No module named MySQLdb"
     ]
    }
   ],
   "source": [
    "import MySQLdb\n",
    "from collections import defaultdict\n",
    "from tqdm import tqdm\n",
    "import numpy as np\n",
    "from scipy import stats\n",
    "import csv\n",
    "\n",
    "import cPickle as pickle\n",
    "\n",
    "import matplotlib.pyplot as plt\n",
    "import seaborn as sns"
   ]
  },
  {
   "cell_type": "code",
   "execution_count": 3,
   "metadata": {
    "collapsed": true
   },
   "outputs": [],
   "source": [
    "con = MySQLdb.connect(read_default_file='~/.my.cnf', db = 'effect_faers')\n",
    "cur = con.cursor()"
   ]
  },
  {
   "cell_type": "code",
   "execution_count": 4,
   "metadata": {
    "collapsed": true
   },
   "outputs": [],
   "source": [
    "qt_outcomes = ('TORSADE DE POINTES',\n",
    "               'ELECTROCARDIOGRAM QT CORRECTED INTERVAL PROLONGED',\n",
    "               'ELECTROCARDIOGRAM QT PROLONGED',\n",
    "               'LONG QT SYNDROME',\n",
    "               'LONG QT SYNDROME CONGENITAL')\n",
    "\n",
    "drug1 = ('AMIODARONE', 'CORDARONE') #('METHADONE', 'METHADOSE', 'DOLOPHINE') #('LANSOPRAZOLE', 'PREVACID') # ('METHADONE', 'METHADOSE', 'DOLOPHINE')\n",
    "# drug2 = ('QUETIAPINE', 'SEROQUEL') #('CEFTRIAXONE', 'ROCEPHIN')"
   ]
  },
  {
   "cell_type": "code",
   "execution_count": 8,
   "metadata": {},
   "outputs": [
    {
     "name": "stdout",
     "output_type": "stream",
     "text": [
      "2004 987\n",
      "2005 1330\n",
      "2006 911\n",
      "2007 857\n",
      "2008 849\n",
      "2009 1352\n",
      "2010 1603\n",
      "2011 1761\n",
      "2012 1655\n",
      "2013 2502\n",
      "2014 2848\n",
      "2015 1106\n"
     ]
    }
   ],
   "source": [
    "# reports on drugs per year\n",
    "years = range(2004,2016)\n",
    "\n",
    "yr2reports_on_drug = defaultdict(list)\n",
    "\n",
    "for year in years:\n",
    "    print year,\n",
    "    SQL = '''select distinct isr_report_id\n",
    "            from effect_faers.drugs c\n",
    "            where drug_name in %s\n",
    "            and report_year = %d;''' %(drug1, year)\n",
    "    cur.execute(SQL)\n",
    "    results = cur.fetchall()\n",
    "    \n",
    "    for result in results:\n",
    "        report_id = result[0]\n",
    "        yr2reports_on_drug[year].append(int(report_id))\n",
    "        \n",
    "    print len(yr2reports_on_drug[year])"
   ]
  },
  {
   "cell_type": "code",
   "execution_count": 9,
   "metadata": {},
   "outputs": [
    {
     "name": "stdout",
     "output_type": "stream",
     "text": [
      "2004 271308\n",
      "2005 324344\n",
      "2006 322880\n",
      "2007 377318\n",
      "2008 440163\n",
      "2009 489955\n",
      "2010 671572\n",
      "2011 781039\n",
      "2012 830496\n",
      "2013 810821\n",
      "2014 900936\n",
      "2015 316067\n"
     ]
    }
   ],
   "source": [
    "# reports not on drug per year\n",
    "yr2reports_not_on_drug = defaultdict(list)\n",
    "\n",
    "for year in years:\n",
    "    print year,\n",
    "    \n",
    "    SQL = '''select distinct isr_report_id\n",
    "            from effect_faers.drugs\n",
    "            where report_year = %d;''' %year\n",
    "    cur.execute(SQL)\n",
    "    results = cur.fetchall()\n",
    "    \n",
    "    for result in results:\n",
    "        report_id = int(result[0])\n",
    "        if report_id not in yr2reports_on_drug[year]:\n",
    "            yr2reports_not_on_drug[year].append(report_id)\n",
    "        \n",
    "    print len(yr2reports_not_on_drug[year])"
   ]
  },
  {
   "cell_type": "code",
   "execution_count": 26,
   "metadata": {},
   "outputs": [
    {
     "name": "stdout",
     "output_type": "stream",
     "text": [
      "\n",
      "2004 26 987 1206 271308\n",
      " PRR =  5.92613427291\n",
      "   s =  0.195637084379\n",
      "95%CI: (4.04, 8.70)\n",
      "\n",
      "2005 67 2317 2347 595652\n",
      " PRR =  7.33885460442\n",
      "   s =  0.122139991676\n",
      "95%CI: (5.78, 9.32)\n",
      "\n",
      "2006 118 3228 3320 918532\n",
      " PRR =  10.1135747451\n",
      "   s =  0.0920049077687\n",
      "95%CI: (8.44, 12.11)\n",
      "\n",
      "2007 145 4085 4321 1295850\n",
      " PRR =  10.6450181956\n",
      "   s =  0.0829602910944\n",
      "95%CI: (9.05, 12.52)\n",
      "\n",
      "2008 165 4934 5583 1736013\n",
      " PRR =  10.3984867854\n",
      "   s =  0.0776947223752\n",
      "95%CI: (8.93, 12.11)\n",
      "\n",
      "2009 201 6286 7175 2225968\n",
      " PRR =  9.92016034748\n",
      "   s =  0.0703915071556\n",
      "95%CI: (8.64, 11.39)\n",
      "\n",
      "2010 271 7889 8924 2897540\n",
      " PRR =  11.1536551612\n",
      "   s =  0.0606216988821\n",
      "95%CI: (9.90, 12.56)\n",
      "\n",
      "2011 311 9650 10795 3678579\n",
      " PRR =  10.9822295296\n",
      "   s =  0.0566053952895\n",
      "95%CI: (9.83, 12.27)\n",
      "\n",
      "2012 359 11305 12731 4509075\n",
      " PRR =  11.2473140764\n",
      "   s =  0.0526819279759\n",
      "95%CI: (10.14, 12.47)\n",
      "\n",
      "2013 396 13807 14176 5319896\n",
      " PRR =  10.7632963683\n",
      "   s =  0.0502312580233\n",
      "95%CI: (9.75, 11.88)\n",
      "\n",
      "2014 470 16655 15806 6220832\n",
      " PRR =  11.106563814\n",
      "   s =  0.0461597650406\n",
      "95%CI: (10.15, 12.16)\n",
      "\n",
      "2015 487 17761 16229 6536899\n",
      " PRR =  11.0443856123\n",
      "   s =  0.0453712471462\n",
      "95%CI: (10.10, 12.07)\n"
     ]
    }
   ],
   "source": [
    "# Calculate PRR and 95% CI (cumulative)\n",
    "yr2ci_cumulative = dict()\n",
    "yr2prr_cumulative = dict()\n",
    "yr2a_cumulative = dict()\n",
    "\n",
    "a  = 0 # a: on drugs with ADR\n",
    "ab = 0 # a+b: on drugs\n",
    "\n",
    "c  = 0 # c: not on drugs with ADR\n",
    "cd = 0 # c+d: not on drugs\n",
    "for year in years:\n",
    "    print '\\n',year,\n",
    "    \n",
    "    a_yr = 0\n",
    "    c_yr = 0\n",
    "    \n",
    "    SQL =  '''select distinct isr_report_id\n",
    "            from effect_faers.reactions\n",
    "            where event_descrip_term in %s\n",
    "            and report_year = %d;''' %(qt_outcomes, year)\n",
    "    cur.execute(SQL)\n",
    "    results = cur.fetchall()\n",
    "    \n",
    "    for result in results:\n",
    "        report_id = int(result[0])\n",
    "        \n",
    "        if report_id in yr2reports_on_drug[year]:\n",
    "            a_yr += 1\n",
    "        else:\n",
    "            c_yr += 1\n",
    "\n",
    "    ab_yr = len(yr2reports_on_drug[year])\n",
    "    cd_yr = len(yr2reports_not_on_drug[year])\n",
    "    \n",
    "    \n",
    "    a  += a_yr\n",
    "    ab += ab_yr\n",
    "    c  += c_yr\n",
    "    cd += cd_yr\n",
    "    \n",
    "    print a,ab,c,cd\n",
    "    yr2a_cumulative[year] = a\n",
    "    \n",
    "    prr = (float(a)/ab)/(float(c)/cd)\n",
    "    print \" PRR = \",prr\n",
    "\n",
    "    s = np.sqrt( 1.0/a + 1.0/c - 1.0/ab - 1.0/cd )\n",
    "    print \"   s = \",s\n",
    "    \n",
    "    yr2prr_cumulative[year] = prr\n",
    "    yr2ci_cumulative[year] = (prr/np.exp(1.96*s), prr*np.exp(1.96*s))\n",
    "    \n",
    "    print \"95%%CI: (%.2f, %.2f)\" %(prr/np.exp(1.96*s), prr*np.exp(1.96*s))"
   ]
  },
  {
   "cell_type": "code",
   "execution_count": 27,
   "metadata": {},
   "outputs": [
    {
     "data": {
      "image/png": "[encoded data removed]",
      "text/plain": [
       "<matplotlib.figure.Figure at 0x12fc4b590>"
      ]
     },
     "metadata": {},
     "output_type": "display_data"
    }
   ],
   "source": [
    "# Plot cumulative\n",
    "sns.set_style(\"whitegrid\")\n",
    "\n",
    "ax1 = plt.subplot(2, 1, 1) # PRR over time\n",
    "plt.fill_between(years, [yr2ci_cumulative[year][0] for year in years], [yr2ci_cumulative[year][1] for year in years],color='lightgrey',alpha=0.5, label='95% CI')\n",
    "\n",
    "plt.plot(years, [yr2prr_cumulative[year] for year in years], 'o-', label='PRR')\n",
    "\n",
    "plt.axhline(y=2, linestyle='--', color='#C44E52', label='Threshold (PRR=2)')\n",
    "plt.legend(frameon=True)\n",
    "plt.ylim(0,25)\n",
    "plt.setp(ax1.get_xticklabels(), visible=False)\n",
    "plt.ylabel('PRR')\n",
    "plt.title('Proportional Reporting Ratio over time')\n",
    "\n",
    "ax2 = plt.subplot(2, 1, 2) # num_reports over time\n",
    "plt.plot(years, [yr2a_cumulative[year] for year in years], 'o-')\n",
    "plt.ylabel('# Reports')\n",
    "plt.title('Cumulative number of reports over time')\n",
    "\n",
    "plt.savefig('amiodarone_lqts_timelines_cumulative.pdf')"
   ]
  },
  {
   "cell_type": "code",
   "execution_count": 28,
   "metadata": {
    "collapsed": true
   },
   "outputs": [],
   "source": [
    "# Save to csv - cumulative\n",
    "outf = open('amiodarone_lqts_timelines_cumulative.csv', 'w')\n",
    "writer = csv.writer(outf)\n",
    "writer.writerow(['year', 'PRR', 'CI_lower', 'CI_upper', 'num_reports'])\n",
    "for year in years:\n",
    "    writer.writerow([year, '%.2f' %yr2prr_cumulative[year], '%.2f' %yr2ci_cumulative[year][0], '%.2f' %yr2ci_cumulative[year][1], yr2a_cumulative[year]])\n",
    "outf.close()"
   ]
  },
  {
   "cell_type": "code",
   "execution_count": 30,
   "metadata": {
    "collapsed": true
   },
   "outputs": [],
   "source": [
    "cur.close()\n",
    "con.close()"
   ]
  },
  {
   "cell_type": "code",
   "execution_count": null,
   "metadata": {
    "collapsed": true
   },
   "outputs": [],
   "source": []
  }
 ],
 "metadata": {
  "kernelspec": {
   "display_name": "Python 2",
   "language": "python",
   "name": "python2"
  },
  "language_info": {
   "codemirror_mode": {
    "name": "ipython",
    "version": 2
   },
   "file_extension": ".py",
   "mimetype": "text/x-python",
   "name": "python",
   "nbconvert_exporter": "python",
   "pygments_lexer": "ipython2",
   "version": "2.7.10"
  }
 },
 "nbformat": 4,
 "nbformat_minor": 1
}
