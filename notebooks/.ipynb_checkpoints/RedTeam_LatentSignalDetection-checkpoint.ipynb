{
 "cells": [
  {
   "cell_type": "markdown",
   "metadata": {},
   "source": [
    "## Latent Signal Detection\n",
    "\n",
    "A \"blackboard\" style re-implementation of a drug-drug interaction discovery pipeline.\n",
    "\n",
    "1. [Retrieve a reference set of drugs known to cause the **adverse event of interest**](#step1)\n",
    "2. [Retrieve adverse event report data for these and a set of control drugs](#step2)\n",
    "3. [Build a latent signal detection model on the reference set and predict DDIs](#step3)\n",
    "4. [Corroborate putative ddis with clinical data](#step4) \n",
    "5. [Identify probable molecular mechanisms of action for the ddi](#step5)\n",
    "6. _Retrieve related model systems (cell or animal models) that could be used to test the ddi predictions experimentally_\n"
   ]
  },
  {
   "cell_type": "code",
   "execution_count": 292,
   "metadata": {},
   "outputs": [],
   "source": [
    "import csv\n",
    "import gzip\n",
    "import tqdm\n",
    "import json\n",
    "import heapq\n",
    "import random\n",
    "import urllib2\n",
    "\n",
    "import numpy as np\n",
    "import seaborn as sns\n",
    "import matplotlib.pyplot as plt\n",
    "\n",
    "from tqdm import tqdm\n",
    "from scipy import stats\n",
    "from collections import defaultdict\n",
    "from biothings_client import get_client\n",
    "\n",
    "from Authentication import *\n",
    "\n",
    "from sklearn.ensemble import RandomForestClassifier\n",
    "from sklearn.metrics import roc_auc_score, roc_curve, auc\n",
    "from urllib2 import Request, urlopen, URLError, build_opener\n",
    "\n",
    "%matplotlib inline"
   ]
  },
  {
   "cell_type": "code",
   "execution_count": 293,
   "metadata": {
    "collapsed": true
   },
   "outputs": [],
   "source": [
    "ADVERSE_EVENT_OF_INTEREST = 'qt prolonged'\n",
    "#ADVERSE_EVENT_OF_INTEREST = 'Myocardial_Infarction'\n",
    "\n",
    "# DEPRECATED\n",
    "#ADVERSE_EVENT_OF_INTEREST = 'C0151878'"
   ]
  },
  {
   "cell_type": "markdown",
   "metadata": {},
   "source": [
    "<a id='step1'></a>\n",
    "**Step 1.** Given AE of interest build a set of reference drugs\n",
    "\n",
    "ADVERSE_EVENT_OF_INTEREST may be a free text term like \"QT prolonged\" or one of the followed coded terms:\n",
    "1. Myocardial_Infarction\n",
    "2. Gastrointestinal_Bleeding\n",
    "3. Kidney_Damage\n",
    "4. Liver_Damage"
   ]
  },
  {
   "cell_type": "code",
   "execution_count": 307,
   "metadata": {},
   "outputs": [],
   "source": [
    "# get mydrug client\n",
    "md = get_client('drug')\n",
    "mg = get_client('gene')\n",
    "\n",
    "def names2rxnorm(drug_name_list):\n",
    "    results = {}\n",
    "    for _drug in drug_name_list:\n",
    "        query_term = 'aeolus.drug_name:' + _drug\n",
    "        _result = md.query(query_term, fields='aeolus.drug_code')\n",
    "        if _result['hits'] != []:\n",
    "            results[_drug] = [_record['aeolus']['drug_code'] for _record in _result['hits']]\n",
    "        else:\n",
    "            results[_drug] = []\n",
    "    return results\n",
    "\n",
    "def rxnorms2enzyme(rxnorm_list):\n",
    "    results = {}\n",
    "    for _rxnorm in rxnorm_list:\n",
    "        query_term = 'aeolus.drug_code:' + _rxnorm\n",
    "        _result = md.query(query_term, fields='drugbank.enzymes.name, drugbank.enzymes.uniprot')\n",
    "        if _result['hits'] != []:\n",
    "            results[_rxnorm] = [_record['drugbank'] for _record in _result['hits']]\n",
    "        else:\n",
    "            results[_rxnorm] = []\n",
    "    return results\n",
    "\n",
    "def rxnorms2enzymes(rxnorm_list):\n",
    "    results = {}\n",
    "    for _rxnorm in rxnorm_list:\n",
    "        query_term = 'aeolus.drug_code:' + _rxnorm\n",
    "        _result = md.query(query_term, fields='drugbank.enzymes.uniprot')\n",
    "        if 'hits' in _result:\n",
    "            results[_rxnorm] = [_record['uniprot'] for _record in _result['hits'][0]['drugbank']['enzymes']]\n",
    "        else:\n",
    "            results[_rxnorm] = ['no results found']\n",
    "    return results\n",
    "\n",
    "def compareenzymes(drug_name_list):\n",
    "    results = rxnorms2enzymes(drug_name_list)\n",
    "    uniprot_list = []\n",
    "    for drug, uniprot in results.items():\n",
    "        uniprot_list.append(uniprot)\n",
    "    overlap = list(set(uniprot_list[0]) & set(uniprot_list[1]))\n",
    "    if overlap:\n",
    "        return {'overlap': overlap}\n",
    "    else:\n",
    "        print('no overlap')\n",
    "\n",
    "def uniprot2symbol(uniprot_id_list):\n",
    "    results = [['uniprot_id', 'gene_name', 'gene_symbol']]\n",
    "    for _uniprot in uniprot_id_list:\n",
    "        query_term = 'uniprot.Swiss-Prot:' + _uniprot\n",
    "        _result = mg.query(query_term)\n",
    "        if _result['hits'] != []:\n",
    "            results.append([_uniprot, _result['hits'][0]['name'], _result['hits'][0]['symbol']])\n",
    "    return results\n",
    "\n",
    "#uniprot2symbol(compareenzymes(['36567', '38404'])['overlap'])"
   ]
  },
  {
   "cell_type": "code",
   "execution_count": 308,
   "metadata": {},
   "outputs": [],
   "source": [
    "def name2rxnorm(drugname):\n",
    "    annotations = annotator(drugname, ['RXNORM'])\n",
    "    \n",
    "    rxnorms = list()\n",
    "    for annotation in annotations:\n",
    "        rxnorms.append(annotations[0]['annotatedClass']['@id'].split('/')[-1])\n",
    "    \n",
    "    return rxnorms\n",
    "\n",
    "def annotator(text, ontologies):\n",
    "    REST_URL = \"http://data.bioontology.org\"\n",
    "    API_KEY = 'b55cf758-dbd3-4959-a9c0-2e6bba5b5d8b'\n",
    "    url = REST_URL + \"/annotator?text=\" + urllib2.quote(text) + \"&ontologies=\" + ','.join(ontologies)\n",
    "    opener = urllib2.build_opener()\n",
    "    opener.addheaders = [('Authorization', 'apikey token=' + API_KEY)]\n",
    "    \n",
    "    annotations = json.loads(opener.open(url).read())\n",
    "    \n",
    "    return annotations\n",
    "\n",
    "def nsides_api(service, method, args = None):\n",
    "    \"\"\"\n",
    "    Simple python API to access the NSIDES services and data.\n",
    "    \n",
    "    service   string, that can be one of three values: aeolus, sider, or omop\n",
    "    method    string, for a list of methods see http://nsideseb-env.us-east-1.elasticbeanstalk.com\n",
    "    args      dictionary, method parameters see http://nsideseb-env.us-east-1.elasticbeanstalk.com\n",
    "    \"\"\"\n",
    "    NSIDES_API_URL = 'http://nsideseb-env.us-east-1.elasticbeanstalk.com/api/v1/'\n",
    "    \n",
    "    base_url = NSIDES_API_URL + 'query?service=%s&meta=%s' % (service, method)\n",
    "    url = base_url\n",
    "    if not args is None:\n",
    "        url = base_url + '&' + '&'.join(['%s=%s' % (k,v) for k,v in args.items()])\n",
    "    \n",
    "    response = urllib2.urlopen(url).read()\n",
    "    data = json.loads(response)\n",
    "    \n",
    "    return data\n",
    "\n",
    "def deltaqt_api(drugs):\n",
    "    \"\"\"\n",
    "    Simple python API to access the Delta QT services and data. \n",
    "    drugs     list of drug concept identifiers\n",
    "    \"\"\"\n",
    "    DELTAQT_API_URL = 'http://deltaqt.org/api/v1/'\n",
    "    url = DELTAQT_API_URL + 'query?drugs=%s' % ','.join(map(str,drugs))\n",
    "    \n",
    "    response = urllib2.urlopen(url).read()\n",
    "    data = json.loads(response)\n",
    "    \n",
    "    return data\n",
    "\n",
    "def AEtoCUI( aeName ):\n",
    "    \"Converts AE name to UMLS CUIs\"\n",
    "    cuis = []\n",
    "    apikey = \"6fd08e99-cb99-48be-937c-bbaa5205fd44\"\n",
    "    AuthClient = Authentication(apikey)\n",
    "    tgt = AuthClient.gettgt()\n",
    "    uri = \"https://uts-ws.nlm.nih.gov\"\n",
    "    content_endpoint = \"/rest/search/current?string=\"+aeName\n",
    "    query = {'ticket':AuthClient.getst(tgt)}\n",
    "    r = requests.get(uri+content_endpoint,params=query)\n",
    "    r.encoding = 'utf-8'\n",
    "    items  = json.loads(r.text)\n",
    "    jsonData = items[\"result\"]\n",
    "    for s in jsonData['results']:\n",
    "        cuis.append(s['ui'])\n",
    "    return cuis"
   ]
  },
  {
   "cell_type": "code",
   "execution_count": null,
   "metadata": {},
   "outputs": [],
   "source": []
  },
  {
   "cell_type": "code",
   "execution_count": null,
   "metadata": {
    "collapsed": true
   },
   "outputs": [],
   "source": []
  },
  {
   "cell_type": "code",
   "execution_count": 344,
   "metadata": {},
   "outputs": [
    {
     "name": "stdout",
     "output_type": "stream",
     "text": [
      "Produced reference with 40 positive examples and 0 negative examples.\n"
     ]
    }
   ],
   "source": [
    "if ADVERSE_EVENT_OF_INTEREST in ('Myocardial_Infarction', 'Gastrointestinal_Bleeding', 'Kidney_Damage', 'Liver_Damage'):\n",
    "    # we use the OMOP reference standard\n",
    "    data = nsides_api('omop', 'reference', {'q': ADVERSE_EVENT_OF_INTEREST})\n",
    "    reference_byname = [(r['drugname'], int(r['causes_ae'])) for r in data['results']]\n",
    "    \n",
    "else:\n",
    "    # we use SIDER\n",
    "    reference_byname = list()\n",
    "    for cui in AEtoCUI('qt prolonged'):\n",
    "        data = nsides_api('sider', 'drugForEffect', {'q': cui})\n",
    "        reference_byname.extend( [(r['drug_name'], 1) for r in data['results']] )\n",
    "    \n",
    "    if len(reference_byname) == 0:\n",
    "        raise Exception(\"No available reference standard for cui: %s\" % cui)\n",
    "    \n",
    "\n",
    "positives = list()\n",
    "negatives = list()\n",
    "\n",
    "drugnames  = [d for d,e in reference_byname]\n",
    "\n",
    "# Uncomment the next line out to use biothings_client\n",
    "# rxnorm_map = names2rxnorm(drugnames)\n",
    "\n",
    "for drugname, causes_ae in tqdm(reference_byname):\n",
    "    \n",
    "    # Uncomment the next line to use NCBO Bioannotor to translate to rxnorm\n",
    "    rxnorms = name2rxnorm(drugname)\n",
    "    \n",
    "    #print drugname, rxnorms\n",
    "    # Comment the next line out to use biothings_client\n",
    "    # rxnorms = rxnorm_map[drugname]\n",
    "    \n",
    "    for rxnorm in rxnorms:\n",
    "        if causes_ae == 1:\n",
    "            positives.append(int(rxnorm))\n",
    "        else:\n",
    "            negatives.append(int(rxnorm))\n",
    "\n",
    "print \"Produced reference with %d positive examples and %d negative examples.\" % (len(positives), len(negatives))"
   ]
  },
  {
   "cell_type": "code",
   "execution_count": 347,
   "metadata": {},
   "outputs": [
    {
     "name": "stdout",
     "output_type": "stream",
     "text": [
      "Randomly selected 200 negative examples from available drugs.\n"
     ]
    }
   ],
   "source": [
    "# If there are no negative examples, we randomly pick 200 from what's available in AEOLUS\n",
    "if len(negatives) == 0:\n",
    "    data = nsides_api('aeolus', 'ingredientList')\n",
    "    \n",
    "    all_rxnorms = [r['concept_code'] for r in data['results']]\n",
    "    available_negatives = (set(all_rxnorms) - set(positives))\n",
    "    \n",
    "    negatives = random.sample(available_negatives, 200)\n",
    "\n",
    "print \"Randomly selected %d negative examples from available drugs.\" % len(negatives)"
   ]
  },
  {
   "cell_type": "markdown",
   "metadata": {},
   "source": [
    "<a id='step2'></a>\n",
    "**Step 2.** Retrieve adverse event report data for these and a set of control drugs."
   ]
  },
  {
   "cell_type": "code",
   "execution_count": 358,
   "metadata": {},
   "outputs": [
    {
     "data": {
      "text/plain": [
       "(1114112, 40241205)"
      ]
     },
     "execution_count": 358,
     "metadata": {},
     "output_type": "execute_result"
    }
   ],
   "source": [
    "data = nsides_api('aeolus', 'ingredientList')\n",
    "\n",
    "concept2name = dict()\n",
    "all_drugs = list()\n",
    "drug_mapping = dict()\n",
    "concept2rxnorm = dict()\n",
    "\n",
    "for r in data['results']:\n",
    "    concept2name[r['concept_id']] = r['concept_name']\n",
    "    all_drugs.append(r['concept_id'])\n",
    "    drug_mapping[r['concept_code']] = r['concept_id']\n",
    "    concept2rxnorm[r['concept_id']] = r['concept_code']\n",
    "\n",
    "drug_mapping.items()[0]"
   ]
  },
  {
   "cell_type": "code",
   "execution_count": 349,
   "metadata": {},
   "outputs": [
    {
     "data": {
      "text/plain": [
       "7540"
      ]
     },
     "execution_count": 349,
     "metadata": {},
     "output_type": "execute_result"
    }
   ],
   "source": [
    "#query?service=aeolus&meta=reactionListMedDRA\n",
    "data = nsides_api('aeolus', 'reactionListMedDRA')\n",
    "\n",
    "all_outcomes = list()\n",
    "\n",
    "for r in data['results']:\n",
    "    all_outcomes.append(r['outcome_concept_id'])\n",
    "\n",
    "len(all_outcomes)"
   ]
  },
  {
   "cell_type": "code",
   "execution_count": 350,
   "metadata": {},
   "outputs": [
    {
     "data": {
      "text/plain": [
       "199"
      ]
     },
     "execution_count": 350,
     "metadata": {},
     "output_type": "execute_result"
    }
   ],
   "source": [
    "#query?service=aeolus&meta=drugpairReactionListMedDRA\n",
    "data = nsides_api('aeolus', 'drugpairReactionListMedDRA')\n",
    "all_pairoutcomes = list()\n",
    "for r in data['results']:\n",
    "    all_pairoutcomes.append(r['outcome_concept_id'])\n",
    "\n",
    "len(all_pairoutcomes)"
   ]
  },
  {
   "cell_type": "code",
   "execution_count": 289,
   "metadata": {},
   "outputs": [
    {
     "data": {
      "text/plain": [
       "39800"
      ]
     },
     "execution_count": 289,
     "metadata": {},
     "output_type": "execute_result"
    }
   ],
   "source": [
    "#query?service=aeolus&meta=drugpairList\n",
    "data = nsides_api('aeolus', 'drugpairList')\n",
    "\n",
    "all_drugpairs = list()\n",
    "\n",
    "for r in data['results']:\n",
    "    all_drugpairs.append((r['drug1_concept_id'], r['drug2_concept_id']))\n",
    "\n",
    "len(all_drugpairs)"
   ]
  },
  {
   "cell_type": "code",
   "execution_count": 338,
   "metadata": {},
   "outputs": [
    {
     "name": "stderr",
     "output_type": "stream",
     "text": []
    },
    {
     "data": {
      "text/plain": [
       "631743"
      ]
     },
     "execution_count": 338,
     "metadata": {},
     "output_type": "execute_result"
    }
   ],
   "source": [
    "#query?service=aeolus&meta=drugReactionCounts&q=0\n",
    "data = nsides_api('aeolus', 'drugReactionCounts', {'q':0})\n",
    "\n",
    "aeolus_drugReactionCounts = dict()\n",
    "aeolus_drugReactionCounts['results'] = list()\n",
    "\n",
    "for start in tqdm(range(0, data[0]['nrows'][0], 10000)):    \n",
    "    aeolus_drugReactionCounts['results'].extend(data[0]['result'])    \n",
    "    start = len(aeolus_drugReactionCounts['results'])\n",
    "    data = nsides_api('aeolus', 'drugReactionCounts', {'q': start})\n",
    "\n",
    "len(aeolus_drugReactionCounts['results'])"
   ]
  },
  {
   "cell_type": "code",
   "execution_count": 340,
   "metadata": {},
   "outputs": [
    {
     "data": {
      "text/plain": [
       "{u'drug_concept_id': 904453,\n",
       " u'ndrugreports': 448710,\n",
       " u'nreports': 11,\n",
       " u'outcome_concept_id': 35104067}"
      ]
     },
     "execution_count": 340,
     "metadata": {},
     "output_type": "execute_result"
    }
   ],
   "source": [
    "# aeolus_drugReactionCounts['results'][0]"
   ]
  },
  {
   "cell_type": "code",
   "execution_count": 387,
   "metadata": {},
   "outputs": [],
   "source": [
    "def make_lsd_training_table(pos_drugs = None, neg_drugs = None):\n",
    "\n",
    "    pos_drugs_mapped = list()\n",
    "    for pos_drug in pos_drugs:\n",
    "        pos_drugs_mapped.append(drug_mapping[pos_drug])\n",
    "        \n",
    "    neg_drugs_mapped = list()\n",
    "    for neg_drug in neg_drugs:\n",
    "        neg_drugs_mapped.append(drug_mapping[neg_drug])\n",
    "        \n",
    "    outcomes = np.concatenate((np.ones(len(pos_drugs),np.bool), np.zeros(len(neg_drugs),np.bool)))\n",
    "    \n",
    "    training_drugs = pos_drugs_mapped + neg_drugs_mapped\n",
    "    \n",
    "    ae_frequencies_training = np.zeros((len(pos_drugs)+len(neg_drugs),len(all_pairoutcomes)))\n",
    "    \n",
    "    for r in aeolus_drugReactionCounts['results']:\n",
    "        if not r['drug_concept_id'] in training_drugs:\n",
    "            continue\n",
    "        if not r['outcome_concept_id'] in all_pairoutcomes:\n",
    "            continue\n",
    "        \n",
    "        \n",
    "        i = training_drugs.index(r['drug_concept_id'])\n",
    "        j = all_pairoutcomes.index(r['outcome_concept_id'])\n",
    "        \n",
    "        frequency = float(r['nreports'])/float(r['ndrugreports'])\n",
    "        \n",
    "        ae_frequencies_training[i,j] = frequency\n",
    "                    \n",
    "    return ae_frequencies_training, outcomes"
   ]
  },
  {
   "cell_type": "code",
   "execution_count": 388,
   "metadata": {},
   "outputs": [],
   "source": [
    "pos_controls = [p for p in positives if p in drug_mapping]\n",
    "neg_controls = [n for n in negatives if n in drug_mapping]"
   ]
  },
  {
   "cell_type": "code",
   "execution_count": 389,
   "metadata": {},
   "outputs": [
    {
     "name": "stdout",
     "output_type": "stream",
     "text": [
      "(239, 199)\n",
      "(239,)\n"
     ]
    }
   ],
   "source": [
    "X,y = make_lsd_training_table(pos_controls, neg_controls)\n",
    "\n",
    "print X.shape\n",
    "print y.shape"
   ]
  },
  {
   "cell_type": "code",
   "execution_count": 392,
   "metadata": {},
   "outputs": [
    {
     "name": "stderr",
     "output_type": "stream",
     "text": []
    },
    {
     "data": {
      "text/plain": [
       "640000"
      ]
     },
     "execution_count": 392,
     "metadata": {},
     "output_type": "execute_result"
    }
   ],
   "source": [
    "#query?service=aeolus&meta=drugpairReactionCounts&q=0\n",
    "data = nsides_api('aeolus', 'drugpairReactionCounts', {'q':0})\n",
    "\n",
    "aeolus_drugpairReactionCounts = dict()\n",
    "aeolus_drugpairReactionCounts['results'] = list()\n",
    "\n",
    "for start in tqdm(range(0, data[0]['nrows'][0], 10000)):    \n",
    "    aeolus_drugpairReactionCounts['results'].extend(data[0]['results'])    \n",
    "    start = len(aeolus_drugpairReactionCounts['results'])\n",
    "    data = nsides_api('aeolus', 'drugpairReactionCounts', {'q': start})\n",
    "\n",
    "len(aeolus_drugpairReactionCounts['results'])"
   ]
  },
  {
   "cell_type": "code",
   "execution_count": 393,
   "metadata": {},
   "outputs": [
    {
     "data": {
      "text/plain": [
       "{u'drug1_concept_id': 19111620,\n",
       " u'drug2_concept_id': 19122121,\n",
       " u'n_d1d2': 722,\n",
       " u'n_d1d2ae': 38,\n",
       " u'outcome_concept_id': 37622529}"
      ]
     },
     "execution_count": 393,
     "metadata": {},
     "output_type": "execute_result"
    }
   ],
   "source": [
    "aeolus_drugpairReactionCounts['results'][0]"
   ]
  },
  {
   "cell_type": "code",
   "execution_count": 404,
   "metadata": {
    "collapsed": true
   },
   "outputs": [],
   "source": [
    "def make_lsd_testing_table():\n",
    "    ae_frequencies_ddi_testing = np.zeros((len(all_drugpairs),len(all_pairoutcomes)))\n",
    "    \n",
    "    for r in tqdm(aeolus_drugpairReactionCounts['results']):\n",
    "        \n",
    "        drugpair = (r['drug1_concept_id'],r['drug2_concept_id'])\n",
    "        if r['outcome_concept_id'] in all_pairoutcomes:\n",
    "            x_index = all_drugpairs.index(drugpair)\n",
    "            y_index = all_pairoutcomes.index(r['outcome_concept_id'])\n",
    "            \n",
    "            frequency = float(r['n_d1d2ae'])/float(r['n_d1d2'])\n",
    "            \n",
    "            ae_frequencies_ddi_testing[x_index,y_index] = frequency    \n",
    "                \n",
    "    return ae_frequencies_ddi_testing\n"
   ]
  },
  {
   "cell_type": "code",
   "execution_count": 405,
   "metadata": {},
   "outputs": [
    {
     "name": "stderr",
     "output_type": "stream",
     "text": []
    }
   ],
   "source": [
    "X_test = make_lsd_testing_table()"
   ]
  },
  {
   "cell_type": "code",
   "execution_count": 406,
   "metadata": {},
   "outputs": [
    {
     "name": "stdout",
     "output_type": "stream",
     "text": [
      "(239, 199)\n",
      "(39800, 199)\n",
      "(239,)\n"
     ]
    }
   ],
   "source": [
    "print X.shape\n",
    "print X_test.shape\n",
    "print y.shape"
   ]
  },
  {
   "cell_type": "code",
   "execution_count": 407,
   "metadata": {},
   "outputs": [
    {
     "name": "stdout",
     "output_type": "stream",
     "text": [
      "40\n",
      "39\n"
     ]
    }
   ],
   "source": [
    "print len(positives)\n",
    "print np.sum(y)"
   ]
  },
  {
   "cell_type": "code",
   "execution_count": 408,
   "metadata": {},
   "outputs": [
    {
     "data": {
      "text/plain": [
       "(7846.2380764493109, 0.00099066160910700625)"
      ]
     },
     "execution_count": 408,
     "metadata": {},
     "output_type": "execute_result"
    }
   ],
   "source": [
    "X_test.sum(), X_test.mean()"
   ]
  },
  {
   "cell_type": "code",
   "execution_count": null,
   "metadata": {
    "collapsed": true
   },
   "outputs": [],
   "source": []
  },
  {
   "cell_type": "code",
   "execution_count": null,
   "metadata": {
    "collapsed": true
   },
   "outputs": [],
   "source": []
  },
  {
   "cell_type": "markdown",
   "metadata": {},
   "source": [
    "<a id=\"step3\"></a>\n",
    "**Step 3.** Build a latent signal detection model on the reference set and predict DDIs"
   ]
  },
  {
   "cell_type": "code",
   "execution_count": 550,
   "metadata": {},
   "outputs": [],
   "source": [
    "def drugpair_predictions(X,y,X_test):\n",
    "    rf = RandomForestClassifier(oob_score=True, random_state=12)\n",
    "    rf.fit(X,y)\n",
    "    predictions_proba = rf.predict_proba(X_test)[:,1]\n",
    "    predictions = rf.predict(X_test)\n",
    "    \n",
    "    #print rf.score(X,y)\n",
    "    oob_predictions = rf.oob_decision_function_[:,1]\n",
    "    #print oob_predictions\n",
    "    \n",
    "    oob_predictions[ np.where( np.isnan(oob_predictions) == True)[0]] = 0\n",
    "    \n",
    "    #print oob_predictions\n",
    "    \n",
    "    print \"OOB ROC:\",roc_auc_score(y_true=y, y_score=oob_predictions)\n",
    "    fprOOB, tprOOB, _ = roc_curve(y_true=y,y_score=oob_predictions)\n",
    "    \n",
    "    y_pred = np.zeros((len(predictions)))\n",
    "    \n",
    "    pos_drugs_mapped = list()\n",
    "    for pos_drug in pos_controls:\n",
    "        if pos_drug not in drug_mapping:\n",
    "            continue\n",
    "        \n",
    "        pos_drugs_mapped.append(drug_mapping[pos_drug])\n",
    "        \n",
    "    for drugpair in all_drugpairs:         \n",
    "        for drug in drugpair:\n",
    "            if drug in pos_drugs_mapped:\n",
    "                y_pred[all_drugpairs.index(drugpair)] = 1\n",
    "                \n",
    "    pred_sorted = predictions_proba\n",
    "    \n",
    "    \n",
    "    top_ddi = sorted(zip(predictions_proba, all_drugpairs))[-50:]\n",
    "    top_ddi.reverse()\n",
    "    \n",
    "    #print top_ddi\n",
    "    \n",
    "    for prob, ddi in top_ddi:\n",
    "        idx = all_drugpairs.index(ddi)\n",
    "        #print all_drugpairs[idx], predictions_proba[idx]\n",
    "            \n",
    "    print \"Number of positive predictions:\",np.sum(y_pred)\n",
    "    \n",
    "    print \"Single-drug ROC:\",roc_auc_score(y_true=y_pred,y_score=predictions_proba)\n",
    "    \n",
    "    fprSD, tprSD, _ = roc_curve(y_true=y_pred,y_score=predictions_proba)\n",
    "    \n",
    "    sns.set(style='ticks', font_scale=1.4)\n",
    "    \n",
    "    plt.figure(figsize=(6,6))\n",
    "    plt.plot(fprSD,tprSD,label='One-of-pair (area= %0.2f)' % auc(fprSD,tprSD))\n",
    "    plt.plot(fprOOB,tprOOB,label='OOB (area= %0.2f)' % auc(fprOOB,tprOOB))\n",
    "    \n",
    "    plt.xlabel('False Positive Rate')\n",
    "    plt.ylabel('True Positive Rate')\n",
    "    \n",
    "    plt.legend(loc=\"lower right\")\n",
    "    \n",
    "    sns.despine()\n",
    "    \n",
    "    return top_ddi"
   ]
  },
  {
   "cell_type": "code",
   "execution_count": 551,
   "metadata": {},
   "outputs": [
    {
     "name": "stdout",
     "output_type": "stream",
     "text": [
      "OOB ROC: 0.648974358974\n",
      "Number of positive predictions: 5018.0\n",
      "Single-drug ROC: 0.553712677716\n"
     ]
    },
    {
     "data": {
      "image/png": "[encoded data removed]",
      "text/plain": [
       "<matplotlib.figure.Figure at 0x111977690>"
      ]
     },
     "metadata": {},
     "output_type": "display_data"
    }
   ],
   "source": [
    "top_ddi = drugpair_predictions(X,y,X_test)"
   ]
  },
  {
   "cell_type": "code",
   "execution_count": null,
   "metadata": {},
   "outputs": [],
   "source": []
  },
  {
   "cell_type": "code",
   "execution_count": null,
   "metadata": {
    "collapsed": true
   },
   "outputs": [],
   "source": []
  },
  {
   "cell_type": "markdown",
   "metadata": {},
   "source": [
    "<a id=\"step4\"></a>\n",
    "**Step 4.** Corroborate drug pair predictions using clinical data\n",
    "\n",
    "Currently only works for QT prolongation data using the http://deltaQT.org resource."
   ]
  },
  {
   "cell_type": "code",
   "execution_count": 498,
   "metadata": {},
   "outputs": [
    {
     "name": "stdout",
     "output_type": "stream",
     "text": [
      "          olmesartan            Enalapril          0          0       3975\n",
      "          olmesartan           quetiapine          0          0       5556\n",
      "          Famotidine           topiramate          0      14776          0\n",
      "          olanzapine         Azithromycin        245       2592       9989\n",
      "          olanzapine   Methylprednisolone        196       2592       7530\n",
      "          olanzapine           carvedilol         90       2592       7311\n",
      "          olanzapine           Enoxaparin        336       2592      16178\n",
      "          quetiapine           olmesartan          0       5556          0\n",
      "          topiramate           Famotidine          0          0      14776\n",
      "       Carbamazepine            Clonidine          0          0       2680\n",
      "         Ondansetron           quetiapine       1088      22872       5556\n",
      "          olanzapine        Ciprofloxacin         44       2592       2286\n",
      "          olanzapine             Ramipril         27       2592       2591\n",
      "          quetiapine          Ondansetron       1088       5556      22872\n",
      "          olmesartan             Diazepam          0          0       3523\n",
      " Hydrochlorothiazide      Methylphenidate          0       9809          0\n",
      "      Metoclopramide        Carbamazepine          0      11682          0\n",
      "           Lorazepam           Bisoprolol          0      18203          0\n",
      "           Valproate            valsartan         19       2220       3237\n",
      "           Phenytoin            Clonidine        128       3319       2680\n",
      "           Phenytoin            Diltiazem        147       3319       5782\n",
      "       Carbamazepine       Metoclopramide          0          0      11682\n",
      "            Diazepam           olmesartan          0       3523          0\n",
      "  Interferon beta-1a            valsartan          0          0       3237\n",
      "     Methylphenidate  Hydrochlorothiazide          0          0       9809\n",
      "          olmesartan           Citalopram          0          0       3369\n",
      "        lansoprazole      Methylphenidate          0      12982          0\n",
      "          Citalopram           olmesartan          0       3369          0\n",
      "           Valproate Estrogens, Conjugated (USP)          0       2220          0\n",
      "            zolpidem           Etanercept          0      22928          0\n",
      "          topiramate         rosuvastatin          0          0       2236\n",
      "     Methylphenidate            Metformin          0          0       3765\n",
      "     Methylphenidate         lansoprazole          0          0      12982\n",
      "         Ondansetron         Cyclosporine          0      22872          0\n",
      "         Ondansetron         prednisolone        113      22872        455\n",
      "          Famotidine          Alendronate          0      14776          0\n",
      "          Tacrolimus             Warfarin        219       2733       9360\n",
      "          Tacrolimus         pantoprazole        411       2733      12844\n",
      "          Tacrolimus            Lorazepam        608       2733      18203\n",
      "        pantoprazole           Tacrolimus        411      12844       2733\n",
      "        Esomeprazole          sitagliptin          0      29267          0\n",
      "          Citalopram           Vancomycin        752       3369      20082\n",
      "           Lorazepam           Tacrolimus        608      18203       2733\n",
      "          olanzapine         Levofloxacin        293       2592       9801\n",
      "           Valproate        Ciprofloxacin         34       2220       2286\n",
      "           Valproate         Levofloxacin        168       2220       9801\n",
      "       Carbamazepine            Enalapril          0          0       3975\n",
      "          olmesartan         Azithromycin          0          0       9989\n",
      "          olmesartan            meloxicam          0          0          0\n",
      "          olmesartan      cyclobenzaprine          0          0       1168\n"
     ]
    }
   ],
   "source": [
    "# Pull the top prediction\n",
    "pair = top_ddi[10][1]\n",
    "\n",
    "patient_counts = list()\n",
    "\n",
    "for score, pair in top_ddi:\n",
    "    \n",
    "    drug1 = deltaqt_api([pair[0]])\n",
    "    drug2 = deltaqt_api([pair[1]])\n",
    "    pairdata = deltaqt_api(pair)\n",
    "    \n",
    "    patient_counts.append((len(pairdata['delta_qts']), len(drug1['delta_qts']), len(drug2['delta_qts']), pair))\n",
    "    \n",
    "    print \"%20s %20s %10d %10d %10d\" % (concept2name[pair[0]], concept2name[pair[1]], \n",
    "                                        len(pairdata['delta_qts']), \n",
    "                                        len(drug1['delta_qts']), \n",
    "                                        len(drug2['delta_qts']))"
   ]
  },
  {
   "cell_type": "code",
   "execution_count": 544,
   "metadata": {},
   "outputs": [
    {
     "name": "stdout",
     "output_type": "stream",
     "text": [
      "(1000560, 766814)\n"
     ]
    }
   ],
   "source": [
    "pair = sorted(patient_counts)[-1][-1]\n",
    "\n",
    "print pair\n",
    "\n",
    "drug1 = deltaqt_api([pair[0]])\n",
    "drug2 = deltaqt_api([pair[1]])\n",
    "pairdata = deltaqt_api(pair)"
   ]
  },
  {
   "cell_type": "code",
   "execution_count": 545,
   "metadata": {},
   "outputs": [
    {
     "name": "stdout",
     "output_type": "stream",
     "text": [
      "Found 1088 patients with available ECG data exposed to Ondansetron and quetiapine\n",
      "Found 22872 patients with available ECG data exposed to Ondansetron alone\n",
      "Found 5556 patients with available ECG data exposed to quetiapine alone\n"
     ]
    }
   ],
   "source": [
    "print \"Found %d patients with available ECG data exposed to %s and %s\" % \\\n",
    "    (len(pairdata['delta_qts']), concept2name[pair[0]], concept2name[pair[1]])\n",
    "\n",
    "print \"Found %d patients with available ECG data exposed to %s alone\" % \\\n",
    "    (len(drug1['delta_qts']), concept2name[pair[0]])\n",
    "\n",
    "print \"Found %d patients with available ECG data exposed to %s alone\" % \\\n",
    "    (len(drug2['delta_qts']), concept2name[pair[1]])\n"
   ]
  },
  {
   "cell_type": "code",
   "execution_count": 546,
   "metadata": {},
   "outputs": [
    {
     "name": "stdout",
     "output_type": "stream",
     "text": [
      "Combination vs Ondansetron: MannwhitneyuResult(statistic=9872971.0, pvalue=4.7579806370674676e-31)\n",
      "Combination vs quetiapine: MannwhitneyuResult(statistic=2497953.5, pvalue=6.1441722553564684e-20)\n",
      "Ondansetron vs quetiapine: MannwhitneyuResult(statistic=61936343.0, pvalue=0.0017504982668012494)\n"
     ]
    },
    {
     "data": {
      "image/png": "[encoded data removed]",
      "text/plain": [
       "<matplotlib.figure.Figure at 0x114bd0910>"
      ]
     },
     "metadata": {},
     "output_type": "display_data"
    }
   ],
   "source": [
    "sns.set(style='ticks',font_scale=1.4)\n",
    "\n",
    "pair_exposed = [r['delta'] for r in pairdata['delta_qts']]\n",
    "d1_exposed = [r['delta'] for r in drug1['delta_qts']]\n",
    "d2_exposed = [r['delta'] for r in drug2['delta_qts']]\n",
    "\n",
    "print \"Combination vs %s: %s\" % (concept2name[pair[0]], stats.mannwhitneyu(pair_exposed, d1_exposed))\n",
    "print \"Combination vs %s: %s\" % (concept2name[pair[1]], stats.mannwhitneyu(pair_exposed, d2_exposed))\n",
    "print \"%s vs %s: %s\" % (concept2name[pair[0]], concept2name[pair[1]], stats.mannwhitneyu(d1_exposed, d2_exposed))\n",
    "\n",
    "plt.figure(figsize=(7,5))\n",
    "\n",
    "plt.hist(d1_exposed, bins=30, lw=1, alpha=.6, edgecolor='white', normed=True)\n",
    "plt.hist(d2_exposed, bins=30, lw=1, alpha=.6, edgecolor='white', normed=True)\n",
    "plt.hist(pair_exposed, bins=30, lw=1, alpha=.6, edgecolor='white', normed=True)\n",
    "\n",
    "plt.title('Response to %s + %s' % (concept2name[pair[0]], concept2name[pair[1]]))\n",
    "plt.xlabel('Change in QT')\n",
    "plt.ylabel('Frequency')\n",
    "\n",
    "plt.legend(['Combination', concept2name[pair[0]], concept2name[pair[1]]])\n",
    "\n",
    "sns.despine()"
   ]
  },
  {
   "cell_type": "code",
   "execution_count": null,
   "metadata": {},
   "outputs": [],
   "source": []
  },
  {
   "cell_type": "markdown",
   "metadata": {},
   "source": [
    "<a id=\"step5\"></a>\n",
    "**Step 5.** Identify probable molecular mechanisms of action for the ddi"
   ]
  },
  {
   "cell_type": "code",
   "execution_count": 547,
   "metadata": {},
   "outputs": [
    {
     "data": {
      "text/plain": [
       "(1000560, 26225, 766814, 51272)"
      ]
     },
     "execution_count": 547,
     "metadata": {},
     "output_type": "execute_result"
    }
   ],
   "source": [
    "pair[0], concept2rxnorm[pair[0]], pair[1], concept2rxnorm[pair[1]]"
   ]
  },
  {
   "cell_type": "code",
   "execution_count": 548,
   "metadata": {},
   "outputs": [
    {
     "data": {
      "text/plain": [
       "{'26225': []}"
      ]
     },
     "execution_count": 548,
     "metadata": {},
     "output_type": "execute_result"
    }
   ],
   "source": [
    "rxnorms2enzyme([str(concept2rxnorm[pair[0]])])"
   ]
  },
  {
   "cell_type": "code",
   "execution_count": 549,
   "metadata": {},
   "outputs": [
    {
     "data": {
      "text/plain": [
       "{'51272': [{u'enzymes': [{u'name': u'Cytochrome P450 3A5',\n",
       "     u'uniprot': u'P20815'},\n",
       "    {u'name': u'Cytochrome P450 3A7', u'uniprot': u'P24462'},\n",
       "    {u'name': u'Cytochrome P450 3A4', u'uniprot': u'P08684'},\n",
       "    {u'name': u'Cytochrome P450 2C19', u'uniprot': u'P33261'},\n",
       "    {u'name': u'Cytochrome P450 2D6', u'uniprot': u'P10635'}]}]}"
      ]
     },
     "execution_count": 549,
     "metadata": {},
     "output_type": "execute_result"
    }
   ],
   "source": [
    "rxnorms2enzyme([str(concept2rxnorm[pair[1]])])"
   ]
  },
  {
   "cell_type": "code",
   "execution_count": 18,
   "metadata": {},
   "outputs": [
    {
     "name": "stdout",
     "output_type": "stream",
     "text": [
      "*** CSV Example\n"
     ]
    },
    {
     "ename": "NameError",
     "evalue": "name 'TEXT' is not defined",
     "output_type": "error",
     "traceback": [
      "\u001b[1;31m\u001b[0m",
      "\u001b[1;31mNameError\u001b[0mTraceback (most recent call last)",
      "\u001b[1;32m<ipython-input-18-4af342ce2ce1>\u001b[0m in \u001b[0;36m<module>\u001b[1;34m()\u001b[0m\n\u001b[0;32m     26\u001b[0m \u001b[1;33m\u001b[0m\u001b[0m\n\u001b[0;32m     27\u001b[0m \u001b[1;32mprint\u001b[0m \u001b[1;34m'*** CSV Example'\u001b[0m\u001b[1;33m\u001b[0m\u001b[0m\n\u001b[1;32m---> 28\u001b[1;33m \u001b[0msparql\u001b[0m\u001b[1;33m.\u001b[0m\u001b[0msetReturnFormat\u001b[0m\u001b[1;33m(\u001b[0m\u001b[0mTEXT\u001b[0m\u001b[1;33m)\u001b[0m\u001b[1;33m\u001b[0m\u001b[0m\n\u001b[0m\u001b[0;32m     29\u001b[0m \u001b[0mresults\u001b[0m \u001b[1;33m=\u001b[0m \u001b[0msparql\u001b[0m\u001b[1;33m.\u001b[0m\u001b[0mquery\u001b[0m\u001b[1;33m(\u001b[0m\u001b[1;33m)\u001b[0m\u001b[1;33m.\u001b[0m\u001b[0mconvert\u001b[0m\u001b[1;33m(\u001b[0m\u001b[1;33m)\u001b[0m\u001b[1;33m\u001b[0m\u001b[0m\n\u001b[0;32m     30\u001b[0m \u001b[1;32mprint\u001b[0m \u001b[0mresults\u001b[0m\u001b[1;33m\u001b[0m\u001b[0m\n",
      "\u001b[1;31mNameError\u001b[0m: name 'TEXT' is not defined"
     ]
    }
   ],
   "source": [
    "from SPARQLWrapper import SPARQLWrapper, JSON, XML, N3, RDF\n",
    "\n",
    "sparql = SPARQLWrapper(\"http://bio2rdf.org/sparql\")\n",
    "sparql.setQuery(\"\"\"\n",
    " PREFIX dct: <http://purl.org/dc/terms/>\n",
    " SELECT distinct str(?phenotype_label) as ?pl\n",
    " WHERE {\n",
    "\n",
    "    ?drug <http://bio2rdf.org/drugbank_vocabulary:target> ?target .\n",
    "    FILTER(?drug = <http://bio2rdf.org/drugbank:DB00619>)\n",
    "    ?target <http://bio2rdf.org/drugbank_vocabulary:x-hgnc> ?hgnc .\n",
    "\n",
    "    ?hgnc <http://bio2rdf.org/hgnc_vocabulary:x-mgi> ?marker .\n",
    "    \n",
    "\n",
    "   ?model <http://bio2rdf.org/mgi_vocabulary:marker> ?marker .\n",
    "    ?model <http://bio2rdf.org/mgi_vocabulary:allele> ?all .\n",
    "   ?all <http://bio2rdf.org/mgi_vocabulary:allele-attribute> ?allele_type .\n",
    "    ?model <http://bio2rdf.org/mgi_vocabulary:phenotype> ?phenotypes .\n",
    "    FILTER (str(?allele_type) = \"Null/knockout\") \n",
    "    ?p owl:sameAs ?phenotypes .\n",
    "    ?p rdfs:label ?phenotype_label .\n",
    "\n",
    " }\n",
    "\"\"\")\n",
    "\n",
    "print '*** JSON Example'\n",
    "sparql.setReturnFormat(JSON)\n",
    "results = sparql.query().convert()\n",
    "for result in results[\"results\"][\"bindings\"]:\n",
    "    print result[\"pl\"][\"value\"]\n",
    "\n",
    "print '\\n*** N3 Example'\n",
    "sparql.setReturnFormat(N3)\n",
    "results = sparql.query().convert()\n",
    "print results\n",
    "\n",
    "print '*** XML Example'\n",
    "sparql.setReturnFormat(XML)\n",
    "results = sparql.query().convert()\n",
    "print results.toxml()"
   ]
  },
  {
   "cell_type": "code",
   "execution_count": null,
   "metadata": {
    "collapsed": true
   },
   "outputs": [],
   "source": []
  },
  {
   "cell_type": "code",
   "execution_count": null,
   "metadata": {
    "collapsed": true
   },
   "outputs": [],
   "source": []
  },
  {
   "cell_type": "code",
   "execution_count": null,
   "metadata": {
    "collapsed": true
   },
   "outputs": [],
   "source": []
  }
 ],
 "metadata": {
  "kernelspec": {
   "display_name": "Python 2",
   "language": "python",
   "name": "python2"
  },
  "language_info": {
   "codemirror_mode": {
    "name": "ipython",
    "version": 2
   },
   "file_extension": ".py",
   "mimetype": "text/x-python",
   "name": "python",
   "nbconvert_exporter": "python",
   "pygments_lexer": "ipython2",
   "version": "2.7.13"
  }
 },
 "nbformat": 4,
 "nbformat_minor": 1
}
